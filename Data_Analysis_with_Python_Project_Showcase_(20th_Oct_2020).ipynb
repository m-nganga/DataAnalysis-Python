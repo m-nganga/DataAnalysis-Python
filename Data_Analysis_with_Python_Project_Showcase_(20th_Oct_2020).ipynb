{
  "nbformat": 4,
  "nbformat_minor": 0,
  "metadata": {
    "colab": {
      "name": "Data Analysis with Python : Project Showcase (20th Oct 2020)",
      "provenance": [],
      "collapsed_sections": [],
      "include_colab_link": true
    },
    "kernelspec": {
      "display_name": "Python 3",
      "language": "python",
      "name": "python3"
    },
    "language_info": {
      "codemirror_mode": {
        "name": "ipython",
        "version": 3
      },
      "file_extension": ".py",
      "mimetype": "text/x-python",
      "name": "python",
      "nbconvert_exporter": "python",
      "pygments_lexer": "ipython3",
      "version": "3.7.4"
    }
  },
  "cells": [
    {
      "cell_type": "markdown",
      "metadata": {
        "id": "view-in-github",
        "colab_type": "text"
      },
      "source": [
        "<a href=\"https://colab.research.google.com/github/m-nganga/DataAnalysis-Python/blob/main/Data_Analysis_with_Python_Project_Showcase_(20th_Oct_2020).ipynb\" target=\"_parent\"><img src=\"https://colab.research.google.com/assets/colab-badge.svg\" alt=\"Open In Colab\"/></a>"
      ]
    },
    {
      "cell_type": "markdown",
      "metadata": {
        "id": "oToxSY-WFHlA"
      },
      "source": [
        "#Data Analysis with Python : Project Showcase (20th Oct 2020)"
      ]
    },
    {
      "cell_type": "markdown",
      "metadata": {
        "id": "kLG2VTrnTvYL"
      },
      "source": [
        "## <font color='#FFFFFF'>1. Defining the Research Problem</font>"
      ]
    },
    {
      "cell_type": "markdown",
      "metadata": {
        "id": "XecOwPNorl2W"
      },
      "source": [
        "### a) Background Information\n",
        "<font color='#green' face='courier' size= 4>The Sports industry in Russia has seen an increase in profits for two leading sportswear\n",
        "and athleisure brands brand (Nike and Adidas) for the past one year. This has led to the\n",
        "emergence of premium sports startups such as Lublu, which would want to take\n",
        "advantage of this opportunity and get a market share.<br> <p> \n",
        "As a Data Science Consultant working for Lublu, you have been tasked to perform\n",
        "analysis on pricing, product and assortment of Adidas and Nike. You are then required to create a descriptive analysis report, making relevant observations and recommendations that will help Lublu in the launch of similar products.\n",
        "\n",
        "</font> <br>"
      ]
    },
    {
      "cell_type": "markdown",
      "metadata": {
        "id": "J4wfHZwQrs-t"
      },
      "source": [
        "### b) Problem Statement\n",
        "<font color='#green' face='courier' size= 4> Given the market intelligence data for Nike and Adidas brands, what would be the most appropriate ***Market Entry Strategy*** for Lublu?\n",
        "\n",
        "</font> <br>"
      ]
    },
    {
      "cell_type": "markdown",
      "metadata": {
        "id": "iUNbvIvnT7ep"
      },
      "source": [
        "## <font color='#FFFFFF'>2. Data Importation, Exploration & Preparation</font>"
      ]
    },
    {
      "cell_type": "markdown",
      "metadata": {
        "id": "1KAUoAVkUp58"
      },
      "source": [
        "### a) Data Importation"
      ]
    },
    {
      "cell_type": "code",
      "metadata": {
        "id": "0mdPO_JOasC1"
      },
      "source": [
        "# load the relevant libraries\n",
        "import pandas as pd\n",
        "import numpy as np\n",
        "import matplotlib.pyplot as plt\n",
        "import seaborn as sns"
      ],
      "execution_count": 1,
      "outputs": []
    },
    {
      "cell_type": "code",
      "metadata": {
        "id": "XJn2KjW-WMlG"
      },
      "source": [
        "# read data from csv files into dataframes using pandas\n",
        "\n",
        "# nike data\n",
        "nike_df = pd.read_csv('nike_2020_04_13.csv')\n",
        "\n",
        "# adidas data. You will notice the extra argument in this reading to specify the delimiter used in the csv\n",
        "adidas_df = pd.read_csv('adidas_final.csv', ';')"
      ],
      "execution_count": 4,
      "outputs": []
    },
    {
      "cell_type": "markdown",
      "metadata": {
        "id": "1zuB9GMMXCTr"
      },
      "source": [
        "### b) Data Exploration"
      ]
    },
    {
      "cell_type": "markdown",
      "metadata": {
        "id": "Sj3JwBSyXP5C"
      },
      "source": [
        "We do not have available glossary for the datasets *(apart from the fact that prices are in Russian Roubles)* and therefore thorough exploration is necessary to understand their structure. "
      ]
    },
    {
      "cell_type": "code",
      "metadata": {
        "id": "mj4jMnEnjKTd",
        "outputId": "b665c30c-4625-49ab-c134-8ecae0e05d14",
        "colab": {
          "base_uri": "https://localhost:8080/",
          "height": 326
        }
      },
      "source": [
        "# get the column structure of the datasets.\n",
        "# nike dataset\n",
        "\n",
        "nike_df.info()"
      ],
      "execution_count": 5,
      "outputs": [
        {
          "output_type": "stream",
          "text": [
            "<class 'pandas.core.frame.DataFrame'>\n",
            "RangeIndex: 643 entries, 0 to 642\n",
            "Data columns (total 12 columns):\n",
            " #   Column         Non-Null Count  Dtype  \n",
            "---  ------         --------------  -----  \n",
            " 0   URL            643 non-null    object \n",
            " 1   Product Name   643 non-null    object \n",
            " 2   Product ID     643 non-null    object \n",
            " 3   Listing Price  643 non-null    int64  \n",
            " 4   Sale Price     643 non-null    int64  \n",
            " 5   Discount       643 non-null    int64  \n",
            " 6   Brand          643 non-null    object \n",
            " 7   Description    640 non-null    object \n",
            " 8   Rating         643 non-null    float64\n",
            " 9   Reviews        643 non-null    int64  \n",
            " 10  Images         572 non-null    object \n",
            " 11  Last Visited   643 non-null    object \n",
            "dtypes: float64(1), int64(4), object(7)\n",
            "memory usage: 60.4+ KB\n"
          ],
          "name": "stdout"
        }
      ]
    },
    {
      "cell_type": "code",
      "metadata": {
        "id": "KjfBNEDmoGmb",
        "outputId": "8edd630f-f184-47da-83fd-75e2d8599ebe",
        "colab": {
          "base_uri": "https://localhost:8080/",
          "height": 33
        }
      },
      "source": [
        "nike_df.shape"
      ],
      "execution_count": 6,
      "outputs": [
        {
          "output_type": "execute_result",
          "data": {
            "text/plain": [
              "(643, 12)"
            ]
          },
          "metadata": {
            "tags": []
          },
          "execution_count": 6
        }
      ]
    },
    {
      "cell_type": "code",
      "metadata": {
        "id": "I5d_67-Vk0FS",
        "outputId": "0341a712-e716-4e16-b665-17302240bfae",
        "colab": {
          "base_uri": "https://localhost:8080/",
          "height": 326
        }
      },
      "source": [
        "adidas_df.info()"
      ],
      "execution_count": 7,
      "outputs": [
        {
          "output_type": "stream",
          "text": [
            "<class 'pandas.core.frame.DataFrame'>\n",
            "RangeIndex: 2625 entries, 0 to 2624\n",
            "Data columns (total 12 columns):\n",
            " #   Column         Non-Null Count  Dtype \n",
            "---  ------         --------------  ----- \n",
            " 0   URL            2625 non-null   object\n",
            " 1   Product Name   2625 non-null   object\n",
            " 2   Product ID     2625 non-null   object\n",
            " 3   Listing Price  2625 non-null   int64 \n",
            " 4   Sale Price     2625 non-null   int64 \n",
            " 5   Discount       2625 non-null   int64 \n",
            " 6   Brand          2625 non-null   object\n",
            " 7   Description    2625 non-null   object\n",
            " 8   Rating         2625 non-null   int64 \n",
            " 9   Reviews        2625 non-null   int64 \n",
            " 10  Images         2625 non-null   object\n",
            " 11  Last Visited   2625 non-null   object\n",
            "dtypes: int64(5), object(7)\n",
            "memory usage: 246.2+ KB\n"
          ],
          "name": "stdout"
        }
      ]
    },
    {
      "cell_type": "code",
      "metadata": {
        "id": "_LloK5BCoL4W",
        "outputId": "ec8dab18-3577-43e6-e2ef-c04d3096e6b0",
        "colab": {
          "base_uri": "https://localhost:8080/",
          "height": 33
        }
      },
      "source": [
        "adidas_df.shape"
      ],
      "execution_count": 8,
      "outputs": [
        {
          "output_type": "execute_result",
          "data": {
            "text/plain": [
              "(2625, 12)"
            ]
          },
          "metadata": {
            "tags": []
          },
          "execution_count": 8
        }
      ]
    },
    {
      "cell_type": "markdown",
      "metadata": {
        "id": "OmTAsgVqoVan"
      },
      "source": [
        "*From the above checks, we notice that;*\n",
        "1. *Nike dataset has `643` rows and `12` columns while Adidas dataset had `2,625` rows and `12` columns.*\n",
        "2. *Both datasets have the same number of columns, field names as well as the datatypes, save for the 'Rating' column which is int64 for adidas dataset and float64 for nike dataset. Additionally, the column indices of the matching column names are in the same order.* \n",
        "3. *Apart from the `Images` column of the Nike dataset, we do not have any other null entries in the datasets. These records with null values for the images can be comfortably included in our analysis as the column data does not really affect our analysis.*<br>\n",
        "\n",
        "*We will then proceed to sample records from each of the dataset for a better view of the data.*"
      ]
    },
    {
      "cell_type": "code",
      "metadata": {
        "id": "Xy_P9cO5kFXT",
        "outputId": "23fdb863-353e-41f7-d0aa-fec82632a599",
        "colab": {
          "base_uri": "https://localhost:8080/",
          "height": 357
        }
      },
      "source": [
        "# sampling nike dataset records\n",
        "nike_df.head (4)"
      ],
      "execution_count": 9,
      "outputs": [
        {
          "output_type": "execute_result",
          "data": {
            "text/html": [
              "<div>\n",
              "<style scoped>\n",
              "    .dataframe tbody tr th:only-of-type {\n",
              "        vertical-align: middle;\n",
              "    }\n",
              "\n",
              "    .dataframe tbody tr th {\n",
              "        vertical-align: top;\n",
              "    }\n",
              "\n",
              "    .dataframe thead th {\n",
              "        text-align: right;\n",
              "    }\n",
              "</style>\n",
              "<table border=\"1\" class=\"dataframe\">\n",
              "  <thead>\n",
              "    <tr style=\"text-align: right;\">\n",
              "      <th></th>\n",
              "      <th>URL</th>\n",
              "      <th>Product Name</th>\n",
              "      <th>Product ID</th>\n",
              "      <th>Listing Price</th>\n",
              "      <th>Sale Price</th>\n",
              "      <th>Discount</th>\n",
              "      <th>Brand</th>\n",
              "      <th>Description</th>\n",
              "      <th>Rating</th>\n",
              "      <th>Reviews</th>\n",
              "      <th>Images</th>\n",
              "      <th>Last Visited</th>\n",
              "    </tr>\n",
              "  </thead>\n",
              "  <tbody>\n",
              "    <tr>\n",
              "      <th>0</th>\n",
              "      <td>https://www.nike.com/in/t/air-force-1-07-essen...</td>\n",
              "      <td>Nike Air Force 1 '07 Essential</td>\n",
              "      <td>CJ1646-600</td>\n",
              "      <td>0</td>\n",
              "      <td>7495</td>\n",
              "      <td>0</td>\n",
              "      <td>Nike</td>\n",
              "      <td>Let your shoe game shimmer in the Nike Air For...</td>\n",
              "      <td>0.0</td>\n",
              "      <td>0</td>\n",
              "      <td>[\"https://static.nike.com/a/images/t_PDP_1728_...</td>\n",
              "      <td>2020-04-13T15:27:56</td>\n",
              "    </tr>\n",
              "    <tr>\n",
              "      <th>1</th>\n",
              "      <td>https://www.nike.com/in/t/air-force-1-07-shoe-...</td>\n",
              "      <td>Nike Air Force 1 '07</td>\n",
              "      <td>CT4328-101</td>\n",
              "      <td>0</td>\n",
              "      <td>7495</td>\n",
              "      <td>0</td>\n",
              "      <td>Nike</td>\n",
              "      <td>The legend lives on in the Nike Air Force 1 '0...</td>\n",
              "      <td>0.0</td>\n",
              "      <td>0</td>\n",
              "      <td>[\"https://static.nike.com/a/images/t_PDP_1728_...</td>\n",
              "      <td>2020-04-13T15:27:56</td>\n",
              "    </tr>\n",
              "    <tr>\n",
              "      <th>2</th>\n",
              "      <td>https://www.nike.com/in/t/air-force-1-sage-low...</td>\n",
              "      <td>Nike Air Force 1 Sage Low LX</td>\n",
              "      <td>CI3482-200</td>\n",
              "      <td>0</td>\n",
              "      <td>9995</td>\n",
              "      <td>0</td>\n",
              "      <td>Nike</td>\n",
              "      <td>Taking both height and craft to new levels, th...</td>\n",
              "      <td>0.0</td>\n",
              "      <td>0</td>\n",
              "      <td>[\"https://static.nike.com/a/images/t_PDP_1728_...</td>\n",
              "      <td>2020-04-13T15:27:56</td>\n",
              "    </tr>\n",
              "    <tr>\n",
              "      <th>3</th>\n",
              "      <td>https://www.nike.com/in/t/air-max-dia-se-shoe-...</td>\n",
              "      <td>Nike Air Max Dia SE</td>\n",
              "      <td>CD0479-200</td>\n",
              "      <td>0</td>\n",
              "      <td>9995</td>\n",
              "      <td>0</td>\n",
              "      <td>Nike</td>\n",
              "      <td>Designed for a woman's foot, the Nike Air Max ...</td>\n",
              "      <td>0.0</td>\n",
              "      <td>0</td>\n",
              "      <td>[\"https://static.nike.com/a/images/t_PDP_1728_...</td>\n",
              "      <td>2020-04-13T15:27:57</td>\n",
              "    </tr>\n",
              "  </tbody>\n",
              "</table>\n",
              "</div>"
            ],
            "text/plain": [
              "                                                 URL  ...         Last Visited\n",
              "0  https://www.nike.com/in/t/air-force-1-07-essen...  ...  2020-04-13T15:27:56\n",
              "1  https://www.nike.com/in/t/air-force-1-07-shoe-...  ...  2020-04-13T15:27:56\n",
              "2  https://www.nike.com/in/t/air-force-1-sage-low...  ...  2020-04-13T15:27:56\n",
              "3  https://www.nike.com/in/t/air-max-dia-se-shoe-...  ...  2020-04-13T15:27:57\n",
              "\n",
              "[4 rows x 12 columns]"
            ]
          },
          "metadata": {
            "tags": []
          },
          "execution_count": 9
        }
      ]
    },
    {
      "cell_type": "code",
      "metadata": {
        "id": "rUCMVxAVasDI",
        "outputId": "06b357f8-2424-4ce7-c6c9-80746b111dec",
        "colab": {
          "base_uri": "https://localhost:8080/",
          "height": 475
        }
      },
      "source": [
        "# sample a few records from adidas dataset\n",
        "adidas_df.head(4)"
      ],
      "execution_count": 10,
      "outputs": [
        {
          "output_type": "execute_result",
          "data": {
            "text/html": [
              "<div>\n",
              "<style scoped>\n",
              "    .dataframe tbody tr th:only-of-type {\n",
              "        vertical-align: middle;\n",
              "    }\n",
              "\n",
              "    .dataframe tbody tr th {\n",
              "        vertical-align: top;\n",
              "    }\n",
              "\n",
              "    .dataframe thead th {\n",
              "        text-align: right;\n",
              "    }\n",
              "</style>\n",
              "<table border=\"1\" class=\"dataframe\">\n",
              "  <thead>\n",
              "    <tr style=\"text-align: right;\">\n",
              "      <th></th>\n",
              "      <th>URL</th>\n",
              "      <th>Product Name</th>\n",
              "      <th>Product ID</th>\n",
              "      <th>Listing Price</th>\n",
              "      <th>Sale Price</th>\n",
              "      <th>Discount</th>\n",
              "      <th>Brand</th>\n",
              "      <th>Description</th>\n",
              "      <th>Rating</th>\n",
              "      <th>Reviews</th>\n",
              "      <th>Images</th>\n",
              "      <th>Last Visited</th>\n",
              "    </tr>\n",
              "  </thead>\n",
              "  <tbody>\n",
              "    <tr>\n",
              "      <th>0</th>\n",
              "      <td>https://shop.adidas.co.in/#!product/AH2430_nmd...</td>\n",
              "      <td>Women's adidas Originals NMD_Racer Primeknit S...</td>\n",
              "      <td>AH2430</td>\n",
              "      <td>14999</td>\n",
              "      <td>7499</td>\n",
              "      <td>50</td>\n",
              "      <td>ORIGINALS</td>\n",
              "      <td>Channeling the streamlined look of an '80s rac...</td>\n",
              "      <td>0</td>\n",
              "      <td>0</td>\n",
              "      <td>[\"https://content.adidas.co.in/static/Product-...</td>\n",
              "      <td>2020-04-13T15:06:14</td>\n",
              "    </tr>\n",
              "    <tr>\n",
              "      <th>1</th>\n",
              "      <td>https://shop.adidas.co.in/#!product/G27341_adi...</td>\n",
              "      <td>Women's adidas Originals Sleek Shoes</td>\n",
              "      <td>G27341</td>\n",
              "      <td>7599</td>\n",
              "      <td>3799</td>\n",
              "      <td>50</td>\n",
              "      <td>ORIGINALS</td>\n",
              "      <td>A modern take on adidas sport heritage, tailor...</td>\n",
              "      <td>0</td>\n",
              "      <td>0</td>\n",
              "      <td>[\"https://content.adidas.co.in/static/Product-...</td>\n",
              "      <td>2020-04-13T15:06:15</td>\n",
              "    </tr>\n",
              "    <tr>\n",
              "      <th>2</th>\n",
              "      <td>https://shop.adidas.co.in/#!product/CM0081_pukaws</td>\n",
              "      <td>Women's adidas Swim Puka Slippers</td>\n",
              "      <td>CM0081</td>\n",
              "      <td>999</td>\n",
              "      <td>599</td>\n",
              "      <td>40</td>\n",
              "      <td>CORE / NEO</td>\n",
              "      <td>These adidas Puka slippers for women's come wi...</td>\n",
              "      <td>0</td>\n",
              "      <td>0</td>\n",
              "      <td>[\"https://content.adidas.co.in/static/Product-...</td>\n",
              "      <td>2020-04-13T15:06:15</td>\n",
              "    </tr>\n",
              "    <tr>\n",
              "      <th>3</th>\n",
              "      <td>https://shop.adidas.co.in/#!product/B44832_que...</td>\n",
              "      <td>Women's adidas Sport Inspired Questar Ride Shoes</td>\n",
              "      <td>B44832</td>\n",
              "      <td>6999</td>\n",
              "      <td>3499</td>\n",
              "      <td>50</td>\n",
              "      <td>CORE / NEO</td>\n",
              "      <td>Inspired by modern tech runners, these women's...</td>\n",
              "      <td>0</td>\n",
              "      <td>0</td>\n",
              "      <td>[\"https://content.adidas.co.in/static/Product-...</td>\n",
              "      <td>2020-04-13T15:06:15</td>\n",
              "    </tr>\n",
              "  </tbody>\n",
              "</table>\n",
              "</div>"
            ],
            "text/plain": [
              "                                                 URL  ...         Last Visited\n",
              "0  https://shop.adidas.co.in/#!product/AH2430_nmd...  ...  2020-04-13T15:06:14\n",
              "1  https://shop.adidas.co.in/#!product/G27341_adi...  ...  2020-04-13T15:06:15\n",
              "2  https://shop.adidas.co.in/#!product/CM0081_pukaws  ...  2020-04-13T15:06:15\n",
              "3  https://shop.adidas.co.in/#!product/B44832_que...  ...  2020-04-13T15:06:15\n",
              "\n",
              "[4 rows x 12 columns]"
            ]
          },
          "metadata": {
            "tags": []
          },
          "execution_count": 10
        }
      ]
    },
    {
      "cell_type": "code",
      "metadata": {
        "id": "ZwtSh9e1_mhx"
      },
      "source": [
        "# determine unique identifiers for datasets / brands. *to confirm this in class... ***\n",
        "# nike_df.['Product ID'].value_counts()"
      ],
      "execution_count": 11,
      "outputs": []
    },
    {
      "cell_type": "markdown",
      "metadata": {
        "id": "TcVUIi1J_PF8"
      },
      "source": [
        "### c) Data Preparation "
      ]
    },
    {
      "cell_type": "code",
      "metadata": {
        "id": "T3nO8Pr0asDa"
      },
      "source": [
        "# To avoid issues related with casing and spaces in column names, we replace the spaces with '_' in both datasets.\n",
        "# and further convert all names to lowercase.\n",
        "\n",
        "nike_df.columns = nike_df.columns.str.replace('\\s+', '_').str.lower().str.strip()\n",
        "adidas_df.columns = adidas_df.columns.str.replace('\\s+', '_').str.lower().str.strip()"
      ],
      "execution_count": 12,
      "outputs": []
    },
    {
      "cell_type": "code",
      "metadata": {
        "id": "IXzEI29aIsmx",
        "outputId": "eb1d659d-bb51-4c40-e795-3b9c4d7758bd",
        "colab": {
          "base_uri": "https://localhost:8080/",
          "height": 212
        }
      },
      "source": [
        "# determine unique identifiers for datasets / brands for ease of referencing particular records.\n",
        "\n",
        "#nike dataset\n",
        "nike_df.product_id.value_counts()"
      ],
      "execution_count": 13,
      "outputs": [
        {
          "output_type": "execute_result",
          "data": {
            "text/plain": [
              "CD6720-808    3\n",
              "AO2607-401    2\n",
              "AT5269-606    2\n",
              "AO0578-717    2\n",
              "133000-106    2\n",
              "             ..\n",
              "CD5050-400    1\n",
              "AO9820-001    1\n",
              "BV7775-100    1\n",
              "366731-100    1\n",
              "AQ7491-008    1\n",
              "Name: product_id, Length: 554, dtype: int64"
            ]
          },
          "metadata": {
            "tags": []
          },
          "execution_count": 13
        }
      ]
    },
    {
      "cell_type": "code",
      "metadata": {
        "id": "B-H7UbfCJIQh",
        "outputId": "1473ebd3-c39b-4803-c20e-c0c591a1bd35",
        "colab": {
          "base_uri": "https://localhost:8080/",
          "height": 50
        }
      },
      "source": [
        "# using the brands feature of the Nike dataset\n",
        "nike_df.brand.value_counts()"
      ],
      "execution_count": 14,
      "outputs": [
        {
          "output_type": "execute_result",
          "data": {
            "text/plain": [
              "Nike    643\n",
              "Name: brand, dtype: int64"
            ]
          },
          "metadata": {
            "tags": []
          },
          "execution_count": 14
        }
      ]
    },
    {
      "cell_type": "code",
      "metadata": {
        "id": "3Ye1riuLJgQM",
        "outputId": "0ba36368-b3c0-4594-8f46-9c24f776a489",
        "colab": {
          "base_uri": "https://localhost:8080/",
          "height": 212
        }
      },
      "source": [
        "# performing the same exercise on the adidas dataset\n",
        "adidas_df.product_id.value_counts()"
      ],
      "execution_count": 15,
      "outputs": [
        {
          "output_type": "execute_result",
          "data": {
            "text/plain": [
              "BD7791    1\n",
              "EE5304    1\n",
              "CG6112    1\n",
              "EG6208    1\n",
              "CK9787    1\n",
              "         ..\n",
              "EE9555    1\n",
              "B75586    1\n",
              "EE5614    1\n",
              "EE4561    1\n",
              "DB2680    1\n",
              "Name: product_id, Length: 2625, dtype: int64"
            ]
          },
          "metadata": {
            "tags": []
          },
          "execution_count": 15
        }
      ]
    },
    {
      "cell_type": "code",
      "metadata": {
        "id": "kdMXsHD8KCYg",
        "outputId": "27eb4230-e78d-4fc7-a159-b6834297cf26",
        "colab": {
          "base_uri": "https://localhost:8080/",
          "height": 82
        }
      },
      "source": [
        "# and now with the 'brands' column of adidas dataset\n",
        "adidas_df.brand.value_counts()"
      ],
      "execution_count": 16,
      "outputs": [
        {
          "output_type": "execute_result",
          "data": {
            "text/plain": [
              "CORE / NEO           1111\n",
              "ORIGINALS             908\n",
              "SPORT PERFORMANCE     606\n",
              "Name: brand, dtype: int64"
            ]
          },
          "metadata": {
            "tags": []
          },
          "execution_count": 16
        }
      ]
    },
    {
      "cell_type": "markdown",
      "metadata": {
        "id": "Wj_MLc33asDv"
      },
      "source": [
        "*From the above data checking we notice that*\n",
        "1. *We have some cases where the 'Product ID' of Nike are duplicated. and so would be ggod to check if these are duplicate records*\n",
        "2. *The Nike dataset has only one brand name for all the products, i.e `Nike`.*\n",
        "3. *We do not have any duplicated product IDs for adidas.*\n",
        "4. *We have 3 different brands of adidas, i.e `CORE / NEO`, `ORIGINALS`, and `SPORT PERFORMANCE`.*"
      ]
    },
    {
      "cell_type": "code",
      "metadata": {
        "id": "OK4RrExBasD4",
        "outputId": "3e6d3c28-7167-455f-c1dc-7facc4f7adf2",
        "colab": {
          "base_uri": "https://localhost:8080/",
          "height": 33
        }
      },
      "source": [
        "# checking for duplicates in the Nike dataset.\n",
        "\n",
        "nike_df.duplicated().any()"
      ],
      "execution_count": 17,
      "outputs": [
        {
          "output_type": "execute_result",
          "data": {
            "text/plain": [
              "False"
            ]
          },
          "metadata": {
            "tags": []
          },
          "execution_count": 17
        }
      ]
    },
    {
      "cell_type": "markdown",
      "metadata": {
        "id": "oBNtpDNeLzlj"
      },
      "source": [
        "*An interesting observation is that we have different entries for the same Product ID but not necessarily duplicated entries in the dataset. How is this so?.... Integrity of the data in the dataset may be? but upon using a different tool to filter such records, we notice that the only difference between the similar records is the timestamp in the `Last Visited` column where the difference is in terms of milliseconds / seconds. We therefore resolve to drop this colum for improved integrity of our data.*"
      ]
    },
    {
      "cell_type": "code",
      "metadata": {
        "id": "DKNbgy1xNwaa"
      },
      "source": [
        "# drop the 'Last Visited' column for the datasets.\n",
        "\n",
        "nike_df.drop(columns = ['last_visited'], inplace = True)\n",
        "adidas_df.drop(columns = ['last_visited'], inplace = True)"
      ],
      "execution_count": 18,
      "outputs": []
    },
    {
      "cell_type": "code",
      "metadata": {
        "id": "t8WGzIueasEB",
        "outputId": "f5120993-6f57-4ec3-b4f6-398d529fe017",
        "colab": {
          "base_uri": "https://localhost:8080/",
          "height": 33
        }
      },
      "source": [
        "# Recheck the duplication of product IDs in the nike dataset\n",
        "\n",
        "#nike_df.duplicated().any()\n",
        "#nike_df.duplicated().sum()\n",
        "sum(nike_df.duplicated())"
      ],
      "execution_count": 19,
      "outputs": [
        {
          "output_type": "execute_result",
          "data": {
            "text/plain": [
              "88"
            ]
          },
          "metadata": {
            "tags": []
          },
          "execution_count": 19
        }
      ]
    },
    {
      "cell_type": "code",
      "metadata": {
        "id": "P5KtVSuOVV7B"
      },
      "source": [
        "# perfect! we have a total of 88 duplicated records in the nike dataset which we proceed to drop.\n",
        "\n",
        "nike_df = nike_df[~nike_df.duplicated()]"
      ],
      "execution_count": 20,
      "outputs": []
    },
    {
      "cell_type": "code",
      "metadata": {
        "id": "qu3X6fbDWQpn",
        "outputId": "f5c10b39-1678-446e-9994-87b5e0ed5daa",
        "colab": {
          "base_uri": "https://localhost:8080/",
          "height": 33
        }
      },
      "source": [
        "nike_df.shape"
      ],
      "execution_count": 21,
      "outputs": [
        {
          "output_type": "execute_result",
          "data": {
            "text/plain": [
              "(555, 11)"
            ]
          },
          "metadata": {
            "tags": []
          },
          "execution_count": 21
        }
      ]
    },
    {
      "cell_type": "code",
      "metadata": {
        "id": "-sezPAXLRQTB",
        "outputId": "2712a626-578f-443a-c270-23e5453aa92e",
        "colab": {
          "base_uri": "https://localhost:8080/",
          "height": 33
        }
      },
      "source": [
        "# given that the two datasets have the same structure, we can merge them to have a global dataset for ease of \n",
        "# downstream analysis.\n",
        "\n",
        "merge_df = nike_df.append(adidas_df)\n",
        "merge_df.shape"
      ],
      "execution_count": 22,
      "outputs": [
        {
          "output_type": "execute_result",
          "data": {
            "text/plain": [
              "(3180, 11)"
            ]
          },
          "metadata": {
            "tags": []
          },
          "execution_count": 22
        }
      ]
    },
    {
      "cell_type": "markdown",
      "metadata": {
        "id": "W0swT5hLasEU"
      },
      "source": [
        "*The new dataset with all the nike and adidas data has a total of 3,180 records. This is as per our expectation given that the constituent datasets had 555 rows and 2,625 rows respectively.* \n",
        "<br>\n",
        "\n",
        "*At this point we can be assured of clean data that will support our investigations further which we will write to a new .csv file*"
      ]
    },
    {
      "cell_type": "code",
      "metadata": {
        "id": "t6cDaIdSasF9",
        "outputId": "c9c34b5d-f7dc-4395-bc0e-7d2bc81731dd",
        "colab": {
          "base_uri": "https://localhost:8080/",
          "height": 17
        }
      },
      "source": [
        "# save the merged dataset to a clean CSV file, and download the same for permanence. \n",
        "from google.colab import files\n",
        "\n",
        "merge_df.to_csv('merged_data.csv', index = False)\n",
        "files.download('merged_data.csv')"
      ],
      "execution_count": 23,
      "outputs": [
        {
          "output_type": "display_data",
          "data": {
            "application/javascript": [
              "\n",
              "    async function download(id, filename, size) {\n",
              "      if (!google.colab.kernel.accessAllowed) {\n",
              "        return;\n",
              "      }\n",
              "      const div = document.createElement('div');\n",
              "      const label = document.createElement('label');\n",
              "      label.textContent = `Downloading \"${filename}\": `;\n",
              "      div.appendChild(label);\n",
              "      const progress = document.createElement('progress');\n",
              "      progress.max = size;\n",
              "      div.appendChild(progress);\n",
              "      document.body.appendChild(div);\n",
              "\n",
              "      const buffers = [];\n",
              "      let downloaded = 0;\n",
              "\n",
              "      const channel = await google.colab.kernel.comms.open(id);\n",
              "      // Send a message to notify the kernel that we're ready.\n",
              "      channel.send({})\n",
              "\n",
              "      for await (const message of channel.messages) {\n",
              "        // Send a message to notify the kernel that we're ready.\n",
              "        channel.send({})\n",
              "        if (message.buffers) {\n",
              "          for (const buffer of message.buffers) {\n",
              "            buffers.push(buffer);\n",
              "            downloaded += buffer.byteLength;\n",
              "            progress.value = downloaded;\n",
              "          }\n",
              "        }\n",
              "      }\n",
              "      const blob = new Blob(buffers, {type: 'application/binary'});\n",
              "      const a = document.createElement('a');\n",
              "      a.href = window.URL.createObjectURL(blob);\n",
              "      a.download = filename;\n",
              "      div.appendChild(a);\n",
              "      a.click();\n",
              "      div.remove();\n",
              "    }\n",
              "  "
            ],
            "text/plain": [
              "<IPython.core.display.Javascript object>"
            ]
          },
          "metadata": {
            "tags": []
          }
        },
        {
          "output_type": "display_data",
          "data": {
            "application/javascript": [
              "download(\"download_b01b4f3b-dcbd-48ed-804b-7f0580f10c78\", \"merged_data.csv\", 3189951)"
            ],
            "text/plain": [
              "<IPython.core.display.Javascript object>"
            ]
          },
          "metadata": {
            "tags": []
          }
        }
      ]
    },
    {
      "cell_type": "markdown",
      "metadata": {
        "id": "eU3KA88JasGD"
      },
      "source": [
        "## <font color='#FFFFFF'>3. Data Analysis</font>"
      ]
    },
    {
      "cell_type": "markdown",
      "metadata": {
        "id": "8AC0Ib2lasGE"
      },
      "source": [
        "### 3.1 Univariate Analysis"
      ]
    },
    {
      "cell_type": "code",
      "metadata": {
        "id": "mF2m8qlfasGE",
        "outputId": "8a936e0f-a476-4b34-a4a3-b981bd914b16",
        "colab": {
          "base_uri": "https://localhost:8080/",
          "height": 277
        }
      },
      "source": [
        "# get the summary statistics\n",
        "nike_df.describe()"
      ],
      "execution_count": 24,
      "outputs": [
        {
          "output_type": "execute_result",
          "data": {
            "text/html": [
              "<div>\n",
              "<style scoped>\n",
              "    .dataframe tbody tr th:only-of-type {\n",
              "        vertical-align: middle;\n",
              "    }\n",
              "\n",
              "    .dataframe tbody tr th {\n",
              "        vertical-align: top;\n",
              "    }\n",
              "\n",
              "    .dataframe thead th {\n",
              "        text-align: right;\n",
              "    }\n",
              "</style>\n",
              "<table border=\"1\" class=\"dataframe\">\n",
              "  <thead>\n",
              "    <tr style=\"text-align: right;\">\n",
              "      <th></th>\n",
              "      <th>listing_price</th>\n",
              "      <th>sale_price</th>\n",
              "      <th>discount</th>\n",
              "      <th>rating</th>\n",
              "      <th>reviews</th>\n",
              "    </tr>\n",
              "  </thead>\n",
              "  <tbody>\n",
              "    <tr>\n",
              "      <th>count</th>\n",
              "      <td>555.000000</td>\n",
              "      <td>555.000000</td>\n",
              "      <td>555.0</td>\n",
              "      <td>555.000000</td>\n",
              "      <td>555.000000</td>\n",
              "    </tr>\n",
              "    <tr>\n",
              "      <th>mean</th>\n",
              "      <td>4115.738739</td>\n",
              "      <td>10250.154955</td>\n",
              "      <td>0.0</td>\n",
              "      <td>2.794955</td>\n",
              "      <td>7.493694</td>\n",
              "    </tr>\n",
              "    <tr>\n",
              "      <th>std</th>\n",
              "      <td>6081.506907</td>\n",
              "      <td>4263.802799</td>\n",
              "      <td>0.0</td>\n",
              "      <td>2.121859</td>\n",
              "      <td>16.714027</td>\n",
              "    </tr>\n",
              "    <tr>\n",
              "      <th>min</th>\n",
              "      <td>0.000000</td>\n",
              "      <td>1595.000000</td>\n",
              "      <td>0.0</td>\n",
              "      <td>0.000000</td>\n",
              "      <td>0.000000</td>\n",
              "    </tr>\n",
              "    <tr>\n",
              "      <th>25%</th>\n",
              "      <td>0.000000</td>\n",
              "      <td>7197.000000</td>\n",
              "      <td>0.0</td>\n",
              "      <td>0.000000</td>\n",
              "      <td>0.000000</td>\n",
              "    </tr>\n",
              "    <tr>\n",
              "      <th>50%</th>\n",
              "      <td>0.000000</td>\n",
              "      <td>9995.000000</td>\n",
              "      <td>0.0</td>\n",
              "      <td>3.900000</td>\n",
              "      <td>2.000000</td>\n",
              "    </tr>\n",
              "    <tr>\n",
              "      <th>75%</th>\n",
              "      <td>8995.000000</td>\n",
              "      <td>12896.000000</td>\n",
              "      <td>0.0</td>\n",
              "      <td>4.600000</td>\n",
              "      <td>7.000000</td>\n",
              "    </tr>\n",
              "    <tr>\n",
              "      <th>max</th>\n",
              "      <td>19995.000000</td>\n",
              "      <td>36500.000000</td>\n",
              "      <td>0.0</td>\n",
              "      <td>5.000000</td>\n",
              "      <td>223.000000</td>\n",
              "    </tr>\n",
              "  </tbody>\n",
              "</table>\n",
              "</div>"
            ],
            "text/plain": [
              "       listing_price    sale_price  discount      rating     reviews\n",
              "count     555.000000    555.000000     555.0  555.000000  555.000000\n",
              "mean     4115.738739  10250.154955       0.0    2.794955    7.493694\n",
              "std      6081.506907   4263.802799       0.0    2.121859   16.714027\n",
              "min         0.000000   1595.000000       0.0    0.000000    0.000000\n",
              "25%         0.000000   7197.000000       0.0    0.000000    0.000000\n",
              "50%         0.000000   9995.000000       0.0    3.900000    2.000000\n",
              "75%      8995.000000  12896.000000       0.0    4.600000    7.000000\n",
              "max     19995.000000  36500.000000       0.0    5.000000  223.000000"
            ]
          },
          "metadata": {
            "tags": []
          },
          "execution_count": 24
        }
      ]
    },
    {
      "cell_type": "code",
      "metadata": {
        "id": "1spQfDGJih6H",
        "outputId": "6faa150a-4665-450b-eb7d-a2106d3fd0db",
        "colab": {
          "base_uri": "https://localhost:8080/",
          "height": 277
        }
      },
      "source": [
        "adidas_df.describe()"
      ],
      "execution_count": 25,
      "outputs": [
        {
          "output_type": "execute_result",
          "data": {
            "text/html": [
              "<div>\n",
              "<style scoped>\n",
              "    .dataframe tbody tr th:only-of-type {\n",
              "        vertical-align: middle;\n",
              "    }\n",
              "\n",
              "    .dataframe tbody tr th {\n",
              "        vertical-align: top;\n",
              "    }\n",
              "\n",
              "    .dataframe thead th {\n",
              "        text-align: right;\n",
              "    }\n",
              "</style>\n",
              "<table border=\"1\" class=\"dataframe\">\n",
              "  <thead>\n",
              "    <tr style=\"text-align: right;\">\n",
              "      <th></th>\n",
              "      <th>listing_price</th>\n",
              "      <th>sale_price</th>\n",
              "      <th>discount</th>\n",
              "      <th>rating</th>\n",
              "      <th>reviews</th>\n",
              "    </tr>\n",
              "  </thead>\n",
              "  <tbody>\n",
              "    <tr>\n",
              "      <th>count</th>\n",
              "      <td>2625.000000</td>\n",
              "      <td>2625.000000</td>\n",
              "      <td>2625.000000</td>\n",
              "      <td>2625.0</td>\n",
              "      <td>2625.0</td>\n",
              "    </tr>\n",
              "    <tr>\n",
              "      <th>mean</th>\n",
              "      <td>7600.980952</td>\n",
              "      <td>5135.004190</td>\n",
              "      <td>33.459048</td>\n",
              "      <td>0.0</td>\n",
              "      <td>0.0</td>\n",
              "    </tr>\n",
              "    <tr>\n",
              "      <th>std</th>\n",
              "      <td>4071.014515</td>\n",
              "      <td>3589.990374</td>\n",
              "      <td>20.431622</td>\n",
              "      <td>0.0</td>\n",
              "      <td>0.0</td>\n",
              "    </tr>\n",
              "    <tr>\n",
              "      <th>min</th>\n",
              "      <td>899.000000</td>\n",
              "      <td>449.000000</td>\n",
              "      <td>0.000000</td>\n",
              "      <td>0.0</td>\n",
              "      <td>0.0</td>\n",
              "    </tr>\n",
              "    <tr>\n",
              "      <th>25%</th>\n",
              "      <td>4999.000000</td>\n",
              "      <td>2799.000000</td>\n",
              "      <td>0.000000</td>\n",
              "      <td>0.0</td>\n",
              "      <td>0.0</td>\n",
              "    </tr>\n",
              "    <tr>\n",
              "      <th>50%</th>\n",
              "      <td>6599.000000</td>\n",
              "      <td>3999.000000</td>\n",
              "      <td>40.000000</td>\n",
              "      <td>0.0</td>\n",
              "      <td>0.0</td>\n",
              "    </tr>\n",
              "    <tr>\n",
              "      <th>75%</th>\n",
              "      <td>8999.000000</td>\n",
              "      <td>6499.000000</td>\n",
              "      <td>50.000000</td>\n",
              "      <td>0.0</td>\n",
              "      <td>0.0</td>\n",
              "    </tr>\n",
              "    <tr>\n",
              "      <th>max</th>\n",
              "      <td>29999.000000</td>\n",
              "      <td>29999.000000</td>\n",
              "      <td>60.000000</td>\n",
              "      <td>0.0</td>\n",
              "      <td>0.0</td>\n",
              "    </tr>\n",
              "  </tbody>\n",
              "</table>\n",
              "</div>"
            ],
            "text/plain": [
              "       listing_price    sale_price     discount  rating  reviews\n",
              "count    2625.000000   2625.000000  2625.000000  2625.0   2625.0\n",
              "mean     7600.980952   5135.004190    33.459048     0.0      0.0\n",
              "std      4071.014515   3589.990374    20.431622     0.0      0.0\n",
              "min       899.000000    449.000000     0.000000     0.0      0.0\n",
              "25%      4999.000000   2799.000000     0.000000     0.0      0.0\n",
              "50%      6599.000000   3999.000000    40.000000     0.0      0.0\n",
              "75%      8999.000000   6499.000000    50.000000     0.0      0.0\n",
              "max     29999.000000  29999.000000    60.000000     0.0      0.0"
            ]
          },
          "metadata": {
            "tags": []
          },
          "execution_count": 25
        }
      ]
    },
    {
      "cell_type": "code",
      "metadata": {
        "id": "3TSQMucbimUf",
        "outputId": "687553ee-6951-410c-d588-4dc7c08e8431",
        "colab": {
          "base_uri": "https://localhost:8080/",
          "height": 277
        }
      },
      "source": [
        "merge_df.describe()"
      ],
      "execution_count": 26,
      "outputs": [
        {
          "output_type": "execute_result",
          "data": {
            "text/html": [
              "<div>\n",
              "<style scoped>\n",
              "    .dataframe tbody tr th:only-of-type {\n",
              "        vertical-align: middle;\n",
              "    }\n",
              "\n",
              "    .dataframe tbody tr th {\n",
              "        vertical-align: top;\n",
              "    }\n",
              "\n",
              "    .dataframe thead th {\n",
              "        text-align: right;\n",
              "    }\n",
              "</style>\n",
              "<table border=\"1\" class=\"dataframe\">\n",
              "  <thead>\n",
              "    <tr style=\"text-align: right;\">\n",
              "      <th></th>\n",
              "      <th>listing_price</th>\n",
              "      <th>sale_price</th>\n",
              "      <th>discount</th>\n",
              "      <th>rating</th>\n",
              "      <th>reviews</th>\n",
              "    </tr>\n",
              "  </thead>\n",
              "  <tbody>\n",
              "    <tr>\n",
              "      <th>count</th>\n",
              "      <td>3180.000000</td>\n",
              "      <td>3180.000000</td>\n",
              "      <td>3180.000000</td>\n",
              "      <td>3180.000000</td>\n",
              "      <td>3180.000000</td>\n",
              "    </tr>\n",
              "    <tr>\n",
              "      <th>mean</th>\n",
              "      <td>6992.707547</td>\n",
              "      <td>6027.742767</td>\n",
              "      <td>27.619497</td>\n",
              "      <td>0.487799</td>\n",
              "      <td>1.307862</td>\n",
              "    </tr>\n",
              "    <tr>\n",
              "      <th>std</th>\n",
              "      <td>4677.133304</td>\n",
              "      <td>4192.481308</td>\n",
              "      <td>22.492385</td>\n",
              "      <td>1.382168</td>\n",
              "      <td>7.535000</td>\n",
              "    </tr>\n",
              "    <tr>\n",
              "      <th>min</th>\n",
              "      <td>0.000000</td>\n",
              "      <td>449.000000</td>\n",
              "      <td>0.000000</td>\n",
              "      <td>0.000000</td>\n",
              "      <td>0.000000</td>\n",
              "    </tr>\n",
              "    <tr>\n",
              "      <th>25%</th>\n",
              "      <td>4599.000000</td>\n",
              "      <td>2999.000000</td>\n",
              "      <td>0.000000</td>\n",
              "      <td>0.000000</td>\n",
              "      <td>0.000000</td>\n",
              "    </tr>\n",
              "    <tr>\n",
              "      <th>50%</th>\n",
              "      <td>5999.000000</td>\n",
              "      <td>4599.000000</td>\n",
              "      <td>40.000000</td>\n",
              "      <td>0.000000</td>\n",
              "      <td>0.000000</td>\n",
              "    </tr>\n",
              "    <tr>\n",
              "      <th>75%</th>\n",
              "      <td>8999.000000</td>\n",
              "      <td>7995.000000</td>\n",
              "      <td>50.000000</td>\n",
              "      <td>0.000000</td>\n",
              "      <td>0.000000</td>\n",
              "    </tr>\n",
              "    <tr>\n",
              "      <th>max</th>\n",
              "      <td>29999.000000</td>\n",
              "      <td>36500.000000</td>\n",
              "      <td>60.000000</td>\n",
              "      <td>5.000000</td>\n",
              "      <td>223.000000</td>\n",
              "    </tr>\n",
              "  </tbody>\n",
              "</table>\n",
              "</div>"
            ],
            "text/plain": [
              "       listing_price    sale_price     discount       rating      reviews\n",
              "count    3180.000000   3180.000000  3180.000000  3180.000000  3180.000000\n",
              "mean     6992.707547   6027.742767    27.619497     0.487799     1.307862\n",
              "std      4677.133304   4192.481308    22.492385     1.382168     7.535000\n",
              "min         0.000000    449.000000     0.000000     0.000000     0.000000\n",
              "25%      4599.000000   2999.000000     0.000000     0.000000     0.000000\n",
              "50%      5999.000000   4599.000000    40.000000     0.000000     0.000000\n",
              "75%      8999.000000   7995.000000    50.000000     0.000000     0.000000\n",
              "max     29999.000000  36500.000000    60.000000     5.000000   223.000000"
            ]
          },
          "metadata": {
            "tags": []
          },
          "execution_count": 26
        }
      ]
    },
    {
      "cell_type": "code",
      "metadata": {
        "id": "i87rxqm0jXVW",
        "outputId": "84096fe8-cf40-403d-e45d-6aa85b7efcc9",
        "colab": {
          "base_uri": "https://localhost:8080/",
          "height": 405
        }
      },
      "source": [
        "# distribution of the different brads under review\n",
        "sns.set(font_scale=0.9)\n",
        "\n",
        "plt.figure(figsize = (10, 6))\n",
        "merge_df.brand.value_counts().plot(kind = 'bar', rot = 0, color = ['red', 'green', 'blue', 'orange'])\n",
        "plt.xlabel('Brand')\n",
        "plt.ylabel('Quantity')\n",
        "plt.title('Distribution of Brands')\n",
        "plt.show()"
      ],
      "execution_count": 27,
      "outputs": [
        {
          "output_type": "display_data",
          "data": {
            "image/png": "[encoded data removed]",
            "text/plain": [
              "<Figure size 720x432 with 1 Axes>"
            ]
          },
          "metadata": {
            "tags": []
          }
        }
      ]
    },
    {
      "cell_type": "code",
      "metadata": {
        "id": "HgOVv8IVwcQT",
        "outputId": "040233e4-959c-42de-ed5f-0c0cabac2e8c",
        "colab": {
          "base_uri": "https://localhost:8080/",
          "height": 131
        }
      },
      "source": [
        "# tabular information of the brand distribution above.\n",
        "\n",
        "print('Tabular Brand Distibution: \\n')\n",
        "merge_df.brand.value_counts()\n",
        "\n",
        "# the same could also be achieved using 'merge_df.groupby('brand').count()', \n",
        "# however, this gives a repetative count of every numeric column, grouped by the specified property."
      ],
      "execution_count": 28,
      "outputs": [
        {
          "output_type": "stream",
          "text": [
            "Tabular Brand Distibution: \n",
            "\n"
          ],
          "name": "stdout"
        },
        {
          "output_type": "execute_result",
          "data": {
            "text/plain": [
              "CORE / NEO           1111\n",
              "ORIGINALS             908\n",
              "SPORT PERFORMANCE     606\n",
              "Nike                  555\n",
              "Name: brand, dtype: int64"
            ]
          },
          "metadata": {
            "tags": []
          },
          "execution_count": 28
        }
      ]
    },
    {
      "cell_type": "markdown",
      "metadata": {
        "id": "BI7M0143fVbB"
      },
      "source": [
        "*From the above it is evident that Adidas brand, with its three streams of adidas sports wear has wider variety of products than the competitor Nike. As a matter of fact, the least of these streams is higher than Nike products!*"
      ]
    },
    {
      "cell_type": "code",
      "metadata": {
        "id": "COxRp8GvlBBo",
        "outputId": "7b19b7d4-0b0c-4f63-b84c-7a3b2357236b",
        "colab": {
          "base_uri": "https://localhost:8080/",
          "height": 996
        }
      },
      "source": [
        "# product rating information. This seeks to answer the question; Which is the highest rated product and which brand is it?\n",
        "\n",
        "# nike records\n",
        "nike_records = merge_df[merge_df.brand.isin(['Nike'])].sort_values(by='rating', ascending=0)\n",
        "nike_records.head(90)\n",
        "\n",
        "#this could also be achieved by sorting the records directly using the nike_df dataset."
      ],
      "execution_count": 29,
      "outputs": [
        {
          "output_type": "execute_result",
          "data": {
            "text/html": [
              "<div>\n",
              "<style scoped>\n",
              "    .dataframe tbody tr th:only-of-type {\n",
              "        vertical-align: middle;\n",
              "    }\n",
              "\n",
              "    .dataframe tbody tr th {\n",
              "        vertical-align: top;\n",
              "    }\n",
              "\n",
              "    .dataframe thead th {\n",
              "        text-align: right;\n",
              "    }\n",
              "</style>\n",
              "<table border=\"1\" class=\"dataframe\">\n",
              "  <thead>\n",
              "    <tr style=\"text-align: right;\">\n",
              "      <th></th>\n",
              "      <th>url</th>\n",
              "      <th>product_name</th>\n",
              "      <th>product_id</th>\n",
              "      <th>listing_price</th>\n",
              "      <th>sale_price</th>\n",
              "      <th>discount</th>\n",
              "      <th>brand</th>\n",
              "      <th>description</th>\n",
              "      <th>rating</th>\n",
              "      <th>reviews</th>\n",
              "      <th>images</th>\n",
              "    </tr>\n",
              "  </thead>\n",
              "  <tbody>\n",
              "    <tr>\n",
              "      <th>285</th>\n",
              "      <td>https://www.nike.com/in/t/tiempo-legend-8-acad...</td>\n",
              "      <td>Nike Tiempo Legend 8 Academy IC</td>\n",
              "      <td>AT6099-606</td>\n",
              "      <td>0</td>\n",
              "      <td>6495</td>\n",
              "      <td>0</td>\n",
              "      <td>Nike</td>\n",
              "      <td>The Nike Tiempo Legend 8 Academy IC takes the ...</td>\n",
              "      <td>5.0</td>\n",
              "      <td>1</td>\n",
              "      <td>[\"https://static.nike.com/a/images/t_PDP_1728_...</td>\n",
              "    </tr>\n",
              "    <tr>\n",
              "      <th>223</th>\n",
              "      <td>https://www.nike.com/in/t/air-zoom-terra-kiger...</td>\n",
              "      <td>Nike Air Zoom Terra Kiger 6</td>\n",
              "      <td>CJ0219-400</td>\n",
              "      <td>0</td>\n",
              "      <td>10995</td>\n",
              "      <td>0</td>\n",
              "      <td>Nike</td>\n",
              "      <td>The Nike Air Zoom Terra Kiger 6 is built to ta...</td>\n",
              "      <td>5.0</td>\n",
              "      <td>2</td>\n",
              "      <td>[\"https://static.nike.com/a/images/t_PDP_1728_...</td>\n",
              "    </tr>\n",
              "    <tr>\n",
              "      <th>204</th>\n",
              "      <td>https://www.nike.com/in/t/zoom-rival-fly-runni...</td>\n",
              "      <td>Nike Zoom Rival Fly</td>\n",
              "      <td>CD7288-001</td>\n",
              "      <td>7995</td>\n",
              "      <td>6397</td>\n",
              "      <td>0</td>\n",
              "      <td>Nike</td>\n",
              "      <td>Inspired by Japan's Ekiden relay runners, the ...</td>\n",
              "      <td>5.0</td>\n",
              "      <td>1</td>\n",
              "      <td>[\"https://static.nike.com/a/images/t_PDP_1728_...</td>\n",
              "    </tr>\n",
              "    <tr>\n",
              "      <th>526</th>\n",
              "      <td>https://www.nike.com/in/t/air-jordan-1-jester-...</td>\n",
              "      <td>Air Jordan 1 Jester XX Low Laced</td>\n",
              "      <td>CI7815-602</td>\n",
              "      <td>0</td>\n",
              "      <td>7995</td>\n",
              "      <td>0</td>\n",
              "      <td>Nike</td>\n",
              "      <td>The Air Jordan 1 Jester XX Low knows not to ta...</td>\n",
              "      <td>5.0</td>\n",
              "      <td>2</td>\n",
              "      <td>NaN</td>\n",
              "    </tr>\n",
              "    <tr>\n",
              "      <th>525</th>\n",
              "      <td>https://www.nike.com/in/t/free-rn-5-aw-running...</td>\n",
              "      <td>Nike Free RN 5.0 AW</td>\n",
              "      <td>BV7775-100</td>\n",
              "      <td>8995</td>\n",
              "      <td>5397</td>\n",
              "      <td>0</td>\n",
              "      <td>Nike</td>\n",
              "      <td>An ideal performer for runs up to 3 miles, the...</td>\n",
              "      <td>5.0</td>\n",
              "      <td>1</td>\n",
              "      <td>[\"https://static.nike.com/a/images/t_PDP_1728_...</td>\n",
              "    </tr>\n",
              "    <tr>\n",
              "      <th>...</th>\n",
              "      <td>...</td>\n",
              "      <td>...</td>\n",
              "      <td>...</td>\n",
              "      <td>...</td>\n",
              "      <td>...</td>\n",
              "      <td>...</td>\n",
              "      <td>...</td>\n",
              "      <td>...</td>\n",
              "      <td>...</td>\n",
              "      <td>...</td>\n",
              "      <td>...</td>\n",
              "    </tr>\n",
              "    <tr>\n",
              "      <th>436</th>\n",
              "      <td>https://www.nike.com/in/t/air-force-1-07-shoe-...</td>\n",
              "      <td>Nike Air Force 1 '07 Premium</td>\n",
              "      <td>BQ4424-700</td>\n",
              "      <td>10995</td>\n",
              "      <td>7697</td>\n",
              "      <td>0</td>\n",
              "      <td>Nike</td>\n",
              "      <td>The Nike Air Force 1 '07 Premium captures the ...</td>\n",
              "      <td>5.0</td>\n",
              "      <td>1</td>\n",
              "      <td>[\"https://static.nike.com/a/images/t_PDP_1728_...</td>\n",
              "    </tr>\n",
              "    <tr>\n",
              "      <th>69</th>\n",
              "      <td>https://www.nike.com/in/t/epic-phantom-react-a...</td>\n",
              "      <td>Nike Epic Phantom React A.I.R. Cody Hudson</td>\n",
              "      <td>CI1718-001</td>\n",
              "      <td>13995</td>\n",
              "      <td>8397</td>\n",
              "      <td>0</td>\n",
              "      <td>Nike</td>\n",
              "      <td>Soft to the touch, the Nike Epic Phantom React...</td>\n",
              "      <td>5.0</td>\n",
              "      <td>2</td>\n",
              "      <td>[\"https://static.nike.com/a/images/t_PDP_1728_...</td>\n",
              "    </tr>\n",
              "    <tr>\n",
              "      <th>31</th>\n",
              "      <td>https://www.nike.com/in/t/lebron-7-qs-shoe-pCX...</td>\n",
              "      <td>LeBron 7 QS</td>\n",
              "      <td>CU5646-001</td>\n",
              "      <td>0</td>\n",
              "      <td>16995</td>\n",
              "      <td>0</td>\n",
              "      <td>Nike</td>\n",
              "      <td>Make your head-turning journey to the top comf...</td>\n",
              "      <td>5.0</td>\n",
              "      <td>1</td>\n",
              "      <td>[\"https://static.nike.com/a/images/t_PDP_1728_...</td>\n",
              "    </tr>\n",
              "    <tr>\n",
              "      <th>58</th>\n",
              "      <td>https://www.nike.com/in/t/air-max-97-shoe-cNRr...</td>\n",
              "      <td>Nike Air Max 97</td>\n",
              "      <td>CI3708-700</td>\n",
              "      <td>0</td>\n",
              "      <td>14995</td>\n",
              "      <td>0</td>\n",
              "      <td>Nike</td>\n",
              "      <td>The Air Max 97 shook up the running world with...</td>\n",
              "      <td>5.0</td>\n",
              "      <td>1</td>\n",
              "      <td>[\"https://static.nike.com/a/images/t_PDP_1728_...</td>\n",
              "    </tr>\n",
              "    <tr>\n",
              "      <th>10</th>\n",
              "      <td>https://www.nike.com/in/t/air-max-90-shoe-r5Wq...</td>\n",
              "      <td>Nike Air Max 90</td>\n",
              "      <td>CD0490-104</td>\n",
              "      <td>0</td>\n",
              "      <td>9995</td>\n",
              "      <td>0</td>\n",
              "      <td>Nike</td>\n",
              "      <td>Clean lines, versatile and timeless—the people...</td>\n",
              "      <td>5.0</td>\n",
              "      <td>9</td>\n",
              "      <td>[\"https://static.nike.com/a/images/t_PDP_1728_...</td>\n",
              "    </tr>\n",
              "  </tbody>\n",
              "</table>\n",
              "<p>90 rows × 11 columns</p>\n",
              "</div>"
            ],
            "text/plain": [
              "                                                   url  ...                                             images\n",
              "285  https://www.nike.com/in/t/tiempo-legend-8-acad...  ...  [\"https://static.nike.com/a/images/t_PDP_1728_...\n",
              "223  https://www.nike.com/in/t/air-zoom-terra-kiger...  ...  [\"https://static.nike.com/a/images/t_PDP_1728_...\n",
              "204  https://www.nike.com/in/t/zoom-rival-fly-runni...  ...  [\"https://static.nike.com/a/images/t_PDP_1728_...\n",
              "526  https://www.nike.com/in/t/air-jordan-1-jester-...  ...                                                NaN\n",
              "525  https://www.nike.com/in/t/free-rn-5-aw-running...  ...  [\"https://static.nike.com/a/images/t_PDP_1728_...\n",
              "..                                                 ...  ...                                                ...\n",
              "436  https://www.nike.com/in/t/air-force-1-07-shoe-...  ...  [\"https://static.nike.com/a/images/t_PDP_1728_...\n",
              "69   https://www.nike.com/in/t/epic-phantom-react-a...  ...  [\"https://static.nike.com/a/images/t_PDP_1728_...\n",
              "31   https://www.nike.com/in/t/lebron-7-qs-shoe-pCX...  ...  [\"https://static.nike.com/a/images/t_PDP_1728_...\n",
              "58   https://www.nike.com/in/t/air-max-97-shoe-cNRr...  ...  [\"https://static.nike.com/a/images/t_PDP_1728_...\n",
              "10   https://www.nike.com/in/t/air-max-90-shoe-r5Wq...  ...  [\"https://static.nike.com/a/images/t_PDP_1728_...\n",
              "\n",
              "[90 rows x 11 columns]"
            ]
          },
          "metadata": {
            "tags": []
          },
          "execution_count": 29
        }
      ]
    },
    {
      "cell_type": "code",
      "metadata": {
        "id": "ngf7gOUhnwqj",
        "outputId": "9b241d4b-935c-48f9-ce6a-3aa761615016",
        "colab": {
          "base_uri": "https://localhost:8080/",
          "height": 553
        }
      },
      "source": [
        "# over 100 products have been rated 5.0 and therefore we will proceed to determine the distribution of the rating among various Nike products.\n",
        "\n",
        "nike_records.rating.value_counts()"
      ],
      "execution_count": 30,
      "outputs": [
        {
          "output_type": "execute_result",
          "data": {
            "text/plain": [
              "0.0    190\n",
              "5.0    106\n",
              "4.5     30\n",
              "4.0     27\n",
              "4.2     18\n",
              "4.4     18\n",
              "4.3     17\n",
              "4.8     15\n",
              "4.6     13\n",
              "3.7     13\n",
              "3.0     13\n",
              "4.1     13\n",
              "4.7     11\n",
              "3.9      9\n",
              "3.8      7\n",
              "3.5      7\n",
              "3.6      7\n",
              "2.7      5\n",
              "4.9      5\n",
              "1.0      5\n",
              "2.0      4\n",
              "3.4      4\n",
              "3.1      3\n",
              "2.9      3\n",
              "2.8      2\n",
              "2.6      2\n",
              "3.3      2\n",
              "3.2      2\n",
              "1.5      1\n",
              "2.5      1\n",
              "2.4      1\n",
              "2.2      1\n",
              "Name: rating, dtype: int64"
            ]
          },
          "metadata": {
            "tags": []
          },
          "execution_count": 30
        }
      ]
    },
    {
      "cell_type": "code",
      "metadata": {
        "id": "RNtMHNp7pEo-",
        "outputId": "499a2831-3752-43a8-c4e2-96efdc46ae82",
        "colab": {
          "base_uri": "https://localhost:8080/",
          "height": 1000
        }
      },
      "source": [
        "# a similar operation for Adidas shoes to determine popularity of the brand.\n",
        "\n",
        "adidas_records = merge_df[~merge_df.brand.isin(['Nike'])].sort_values(by='rating', ascending=0)\n",
        "adidas_records.head(90)"
      ],
      "execution_count": 31,
      "outputs": [
        {
          "output_type": "execute_result",
          "data": {
            "text/html": [
              "<div>\n",
              "<style scoped>\n",
              "    .dataframe tbody tr th:only-of-type {\n",
              "        vertical-align: middle;\n",
              "    }\n",
              "\n",
              "    .dataframe tbody tr th {\n",
              "        vertical-align: top;\n",
              "    }\n",
              "\n",
              "    .dataframe thead th {\n",
              "        text-align: right;\n",
              "    }\n",
              "</style>\n",
              "<table border=\"1\" class=\"dataframe\">\n",
              "  <thead>\n",
              "    <tr style=\"text-align: right;\">\n",
              "      <th></th>\n",
              "      <th>url</th>\n",
              "      <th>product_name</th>\n",
              "      <th>product_id</th>\n",
              "      <th>listing_price</th>\n",
              "      <th>sale_price</th>\n",
              "      <th>discount</th>\n",
              "      <th>brand</th>\n",
              "      <th>description</th>\n",
              "      <th>rating</th>\n",
              "      <th>reviews</th>\n",
              "      <th>images</th>\n",
              "    </tr>\n",
              "  </thead>\n",
              "  <tbody>\n",
              "    <tr>\n",
              "      <th>0</th>\n",
              "      <td>https://shop.adidas.co.in/#!product/AH2430_nmd...</td>\n",
              "      <td>Women's adidas Originals NMD_Racer Primeknit S...</td>\n",
              "      <td>AH2430</td>\n",
              "      <td>14999</td>\n",
              "      <td>7499</td>\n",
              "      <td>50</td>\n",
              "      <td>ORIGINALS</td>\n",
              "      <td>Channeling the streamlined look of an '80s rac...</td>\n",
              "      <td>0.0</td>\n",
              "      <td>0</td>\n",
              "      <td>[\"https://content.adidas.co.in/static/Product-...</td>\n",
              "    </tr>\n",
              "    <tr>\n",
              "      <th>1744</th>\n",
              "      <td>https://shop.adidas.co.in/#!product/EE7382_hoo...</td>\n",
              "      <td>Men's adidas Sports Inspired Hoops 2.0 Mid Shoes</td>\n",
              "      <td>EE7382</td>\n",
              "      <td>6599</td>\n",
              "      <td>3959</td>\n",
              "      <td>40</td>\n",
              "      <td>CORE / NEO</td>\n",
              "      <td>Mid-top style in a streamlined package. These ...</td>\n",
              "      <td>0.0</td>\n",
              "      <td>0</td>\n",
              "      <td>[\"https://content.adidas.co.in/static/Product-...</td>\n",
              "    </tr>\n",
              "    <tr>\n",
              "      <th>1746</th>\n",
              "      <td>https://shop.adidas.co.in/#!product/EE7422_hoo...</td>\n",
              "      <td>Men's adidas Sports Inspired Hoops 2.0  Shoes</td>\n",
              "      <td>EE7422</td>\n",
              "      <td>4999</td>\n",
              "      <td>2999</td>\n",
              "      <td>40</td>\n",
              "      <td>CORE / NEO</td>\n",
              "      <td>Classic high top style in a low-profile look. ...</td>\n",
              "      <td>0.0</td>\n",
              "      <td>0</td>\n",
              "      <td>[\"https://content.adidas.co.in/static/Product-...</td>\n",
              "    </tr>\n",
              "    <tr>\n",
              "      <th>1747</th>\n",
              "      <td>https://shop.adidas.co.in/#!product/EE7900_gra...</td>\n",
              "      <td>Men's adidas Sport Inspired Grand Court Base S...</td>\n",
              "      <td>EE7900</td>\n",
              "      <td>4599</td>\n",
              "      <td>4599</td>\n",
              "      <td>0</td>\n",
              "      <td>CORE / NEO</td>\n",
              "      <td>A mash-up of celebrated court styles. These '7...</td>\n",
              "      <td>0.0</td>\n",
              "      <td>0</td>\n",
              "      <td>[\"https://content.adidas.co.in/static/Product-...</td>\n",
              "    </tr>\n",
              "    <tr>\n",
              "      <th>1748</th>\n",
              "      <td>https://shop.adidas.co.in/#!product/EE6151_3st004</td>\n",
              "      <td>Men's adidas Originals 3ST.004 Shoes</td>\n",
              "      <td>EE6151</td>\n",
              "      <td>10999</td>\n",
              "      <td>6599</td>\n",
              "      <td>40</td>\n",
              "      <td>ORIGINALS</td>\n",
              "      <td>Created using feedback from adidas pro riders,...</td>\n",
              "      <td>0.0</td>\n",
              "      <td>0</td>\n",
              "      <td>[\"https://content.adidas.co.in/static/Product-...</td>\n",
              "    </tr>\n",
              "    <tr>\n",
              "      <th>...</th>\n",
              "      <td>...</td>\n",
              "      <td>...</td>\n",
              "      <td>...</td>\n",
              "      <td>...</td>\n",
              "      <td>...</td>\n",
              "      <td>...</td>\n",
              "      <td>...</td>\n",
              "      <td>...</td>\n",
              "      <td>...</td>\n",
              "      <td>...</td>\n",
              "      <td>...</td>\n",
              "    </tr>\n",
              "    <tr>\n",
              "      <th>1663</th>\n",
              "      <td>https://shop.adidas.co.in/#!product/CK9657_kalusm</td>\n",
              "      <td>Men's adidas Running Kalus Shoes</td>\n",
              "      <td>CK9657</td>\n",
              "      <td>4299</td>\n",
              "      <td>2149</td>\n",
              "      <td>50</td>\n",
              "      <td>CORE / NEO</td>\n",
              "      <td>A well cushioned shoe with a fresher look that...</td>\n",
              "      <td>0.0</td>\n",
              "      <td>0</td>\n",
              "      <td>[\"https://content.adidas.co.in/static/Product-...</td>\n",
              "    </tr>\n",
              "    <tr>\n",
              "      <th>1664</th>\n",
              "      <td>https://shop.adidas.co.in/#!product/AC7043_pwh...</td>\n",
              "      <td>men's ADIDAS ORIGINALS PW HU HOLI STAN SMITH S...</td>\n",
              "      <td>AC7043</td>\n",
              "      <td>9999</td>\n",
              "      <td>4999</td>\n",
              "      <td>50</td>\n",
              "      <td>ORIGINALS</td>\n",
              "      <td>A style icon gets some love from one of today'...</td>\n",
              "      <td>0.0</td>\n",
              "      <td>0</td>\n",
              "      <td>[\"https://content.adidas.co.in/static/Product-...</td>\n",
              "    </tr>\n",
              "    <tr>\n",
              "      <th>1665</th>\n",
              "      <td>https://shop.adidas.co.in/#!product/FW9783_zx8000</td>\n",
              "      <td>Men's adidas Originals ZX 8000 Shoes</td>\n",
              "      <td>FW9783</td>\n",
              "      <td>12999</td>\n",
              "      <td>12999</td>\n",
              "      <td>0</td>\n",
              "      <td>ORIGINALS</td>\n",
              "      <td>Low light? No problem. These adidas trainers h...</td>\n",
              "      <td>0.0</td>\n",
              "      <td>0</td>\n",
              "      <td>[\"https://content.adidas.co.in/static/Product-...</td>\n",
              "    </tr>\n",
              "    <tr>\n",
              "      <th>1666</th>\n",
              "      <td>https://shop.adidas.co.in/#!product/F35607_pre...</td>\n",
              "      <td>Men's adidas Football Predator 19.1 Firm Groun...</td>\n",
              "      <td>F35607</td>\n",
              "      <td>14999</td>\n",
              "      <td>8999</td>\n",
              "      <td>40</td>\n",
              "      <td>SPORT PERFORMANCE</td>\n",
              "      <td>If your command of the pitch leaves your rival...</td>\n",
              "      <td>0.0</td>\n",
              "      <td>0</td>\n",
              "      <td>[\"https://content.adidas.co.in/static/Product-...</td>\n",
              "    </tr>\n",
              "    <tr>\n",
              "      <th>1667</th>\n",
              "      <td>https://shop.adidas.co.in/#!product/CJ8111_erd...</td>\n",
              "      <td>MEN'S ADIDAS RUNNING ERDIGA 3.0 SHOES</td>\n",
              "      <td>CJ8111</td>\n",
              "      <td>4299</td>\n",
              "      <td>2149</td>\n",
              "      <td>50</td>\n",
              "      <td>CORE / NEO</td>\n",
              "      <td>The adidas Erdiga 3.0 shoes for men crafted wi...</td>\n",
              "      <td>0.0</td>\n",
              "      <td>0</td>\n",
              "      <td>[\"https://content.adidas.co.in/static/Product-...</td>\n",
              "    </tr>\n",
              "  </tbody>\n",
              "</table>\n",
              "<p>90 rows × 11 columns</p>\n",
              "</div>"
            ],
            "text/plain": [
              "                                                    url  ...                                             images\n",
              "0     https://shop.adidas.co.in/#!product/AH2430_nmd...  ...  [\"https://content.adidas.co.in/static/Product-...\n",
              "1744  https://shop.adidas.co.in/#!product/EE7382_hoo...  ...  [\"https://content.adidas.co.in/static/Product-...\n",
              "1746  https://shop.adidas.co.in/#!product/EE7422_hoo...  ...  [\"https://content.adidas.co.in/static/Product-...\n",
              "1747  https://shop.adidas.co.in/#!product/EE7900_gra...  ...  [\"https://content.adidas.co.in/static/Product-...\n",
              "1748  https://shop.adidas.co.in/#!product/EE6151_3st004  ...  [\"https://content.adidas.co.in/static/Product-...\n",
              "...                                                 ...  ...                                                ...\n",
              "1663  https://shop.adidas.co.in/#!product/CK9657_kalusm  ...  [\"https://content.adidas.co.in/static/Product-...\n",
              "1664  https://shop.adidas.co.in/#!product/AC7043_pwh...  ...  [\"https://content.adidas.co.in/static/Product-...\n",
              "1665  https://shop.adidas.co.in/#!product/FW9783_zx8000  ...  [\"https://content.adidas.co.in/static/Product-...\n",
              "1666  https://shop.adidas.co.in/#!product/F35607_pre...  ...  [\"https://content.adidas.co.in/static/Product-...\n",
              "1667  https://shop.adidas.co.in/#!product/CJ8111_erd...  ...  [\"https://content.adidas.co.in/static/Product-...\n",
              "\n",
              "[90 rows x 11 columns]"
            ]
          },
          "metadata": {
            "tags": []
          },
          "execution_count": 31
        }
      ]
    },
    {
      "cell_type": "markdown",
      "metadata": {
        "id": "Io6M4Xl3uB56"
      },
      "source": [
        "1. About 50% of Nike brand products were rated over 4.6, with half of these having been rated 5.0. \n",
        "2. No ratings for Adidas products were given and therefore incomplete data for this brand. (this is an assumption because all products were rated 0)"
      ]
    },
    {
      "cell_type": "code",
      "metadata": {
        "id": "8syVcNiruPL-",
        "outputId": "6a4a2081-0ab0-4041-fab1-8aeb9c9c3266",
        "colab": {
          "base_uri": "https://localhost:8080/",
          "height": 82
        }
      },
      "source": [
        "# Adidas give's more descriptive product deescription part of which can be used to identify the product with gender. \n",
        "# we will try and investigate which products are popular in Russia, whether masculine or feminine products so as to advise Lublu accordingly.\n",
        "\n",
        "#Feminine Adidas brand products\n",
        "adidas_f_df = merge_df[~merge_df.brand.isin(['Nike'])]\n",
        "adidas_f_df = adidas_f_df[adidas_f_df['product_name'].str.contains('Women')]\n",
        "\n",
        "\n",
        "print('Count of Feminine Products: \\n ')\n",
        "adidas_f_df['product_name'].str.contains('Women').value_counts()\n"
      ],
      "execution_count": 32,
      "outputs": [
        {
          "output_type": "stream",
          "text": [
            "Count of Feminine Products: \n",
            " \n"
          ],
          "name": "stdout"
        },
        {
          "output_type": "execute_result",
          "data": {
            "text/plain": [
              "True    643\n",
              "Name: product_name, dtype: int64"
            ]
          },
          "metadata": {
            "tags": []
          },
          "execution_count": 32
        }
      ]
    },
    {
      "cell_type": "code",
      "metadata": {
        "id": "S946Pg9N5VwA",
        "outputId": "94e02765-ee0a-4df1-b9a6-806293c7b6f6",
        "colab": {
          "base_uri": "https://localhost:8080/",
          "height": 212
        }
      },
      "source": [
        "# we could proceed to give details of each and every type of such products product using \n",
        "\n",
        "adidas_f_df.product_name.value_counts()"
      ],
      "execution_count": 33,
      "outputs": [
        {
          "output_type": "execute_result",
          "data": {
            "text/plain": [
              "Women's adidas Originals Sambarose Shoes         16\n",
              "Women's adidas Originals Sleek Shoes             13\n",
              "Women's adidas Originals NMD_R1 Shoes            12\n",
              "Women's adidas Originals Continental 80 Shoes    11\n",
              "Women's adidas Originals Falcon Shoes            11\n",
              "                                                 ..\n",
              "Women's Sport Inspired Yking 2.0 Shoes            1\n",
              "Women's Sport Inspired Archivo Shoes              1\n",
              "Women's adidas Running Bolter Shoes               1\n",
              "Women's adidas Running Astrarun Shoes             1\n",
              "Women's adidas Khoe Run Shoes                     1\n",
              "Name: product_name, Length: 272, dtype: int64"
            ]
          },
          "metadata": {
            "tags": []
          },
          "execution_count": 33
        }
      ]
    },
    {
      "cell_type": "code",
      "metadata": {
        "id": "Tp88emhC4TVg",
        "outputId": "0737c980-ef0d-42cc-b0f9-a203b2029ce5",
        "colab": {
          "base_uri": "https://localhost:8080/",
          "height": 82
        }
      },
      "source": [
        "# Adidas brand masculine products\n",
        "\n",
        "adidas_m_df = merge_df[~merge_df.brand.isin(['Nike'])]\n",
        "adidas_m_df = adidas_m_df[adidas_m_df['product_name'].str.contains('Men')]\n",
        "\n",
        "\n",
        "print('Count of Masculine Products: \\n ')\n",
        "adidas_m_df['product_name'].str.contains('Men').value_counts()"
      ],
      "execution_count": 34,
      "outputs": [
        {
          "output_type": "stream",
          "text": [
            "Count of Masculine Products: \n",
            " \n"
          ],
          "name": "stdout"
        },
        {
          "output_type": "execute_result",
          "data": {
            "text/plain": [
              "True    1434\n",
              "Name: product_name, dtype: int64"
            ]
          },
          "metadata": {
            "tags": []
          },
          "execution_count": 34
        }
      ]
    },
    {
      "cell_type": "code",
      "metadata": {
        "id": "ZZhDe6BXTIta",
        "outputId": "3b24021d-54c9-4b3e-e32e-d37e4238676d",
        "colab": {
          "base_uri": "https://localhost:8080/",
          "height": 82
        }
      },
      "source": [
        "# Adidas brand unisex products\n",
        "\n",
        "adidas_u_df = merge_df[~merge_df.brand.isin(['Nike'])]\n",
        "adidas_u_df = adidas_u_df[adidas_u_df['product_name'].str.contains('Unisex')]\n",
        "\n",
        "\n",
        "print('Count of Unisex Products: \\n ')\n",
        "adidas_u_df['product_name'].str.contains('Unisex').value_counts()"
      ],
      "execution_count": 35,
      "outputs": [
        {
          "output_type": "stream",
          "text": [
            "Count of Unisex Products: \n",
            " \n"
          ],
          "name": "stdout"
        },
        {
          "output_type": "execute_result",
          "data": {
            "text/plain": [
              "True    93\n",
              "Name: product_name, dtype: int64"
            ]
          },
          "metadata": {
            "tags": []
          },
          "execution_count": 35
        }
      ]
    },
    {
      "cell_type": "markdown",
      "metadata": {
        "id": "-pcw6Eim7AG5"
      },
      "source": [
        "*From the above analysis, we see men's products from adidas being more popular at 70% stocking than women's products.* \n",
        "*Unisex products account for only about 4% of the items* "
      ]
    },
    {
      "cell_type": "code",
      "metadata": {
        "id": "wc4cCmiHQMJX",
        "outputId": "1b4d5db3-d273-4f1b-809c-c94bce8fdd6c",
        "colab": {
          "base_uri": "https://localhost:8080/",
          "height": 1000
        }
      },
      "source": [
        "# How do the prices of the brands compare?\n",
        "\n",
        "sort_df = merge_df.sort_values(by='sale_price', ascending=0)\n",
        "sort_df.head(50)"
      ],
      "execution_count": 36,
      "outputs": [
        {
          "output_type": "execute_result",
          "data": {
            "text/html": [
              "<div>\n",
              "<style scoped>\n",
              "    .dataframe tbody tr th:only-of-type {\n",
              "        vertical-align: middle;\n",
              "    }\n",
              "\n",
              "    .dataframe tbody tr th {\n",
              "        vertical-align: top;\n",
              "    }\n",
              "\n",
              "    .dataframe thead th {\n",
              "        text-align: right;\n",
              "    }\n",
              "</style>\n",
              "<table border=\"1\" class=\"dataframe\">\n",
              "  <thead>\n",
              "    <tr style=\"text-align: right;\">\n",
              "      <th></th>\n",
              "      <th>url</th>\n",
              "      <th>product_name</th>\n",
              "      <th>product_id</th>\n",
              "      <th>listing_price</th>\n",
              "      <th>sale_price</th>\n",
              "      <th>discount</th>\n",
              "      <th>brand</th>\n",
              "      <th>description</th>\n",
              "      <th>rating</th>\n",
              "      <th>reviews</th>\n",
              "      <th>images</th>\n",
              "    </tr>\n",
              "  </thead>\n",
              "  <tbody>\n",
              "    <tr>\n",
              "      <th>523</th>\n",
              "      <td>https://www.nike.com/in/t/air-vapormax-flyknit...</td>\n",
              "      <td>Nike Air VaporMax Flyknit 2 LXX</td>\n",
              "      <td>AT5673-700</td>\n",
              "      <td>0</td>\n",
              "      <td>36500</td>\n",
              "      <td>0</td>\n",
              "      <td>Nike</td>\n",
              "      <td>The Nike Air VaporMax Flyknit 2 LXX places you...</td>\n",
              "      <td>0.0</td>\n",
              "      <td>0</td>\n",
              "      <td>[\"https://static.nike.com/a/images/t_PDP_1728_...</td>\n",
              "    </tr>\n",
              "    <tr>\n",
              "      <th>2579</th>\n",
              "      <td>https://shop.adidas.co.in/#!product/BD7865_zx4...</td>\n",
              "      <td>Men's adidas Originals ZX 4000 4D Shoes</td>\n",
              "      <td>BD7865</td>\n",
              "      <td>29999</td>\n",
              "      <td>29999</td>\n",
              "      <td>0</td>\n",
              "      <td>ORIGINALS</td>\n",
              "      <td>In the '80s, the science of sport and wearable...</td>\n",
              "      <td>0.0</td>\n",
              "      <td>0</td>\n",
              "      <td>[\"https://content.adidas.co.in/static/Product-...</td>\n",
              "    </tr>\n",
              "    <tr>\n",
              "      <th>2554</th>\n",
              "      <td>https://shop.adidas.co.in/#!product/BD7927_zx4...</td>\n",
              "      <td>Men's adidas Originals ZX 4000 4D Shoes</td>\n",
              "      <td>BD7927</td>\n",
              "      <td>29999</td>\n",
              "      <td>29999</td>\n",
              "      <td>0</td>\n",
              "      <td>ORIGINALS</td>\n",
              "      <td>In the '80s, the science of sport and wearable...</td>\n",
              "      <td>0.0</td>\n",
              "      <td>0</td>\n",
              "      <td>[\"https://content.adidas.co.in/static/Product-...</td>\n",
              "    </tr>\n",
              "    <tr>\n",
              "      <th>1642</th>\n",
              "      <td>https://shop.adidas.co.in/#!product/FV6106_alp...</td>\n",
              "      <td>Unisex adidas Running Alphaedge 4D Shoes</td>\n",
              "      <td>FV6106</td>\n",
              "      <td>27999</td>\n",
              "      <td>27999</td>\n",
              "      <td>0</td>\n",
              "      <td>SPORT PERFORMANCE</td>\n",
              "      <td>Add an edge to your game with the new AlphaEdg...</td>\n",
              "      <td>0.0</td>\n",
              "      <td>0</td>\n",
              "      <td>[\"https://content.adidas.co.in/static/Product-...</td>\n",
              "    </tr>\n",
              "    <tr>\n",
              "      <th>1553</th>\n",
              "      <td>https://shop.adidas.co.in/#!product/EF9624_zx4...</td>\n",
              "      <td>Men's adidas Originals ZX 4000 4D Shoes</td>\n",
              "      <td>EF9624</td>\n",
              "      <td>27999</td>\n",
              "      <td>27999</td>\n",
              "      <td>0</td>\n",
              "      <td>ORIGINALS</td>\n",
              "      <td>The ZX trainers series resets the running scen...</td>\n",
              "      <td>0.0</td>\n",
              "      <td>0</td>\n",
              "      <td>[\"https://content.adidas.co.in/static/Product-...</td>\n",
              "    </tr>\n",
              "    <tr>\n",
              "      <th>1563</th>\n",
              "      <td>https://shop.adidas.co.in/#!product/EF9623_zx4...</td>\n",
              "      <td>Men's adidas Originals ZX 4000 4D Shoes</td>\n",
              "      <td>EF9623</td>\n",
              "      <td>27999</td>\n",
              "      <td>27999</td>\n",
              "      <td>0</td>\n",
              "      <td>ORIGINALS</td>\n",
              "      <td>The ZX trainers series resets the running scen...</td>\n",
              "      <td>0.0</td>\n",
              "      <td>0</td>\n",
              "      <td>[\"https://content.adidas.co.in/static/Product-...</td>\n",
              "    </tr>\n",
              "    <tr>\n",
              "      <th>1438</th>\n",
              "      <td>https://shop.adidas.co.in/#!product/EF9625_zx4...</td>\n",
              "      <td>Men's adidas Originals ZX 4000 4D Shoes</td>\n",
              "      <td>EF9625</td>\n",
              "      <td>27999</td>\n",
              "      <td>27999</td>\n",
              "      <td>0</td>\n",
              "      <td>ORIGINALS</td>\n",
              "      <td>Thousands of athletes. Years of data. adidas 4...</td>\n",
              "      <td>0.0</td>\n",
              "      <td>0</td>\n",
              "      <td>[\"https://content.adidas.co.in/static/Product-...</td>\n",
              "    </tr>\n",
              "    <tr>\n",
              "      <th>68</th>\n",
              "      <td>https://www.nike.com/in/t/mercurial-superfly-7...</td>\n",
              "      <td>Nike Mercurial Superfly 7 Elite SE FG</td>\n",
              "      <td>CT1099-093</td>\n",
              "      <td>0</td>\n",
              "      <td>24995</td>\n",
              "      <td>0</td>\n",
              "      <td>Nike</td>\n",
              "      <td>Everyone starts somewhere and Kylian Mbappé st...</td>\n",
              "      <td>0.0</td>\n",
              "      <td>0</td>\n",
              "      <td>NaN</td>\n",
              "    </tr>\n",
              "    <tr>\n",
              "      <th>306</th>\n",
              "      <td>https://www.nike.com/in/t/mercurial-superfly-7...</td>\n",
              "      <td>Nike Mercurial Superfly 7 Elite MDS FG</td>\n",
              "      <td>BQ5469-703</td>\n",
              "      <td>0</td>\n",
              "      <td>24995</td>\n",
              "      <td>0</td>\n",
              "      <td>Nike</td>\n",
              "      <td>Dream of speed and play fast in the Nike Mercu...</td>\n",
              "      <td>5.0</td>\n",
              "      <td>1</td>\n",
              "      <td>[\"https://static.nike.com/a/images/t_PDP_1728_...</td>\n",
              "    </tr>\n",
              "    <tr>\n",
              "      <th>1614</th>\n",
              "      <td>https://shop.adidas.co.in/#!product/EG4901_awp...</td>\n",
              "      <td>Unisex adidas Originals by Alexander Wang Puff...</td>\n",
              "      <td>EG4901</td>\n",
              "      <td>23999</td>\n",
              "      <td>23999</td>\n",
              "      <td>0</td>\n",
              "      <td>ORIGINALS</td>\n",
              "      <td>Known for his playful aesthetic and party-read...</td>\n",
              "      <td>0.0</td>\n",
              "      <td>0</td>\n",
              "      <td>[\"https://content.adidas.co.in/static/Product-...</td>\n",
              "    </tr>\n",
              "    <tr>\n",
              "      <th>1326</th>\n",
              "      <td>https://shop.adidas.co.in/#!product/FV7826_cgk...</td>\n",
              "      <td>Unisex Originals CRAIG GREEN KONTUUR II SHOES</td>\n",
              "      <td>FV7826</td>\n",
              "      <td>23999</td>\n",
              "      <td>23999</td>\n",
              "      <td>0</td>\n",
              "      <td>ORIGINALS</td>\n",
              "      <td>Go for the unexpected. British designer Craig ...</td>\n",
              "      <td>0.0</td>\n",
              "      <td>0</td>\n",
              "      <td>[\"https://content.adidas.co.in/static/Product-...</td>\n",
              "    </tr>\n",
              "    <tr>\n",
              "      <th>1328</th>\n",
              "      <td>https://shop.adidas.co.in/#!product/FV7825_cgk...</td>\n",
              "      <td>Unisex Originals CRAIG GREEN KONTUUR II SHOES</td>\n",
              "      <td>FV7825</td>\n",
              "      <td>23999</td>\n",
              "      <td>23999</td>\n",
              "      <td>0</td>\n",
              "      <td>ORIGINALS</td>\n",
              "      <td>Go for the unexpected. British designer Craig ...</td>\n",
              "      <td>0.0</td>\n",
              "      <td>0</td>\n",
              "      <td>[\"https://content.adidas.co.in/static/Product-...</td>\n",
              "    </tr>\n",
              "    <tr>\n",
              "      <th>1334</th>\n",
              "      <td>https://shop.adidas.co.in/#!product/FV4419_cgk...</td>\n",
              "      <td>Unisex Originals CRAIG GREEN KONTUUR I SHOES</td>\n",
              "      <td>FV4419</td>\n",
              "      <td>23999</td>\n",
              "      <td>23999</td>\n",
              "      <td>0</td>\n",
              "      <td>ORIGINALS</td>\n",
              "      <td>Live for the unpredictable. London-born design...</td>\n",
              "      <td>0.0</td>\n",
              "      <td>0</td>\n",
              "      <td>[\"https://content.adidas.co.in/static/Product-...</td>\n",
              "    </tr>\n",
              "    <tr>\n",
              "      <th>1591</th>\n",
              "      <td>https://shop.adidas.co.in/#!product/FV6794_cgk...</td>\n",
              "      <td>Unisex Originals CRAIG GREEN KONTUUR I SHOES</td>\n",
              "      <td>FV6794</td>\n",
              "      <td>23999</td>\n",
              "      <td>23999</td>\n",
              "      <td>0</td>\n",
              "      <td>ORIGINALS</td>\n",
              "      <td>Live for the unpredictable. London-born design...</td>\n",
              "      <td>0.0</td>\n",
              "      <td>0</td>\n",
              "      <td>[\"https://content.adidas.co.in/static/Product-...</td>\n",
              "    </tr>\n",
              "    <tr>\n",
              "      <th>1632</th>\n",
              "      <td>https://shop.adidas.co.in/#!product/EF1565_pre...</td>\n",
              "      <td>Unisex Football Predator Mutator 20+ Firm Grou...</td>\n",
              "      <td>EF1565</td>\n",
              "      <td>22999</td>\n",
              "      <td>22999</td>\n",
              "      <td>0</td>\n",
              "      <td>SPORT PERFORMANCE</td>\n",
              "      <td>You're not cheating the system. You're just be...</td>\n",
              "      <td>0.0</td>\n",
              "      <td>0</td>\n",
              "      <td>[\"https://content.adidas.co.in/static/Product-...</td>\n",
              "    </tr>\n",
              "    <tr>\n",
              "      <th>89</th>\n",
              "      <td>https://www.nike.com/in/t/mercurial-superfly-7...</td>\n",
              "      <td>Nike Mercurial Superfly 7 Elite SE FG</td>\n",
              "      <td>CD6721-808</td>\n",
              "      <td>0</td>\n",
              "      <td>22995</td>\n",
              "      <td>0</td>\n",
              "      <td>Nike</td>\n",
              "      <td>Building on the 360-degree Flyknit innovation ...</td>\n",
              "      <td>0.0</td>\n",
              "      <td>0</td>\n",
              "      <td>NaN</td>\n",
              "    </tr>\n",
              "    <tr>\n",
              "      <th>272</th>\n",
              "      <td>https://www.nike.com/in/t/phantom-vision-2-eli...</td>\n",
              "      <td>Nike Phantom Vision 2 Elite Dynamic Fit FG</td>\n",
              "      <td>CD4161-606</td>\n",
              "      <td>0</td>\n",
              "      <td>22995</td>\n",
              "      <td>0</td>\n",
              "      <td>Nike</td>\n",
              "      <td>The Nike Phantom Vision 2 Elite Dynamic Fit FG...</td>\n",
              "      <td>5.0</td>\n",
              "      <td>1</td>\n",
              "      <td>[\"https://static.nike.com/a/images/t_PDP_1728_...</td>\n",
              "    </tr>\n",
              "    <tr>\n",
              "      <th>49</th>\n",
              "      <td>https://www.nike.com/in/t/mercurial-vapor-13-e...</td>\n",
              "      <td>Nike Mercurial Vapor 13 Elite Neymar Jr. FG</td>\n",
              "      <td>AT7898-104</td>\n",
              "      <td>0</td>\n",
              "      <td>22995</td>\n",
              "      <td>0</td>\n",
              "      <td>Nike</td>\n",
              "      <td>Building on the 360 innovation of the 12, the ...</td>\n",
              "      <td>0.0</td>\n",
              "      <td>0</td>\n",
              "      <td>[\"https://static.nike.com/a/images/t_PDP_1728_...</td>\n",
              "    </tr>\n",
              "    <tr>\n",
              "      <th>466</th>\n",
              "      <td>https://www.nike.com/in/t/mercurial-superfly-7...</td>\n",
              "      <td>Nike Mercurial Superfly 7 Elite FG</td>\n",
              "      <td>AQ4174-049</td>\n",
              "      <td>0</td>\n",
              "      <td>22995</td>\n",
              "      <td>0</td>\n",
              "      <td>Nike</td>\n",
              "      <td>Building on the 360 innovation of the 6, the N...</td>\n",
              "      <td>4.3</td>\n",
              "      <td>8</td>\n",
              "      <td>[\"https://static.nike.com/a/images/t_PDP_1728_...</td>\n",
              "    </tr>\n",
              "    <tr>\n",
              "      <th>1382</th>\n",
              "      <td>https://shop.adidas.co.in/#!product/EG7737_pwh...</td>\n",
              "      <td>UNISEX adidas Originals Pharrell Williams Hu N...</td>\n",
              "      <td>EG7737</td>\n",
              "      <td>21999</td>\n",
              "      <td>21999</td>\n",
              "      <td>0</td>\n",
              "      <td>ORIGINALS</td>\n",
              "      <td>Pairing vibrant colours with words that honour...</td>\n",
              "      <td>0.0</td>\n",
              "      <td>0</td>\n",
              "      <td>[\"https://content.adidas.co.in/static/Product-...</td>\n",
              "    </tr>\n",
              "    <tr>\n",
              "      <th>1377</th>\n",
              "      <td>https://shop.adidas.co.in/#!product/EF2335_pwh...</td>\n",
              "      <td>UNISEX adidas Originals Pharrell Williams Hu N...</td>\n",
              "      <td>EF2335</td>\n",
              "      <td>21999</td>\n",
              "      <td>21999</td>\n",
              "      <td>0</td>\n",
              "      <td>ORIGINALS</td>\n",
              "      <td>Pairing vibrant colours with words that honour...</td>\n",
              "      <td>0.0</td>\n",
              "      <td>0</td>\n",
              "      <td>[\"https://content.adidas.co.in/static/Product-...</td>\n",
              "    </tr>\n",
              "    <tr>\n",
              "      <th>2410</th>\n",
              "      <td>https://shop.adidas.co.in/#!product/FV7536_lxc...</td>\n",
              "      <td>Men's Originals White Mountaineering Lxcon Shoes</td>\n",
              "      <td>FV7536</td>\n",
              "      <td>21999</td>\n",
              "      <td>21999</td>\n",
              "      <td>0</td>\n",
              "      <td>ORIGINALS</td>\n",
              "      <td>Sophistication meets utility. Japanese brand W...</td>\n",
              "      <td>0.0</td>\n",
              "      <td>0</td>\n",
              "      <td>[\"https://content.adidas.co.in/static/Product-...</td>\n",
              "    </tr>\n",
              "    <tr>\n",
              "      <th>2405</th>\n",
              "      <td>https://shop.adidas.co.in/#!product/FV7538_lxc...</td>\n",
              "      <td>Men's Originals White Mountaineering Lxcon Shoes</td>\n",
              "      <td>FV7538</td>\n",
              "      <td>21999</td>\n",
              "      <td>21999</td>\n",
              "      <td>0</td>\n",
              "      <td>ORIGINALS</td>\n",
              "      <td>Sophistication meets utility. Japanese brand W...</td>\n",
              "      <td>0.0</td>\n",
              "      <td>0</td>\n",
              "      <td>[\"https://content.adidas.co.in/static/Product-...</td>\n",
              "    </tr>\n",
              "    <tr>\n",
              "      <th>192</th>\n",
              "      <td>https://www.nike.com/in/t/mercurial-vapor-13-e...</td>\n",
              "      <td>Nike Mercurial Vapor 13 Elite FG</td>\n",
              "      <td>AQ4176-049</td>\n",
              "      <td>0</td>\n",
              "      <td>21995</td>\n",
              "      <td>0</td>\n",
              "      <td>Nike</td>\n",
              "      <td>Building on the 360-degree Flyknit innovation ...</td>\n",
              "      <td>3.5</td>\n",
              "      <td>4</td>\n",
              "      <td>[\"https://static.nike.com/a/images/t_PDP_1728_...</td>\n",
              "    </tr>\n",
              "    <tr>\n",
              "      <th>314</th>\n",
              "      <td>https://www.nike.com/in/t/mercurial-vapor-13-e...</td>\n",
              "      <td>Nike Mercurial Vapor 13 Elite SE FG</td>\n",
              "      <td>CD6720-808</td>\n",
              "      <td>0</td>\n",
              "      <td>21995</td>\n",
              "      <td>0</td>\n",
              "      <td>Nike</td>\n",
              "      <td>Building on the 360-degree Flyknit innovation ...</td>\n",
              "      <td>0.0</td>\n",
              "      <td>0</td>\n",
              "      <td>[\"https://static.nike.com/a/images/t_PDP_1728_...</td>\n",
              "    </tr>\n",
              "    <tr>\n",
              "      <th>120</th>\n",
              "      <td>https://www.nike.com/in/t/tiempo-legend-8-elit...</td>\n",
              "      <td>Nike Tiempo Legend 8 Elite FG</td>\n",
              "      <td>AT5293-004</td>\n",
              "      <td>0</td>\n",
              "      <td>20995</td>\n",
              "      <td>0</td>\n",
              "      <td>Nike</td>\n",
              "      <td>The Nike Tiempo Legend 8 Elite FG takes the le...</td>\n",
              "      <td>3.1</td>\n",
              "      <td>7</td>\n",
              "      <td>[\"https://static.nike.com/a/images/t_PDP_1728_...</td>\n",
              "    </tr>\n",
              "    <tr>\n",
              "      <th>1788</th>\n",
              "      <td>https://shop.adidas.co.in/#!product/EG1728_ult...</td>\n",
              "      <td>Men's adidas Running Ultraboost 19 Wood Wood S...</td>\n",
              "      <td>EG1728</td>\n",
              "      <td>19999</td>\n",
              "      <td>19999</td>\n",
              "      <td>0</td>\n",
              "      <td>ORIGINALS</td>\n",
              "      <td>Copenhagen-based lifestyle brand Wood Wood's c...</td>\n",
              "      <td>0.0</td>\n",
              "      <td>0</td>\n",
              "      <td>[\"https://content.adidas.co.in/static/Product-...</td>\n",
              "    </tr>\n",
              "    <tr>\n",
              "      <th>1474</th>\n",
              "      <td>https://shop.adidas.co.in/#!product/EG5185_uwu...</td>\n",
              "      <td>Men's adidas Running Universal Works Ultraboos...</td>\n",
              "      <td>EG5185</td>\n",
              "      <td>19999</td>\n",
              "      <td>19999</td>\n",
              "      <td>0</td>\n",
              "      <td>ORIGINALS</td>\n",
              "      <td>Created by designer David Keyte, Universal Wor...</td>\n",
              "      <td>0.0</td>\n",
              "      <td>0</td>\n",
              "      <td>[\"https://content.adidas.co.in/static/Product-...</td>\n",
              "    </tr>\n",
              "    <tr>\n",
              "      <th>1431</th>\n",
              "      <td>https://shop.adidas.co.in/#!product/EG1727_ult...</td>\n",
              "      <td>Men's adidas Running Ultraboost 19 Wood Wood S...</td>\n",
              "      <td>EG1727</td>\n",
              "      <td>19999</td>\n",
              "      <td>19999</td>\n",
              "      <td>0</td>\n",
              "      <td>ORIGINALS</td>\n",
              "      <td>Copenhagen-based lifestyle brand Wood Wood's c...</td>\n",
              "      <td>0.0</td>\n",
              "      <td>0</td>\n",
              "      <td>[\"https://content.adidas.co.in/static/Product-...</td>\n",
              "    </tr>\n",
              "    <tr>\n",
              "      <th>2617</th>\n",
              "      <td>https://shop.adidas.co.in/#!product/FW0525_ult...</td>\n",
              "      <td>Men's adidas Running Ultraboost 19 Star Wars S...</td>\n",
              "      <td>FW0525</td>\n",
              "      <td>19999</td>\n",
              "      <td>19999</td>\n",
              "      <td>0</td>\n",
              "      <td>SPORT PERFORMANCE</td>\n",
              "      <td>Inspired by Star Warsâ¢, built for comfort an...</td>\n",
              "      <td>0.0</td>\n",
              "      <td>0</td>\n",
              "      <td>[\"https://content.adidas.co.in/static/Product-...</td>\n",
              "    </tr>\n",
              "    <tr>\n",
              "      <th>2324</th>\n",
              "      <td>https://shop.adidas.co.in/#!product/EF3830_kam...</td>\n",
              "      <td>Men's adidas Originals Kamanda BF Shoes</td>\n",
              "      <td>EF3830</td>\n",
              "      <td>19999</td>\n",
              "      <td>19999</td>\n",
              "      <td>0</td>\n",
              "      <td>ORIGINALS</td>\n",
              "      <td>Known for breaking free from convention, Japan...</td>\n",
              "      <td>0.0</td>\n",
              "      <td>0</td>\n",
              "      <td>[\"https://content.adidas.co.in/static/Product-...</td>\n",
              "    </tr>\n",
              "    <tr>\n",
              "      <th>1811</th>\n",
              "      <td>https://shop.adidas.co.in/#!product/EF3836_cra...</td>\n",
              "      <td>Men's adidas Originals Crazy BYW BF Shoes</td>\n",
              "      <td>EF3836</td>\n",
              "      <td>19999</td>\n",
              "      <td>19999</td>\n",
              "      <td>0</td>\n",
              "      <td>ORIGINALS</td>\n",
              "      <td>Known for breaking free from convention, Japan...</td>\n",
              "      <td>0.0</td>\n",
              "      <td>0</td>\n",
              "      <td>[\"https://content.adidas.co.in/static/Product-...</td>\n",
              "    </tr>\n",
              "    <tr>\n",
              "      <th>1475</th>\n",
              "      <td>https://shop.adidas.co.in/#!product/EG5188_uwu...</td>\n",
              "      <td>Men's adidas Running Universal Works Ultraboos...</td>\n",
              "      <td>EG5188</td>\n",
              "      <td>19999</td>\n",
              "      <td>19999</td>\n",
              "      <td>0</td>\n",
              "      <td>ORIGINALS</td>\n",
              "      <td>Created by designer David Keyte, Universal Wor...</td>\n",
              "      <td>0.0</td>\n",
              "      <td>0</td>\n",
              "      <td>[\"https://content.adidas.co.in/static/Product-...</td>\n",
              "    </tr>\n",
              "    <tr>\n",
              "      <th>367</th>\n",
              "      <td>https://www.nike.com/in/t/lebron-john-elliott-...</td>\n",
              "      <td>LeBron x John Elliott Icon</td>\n",
              "      <td>AQ0114-101</td>\n",
              "      <td>0</td>\n",
              "      <td>19995</td>\n",
              "      <td>0</td>\n",
              "      <td>Nike</td>\n",
              "      <td>The LeBron x John Elliott Icon brings the clea...</td>\n",
              "      <td>4.8</td>\n",
              "      <td>6</td>\n",
              "      <td>[\"https://static.nike.com/a/images/t_PDP_1728_...</td>\n",
              "    </tr>\n",
              "    <tr>\n",
              "      <th>289</th>\n",
              "      <td>https://www.nike.com/in/t/zoomx-vaporfly-next-...</td>\n",
              "      <td>Nike ZoomX Vaporfly NEXT%</td>\n",
              "      <td>AO4568-600</td>\n",
              "      <td>0</td>\n",
              "      <td>19995</td>\n",
              "      <td>0</td>\n",
              "      <td>Nike</td>\n",
              "      <td>The Nike ZoomX Vaporfly NEXT% clears your path...</td>\n",
              "      <td>4.7</td>\n",
              "      <td>45</td>\n",
              "      <td>[\"https://static.nike.com/a/images/t_PDP_1728_...</td>\n",
              "    </tr>\n",
              "    <tr>\n",
              "      <th>369</th>\n",
              "      <td>https://www.nike.com/in/t/air-jordan-13-retro-...</td>\n",
              "      <td>Air Jordan 13 Retro Chinese New Year</td>\n",
              "      <td>CW4409-100</td>\n",
              "      <td>0</td>\n",
              "      <td>19995</td>\n",
              "      <td>0</td>\n",
              "      <td>Nike</td>\n",
              "      <td>Michael Jordan's stealthy creativity on the co...</td>\n",
              "      <td>5.0</td>\n",
              "      <td>1</td>\n",
              "      <td>[\"https://static.nike.com/a/images/t_PDP_1728_...</td>\n",
              "    </tr>\n",
              "    <tr>\n",
              "      <th>2577</th>\n",
              "      <td>https://shop.adidas.co.in/#!product/EG0755_ult...</td>\n",
              "      <td>Men's adidas Running Ultraboost 20 Shoes</td>\n",
              "      <td>EG0755</td>\n",
              "      <td>18999</td>\n",
              "      <td>18999</td>\n",
              "      <td>0</td>\n",
              "      <td>SPORT PERFORMANCE</td>\n",
              "      <td>A new day. A new run. Make it your best. These...</td>\n",
              "      <td>0.0</td>\n",
              "      <td>0</td>\n",
              "      <td>[\"https://content.adidas.co.in/static/Product-...</td>\n",
              "    </tr>\n",
              "    <tr>\n",
              "      <th>1640</th>\n",
              "      <td>https://shop.adidas.co.in/#!product/EG1369_ult...</td>\n",
              "      <td>Women's adidas Running Ultraboost 20 Shoes</td>\n",
              "      <td>EG1369</td>\n",
              "      <td>18999</td>\n",
              "      <td>18999</td>\n",
              "      <td>0</td>\n",
              "      <td>SPORT PERFORMANCE</td>\n",
              "      <td>Confidence from the ground up. These adidas ru...</td>\n",
              "      <td>0.0</td>\n",
              "      <td>0</td>\n",
              "      <td>[\"https://content.adidas.co.in/static/Product-...</td>\n",
              "    </tr>\n",
              "    <tr>\n",
              "      <th>199</th>\n",
              "      <td>https://www.nike.com/in/t/air-jordan-4-retro-s...</td>\n",
              "      <td>Air Jordan 4 Retro SE</td>\n",
              "      <td>CT5342-007</td>\n",
              "      <td>0</td>\n",
              "      <td>18995</td>\n",
              "      <td>0</td>\n",
              "      <td>Nike</td>\n",
              "      <td>As fresh as its first release, the Air Jordan ...</td>\n",
              "      <td>4.8</td>\n",
              "      <td>11</td>\n",
              "      <td>[\"https://static.nike.com/a/images/t_PDP_1728_...</td>\n",
              "    </tr>\n",
              "    <tr>\n",
              "      <th>308</th>\n",
              "      <td>https://www.nike.com/in/t/air-vapormax-360-sho...</td>\n",
              "      <td>Nike Air VaporMax 360</td>\n",
              "      <td>CT5063-100</td>\n",
              "      <td>0</td>\n",
              "      <td>18995</td>\n",
              "      <td>0</td>\n",
              "      <td>Nike</td>\n",
              "      <td>Featuring a full-length foam midsole and Vapor...</td>\n",
              "      <td>0.0</td>\n",
              "      <td>0</td>\n",
              "      <td>[\"https://static.nike.com/a/images/t_PDP_1728_...</td>\n",
              "    </tr>\n",
              "    <tr>\n",
              "      <th>194</th>\n",
              "      <td>https://www.nike.com/in/t/air-vapormax-360-sho...</td>\n",
              "      <td>Nike Air VaporMax 360</td>\n",
              "      <td>CK2718-003</td>\n",
              "      <td>0</td>\n",
              "      <td>18995</td>\n",
              "      <td>0</td>\n",
              "      <td>Nike</td>\n",
              "      <td>Featuring a full-length foam midsole and Vapor...</td>\n",
              "      <td>4.1</td>\n",
              "      <td>10</td>\n",
              "      <td>[\"https://static.nike.com/a/images/t_PDP_1728_...</td>\n",
              "    </tr>\n",
              "    <tr>\n",
              "      <th>403</th>\n",
              "      <td>https://www.nike.com/in/t/air-vapormax-360-sho...</td>\n",
              "      <td>Nike Air VaporMax 360</td>\n",
              "      <td>CK2719-400</td>\n",
              "      <td>0</td>\n",
              "      <td>18995</td>\n",
              "      <td>0</td>\n",
              "      <td>Nike</td>\n",
              "      <td>Featuring a full-length foam midsole and Vapor...</td>\n",
              "      <td>2.2</td>\n",
              "      <td>5</td>\n",
              "      <td>[\"https://static.nike.com/a/images/t_PDP_1728_...</td>\n",
              "    </tr>\n",
              "    <tr>\n",
              "      <th>27</th>\n",
              "      <td>https://www.nike.com/in/t/air-vapormax-360-sho...</td>\n",
              "      <td>Nike Air VaporMax 360</td>\n",
              "      <td>CK9671-001</td>\n",
              "      <td>0</td>\n",
              "      <td>18995</td>\n",
              "      <td>0</td>\n",
              "      <td>Nike</td>\n",
              "      <td>Inspired by heritage running shoes like the 20...</td>\n",
              "      <td>4.0</td>\n",
              "      <td>1</td>\n",
              "      <td>[\"https://static.nike.com/a/images/t_PDP_1728_...</td>\n",
              "    </tr>\n",
              "    <tr>\n",
              "      <th>163</th>\n",
              "      <td>https://www.nike.com/in/t/air-vapormax-360-sho...</td>\n",
              "      <td>Nike Air VaporMax 360</td>\n",
              "      <td>CK9670-100</td>\n",
              "      <td>0</td>\n",
              "      <td>18995</td>\n",
              "      <td>0</td>\n",
              "      <td>Nike</td>\n",
              "      <td>The Nike Air VaporMax 360 combines 2 legends o...</td>\n",
              "      <td>0.0</td>\n",
              "      <td>0</td>\n",
              "      <td>[\"https://static.nike.com/a/images/t_PDP_1728_...</td>\n",
              "    </tr>\n",
              "    <tr>\n",
              "      <th>344</th>\n",
              "      <td>https://www.nike.com/in/t/air-jordan-5-retro-s...</td>\n",
              "      <td>Air Jordan 5 Retro</td>\n",
              "      <td>CN2932-100</td>\n",
              "      <td>0</td>\n",
              "      <td>18995</td>\n",
              "      <td>0</td>\n",
              "      <td>Nike</td>\n",
              "      <td>The Air Jordan 5 Retro brings back the origina...</td>\n",
              "      <td>4.6</td>\n",
              "      <td>8</td>\n",
              "      <td>[\"https://static.nike.com/a/images/t_PDP_1728_...</td>\n",
              "    </tr>\n",
              "    <tr>\n",
              "      <th>1605</th>\n",
              "      <td>https://shop.adidas.co.in/#!product/EG1071_ult...</td>\n",
              "      <td>Women's adidas by Stella Mccartney Running Ult...</td>\n",
              "      <td>EG1071</td>\n",
              "      <td>17999</td>\n",
              "      <td>17999</td>\n",
              "      <td>0</td>\n",
              "      <td>SPORT PERFORMANCE</td>\n",
              "      <td>Energy assured, from dusk until dawn. These sh...</td>\n",
              "      <td>0.0</td>\n",
              "      <td>0</td>\n",
              "      <td>[\"https://content.adidas.co.in/static/Product-...</td>\n",
              "    </tr>\n",
              "    <tr>\n",
              "      <th>1601</th>\n",
              "      <td>https://shop.adidas.co.in/#!product/EG1069_ult...</td>\n",
              "      <td>Women's adidas by Stella Mccartney Running Ult...</td>\n",
              "      <td>EG1069</td>\n",
              "      <td>17999</td>\n",
              "      <td>17999</td>\n",
              "      <td>0</td>\n",
              "      <td>SPORT PERFORMANCE</td>\n",
              "      <td>adidas and Stella McCartney have been fusing t...</td>\n",
              "      <td>0.0</td>\n",
              "      <td>0</td>\n",
              "      <td>[\"https://content.adidas.co.in/static/Product-...</td>\n",
              "    </tr>\n",
              "    <tr>\n",
              "      <th>2578</th>\n",
              "      <td>https://shop.adidas.co.in/#!product/FW1970_ult...</td>\n",
              "      <td>Men's adidas Running Ultraboost 19 David Beckh...</td>\n",
              "      <td>FW1970</td>\n",
              "      <td>17999</td>\n",
              "      <td>17999</td>\n",
              "      <td>0</td>\n",
              "      <td>SPORT PERFORMANCE</td>\n",
              "      <td>Designed in collaboration with football legend...</td>\n",
              "      <td>0.0</td>\n",
              "      <td>0</td>\n",
              "      <td>[\"https://content.adidas.co.in/static/Product-...</td>\n",
              "    </tr>\n",
              "    <tr>\n",
              "      <th>1621</th>\n",
              "      <td>https://shop.adidas.co.in/#!product/EG0715_ult...</td>\n",
              "      <td>Women's adidas Running Ultraboost 20 Shoes</td>\n",
              "      <td>EG0715</td>\n",
              "      <td>17999</td>\n",
              "      <td>17999</td>\n",
              "      <td>0</td>\n",
              "      <td>SPORT PERFORMANCE</td>\n",
              "      <td>Confidence from the ground up. These adidas ru...</td>\n",
              "      <td>0.0</td>\n",
              "      <td>0</td>\n",
              "      <td>[\"https://content.adidas.co.in/static/Product-...</td>\n",
              "    </tr>\n",
              "    <tr>\n",
              "      <th>2558</th>\n",
              "      <td>https://shop.adidas.co.in/#!product/EF0893_ult...</td>\n",
              "      <td>Men's Running Ultraboost PB Shoes</td>\n",
              "      <td>EF0893</td>\n",
              "      <td>17999</td>\n",
              "      <td>17999</td>\n",
              "      <td>0</td>\n",
              "      <td>SPORT PERFORMANCE</td>\n",
              "      <td>Meet your new best friend for your fastest, lo...</td>\n",
              "      <td>0.0</td>\n",
              "      <td>0</td>\n",
              "      <td>[\"https://content.adidas.co.in/static/Product-...</td>\n",
              "    </tr>\n",
              "  </tbody>\n",
              "</table>\n",
              "</div>"
            ],
            "text/plain": [
              "                                                    url  ...                                             images\n",
              "523   https://www.nike.com/in/t/air-vapormax-flyknit...  ...  [\"https://static.nike.com/a/images/t_PDP_1728_...\n",
              "2579  https://shop.adidas.co.in/#!product/BD7865_zx4...  ...  [\"https://content.adidas.co.in/static/Product-...\n",
              "2554  https://shop.adidas.co.in/#!product/BD7927_zx4...  ...  [\"https://content.adidas.co.in/static/Product-...\n",
              "1642  https://shop.adidas.co.in/#!product/FV6106_alp...  ...  [\"https://content.adidas.co.in/static/Product-...\n",
              "1553  https://shop.adidas.co.in/#!product/EF9624_zx4...  ...  [\"https://content.adidas.co.in/static/Product-...\n",
              "1563  https://shop.adidas.co.in/#!product/EF9623_zx4...  ...  [\"https://content.adidas.co.in/static/Product-...\n",
              "1438  https://shop.adidas.co.in/#!product/EF9625_zx4...  ...  [\"https://content.adidas.co.in/static/Product-...\n",
              "68    https://www.nike.com/in/t/mercurial-superfly-7...  ...                                                NaN\n",
              "306   https://www.nike.com/in/t/mercurial-superfly-7...  ...  [\"https://static.nike.com/a/images/t_PDP_1728_...\n",
              "1614  https://shop.adidas.co.in/#!product/EG4901_awp...  ...  [\"https://content.adidas.co.in/static/Product-...\n",
              "1326  https://shop.adidas.co.in/#!product/FV7826_cgk...  ...  [\"https://content.adidas.co.in/static/Product-...\n",
              "1328  https://shop.adidas.co.in/#!product/FV7825_cgk...  ...  [\"https://content.adidas.co.in/static/Product-...\n",
              "1334  https://shop.adidas.co.in/#!product/FV4419_cgk...  ...  [\"https://content.adidas.co.in/static/Product-...\n",
              "1591  https://shop.adidas.co.in/#!product/FV6794_cgk...  ...  [\"https://content.adidas.co.in/static/Product-...\n",
              "1632  https://shop.adidas.co.in/#!product/EF1565_pre...  ...  [\"https://content.adidas.co.in/static/Product-...\n",
              "89    https://www.nike.com/in/t/mercurial-superfly-7...  ...                                                NaN\n",
              "272   https://www.nike.com/in/t/phantom-vision-2-eli...  ...  [\"https://static.nike.com/a/images/t_PDP_1728_...\n",
              "49    https://www.nike.com/in/t/mercurial-vapor-13-e...  ...  [\"https://static.nike.com/a/images/t_PDP_1728_...\n",
              "466   https://www.nike.com/in/t/mercurial-superfly-7...  ...  [\"https://static.nike.com/a/images/t_PDP_1728_...\n",
              "1382  https://shop.adidas.co.in/#!product/EG7737_pwh...  ...  [\"https://content.adidas.co.in/static/Product-...\n",
              "1377  https://shop.adidas.co.in/#!product/EF2335_pwh...  ...  [\"https://content.adidas.co.in/static/Product-...\n",
              "2410  https://shop.adidas.co.in/#!product/FV7536_lxc...  ...  [\"https://content.adidas.co.in/static/Product-...\n",
              "2405  https://shop.adidas.co.in/#!product/FV7538_lxc...  ...  [\"https://content.adidas.co.in/static/Product-...\n",
              "192   https://www.nike.com/in/t/mercurial-vapor-13-e...  ...  [\"https://static.nike.com/a/images/t_PDP_1728_...\n",
              "314   https://www.nike.com/in/t/mercurial-vapor-13-e...  ...  [\"https://static.nike.com/a/images/t_PDP_1728_...\n",
              "120   https://www.nike.com/in/t/tiempo-legend-8-elit...  ...  [\"https://static.nike.com/a/images/t_PDP_1728_...\n",
              "1788  https://shop.adidas.co.in/#!product/EG1728_ult...  ...  [\"https://content.adidas.co.in/static/Product-...\n",
              "1474  https://shop.adidas.co.in/#!product/EG5185_uwu...  ...  [\"https://content.adidas.co.in/static/Product-...\n",
              "1431  https://shop.adidas.co.in/#!product/EG1727_ult...  ...  [\"https://content.adidas.co.in/static/Product-...\n",
              "2617  https://shop.adidas.co.in/#!product/FW0525_ult...  ...  [\"https://content.adidas.co.in/static/Product-...\n",
              "2324  https://shop.adidas.co.in/#!product/EF3830_kam...  ...  [\"https://content.adidas.co.in/static/Product-...\n",
              "1811  https://shop.adidas.co.in/#!product/EF3836_cra...  ...  [\"https://content.adidas.co.in/static/Product-...\n",
              "1475  https://shop.adidas.co.in/#!product/EG5188_uwu...  ...  [\"https://content.adidas.co.in/static/Product-...\n",
              "367   https://www.nike.com/in/t/lebron-john-elliott-...  ...  [\"https://static.nike.com/a/images/t_PDP_1728_...\n",
              "289   https://www.nike.com/in/t/zoomx-vaporfly-next-...  ...  [\"https://static.nike.com/a/images/t_PDP_1728_...\n",
              "369   https://www.nike.com/in/t/air-jordan-13-retro-...  ...  [\"https://static.nike.com/a/images/t_PDP_1728_...\n",
              "2577  https://shop.adidas.co.in/#!product/EG0755_ult...  ...  [\"https://content.adidas.co.in/static/Product-...\n",
              "1640  https://shop.adidas.co.in/#!product/EG1369_ult...  ...  [\"https://content.adidas.co.in/static/Product-...\n",
              "199   https://www.nike.com/in/t/air-jordan-4-retro-s...  ...  [\"https://static.nike.com/a/images/t_PDP_1728_...\n",
              "308   https://www.nike.com/in/t/air-vapormax-360-sho...  ...  [\"https://static.nike.com/a/images/t_PDP_1728_...\n",
              "194   https://www.nike.com/in/t/air-vapormax-360-sho...  ...  [\"https://static.nike.com/a/images/t_PDP_1728_...\n",
              "403   https://www.nike.com/in/t/air-vapormax-360-sho...  ...  [\"https://static.nike.com/a/images/t_PDP_1728_...\n",
              "27    https://www.nike.com/in/t/air-vapormax-360-sho...  ...  [\"https://static.nike.com/a/images/t_PDP_1728_...\n",
              "163   https://www.nike.com/in/t/air-vapormax-360-sho...  ...  [\"https://static.nike.com/a/images/t_PDP_1728_...\n",
              "344   https://www.nike.com/in/t/air-jordan-5-retro-s...  ...  [\"https://static.nike.com/a/images/t_PDP_1728_...\n",
              "1605  https://shop.adidas.co.in/#!product/EG1071_ult...  ...  [\"https://content.adidas.co.in/static/Product-...\n",
              "1601  https://shop.adidas.co.in/#!product/EG1069_ult...  ...  [\"https://content.adidas.co.in/static/Product-...\n",
              "2578  https://shop.adidas.co.in/#!product/FW1970_ult...  ...  [\"https://content.adidas.co.in/static/Product-...\n",
              "1621  https://shop.adidas.co.in/#!product/EG0715_ult...  ...  [\"https://content.adidas.co.in/static/Product-...\n",
              "2558  https://shop.adidas.co.in/#!product/EF0893_ult...  ...  [\"https://content.adidas.co.in/static/Product-...\n",
              "\n",
              "[50 rows x 11 columns]"
            ]
          },
          "metadata": {
            "tags": []
          },
          "execution_count": 36
        }
      ]
    },
    {
      "cell_type": "markdown",
      "metadata": {
        "id": "DNNzIzPRwvE2"
      },
      "source": [
        "*The lowest price from the data obtained is from the adidas collection and the highest cost is for a Nike. However, Adidas brand dominates the top 50 most expensive sportswear. The fact that Adidas have been sponsors of Soviet national olympic team in 1980 and in the later years could be a possible pointer.*"
      ]
    },
    {
      "cell_type": "code",
      "metadata": {
        "id": "P29-_6Uzw8xV",
        "outputId": "01ac947c-6e3d-4c6f-9c7e-ea4c59ba565f",
        "colab": {
          "base_uri": "https://localhost:8080/",
          "height": 363
        }
      },
      "source": [
        "# We need to interrogate the price distribution for all brands with the help of a histogram\n",
        "\n",
        "sns.distplot(merge_df['sale_price'], kde = False, color='blue', hist_kws={\"range\": [400, 37000]})\n",
        "plt.xlabel(\"Sale Price\", labelpad=14)\n",
        "plt.ylabel(\"Frequency\", labelpad=14)\n",
        "plt.title(\"Histogram of Sale Price (in Russian Roubles)\", fontsize=14, y=1.01) \n",
        "plt.show()\n",
        "\n",
        "# annotations on the histogram\n",
        "# kernel density estimation (KDE) is a non-parametric way to estimate the probability density function (PDF) of a random variable using Gaussian kernels.\n",
        "# color - color to use for the bars\n",
        "# hist_kws range to specify the range of values to plot in the histogram"
      ],
      "execution_count": 37,
      "outputs": [
        {
          "output_type": "stream",
          "text": [
            "/usr/local/lib/python3.6/dist-packages/seaborn/distributions.py:2551: FutureWarning: `distplot` is a deprecated function and will be removed in a future version. Please adapt your code to use either `displot` (a figure-level function with similar flexibility) or `histplot` (an axes-level function for histograms).\n",
            "  warnings.warn(msg, FutureWarning)\n"
          ],
          "name": "stderr"
        },
        {
          "output_type": "display_data",
          "data": {
            "image/png": "[encoded data removed]",
            "text/plain": [
              "<Figure size 432x288 with 1 Axes>"
            ]
          },
          "metadata": {
            "tags": []
          }
        }
      ]
    },
    {
      "cell_type": "code",
      "metadata": {
        "id": "4zhTvaVKzsxA",
        "outputId": "6fa91c14-3224-4ef1-ffb2-cb5894bb8fec",
        "colab": {
          "base_uri": "https://localhost:8080/",
          "height": 363
        }
      },
      "source": [
        "# due to the varied pricing of these products we zoom in arund the mode price\n",
        "\n",
        "sns.distplot(merge_df['sale_price'], kde = False, color='blue', hist_kws={\"range\": [2000, 6000]})\n",
        "plt.xlabel(\"Sale Price\", labelpad=14)\n",
        "plt.ylabel(\"Frequency\", labelpad=14)\n",
        "plt.title(\"Histogram of Sale Price (in Russian Roubles)\", fontsize=14, y=1.01) \n",
        "plt.show()"
      ],
      "execution_count": 38,
      "outputs": [
        {
          "output_type": "stream",
          "text": [
            "/usr/local/lib/python3.6/dist-packages/seaborn/distributions.py:2551: FutureWarning: `distplot` is a deprecated function and will be removed in a future version. Please adapt your code to use either `displot` (a figure-level function with similar flexibility) or `histplot` (an axes-level function for histograms).\n",
            "  warnings.warn(msg, FutureWarning)\n"
          ],
          "name": "stderr"
        },
        {
          "output_type": "display_data",
          "data": {
            "image/png": "[encoded data removed]",
            "text/plain": [
              "<Figure size 432x288 with 1 Axes>"
            ]
          },
          "metadata": {
            "tags": []
          }
        }
      ]
    },
    {
      "cell_type": "markdown",
      "metadata": {
        "id": "M31MLioIasGt"
      },
      "source": [
        "### 3.2 Bivariate Analysis"
      ]
    },
    {
      "cell_type": "code",
      "metadata": {
        "id": "yuRf1Oy5kw_p",
        "outputId": "332a954a-93e6-4b61-9c7a-d686e68b2244",
        "colab": {
          "base_uri": "https://localhost:8080/",
          "height": 490
        }
      },
      "source": [
        "# let us investigate if there is any positive and significat corelation between the variables in each of the datasets.\n",
        "\n",
        "# Nike dataset\n",
        "plt.figure(figsize=(8,8))\n",
        "sns.heatmap(nike_df.corr(), annot=True, fmt=\".3f\")\n",
        "plt.show()"
      ],
      "execution_count": 39,
      "outputs": [
        {
          "output_type": "display_data",
          "data": {
            "image/png": "[encoded data removed]",
            "text/plain": [
              "<Figure size 576x576 with 2 Axes>"
            ]
          },
          "metadata": {
            "tags": []
          }
        }
      ]
    },
    {
      "cell_type": "code",
      "metadata": {
        "id": "AnG5tISzjJCS",
        "outputId": "72fe4340-10a7-483a-ab5c-a57e2f434374",
        "colab": {
          "base_uri": "https://localhost:8080/",
          "height": 490
        }
      },
      "source": [
        "# adidas dataset\n",
        "\n",
        "plt.figure(figsize=(8,8))\n",
        "sns.heatmap(adidas_df.corr(), annot=True, fmt=\".3f\")\n",
        "plt.show()"
      ],
      "execution_count": 40,
      "outputs": [
        {
          "output_type": "display_data",
          "data": {
            "image/png": "[encoded data removed]",
            "text/plain": [
              "<Figure size 576x576 with 2 Axes>"
            ]
          },
          "metadata": {
            "tags": []
          }
        }
      ]
    },
    {
      "cell_type": "markdown",
      "metadata": {
        "id": "vTbdjSrhVIiT"
      },
      "source": [
        "## <font color='#FFFFFF'>4. Summary of Findings</font>\n",
        "\n",
        "1. *Adidas, with its three streams of adidas sports wear has wider variety of products than the competitor Nike. As a matter of fact, the least of these streams is higher than Nike products!*\n",
        "2. *The lowest price from the data obtained is from the adidas collection and the highest cost is for a Nike. However, Adidas brand dominates the top 50 most expensive sportswear. The fact that Adidas have been sponsors of Soviet national olympic team in 1980 and in the later years could be a possible pointer.*\n",
        "3.  *Nike does not offer any discounts on its products while Adidas offers generous packages of upto 60% of the sale price on selected sportswear.*\n",
        "4. *Adidas products, though most popular in the market are not rated unlike Nike brand where over 75% of the products are rated 5.0*\n",
        "5. *There are 40% more products of Adidas men's products than there are for women.* "
      ]
    },
    {
      "cell_type": "markdown",
      "metadata": {
        "id": "xrmHVMVsVS--"
      },
      "source": [
        "## <font color='#FFFFFF'>5. Challenging your Solution</font>\n",
        "\n",
        "1. *A study of market entry strategy can not be complete without having a view of customers response to the current market. It would help a great deal if we had a dataset with actual sales so that we are able to determine the popularity of each of the products in the study.*\n",
        "2. *Our study noted that Adidas shoes were not rated. Rating helps in estimating the popularity of a product in the market, and can be used to improve the quality of products.*"
      ]
    },
    {
      "cell_type": "markdown",
      "metadata": {
        "id": "AGe1Yns-NS6z"
      },
      "source": [
        "<font size=2>*Acknowledgement* <br>\n",
        "*The provided datasets were sourced from [Data World Adidas ](https://data.world/data-hut/product-data-from-adidas) and [Data World Nike](https://data.world/login?next=%2Fdata-hut%2Fproduct-data-from-nike%2Fworkspace%2Ffile%3Ffilename%3Dnike_2020_04_13.csv).* </font>"
      ]
    }
  ]
}