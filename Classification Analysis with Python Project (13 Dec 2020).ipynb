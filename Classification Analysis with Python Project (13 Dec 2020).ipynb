{
  "nbformat": 4,
  "nbformat_minor": 0,
  "metadata": {
    "colab": {
      "name": "10. Classification Analysis with Python : Project [Michael Nganga]",
      "provenance": [],
      "collapsed_sections": [
        "XecOwPNorl2W",
        "J4wfHZwQrs-t",
        "a9BPYqunry97",
        "7KMRBJ7zr9HD",
        "zSGyg6kWsBUl",
        "vTbdjSrhVIiT",
        "noZz5YRQXKzi"
      ],
      "toc_visible": true
    },
    "kernelspec": {
      "display_name": "Python 3",
      "language": "python",
      "name": "python3"
    },
    "language_info": {
      "codemirror_mode": {
        "name": "ipython",
        "version": 3
      },
      "file_extension": ".py",
      "mimetype": "text/x-python",
      "name": "python",
      "nbconvert_exporter": "python",
      "pygments_lexer": "ipython3",
      "version": "3.7.4"
    }
  },
  "cells": [
    {
      "cell_type": "markdown",
      "metadata": {
        "id": "4QJoo41Cu1BA"
      },
      "source": [
        "# Predicting Customer Churn - MTN Africa Dataset"
      ]
    },
    {
      "cell_type": "markdown",
      "metadata": {
        "id": "kLG2VTrnTvYL"
      },
      "source": [
        "## <font color='#2F4F4F'>1. Defining the Question</font>"
      ]
    },
    {
      "cell_type": "markdown",
      "metadata": {
        "id": "XecOwPNorl2W"
      },
      "source": [
        "### a) Specifying the Data Analysis Question\n",
        "Using the current customers' behaviour and traits is MTN able to determine the probability of customer churn?"
      ]
    },
    {
      "cell_type": "markdown",
      "metadata": {
        "id": "J4wfHZwQrs-t"
      },
      "source": [
        "### b) Defining the Metric for Success\n",
        "\n",
        "1. The project should be able to identify characteristics of customers who churn.\n",
        "2. Using these traits, the project should be able to build a model with existing customer data that can be used by MTN Africa to predict the customers who are likely to churn. (This will help the business to focus efforts on these specific customers hence higher retention)"
      ]
    },
    {
      "cell_type": "markdown",
      "metadata": {
        "id": "a9BPYqunry97"
      },
      "source": [
        "### c) Understanding the Context \n",
        "\n",
        "As a Data Scientist working for MTN Africa, a leading Telecommunications Company in Africa, you are tasked to analyze relevant customer data and develop a solution that will help determine whether a customer will churn.\n",
        "\n",
        "Customer dataset has already been provided which you are to use to iplement your solution. In addition, you will be expected to help relevant stakeholders understand the potential of your developed solution."
      ]
    },
    {
      "cell_type": "markdown",
      "metadata": {
        "id": "7KMRBJ7zr9HD"
      },
      "source": [
        "### d) Recording the Experimental Design\n",
        "\n",
        "Defining the Research Question\n",
        "Data Importation\n",
        "Data Exploration\n",
        "Data Cleaning\n",
        "Data Analysis (Univariate and Bivariate)\n",
        "Data Preparation\n",
        "Data Modeling\n",
        "Model Evaluation\n",
        "Challenging your Solution\n",
        "Recommendations / Conclusion \n",
        "\n",
        "\n",
        "1. Business Understanding : Understanding and assessing the business situation and goals in order to define the research question.<br>\n",
        "\n",
        "2. Data Understanding and Exploration \n",
        "  * Prerequisites\n",
        "     * Load requisite libraries \n",
        "     * Load and preview datasets.\n",
        "  * Data quality assessment (Accuracy, Completeness, Consistency, Currency, Relevance, Validity and Uniqueness).     \n",
        "   <br>\n",
        "\n",
        "3. Data Preparation and Analysis\n",
        "  * Select the essential data relevant to the business problem).\n",
        "  * Data cleaning\n",
        "  * Data transformation (merging datasets, reformatting fields, filtering records, etc.) and enrichment (feature engineering & tests for collinearity.)\n",
        "   * Univariate & Bivariate Analysis\n",
        "\n",
        "4. Data Modeling\n",
        "  * Modeling technique selection\n",
        "  * Model building & assessment\n",
        "  \n",
        "5. Solution Implementation & Reporting\n",
        "  * Summarize findings - Comparative study of regression algorithms.\n",
        "  * Provide Recommendations\n",
        "  * Challenge the solution."
      ]
    },
    {
      "cell_type": "markdown",
      "metadata": {
        "id": "zSGyg6kWsBUl"
      },
      "source": [
        "### e) Data Relevance\n",
        "The dataset provided for this project is sourced from https://bit.ly/MTNTelcoDataset where each row represents a customer, each column contains customer’s attributes described on the column Metadata.\n",
        "\n",
        "Dataset Glossary Download Link: https://bit.ly/3gTideq"
      ]
    },
    {
      "cell_type": "markdown",
      "metadata": {
        "id": "iUNbvIvnT7ep"
      },
      "source": [
        "## <font color='#2F4F4F'>2. Data Understanding & Exploration</font>"
      ]
    },
    {
      "cell_type": "code",
      "metadata": {
        "id": "0mdPO_JOasC1"
      },
      "source": [
        "# load libraries\n",
        "import pandas as pd\n",
        "import numpy as np\n",
        "import matplotlib.pyplot as plt\n",
        "import seaborn as sns\n",
        "\n",
        "%matplotlib inline\n",
        "\n",
        "# to display all columns\n",
        "pd.set_option('display.max.columns', None)\n",
        "\n",
        "# to display the entire contents of a cell\n",
        "pd.set_option('display.max_colwidth', None)"
      ],
      "execution_count": 1,
      "outputs": []
    },
    {
      "cell_type": "code",
      "metadata": {
        "colab": {
          "base_uri": "https://localhost:8080/",
          "height": 632
        },
        "id": "jxktObTPwI4c",
        "outputId": "696f38a8-ed4b-4436-d1a9-ef7ea9f31e4c"
      },
      "source": [
        "# read the glossary for the dataset for ease of understanding the features.\r\n",
        "\r\n",
        "df_glossary = pd.read_csv('classification_analysis_glossary.csv')\r\n",
        "df_glossary"
      ],
      "execution_count": 3,
      "outputs": [
        {
          "output_type": "execute_result",
          "data": {
            "text/html": [
              "<div>\n",
              "<style scoped>\n",
              "    .dataframe tbody tr th:only-of-type {\n",
              "        vertical-align: middle;\n",
              "    }\n",
              "\n",
              "    .dataframe tbody tr th {\n",
              "        vertical-align: top;\n",
              "    }\n",
              "\n",
              "    .dataframe thead th {\n",
              "        text-align: right;\n",
              "    }\n",
              "</style>\n",
              "<table border=\"1\" class=\"dataframe\">\n",
              "  <thead>\n",
              "    <tr style=\"text-align: right;\">\n",
              "      <th></th>\n",
              "      <th>customer_feature</th>\n",
              "      <th>description</th>\n",
              "    </tr>\n",
              "  </thead>\n",
              "  <tbody>\n",
              "    <tr>\n",
              "      <th>0</th>\n",
              "      <td>account_length</td>\n",
              "      <td>Age of account in months.</td>\n",
              "    </tr>\n",
              "    <tr>\n",
              "      <th>1</th>\n",
              "      <td>customer_id</td>\n",
              "      <td>Enterprise ID of the customer.</td>\n",
              "    </tr>\n",
              "    <tr>\n",
              "      <th>2</th>\n",
              "      <td>area_code</td>\n",
              "      <td>Area code.</td>\n",
              "    </tr>\n",
              "    <tr>\n",
              "      <th>3</th>\n",
              "      <td>international_plan</td>\n",
              "      <td>Rather or not the customer has an international calling plan.</td>\n",
              "    </tr>\n",
              "    <tr>\n",
              "      <th>4</th>\n",
              "      <td>voice_mail_plan</td>\n",
              "      <td>Rather or not the customer has a voice mail plan.</td>\n",
              "    </tr>\n",
              "    <tr>\n",
              "      <th>5</th>\n",
              "      <td>number_vmail_messages</td>\n",
              "      <td>Number of VM messages customer currently has on the server.</td>\n",
              "    </tr>\n",
              "    <tr>\n",
              "      <th>6</th>\n",
              "      <td>total_day_minutes</td>\n",
              "      <td>Customers total usage of day minutes in plan.</td>\n",
              "    </tr>\n",
              "    <tr>\n",
              "      <th>7</th>\n",
              "      <td>total_day_calls</td>\n",
              "      <td>Total number of calls customer has made during the day.</td>\n",
              "    </tr>\n",
              "    <tr>\n",
              "      <th>8</th>\n",
              "      <td>total_day_charge</td>\n",
              "      <td>How much the customer has been charged for day minutes.</td>\n",
              "    </tr>\n",
              "    <tr>\n",
              "      <th>9</th>\n",
              "      <td>total_eve_minutes</td>\n",
              "      <td>Total number of calls customer has made during the evening.</td>\n",
              "    </tr>\n",
              "    <tr>\n",
              "      <th>10</th>\n",
              "      <td>total_eve_charge</td>\n",
              "      <td>How much the customer has been charged for evening minutes.</td>\n",
              "    </tr>\n",
              "    <tr>\n",
              "      <th>11</th>\n",
              "      <td>total_night_minutes</td>\n",
              "      <td>Customers total usage of night minutes in plan.</td>\n",
              "    </tr>\n",
              "    <tr>\n",
              "      <th>12</th>\n",
              "      <td>total_night_calls</td>\n",
              "      <td>Total number of calls customer has made during the night.</td>\n",
              "    </tr>\n",
              "    <tr>\n",
              "      <th>13</th>\n",
              "      <td>total_night_charge</td>\n",
              "      <td>How much the customer has been charged for night minutes.</td>\n",
              "    </tr>\n",
              "    <tr>\n",
              "      <th>14</th>\n",
              "      <td>total_intl_minutes</td>\n",
              "      <td>Total international minutes.</td>\n",
              "    </tr>\n",
              "    <tr>\n",
              "      <th>15</th>\n",
              "      <td>total_intl_calls</td>\n",
              "      <td>Total international calls.</td>\n",
              "    </tr>\n",
              "    <tr>\n",
              "      <th>16</th>\n",
              "      <td>total_intl_charge</td>\n",
              "      <td>Total international charges.</td>\n",
              "    </tr>\n",
              "    <tr>\n",
              "      <th>17</th>\n",
              "      <td>number_customer_service_calls</td>\n",
              "      <td>How many times the customer has called the IVR system.</td>\n",
              "    </tr>\n",
              "    <tr>\n",
              "      <th>18</th>\n",
              "      <td>churn</td>\n",
              "      <td>Customer has churned.</td>\n",
              "    </tr>\n",
              "  </tbody>\n",
              "</table>\n",
              "</div>"
            ],
            "text/plain": [
              "                 customer_feature  \\\n",
              "0                  account_length   \n",
              "1                     customer_id   \n",
              "2                       area_code   \n",
              "3              international_plan   \n",
              "4                 voice_mail_plan   \n",
              "5           number_vmail_messages   \n",
              "6               total_day_minutes   \n",
              "7                 total_day_calls   \n",
              "8                total_day_charge   \n",
              "9               total_eve_minutes   \n",
              "10               total_eve_charge   \n",
              "11            total_night_minutes   \n",
              "12              total_night_calls   \n",
              "13             total_night_charge   \n",
              "14             total_intl_minutes   \n",
              "15               total_intl_calls   \n",
              "16              total_intl_charge   \n",
              "17  number_customer_service_calls   \n",
              "18                          churn   \n",
              "\n",
              "                                                      description  \n",
              "0                                       Age of account in months.  \n",
              "1                                  Enterprise ID of the customer.  \n",
              "2                                                      Area code.  \n",
              "3   Rather or not the customer has an international calling plan.  \n",
              "4               Rather or not the customer has a voice mail plan.  \n",
              "5     Number of VM messages customer currently has on the server.  \n",
              "6                   Customers total usage of day minutes in plan.  \n",
              "7         Total number of calls customer has made during the day.  \n",
              "8         How much the customer has been charged for day minutes.  \n",
              "9     Total number of calls customer has made during the evening.  \n",
              "10    How much the customer has been charged for evening minutes.  \n",
              "11                Customers total usage of night minutes in plan.  \n",
              "12      Total number of calls customer has made during the night.  \n",
              "13      How much the customer has been charged for night minutes.  \n",
              "14                                   Total international minutes.  \n",
              "15                                     Total international calls.  \n",
              "16                                   Total international charges.  \n",
              "17         How many times the customer has called the IVR system.  \n",
              "18                                          Customer has churned.  "
            ]
          },
          "metadata": {
            "tags": []
          },
          "execution_count": 3
        }
      ]
    },
    {
      "cell_type": "code",
      "metadata": {
        "id": "XJn2KjW-WMlG",
        "colab": {
          "base_uri": "https://localhost:8080/",
          "height": 161
        },
        "outputId": "0b4834ec-53bd-4e5a-b92f-fc44da05b9d9"
      },
      "source": [
        "# load and preview dataset\n",
        "\n",
        "df = pd.read_csv('call-center-data-QueryResult.csv')\n",
        "df.sample(3)"
      ],
      "execution_count": 4,
      "outputs": [
        {
          "output_type": "execute_result",
          "data": {
            "text/html": [
              "<div>\n",
              "<style scoped>\n",
              "    .dataframe tbody tr th:only-of-type {\n",
              "        vertical-align: middle;\n",
              "    }\n",
              "\n",
              "    .dataframe tbody tr th {\n",
              "        vertical-align: top;\n",
              "    }\n",
              "\n",
              "    .dataframe thead th {\n",
              "        text-align: right;\n",
              "    }\n",
              "</style>\n",
              "<table border=\"1\" class=\"dataframe\">\n",
              "  <thead>\n",
              "    <tr style=\"text-align: right;\">\n",
              "      <th></th>\n",
              "      <th>recordid</th>\n",
              "      <th>customer_id</th>\n",
              "      <th>account_length</th>\n",
              "      <th>area_code</th>\n",
              "      <th>international_plan</th>\n",
              "      <th>total_intl_minutes</th>\n",
              "      <th>total_intl_calls</th>\n",
              "      <th>voice_mail_plan</th>\n",
              "      <th>number_vmail_messages</th>\n",
              "      <th>total_day_minutes</th>\n",
              "      <th>total_day_calls</th>\n",
              "      <th>total_day_charge</th>\n",
              "      <th>total_eve_minutes</th>\n",
              "      <th>total_eve_calls</th>\n",
              "      <th>total_eve_charge</th>\n",
              "      <th>total_night_minutes</th>\n",
              "      <th>total_night_calls</th>\n",
              "      <th>total_night_charge</th>\n",
              "      <th>total_intl_minutes_2</th>\n",
              "      <th>total_intl_calls_2</th>\n",
              "      <th>total_intl_charge</th>\n",
              "      <th>number_customer_service_calls</th>\n",
              "      <th>churn</th>\n",
              "    </tr>\n",
              "  </thead>\n",
              "  <tbody>\n",
              "    <tr>\n",
              "      <th>7383</th>\n",
              "      <td>7384</td>\n",
              "      <td>313663411.0</td>\n",
              "      <td>68</td>\n",
              "      <td>510</td>\n",
              "      <td>False</td>\n",
              "      <td>9.6</td>\n",
              "      <td>2</td>\n",
              "      <td>True</td>\n",
              "      <td>30</td>\n",
              "      <td>122.9</td>\n",
              "      <td>93</td>\n",
              "      <td>20.89</td>\n",
              "      <td>233.5</td>\n",
              "      <td>91</td>\n",
              "      <td>19.85</td>\n",
              "      <td>199.5</td>\n",
              "      <td>144</td>\n",
              "      <td>8.98</td>\n",
              "      <td>9.6</td>\n",
              "      <td>2</td>\n",
              "      <td>2.59</td>\n",
              "      <td>2</td>\n",
              "      <td>False</td>\n",
              "    </tr>\n",
              "    <tr>\n",
              "      <th>10653</th>\n",
              "      <td>10654</td>\n",
              "      <td>43329655.0</td>\n",
              "      <td>110</td>\n",
              "      <td>415</td>\n",
              "      <td>False</td>\n",
              "      <td>11.7</td>\n",
              "      <td>4</td>\n",
              "      <td>False</td>\n",
              "      <td>0</td>\n",
              "      <td>135.1</td>\n",
              "      <td>109</td>\n",
              "      <td>22.97</td>\n",
              "      <td>205.2</td>\n",
              "      <td>99</td>\n",
              "      <td>17.44</td>\n",
              "      <td>166.3</td>\n",
              "      <td>119</td>\n",
              "      <td>7.48</td>\n",
              "      <td>11.7</td>\n",
              "      <td>4</td>\n",
              "      <td>3.16</td>\n",
              "      <td>1</td>\n",
              "      <td>False</td>\n",
              "    </tr>\n",
              "    <tr>\n",
              "      <th>4330</th>\n",
              "      <td>4331</td>\n",
              "      <td>17018490.0</td>\n",
              "      <td>172</td>\n",
              "      <td>510</td>\n",
              "      <td>False</td>\n",
              "      <td>12.7</td>\n",
              "      <td>7</td>\n",
              "      <td>False</td>\n",
              "      <td>0</td>\n",
              "      <td>169.8</td>\n",
              "      <td>123</td>\n",
              "      <td>28.87</td>\n",
              "      <td>183.1</td>\n",
              "      <td>94</td>\n",
              "      <td>15.56</td>\n",
              "      <td>395.0</td>\n",
              "      <td>72</td>\n",
              "      <td>17.77</td>\n",
              "      <td>12.7</td>\n",
              "      <td>7</td>\n",
              "      <td>3.43</td>\n",
              "      <td>2</td>\n",
              "      <td>False</td>\n",
              "    </tr>\n",
              "  </tbody>\n",
              "</table>\n",
              "</div>"
            ],
            "text/plain": [
              "       recordid  customer_id  account_length  area_code  international_plan  \\\n",
              "7383       7384  313663411.0              68        510               False   \n",
              "10653     10654   43329655.0             110        415               False   \n",
              "4330       4331   17018490.0             172        510               False   \n",
              "\n",
              "       total_intl_minutes  total_intl_calls  voice_mail_plan  \\\n",
              "7383                  9.6                 2             True   \n",
              "10653                11.7                 4            False   \n",
              "4330                 12.7                 7            False   \n",
              "\n",
              "       number_vmail_messages  total_day_minutes  total_day_calls  \\\n",
              "7383                      30              122.9               93   \n",
              "10653                      0              135.1              109   \n",
              "4330                       0              169.8              123   \n",
              "\n",
              "       total_day_charge  total_eve_minutes  total_eve_calls  total_eve_charge  \\\n",
              "7383              20.89              233.5               91             19.85   \n",
              "10653             22.97              205.2               99             17.44   \n",
              "4330              28.87              183.1               94             15.56   \n",
              "\n",
              "       total_night_minutes  total_night_calls  total_night_charge  \\\n",
              "7383                 199.5                144                8.98   \n",
              "10653                166.3                119                7.48   \n",
              "4330                 395.0                 72               17.77   \n",
              "\n",
              "       total_intl_minutes_2  total_intl_calls_2  total_intl_charge  \\\n",
              "7383                    9.6                   2               2.59   \n",
              "10653                  11.7                   4               3.16   \n",
              "4330                   12.7                   7               3.43   \n",
              "\n",
              "       number_customer_service_calls  churn  \n",
              "7383                               2  False  \n",
              "10653                              1  False  \n",
              "4330                               2  False  "
            ]
          },
          "metadata": {
            "tags": []
          },
          "execution_count": 4
        }
      ]
    },
    {
      "cell_type": "code",
      "metadata": {
        "id": "T3nO8Pr0asDa",
        "colab": {
          "base_uri": "https://localhost:8080/"
        },
        "outputId": "1c5b099a-3d48-4f6c-c3e7-73d376930e35"
      },
      "source": [
        "# check dataset shape\n",
        "df.shape"
      ],
      "execution_count": 5,
      "outputs": [
        {
          "output_type": "execute_result",
          "data": {
            "text/plain": [
              "(12892, 23)"
            ]
          },
          "metadata": {
            "tags": []
          },
          "execution_count": 5
        }
      ]
    },
    {
      "cell_type": "markdown",
      "metadata": {
        "id": "V0L7v6F2asDt"
      },
      "source": [
        "The dataset has 12,892 records and 23 variables. Having understood the structure of the dataset, we immediately determine that we do not need the record_id and the customer_id fields and so either drop them or re-read the data set."
      ]
    },
    {
      "cell_type": "code",
      "metadata": {
        "colab": {
          "base_uri": "https://localhost:8080/"
        },
        "id": "-OfrGnuL-Gn8",
        "outputId": "fc6e5851-ef02-4740-da6b-7522d7e95b3b"
      },
      "source": [
        "# but before we drop the records we need to determine if there are indeed duplicated records in the dataset using the primary identifier.\r\n",
        "\r\n",
        "df['customer_id'].nunique()"
      ],
      "execution_count": 6,
      "outputs": [
        {
          "output_type": "execute_result",
          "data": {
            "text/plain": [
              "12892"
            ]
          },
          "metadata": {
            "tags": []
          },
          "execution_count": 6
        }
      ]
    },
    {
      "cell_type": "code",
      "metadata": {
        "colab": {
          "base_uri": "https://localhost:8080/"
        },
        "id": "kZYAEWav-dpJ",
        "outputId": "59911a80-15f0-4ea5-a8f5-cd55ea1ea4c4"
      },
      "source": [
        "# using the recordID\r\n",
        "\r\n",
        "df['recordid'].nunique()"
      ],
      "execution_count": 7,
      "outputs": [
        {
          "output_type": "execute_result",
          "data": {
            "text/plain": [
              "12892"
            ]
          },
          "metadata": {
            "tags": []
          },
          "execution_count": 7
        }
      ]
    },
    {
      "cell_type": "code",
      "metadata": {
        "id": "OK4RrExBasD4"
      },
      "source": [
        "# if we are to re-read the dataset without these, we would use\r\n",
        "# df = pd.read_csv('call-center-data-QueryResult.csv', usecols = [2,3,4,5,6,7,8,9,10,11,12,13,14,15,16,17,18,19,20,21,22])\r\n",
        "\r\n",
        "df.drop(columns = ['recordid', 'customer_id'], inplace = True)"
      ],
      "execution_count": 8,
      "outputs": []
    },
    {
      "cell_type": "code",
      "metadata": {
        "id": "t8WGzIueasEB",
        "colab": {
          "base_uri": "https://localhost:8080/"
        },
        "outputId": "3ca3d3d4-5da2-463b-bd76-97218d1bd401"
      },
      "source": [
        "# preview variable datatypes\n",
        "df.dtypes"
      ],
      "execution_count": 9,
      "outputs": [
        {
          "output_type": "execute_result",
          "data": {
            "text/plain": [
              "account_length                     int64\n",
              "area_code                          int64\n",
              "international_plan                  bool\n",
              "total_intl_minutes               float64\n",
              "total_intl_calls                   int64\n",
              "voice_mail_plan                     bool\n",
              "number_vmail_messages              int64\n",
              "total_day_minutes                float64\n",
              "total_day_calls                    int64\n",
              "total_day_charge                 float64\n",
              "total_eve_minutes                float64\n",
              "total_eve_calls                    int64\n",
              "total_eve_charge                 float64\n",
              "total_night_minutes              float64\n",
              "total_night_calls                  int64\n",
              "total_night_charge               float64\n",
              "total_intl_minutes_2             float64\n",
              "total_intl_calls_2                 int64\n",
              "total_intl_charge                float64\n",
              "number_customer_service_calls      int64\n",
              "churn                               bool\n",
              "dtype: object"
            ]
          },
          "metadata": {
            "tags": []
          },
          "execution_count": 9
        }
      ]
    },
    {
      "cell_type": "markdown",
      "metadata": {
        "id": "W0swT5hLasEU"
      },
      "source": [
        "With the exception of the 'international_plan', 'voice_mail_plan', and 'churn' variables which are boolean, this dataset is numerical."
      ]
    },
    {
      "cell_type": "code",
      "metadata": {
        "id": "Lncux1rmasEW",
        "colab": {
          "base_uri": "https://localhost:8080/"
        },
        "outputId": "04647f8e-59b3-4e20-e5ad-f6bbff4fd1b4"
      },
      "source": [
        "# check for duplicates\n",
        "df.duplicated().sum()"
      ],
      "execution_count": 10,
      "outputs": [
        {
          "output_type": "execute_result",
          "data": {
            "text/plain": [
              "7892"
            ]
          },
          "metadata": {
            "tags": []
          },
          "execution_count": 10
        }
      ]
    },
    {
      "cell_type": "code",
      "metadata": {
        "colab": {
          "base_uri": "https://localhost:8080/",
          "height": 436
        },
        "id": "f3J3qbwp4v04",
        "outputId": "3bff3688-6f6c-46b9-ddaa-4d05fc7daec1"
      },
      "source": [
        "# which are the duplicated records?\r\n",
        "\r\n",
        "# which rows are duplicated?\r\n",
        "duplicated_df = df[df.duplicated()]\r\n",
        "duplicated_df"
      ],
      "execution_count": 11,
      "outputs": [
        {
          "output_type": "execute_result",
          "data": {
            "text/html": [
              "<div>\n",
              "<style scoped>\n",
              "    .dataframe tbody tr th:only-of-type {\n",
              "        vertical-align: middle;\n",
              "    }\n",
              "\n",
              "    .dataframe tbody tr th {\n",
              "        vertical-align: top;\n",
              "    }\n",
              "\n",
              "    .dataframe thead th {\n",
              "        text-align: right;\n",
              "    }\n",
              "</style>\n",
              "<table border=\"1\" class=\"dataframe\">\n",
              "  <thead>\n",
              "    <tr style=\"text-align: right;\">\n",
              "      <th></th>\n",
              "      <th>account_length</th>\n",
              "      <th>area_code</th>\n",
              "      <th>international_plan</th>\n",
              "      <th>total_intl_minutes</th>\n",
              "      <th>total_intl_calls</th>\n",
              "      <th>voice_mail_plan</th>\n",
              "      <th>number_vmail_messages</th>\n",
              "      <th>total_day_minutes</th>\n",
              "      <th>total_day_calls</th>\n",
              "      <th>total_day_charge</th>\n",
              "      <th>total_eve_minutes</th>\n",
              "      <th>total_eve_calls</th>\n",
              "      <th>total_eve_charge</th>\n",
              "      <th>total_night_minutes</th>\n",
              "      <th>total_night_calls</th>\n",
              "      <th>total_night_charge</th>\n",
              "      <th>total_intl_minutes_2</th>\n",
              "      <th>total_intl_calls_2</th>\n",
              "      <th>total_intl_charge</th>\n",
              "      <th>number_customer_service_calls</th>\n",
              "      <th>churn</th>\n",
              "    </tr>\n",
              "  </thead>\n",
              "  <tbody>\n",
              "    <tr>\n",
              "      <th>5000</th>\n",
              "      <td>128</td>\n",
              "      <td>415</td>\n",
              "      <td>False</td>\n",
              "      <td>10.0</td>\n",
              "      <td>3</td>\n",
              "      <td>True</td>\n",
              "      <td>25</td>\n",
              "      <td>265.1</td>\n",
              "      <td>110</td>\n",
              "      <td>45.07</td>\n",
              "      <td>197.4</td>\n",
              "      <td>99</td>\n",
              "      <td>16.78</td>\n",
              "      <td>244.7</td>\n",
              "      <td>91</td>\n",
              "      <td>11.01</td>\n",
              "      <td>10.0</td>\n",
              "      <td>3</td>\n",
              "      <td>2.70</td>\n",
              "      <td>1</td>\n",
              "      <td>False</td>\n",
              "    </tr>\n",
              "    <tr>\n",
              "      <th>5001</th>\n",
              "      <td>107</td>\n",
              "      <td>415</td>\n",
              "      <td>False</td>\n",
              "      <td>13.7</td>\n",
              "      <td>3</td>\n",
              "      <td>True</td>\n",
              "      <td>26</td>\n",
              "      <td>161.6</td>\n",
              "      <td>123</td>\n",
              "      <td>27.47</td>\n",
              "      <td>195.5</td>\n",
              "      <td>103</td>\n",
              "      <td>16.62</td>\n",
              "      <td>254.4</td>\n",
              "      <td>103</td>\n",
              "      <td>11.45</td>\n",
              "      <td>13.7</td>\n",
              "      <td>3</td>\n",
              "      <td>3.70</td>\n",
              "      <td>1</td>\n",
              "      <td>False</td>\n",
              "    </tr>\n",
              "    <tr>\n",
              "      <th>5002</th>\n",
              "      <td>137</td>\n",
              "      <td>415</td>\n",
              "      <td>False</td>\n",
              "      <td>12.2</td>\n",
              "      <td>5</td>\n",
              "      <td>False</td>\n",
              "      <td>0</td>\n",
              "      <td>243.4</td>\n",
              "      <td>114</td>\n",
              "      <td>41.38</td>\n",
              "      <td>121.2</td>\n",
              "      <td>110</td>\n",
              "      <td>10.30</td>\n",
              "      <td>162.6</td>\n",
              "      <td>104</td>\n",
              "      <td>7.32</td>\n",
              "      <td>12.2</td>\n",
              "      <td>5</td>\n",
              "      <td>3.29</td>\n",
              "      <td>0</td>\n",
              "      <td>False</td>\n",
              "    </tr>\n",
              "    <tr>\n",
              "      <th>5003</th>\n",
              "      <td>84</td>\n",
              "      <td>408</td>\n",
              "      <td>True</td>\n",
              "      <td>6.6</td>\n",
              "      <td>7</td>\n",
              "      <td>False</td>\n",
              "      <td>0</td>\n",
              "      <td>299.4</td>\n",
              "      <td>71</td>\n",
              "      <td>50.90</td>\n",
              "      <td>61.9</td>\n",
              "      <td>88</td>\n",
              "      <td>5.26</td>\n",
              "      <td>196.9</td>\n",
              "      <td>89</td>\n",
              "      <td>8.86</td>\n",
              "      <td>6.6</td>\n",
              "      <td>7</td>\n",
              "      <td>1.78</td>\n",
              "      <td>2</td>\n",
              "      <td>False</td>\n",
              "    </tr>\n",
              "    <tr>\n",
              "      <th>5004</th>\n",
              "      <td>75</td>\n",
              "      <td>415</td>\n",
              "      <td>True</td>\n",
              "      <td>10.1</td>\n",
              "      <td>3</td>\n",
              "      <td>False</td>\n",
              "      <td>0</td>\n",
              "      <td>166.7</td>\n",
              "      <td>113</td>\n",
              "      <td>28.34</td>\n",
              "      <td>148.3</td>\n",
              "      <td>122</td>\n",
              "      <td>12.61</td>\n",
              "      <td>186.9</td>\n",
              "      <td>121</td>\n",
              "      <td>8.41</td>\n",
              "      <td>10.1</td>\n",
              "      <td>3</td>\n",
              "      <td>2.73</td>\n",
              "      <td>3</td>\n",
              "      <td>False</td>\n",
              "    </tr>\n",
              "    <tr>\n",
              "      <th>...</th>\n",
              "      <td>...</td>\n",
              "      <td>...</td>\n",
              "      <td>...</td>\n",
              "      <td>...</td>\n",
              "      <td>...</td>\n",
              "      <td>...</td>\n",
              "      <td>...</td>\n",
              "      <td>...</td>\n",
              "      <td>...</td>\n",
              "      <td>...</td>\n",
              "      <td>...</td>\n",
              "      <td>...</td>\n",
              "      <td>...</td>\n",
              "      <td>...</td>\n",
              "      <td>...</td>\n",
              "      <td>...</td>\n",
              "      <td>...</td>\n",
              "      <td>...</td>\n",
              "      <td>...</td>\n",
              "      <td>...</td>\n",
              "      <td>...</td>\n",
              "    </tr>\n",
              "    <tr>\n",
              "      <th>12887</th>\n",
              "      <td>25</td>\n",
              "      <td>415</td>\n",
              "      <td>False</td>\n",
              "      <td>12.6</td>\n",
              "      <td>5</td>\n",
              "      <td>False</td>\n",
              "      <td>0</td>\n",
              "      <td>134.3</td>\n",
              "      <td>98</td>\n",
              "      <td>22.83</td>\n",
              "      <td>202.3</td>\n",
              "      <td>109</td>\n",
              "      <td>17.20</td>\n",
              "      <td>195.9</td>\n",
              "      <td>100</td>\n",
              "      <td>8.82</td>\n",
              "      <td>12.6</td>\n",
              "      <td>5</td>\n",
              "      <td>3.40</td>\n",
              "      <td>2</td>\n",
              "      <td>False</td>\n",
              "    </tr>\n",
              "    <tr>\n",
              "      <th>12888</th>\n",
              "      <td>113</td>\n",
              "      <td>415</td>\n",
              "      <td>False</td>\n",
              "      <td>4.9</td>\n",
              "      <td>5</td>\n",
              "      <td>False</td>\n",
              "      <td>0</td>\n",
              "      <td>215.9</td>\n",
              "      <td>93</td>\n",
              "      <td>36.70</td>\n",
              "      <td>240.1</td>\n",
              "      <td>85</td>\n",
              "      <td>20.41</td>\n",
              "      <td>156.7</td>\n",
              "      <td>123</td>\n",
              "      <td>7.05</td>\n",
              "      <td>4.9</td>\n",
              "      <td>5</td>\n",
              "      <td>1.32</td>\n",
              "      <td>3</td>\n",
              "      <td>False</td>\n",
              "    </tr>\n",
              "    <tr>\n",
              "      <th>12889</th>\n",
              "      <td>88</td>\n",
              "      <td>415</td>\n",
              "      <td>False</td>\n",
              "      <td>11.4</td>\n",
              "      <td>4</td>\n",
              "      <td>True</td>\n",
              "      <td>31</td>\n",
              "      <td>181.6</td>\n",
              "      <td>91</td>\n",
              "      <td>30.87</td>\n",
              "      <td>213.2</td>\n",
              "      <td>120</td>\n",
              "      <td>18.12</td>\n",
              "      <td>207.8</td>\n",
              "      <td>104</td>\n",
              "      <td>9.35</td>\n",
              "      <td>11.4</td>\n",
              "      <td>4</td>\n",
              "      <td>3.08</td>\n",
              "      <td>1</td>\n",
              "      <td>False</td>\n",
              "    </tr>\n",
              "    <tr>\n",
              "      <th>12890</th>\n",
              "      <td>120</td>\n",
              "      <td>415</td>\n",
              "      <td>False</td>\n",
              "      <td>9.3</td>\n",
              "      <td>9</td>\n",
              "      <td>False</td>\n",
              "      <td>0</td>\n",
              "      <td>178.4</td>\n",
              "      <td>97</td>\n",
              "      <td>30.33</td>\n",
              "      <td>168.3</td>\n",
              "      <td>113</td>\n",
              "      <td>14.31</td>\n",
              "      <td>120.5</td>\n",
              "      <td>93</td>\n",
              "      <td>5.42</td>\n",
              "      <td>9.3</td>\n",
              "      <td>9</td>\n",
              "      <td>2.51</td>\n",
              "      <td>1</td>\n",
              "      <td>False</td>\n",
              "    </tr>\n",
              "    <tr>\n",
              "      <th>12891</th>\n",
              "      <td>74</td>\n",
              "      <td>415</td>\n",
              "      <td>False</td>\n",
              "      <td>11.4</td>\n",
              "      <td>3</td>\n",
              "      <td>False</td>\n",
              "      <td>0</td>\n",
              "      <td>106.4</td>\n",
              "      <td>84</td>\n",
              "      <td>18.09</td>\n",
              "      <td>140.2</td>\n",
              "      <td>104</td>\n",
              "      <td>11.92</td>\n",
              "      <td>90.9</td>\n",
              "      <td>81</td>\n",
              "      <td>4.09</td>\n",
              "      <td>11.4</td>\n",
              "      <td>3</td>\n",
              "      <td>3.08</td>\n",
              "      <td>1</td>\n",
              "      <td>False</td>\n",
              "    </tr>\n",
              "  </tbody>\n",
              "</table>\n",
              "<p>7892 rows × 21 columns</p>\n",
              "</div>"
            ],
            "text/plain": [
              "       account_length  area_code  international_plan  total_intl_minutes  \\\n",
              "5000              128        415               False                10.0   \n",
              "5001              107        415               False                13.7   \n",
              "5002              137        415               False                12.2   \n",
              "5003               84        408                True                 6.6   \n",
              "5004               75        415                True                10.1   \n",
              "...               ...        ...                 ...                 ...   \n",
              "12887              25        415               False                12.6   \n",
              "12888             113        415               False                 4.9   \n",
              "12889              88        415               False                11.4   \n",
              "12890             120        415               False                 9.3   \n",
              "12891              74        415               False                11.4   \n",
              "\n",
              "       total_intl_calls  voice_mail_plan  number_vmail_messages  \\\n",
              "5000                  3             True                     25   \n",
              "5001                  3             True                     26   \n",
              "5002                  5            False                      0   \n",
              "5003                  7            False                      0   \n",
              "5004                  3            False                      0   \n",
              "...                 ...              ...                    ...   \n",
              "12887                 5            False                      0   \n",
              "12888                 5            False                      0   \n",
              "12889                 4             True                     31   \n",
              "12890                 9            False                      0   \n",
              "12891                 3            False                      0   \n",
              "\n",
              "       total_day_minutes  total_day_calls  total_day_charge  \\\n",
              "5000               265.1              110             45.07   \n",
              "5001               161.6              123             27.47   \n",
              "5002               243.4              114             41.38   \n",
              "5003               299.4               71             50.90   \n",
              "5004               166.7              113             28.34   \n",
              "...                  ...              ...               ...   \n",
              "12887              134.3               98             22.83   \n",
              "12888              215.9               93             36.70   \n",
              "12889              181.6               91             30.87   \n",
              "12890              178.4               97             30.33   \n",
              "12891              106.4               84             18.09   \n",
              "\n",
              "       total_eve_minutes  total_eve_calls  total_eve_charge  \\\n",
              "5000               197.4               99             16.78   \n",
              "5001               195.5              103             16.62   \n",
              "5002               121.2              110             10.30   \n",
              "5003                61.9               88              5.26   \n",
              "5004               148.3              122             12.61   \n",
              "...                  ...              ...               ...   \n",
              "12887              202.3              109             17.20   \n",
              "12888              240.1               85             20.41   \n",
              "12889              213.2              120             18.12   \n",
              "12890              168.3              113             14.31   \n",
              "12891              140.2              104             11.92   \n",
              "\n",
              "       total_night_minutes  total_night_calls  total_night_charge  \\\n",
              "5000                 244.7                 91               11.01   \n",
              "5001                 254.4                103               11.45   \n",
              "5002                 162.6                104                7.32   \n",
              "5003                 196.9                 89                8.86   \n",
              "5004                 186.9                121                8.41   \n",
              "...                    ...                ...                 ...   \n",
              "12887                195.9                100                8.82   \n",
              "12888                156.7                123                7.05   \n",
              "12889                207.8                104                9.35   \n",
              "12890                120.5                 93                5.42   \n",
              "12891                 90.9                 81                4.09   \n",
              "\n",
              "       total_intl_minutes_2  total_intl_calls_2  total_intl_charge  \\\n",
              "5000                   10.0                   3               2.70   \n",
              "5001                   13.7                   3               3.70   \n",
              "5002                   12.2                   5               3.29   \n",
              "5003                    6.6                   7               1.78   \n",
              "5004                   10.1                   3               2.73   \n",
              "...                     ...                 ...                ...   \n",
              "12887                  12.6                   5               3.40   \n",
              "12888                   4.9                   5               1.32   \n",
              "12889                  11.4                   4               3.08   \n",
              "12890                   9.3                   9               2.51   \n",
              "12891                  11.4                   3               3.08   \n",
              "\n",
              "       number_customer_service_calls  churn  \n",
              "5000                               1  False  \n",
              "5001                               1  False  \n",
              "5002                               0  False  \n",
              "5003                               2  False  \n",
              "5004                               3  False  \n",
              "...                              ...    ...  \n",
              "12887                              2  False  \n",
              "12888                              3  False  \n",
              "12889                              1  False  \n",
              "12890                              1  False  \n",
              "12891                              1  False  \n",
              "\n",
              "[7892 rows x 21 columns]"
            ]
          },
          "metadata": {
            "tags": []
          },
          "execution_count": 11
        }
      ]
    },
    {
      "cell_type": "code",
      "metadata": {
        "colab": {
          "base_uri": "https://localhost:8080/"
        },
        "id": "EZ631jDL9Fvl",
        "outputId": "d61a4ab0-a51a-4857-b6ea-a3e94f011064"
      },
      "source": [
        "# are they all for customers who churned? who did not churn? or a mix of both?\r\n",
        "\r\n",
        "duplicated_df['churn'].unique()"
      ],
      "execution_count": 12,
      "outputs": [
        {
          "output_type": "execute_result",
          "data": {
            "text/plain": [
              "array([False,  True])"
            ]
          },
          "metadata": {
            "tags": []
          },
          "execution_count": 12
        }
      ]
    },
    {
      "cell_type": "code",
      "metadata": {
        "id": "UzmhHpehasEa",
        "colab": {
          "base_uri": "https://localhost:8080/"
        },
        "outputId": "0e8e4daf-259c-411d-fe6d-6d923b16f652"
      },
      "source": [
        "df = df.drop_duplicates()\n",
        "df.shape"
      ],
      "execution_count": 13,
      "outputs": [
        {
          "output_type": "execute_result",
          "data": {
            "text/plain": [
              "(5000, 21)"
            ]
          },
          "metadata": {
            "tags": []
          },
          "execution_count": 13
        }
      ]
    },
    {
      "cell_type": "markdown",
      "metadata": {
        "id": "sEH9EDx-asEZ"
      },
      "source": [
        "7,892 duplicated records exist in the dataset which we have proceeded to drop as they would interfere with the analysis. \r\n",
        "\r\n",
        "As a highlight, after deeper investigations we notice that these records have unique record IDs and Customer IDs, they are thus duplicates because the primary keys for the dataset have been dropped."
      ]
    },
    {
      "cell_type": "code",
      "metadata": {
        "id": "7tOe_SdmasEd",
        "colab": {
          "base_uri": "https://localhost:8080/"
        },
        "outputId": "02170b8d-1bcd-4bdf-a0cd-91ffec6b5cda"
      },
      "source": [
        "# check for missing values\n",
        "df.isna().sum()"
      ],
      "execution_count": 14,
      "outputs": [
        {
          "output_type": "execute_result",
          "data": {
            "text/plain": [
              "account_length                   0\n",
              "area_code                        0\n",
              "international_plan               0\n",
              "total_intl_minutes               0\n",
              "total_intl_calls                 0\n",
              "voice_mail_plan                  0\n",
              "number_vmail_messages            0\n",
              "total_day_minutes                0\n",
              "total_day_calls                  0\n",
              "total_day_charge                 0\n",
              "total_eve_minutes                0\n",
              "total_eve_calls                  0\n",
              "total_eve_charge                 0\n",
              "total_night_minutes              0\n",
              "total_night_calls                0\n",
              "total_night_charge               0\n",
              "total_intl_minutes_2             0\n",
              "total_intl_calls_2               0\n",
              "total_intl_charge                0\n",
              "number_customer_service_calls    0\n",
              "churn                            0\n",
              "dtype: int64"
            ]
          },
          "metadata": {
            "tags": []
          },
          "execution_count": 14
        }
      ]
    },
    {
      "cell_type": "markdown",
      "metadata": {
        "id": "VUq1Soc9asEh"
      },
      "source": [
        "No missing values found. We will look at the duplicate columns as well as unique values in each variable just to be safe."
      ]
    },
    {
      "cell_type": "code",
      "metadata": {
        "id": "dihdoAlBF-sn"
      },
      "source": [
        "# Helper Method to check for duplicated columns\r\n",
        "\r\n",
        "def getDuplicateColumns(df): \r\n",
        "  \r\n",
        "    # Create an empty set \r\n",
        "    duplicateColumnNames = set() \r\n",
        "      \r\n",
        "    # Iterate through all the columns  \r\n",
        "    # of dataframe \r\n",
        "    for x in range(df.shape[1]): \r\n",
        "          \r\n",
        "        # Take column at xth index. \r\n",
        "        col = df.iloc[:, x] \r\n",
        "          \r\n",
        "        # Iterate through all the columns in \r\n",
        "        # DataFrame from (x + 1)th index to \r\n",
        "        # last index \r\n",
        "        for y in range(x + 1, df.shape[1]): \r\n",
        "              \r\n",
        "            # Take column at yth index. \r\n",
        "            otherCol = df.iloc[:, y] \r\n",
        "              \r\n",
        "            # Check if two columns at x & y \r\n",
        "            # index are equal or not, \r\n",
        "            # if equal then adding  \r\n",
        "            # to the set \r\n",
        "            if col.equals(otherCol): \r\n",
        "                duplicateColumnNames.add(df.columns.values[y]) \r\n",
        "                  \r\n",
        "    # Return list of unique column names  \r\n",
        "    # whose contents are duplicates. \r\n",
        "    return list(duplicateColumnNames) "
      ],
      "execution_count": 15,
      "outputs": []
    },
    {
      "cell_type": "code",
      "metadata": {
        "colab": {
          "base_uri": "https://localhost:8080/"
        },
        "id": "flsZGNycGS2G",
        "outputId": "98f4db6e-fe1c-4091-a18e-310b1e53c0ed"
      },
      "source": [
        "# check for duplicate columns in the dataset.\r\n",
        "\r\n",
        "duplicated_cols = getDuplicateColumns(df)\r\n",
        "\r\n",
        "if len(duplicated_cols) > 0:\r\n",
        "    print('Duplicate columns found: \\n')\r\n",
        "    print(duplicated_cols)\r\n",
        "else:\r\n",
        "    print('No duplicate coumns found in the dataset.')"
      ],
      "execution_count": 16,
      "outputs": [
        {
          "output_type": "stream",
          "text": [
            "Duplicate columns found: \n",
            "\n",
            "['total_intl_calls_2', 'total_intl_minutes_2']\n"
          ],
          "name": "stdout"
        }
      ]
    },
    {
      "cell_type": "markdown",
      "metadata": {
        "id": "xSPCORTiHRP2"
      },
      "source": [
        "*The procedure above checks for duplicate columns in the dataset and there appears to be two duplicated columns. We will proceed to list the unique values in the columns for a confirmation.*"
      ]
    },
    {
      "cell_type": "code",
      "metadata": {
        "id": "Sc73gdLSasEi",
        "colab": {
          "base_uri": "https://localhost:8080/"
        },
        "outputId": "1bb5b9eb-75ac-47bf-a548-619c78055122"
      },
      "source": [
        "columns = df.columns\n",
        "\n",
        "for col in columns:\n",
        "    print(\"Variable:\", col)\n",
        "    print(\"Number of unique values:\", df[col].nunique())\n",
        "    print(df[col].unique())\n",
        "    print()"
      ],
      "execution_count": 17,
      "outputs": [
        {
          "output_type": "stream",
          "text": [
            "Variable: account_length\n",
            "Number of unique values: 218\n",
            "[101 137 103  99 108 117  63  94 138 128 113 140 102  60  96 178  75 106\n",
            " 158 111  92  42  69  76  72 115  68  97  90  73  54 161 125 194 141  98\n",
            " 110  70  66  79  61  77 105 159  83  93 163 169  57  85 132 190  39  84\n",
            "  71 114 135  82  64 112 166 120 187 100  45  43  52  74  40  56 133 119\n",
            " 131 118 107 109 127  33 145  47  53 148  55 143 170  65 157  89  91 104\n",
            " 130  80 146  29  78 185 144  59 139  12 150 156  17 176  95 136 165 149\n",
            " 124  87  51 126  62  48  58  81  36 177  25 171 122  44 167  41 184  88\n",
            " 151 160 152  49  13 142   3  23  19 154 116 173  24  15  86 147  21 174\n",
            " 162 186  14   7   1  18  20  11 192 121 134  67 164 180  35 155  32 123\n",
            " 182 129  38  37  50  27 188 175   5  26   4  31 193 238  28 195 153 201\n",
            " 216 183 168 222 232 233  22  46  34   8 217   2 200 172  16  30 202 181\n",
            "  10   6 179 208 215 199 196 209 224 189 243 205   9 210 212 197 225 191\n",
            " 204 221]\n",
            "\n",
            "Variable: area_code\n",
            "Number of unique values: 3\n",
            "[510 408 415]\n",
            "\n",
            "Variable: international_plan\n",
            "Number of unique values: 2\n",
            "[False  True]\n",
            "\n",
            "Variable: total_intl_minutes\n",
            "Number of unique values: 170\n",
            "[10.6  9.5 13.7 15.7  7.7  6.9 12.9 11.1  9.9 11.9  9.  10.5  7.2  7.4\n",
            " 14.3 11.7 13.9  7.1 14.7  9.8  9.3 11.   5.2  9.2 10.1 12.3  9.1 12.6\n",
            " 10.  12.  10.7 13.4  8.3 13.6 12.5 10.2  4.4  8.6  6.8 11.8 16.2 13.2\n",
            "  8.  11.4 12.4 10.4  7.5 12.8 18.9  7.6  0.  11.3 13.8  7.   9.6  8.8\n",
            "  7.3 15.1  7.9 11.6  6.1  8.7 13.3 10.3  5.7 10.9  7.8  5.6 13.5  9.7\n",
            " 14.8  8.9  9.4  8.5 12.7 15.4  5.4 14.   8.2  6.6 11.5 12.1 13.1 11.2\n",
            "  8.4 14.9  6.   6.3  4.5  8.1  6.2  3.9  4.6 12.2 13.   6.7 15.6 14.2\n",
            " 18.7 10.8  5.8 15.   5.9  4.3  5.5 16.8 14.5  4.8  5.3  4.7 16.1 14.1\n",
            " 15.2 15.3 16.5 16.3  3.1  5.1  6.5  3.7  3.8 17.2  4.2  0.4 19.3 14.6\n",
            " 19.2  6.4 16.6  2.2 15.9  5.  14.4 15.5  4.9 19.7 16.  15.8 17.8  3.4\n",
            " 18.5  3.5  4.1 16.4  4.   1.1  2.  17.7 20.  17.6  2.7 18.  17.5 18.2\n",
            "  3.6 16.7  1.3 16.9 17.  17.1 17.9 17.3 18.4  2.9  3.3  2.6 18.3  2.1\n",
            "  2.4  2.5]\n",
            "\n",
            "Variable: total_intl_calls\n",
            "Number of unique values: 21\n",
            "[ 3  7  6  2  4  5  1  9  8 13  0 12 10 19 16 11 15 18 17 14 20]\n",
            "\n",
            "Variable: voice_mail_plan\n",
            "Number of unique values: 2\n",
            "[False  True]\n",
            "\n",
            "Variable: number_vmail_messages\n",
            "Number of unique values: 48\n",
            "[ 0 29 32 43 39 22 25 35 31 38 41  6 37 30 40 33 36 12 21 46 27 20 18 24\n",
            " 28 34 15 26 45 49 19 17 16 14 23 42 10 47 48 52 44 51 11  8  4 13 50  9]\n",
            "\n",
            "Variable: total_day_minutes\n",
            "Number of unique values: 1961\n",
            "[ 70.9 223.6 294.7 ... 224.1 124.9 321.1]\n",
            "\n",
            "Variable: total_day_calls\n",
            "Number of unique values: 123\n",
            "[123  86  95  78  85 124  97 117 100  77 109  93  66 105 121 142  88  99\n",
            " 101 111  94 110 125 106  74 131 112 104  76 113 122 127  65  91  48 120\n",
            " 102 103  81 108  83  56 118  75  57 132 114  92 126  98 119  87  82  96\n",
            " 107  90  64 133  89 115 147  58  72  80  53 128 130 149  79  68 143 141\n",
            "  61 116 148  84  62  60  51  73 135 137 151 136 134  50  71  70 129  52\n",
            " 138  69  59  67 144  63  47  34  39 156 157 146  44  46 140 152 139 160\n",
            "  49 145  55 158 163  54  36  40 150 165  30  42   0  45  35]\n",
            "\n",
            "Variable: total_day_charge\n",
            "Number of unique values: 1961\n",
            "[12.05 38.01 50.1  ... 38.1  21.23 54.59]\n",
            "\n",
            "Variable: total_eve_minutes\n",
            "Number of unique values: 1879\n",
            "[211.9 244.8 237.3 ... 153.4 288.8 265.9]\n",
            "\n",
            "Variable: total_eve_calls\n",
            "Number of unique values: 126\n",
            "[ 73 139 105  88 101  68 125 112  46  89  90 116  97 107 100  81 108 104\n",
            " 106 120  71  70 131 128  91 109 126  75  87  78  94 127  62 103 110  96\n",
            " 136  67 148 117  95  98  92 111  99  63 119 123  93 102  86 121  56 118\n",
            " 114 133  76  79  65  85  72 113 115 132  84 143 130  83 124 142 150  74\n",
            " 129 138  61 122  80  77 134  82 151 147  58  69 141  66  55  64  47 144\n",
            " 169 149  53 140 152  54 154  60 135 145 155  51  52 137  38  57  44 146\n",
            "  49 164  59  48 168  42  37  12  50 157  45  36 156 153  43   0 159 170]\n",
            "\n",
            "Variable: total_eve_charge\n",
            "Number of unique values: 1659\n",
            "[18.01 20.81 20.17 ... 13.04 24.55 22.6 ]\n",
            "\n",
            "Variable: total_night_minutes\n",
            "Number of unique values: 1853\n",
            "[236.   94.2 300.3 ... 131.9 280.9 279.1]\n",
            "\n",
            "Variable: total_night_calls\n",
            "Number of unique values: 131\n",
            "[ 73  81 127  82 107  90 120 106  71  92 100  94 124 119  89 114  99  98\n",
            "  95 104 121  80 125  78 105  96 103 115  79 101 132  72  85 110  83  84\n",
            " 109 118 134 116  64 113  88 123 135  56  68 148  76  93  91  97 141 102\n",
            " 139 136 131  58 129 112  49  48 128 122  77 151 145 108 130 117  69  53\n",
            "  66  40  87  70  75 111 168 149 137 161 133  67 138  65  60  74 126  61\n",
            " 150 143 140 146 159 142 160  57  86 170 158  63  62  52 147 154  42  41\n",
            "  59  50  38  46 155  12  55 165  54  43  51   0 152  44 153 175 157 144\n",
            " 166  33 156  36 164]\n",
            "\n",
            "Variable: total_night_charge\n",
            "Number of unique values: 1028\n",
            "[10.62  4.24 13.51 ...  5.12  5.65 12.37]\n",
            "\n",
            "Variable: total_intl_minutes_2\n",
            "Number of unique values: 170\n",
            "[10.6  9.5 13.7 15.7  7.7  6.9 12.9 11.1  9.9 11.9  9.  10.5  7.2  7.4\n",
            " 14.3 11.7 13.9  7.1 14.7  9.8  9.3 11.   5.2  9.2 10.1 12.3  9.1 12.6\n",
            " 10.  12.  10.7 13.4  8.3 13.6 12.5 10.2  4.4  8.6  6.8 11.8 16.2 13.2\n",
            "  8.  11.4 12.4 10.4  7.5 12.8 18.9  7.6  0.  11.3 13.8  7.   9.6  8.8\n",
            "  7.3 15.1  7.9 11.6  6.1  8.7 13.3 10.3  5.7 10.9  7.8  5.6 13.5  9.7\n",
            " 14.8  8.9  9.4  8.5 12.7 15.4  5.4 14.   8.2  6.6 11.5 12.1 13.1 11.2\n",
            "  8.4 14.9  6.   6.3  4.5  8.1  6.2  3.9  4.6 12.2 13.   6.7 15.6 14.2\n",
            " 18.7 10.8  5.8 15.   5.9  4.3  5.5 16.8 14.5  4.8  5.3  4.7 16.1 14.1\n",
            " 15.2 15.3 16.5 16.3  3.1  5.1  6.5  3.7  3.8 17.2  4.2  0.4 19.3 14.6\n",
            " 19.2  6.4 16.6  2.2 15.9  5.  14.4 15.5  4.9 19.7 16.  15.8 17.8  3.4\n",
            " 18.5  3.5  4.1 16.4  4.   1.1  2.  17.7 20.  17.6  2.7 18.  17.5 18.2\n",
            "  3.6 16.7  1.3 16.9 17.  17.1 17.9 17.3 18.4  2.9  3.3  2.6 18.3  2.1\n",
            "  2.4  2.5]\n",
            "\n",
            "Variable: total_intl_calls_2\n",
            "Number of unique values: 21\n",
            "[ 3  7  6  2  4  5  1  9  8 13  0 12 10 19 16 11 15 18 17 14 20]\n",
            "\n",
            "Variable: total_intl_charge\n",
            "Number of unique values: 170\n",
            "[2.86 2.57 3.7  4.24 2.08 1.86 3.48 3.   2.67 3.21 2.43 2.84 1.94 2.\n",
            " 3.86 3.16 3.75 1.92 3.97 2.65 2.51 2.97 1.4  2.48 2.73 3.32 2.46 3.4\n",
            " 2.7  3.24 2.89 3.62 2.24 3.67 3.38 2.75 1.19 2.32 1.84 3.19 4.37 3.56\n",
            " 2.16 3.08 3.35 2.81 2.03 3.46 5.1  2.05 0.   3.05 3.73 1.89 2.59 2.38\n",
            " 1.97 4.08 2.13 3.13 1.65 2.35 3.59 2.78 1.54 2.94 2.11 1.51 3.65 2.62\n",
            " 4.   2.4  2.54 2.3  3.43 4.16 1.46 3.78 2.21 1.78 3.11 3.27 3.54 3.02\n",
            " 2.27 4.02 1.62 1.7  1.22 2.19 1.67 1.05 1.24 3.29 3.51 1.81 4.21 3.83\n",
            " 5.05 2.92 1.57 4.05 1.59 1.16 1.49 4.54 3.92 1.3  1.43 1.27 4.35 3.81\n",
            " 4.1  4.13 4.46 4.4  0.84 1.38 1.76 1.   1.03 4.64 1.13 0.11 5.21 3.94\n",
            " 5.18 1.73 4.48 0.59 4.29 1.35 3.89 4.19 1.32 5.32 4.32 4.27 4.81 0.92\n",
            " 5.   0.95 1.11 4.43 1.08 0.3  0.54 4.78 5.4  4.75 0.73 4.86 4.73 4.91\n",
            " 0.97 4.51 0.35 4.56 4.59 4.62 4.83 4.67 4.97 0.78 0.89 0.7  4.94 0.57\n",
            " 0.65 0.68]\n",
            "\n",
            "Variable: number_customer_service_calls\n",
            "Number of unique values: 10\n",
            "[3 0 1 2 4 5 6 7 9 8]\n",
            "\n",
            "Variable: churn\n",
            "Number of unique values: 2\n",
            "[False  True]\n",
            "\n"
          ],
          "name": "stdout"
        }
      ]
    },
    {
      "cell_type": "markdown",
      "metadata": {
        "id": "W2ztYk64asEq"
      },
      "source": [
        "Let's preview the duplicated columns (and the primary columns); 'total_intl_minutes' and 'total_intl_minutes_2', and 'total_intl_calls' and 'total_intl_calls_2'."
      ]
    },
    {
      "cell_type": "code",
      "metadata": {
        "id": "44g9GeRSasEr",
        "colab": {
          "base_uri": "https://localhost:8080/",
          "height": 416
        },
        "outputId": "7ac85e76-068b-48a6-c6ae-43b44e77694c"
      },
      "source": [
        "# previewing the possibly duplicated columns\n",
        "df[['total_intl_minutes', 'total_intl_calls', 'total_intl_minutes_2', 'total_intl_calls_2']]"
      ],
      "execution_count": 18,
      "outputs": [
        {
          "output_type": "execute_result",
          "data": {
            "text/html": [
              "<div>\n",
              "<style scoped>\n",
              "    .dataframe tbody tr th:only-of-type {\n",
              "        vertical-align: middle;\n",
              "    }\n",
              "\n",
              "    .dataframe tbody tr th {\n",
              "        vertical-align: top;\n",
              "    }\n",
              "\n",
              "    .dataframe thead th {\n",
              "        text-align: right;\n",
              "    }\n",
              "</style>\n",
              "<table border=\"1\" class=\"dataframe\">\n",
              "  <thead>\n",
              "    <tr style=\"text-align: right;\">\n",
              "      <th></th>\n",
              "      <th>total_intl_minutes</th>\n",
              "      <th>total_intl_calls</th>\n",
              "      <th>total_intl_minutes_2</th>\n",
              "      <th>total_intl_calls_2</th>\n",
              "    </tr>\n",
              "  </thead>\n",
              "  <tbody>\n",
              "    <tr>\n",
              "      <th>0</th>\n",
              "      <td>10.6</td>\n",
              "      <td>3</td>\n",
              "      <td>10.6</td>\n",
              "      <td>3</td>\n",
              "    </tr>\n",
              "    <tr>\n",
              "      <th>1</th>\n",
              "      <td>9.5</td>\n",
              "      <td>7</td>\n",
              "      <td>9.5</td>\n",
              "      <td>7</td>\n",
              "    </tr>\n",
              "    <tr>\n",
              "      <th>2</th>\n",
              "      <td>13.7</td>\n",
              "      <td>6</td>\n",
              "      <td>13.7</td>\n",
              "      <td>6</td>\n",
              "    </tr>\n",
              "    <tr>\n",
              "      <th>3</th>\n",
              "      <td>15.7</td>\n",
              "      <td>2</td>\n",
              "      <td>15.7</td>\n",
              "      <td>2</td>\n",
              "    </tr>\n",
              "    <tr>\n",
              "      <th>4</th>\n",
              "      <td>7.7</td>\n",
              "      <td>4</td>\n",
              "      <td>7.7</td>\n",
              "      <td>4</td>\n",
              "    </tr>\n",
              "    <tr>\n",
              "      <th>...</th>\n",
              "      <td>...</td>\n",
              "      <td>...</td>\n",
              "      <td>...</td>\n",
              "      <td>...</td>\n",
              "    </tr>\n",
              "    <tr>\n",
              "      <th>4995</th>\n",
              "      <td>9.9</td>\n",
              "      <td>6</td>\n",
              "      <td>9.9</td>\n",
              "      <td>6</td>\n",
              "    </tr>\n",
              "    <tr>\n",
              "      <th>4996</th>\n",
              "      <td>9.6</td>\n",
              "      <td>4</td>\n",
              "      <td>9.6</td>\n",
              "      <td>4</td>\n",
              "    </tr>\n",
              "    <tr>\n",
              "      <th>4997</th>\n",
              "      <td>14.1</td>\n",
              "      <td>6</td>\n",
              "      <td>14.1</td>\n",
              "      <td>6</td>\n",
              "    </tr>\n",
              "    <tr>\n",
              "      <th>4998</th>\n",
              "      <td>5.0</td>\n",
              "      <td>10</td>\n",
              "      <td>5.0</td>\n",
              "      <td>10</td>\n",
              "    </tr>\n",
              "    <tr>\n",
              "      <th>4999</th>\n",
              "      <td>13.7</td>\n",
              "      <td>4</td>\n",
              "      <td>13.7</td>\n",
              "      <td>4</td>\n",
              "    </tr>\n",
              "  </tbody>\n",
              "</table>\n",
              "<p>5000 rows × 4 columns</p>\n",
              "</div>"
            ],
            "text/plain": [
              "      total_intl_minutes  total_intl_calls  total_intl_minutes_2  \\\n",
              "0                   10.6                 3                  10.6   \n",
              "1                    9.5                 7                   9.5   \n",
              "2                   13.7                 6                  13.7   \n",
              "3                   15.7                 2                  15.7   \n",
              "4                    7.7                 4                   7.7   \n",
              "...                  ...               ...                   ...   \n",
              "4995                 9.9                 6                   9.9   \n",
              "4996                 9.6                 4                   9.6   \n",
              "4997                14.1                 6                  14.1   \n",
              "4998                 5.0                10                   5.0   \n",
              "4999                13.7                 4                  13.7   \n",
              "\n",
              "      total_intl_calls_2  \n",
              "0                      3  \n",
              "1                      7  \n",
              "2                      6  \n",
              "3                      2  \n",
              "4                      4  \n",
              "...                  ...  \n",
              "4995                   6  \n",
              "4996                   4  \n",
              "4997                   6  \n",
              "4998                  10  \n",
              "4999                   4  \n",
              "\n",
              "[5000 rows x 4 columns]"
            ]
          },
          "metadata": {
            "tags": []
          },
          "execution_count": 18
        }
      ]
    },
    {
      "cell_type": "markdown",
      "metadata": {
        "id": "1g82qmkGasEx"
      },
      "source": [
        "The last two columns appear to be complete copies of the first two. We will confirm this so that we do not blindly drop them."
      ]
    },
    {
      "cell_type": "code",
      "metadata": {
        "id": "gZsoHsPbasE0",
        "colab": {
          "base_uri": "https://localhost:8080/"
        },
        "outputId": "8f77cb5b-ca01-437f-e548-930b469ed2b4"
      },
      "source": [
        "# selecting the total number of records where the values of 'total_intl_minutes' are equal to the values of \n",
        "# 'total_intl_minutes_2', AND the values of 'total_intl_calls' are equal to the values of 'total_intl_calls_2'\n",
        "df[(df['total_intl_minutes'] == df['total_intl_minutes_2']) & (df['total_intl_calls'] == df['total_intl_calls_2'])].count()"
      ],
      "execution_count": 19,
      "outputs": [
        {
          "output_type": "execute_result",
          "data": {
            "text/plain": [
              "account_length                   5000\n",
              "area_code                        5000\n",
              "international_plan               5000\n",
              "total_intl_minutes               5000\n",
              "total_intl_calls                 5000\n",
              "voice_mail_plan                  5000\n",
              "number_vmail_messages            5000\n",
              "total_day_minutes                5000\n",
              "total_day_calls                  5000\n",
              "total_day_charge                 5000\n",
              "total_eve_minutes                5000\n",
              "total_eve_calls                  5000\n",
              "total_eve_charge                 5000\n",
              "total_night_minutes              5000\n",
              "total_night_calls                5000\n",
              "total_night_charge               5000\n",
              "total_intl_minutes_2             5000\n",
              "total_intl_calls_2               5000\n",
              "total_intl_charge                5000\n",
              "number_customer_service_calls    5000\n",
              "churn                            5000\n",
              "dtype: int64"
            ]
          },
          "metadata": {
            "tags": []
          },
          "execution_count": 19
        }
      ]
    },
    {
      "cell_type": "markdown",
      "metadata": {
        "id": "rVFYq4WoasE7"
      },
      "source": [
        "We see that the columns are indeed duplicates so we can safely drop them."
      ]
    },
    {
      "cell_type": "code",
      "metadata": {
        "id": "AqsIQOJ7asE8",
        "colab": {
          "base_uri": "https://localhost:8080/"
        },
        "outputId": "b8e40730-2c6b-40c7-ef6a-257ef869eaa0"
      },
      "source": [
        "df = df.drop(columns = ['total_intl_minutes_2', 'total_intl_calls_2'])\n",
        "df.shape"
      ],
      "execution_count": 20,
      "outputs": [
        {
          "output_type": "execute_result",
          "data": {
            "text/plain": [
              "(5000, 19)"
            ]
          },
          "metadata": {
            "tags": []
          },
          "execution_count": 20
        }
      ]
    },
    {
      "cell_type": "code",
      "metadata": {
        "colab": {
          "base_uri": "https://localhost:8080/"
        },
        "id": "_k663MgbwpQc",
        "outputId": "377a712a-203d-469b-e0c8-65e842d8a586"
      },
      "source": [
        "# Confirm duplication of columns.\r\n",
        "\r\n",
        "duplicated_cols = getDuplicateColumns(df)\r\n",
        "\r\n",
        "if len(duplicated_cols) > 0:\r\n",
        "    print('Duplicate columns found: \\n')\r\n",
        "    print(duplicated_cols)\r\n",
        "else:\r\n",
        "    print('No duplicate columns found in the dataset.')"
      ],
      "execution_count": 75,
      "outputs": [
        {
          "output_type": "stream",
          "text": [
            "No duplicate columns found in the dataset.\n"
          ],
          "name": "stdout"
        }
      ]
    },
    {
      "cell_type": "markdown",
      "metadata": {
        "id": "xNmGe1f1asFW"
      },
      "source": [
        "Another anomaly noted is that where there are records of 'total_intl_minutes', 'total_int_calls', and 'total_intl_charge' when 'international_plan' is False."
      ]
    },
    {
      "cell_type": "code",
      "metadata": {
        "id": "RLfEw2Q0asFX",
        "colab": {
          "base_uri": "https://localhost:8080/",
          "height": 436
        },
        "outputId": "428d62f9-e593-4b3b-b884-43e4b9ecae8e"
      },
      "source": [
        "df[(df['international_plan'] == False) & ((df['total_intl_minutes'] > 0) | (df['total_intl_calls'] > 0) |\n",
        "                                         df['total_intl_charge'] > 0)]"
      ],
      "execution_count": 21,
      "outputs": [
        {
          "output_type": "execute_result",
          "data": {
            "text/html": [
              "<div>\n",
              "<style scoped>\n",
              "    .dataframe tbody tr th:only-of-type {\n",
              "        vertical-align: middle;\n",
              "    }\n",
              "\n",
              "    .dataframe tbody tr th {\n",
              "        vertical-align: top;\n",
              "    }\n",
              "\n",
              "    .dataframe thead th {\n",
              "        text-align: right;\n",
              "    }\n",
              "</style>\n",
              "<table border=\"1\" class=\"dataframe\">\n",
              "  <thead>\n",
              "    <tr style=\"text-align: right;\">\n",
              "      <th></th>\n",
              "      <th>account_length</th>\n",
              "      <th>area_code</th>\n",
              "      <th>international_plan</th>\n",
              "      <th>total_intl_minutes</th>\n",
              "      <th>total_intl_calls</th>\n",
              "      <th>voice_mail_plan</th>\n",
              "      <th>number_vmail_messages</th>\n",
              "      <th>total_day_minutes</th>\n",
              "      <th>total_day_calls</th>\n",
              "      <th>total_day_charge</th>\n",
              "      <th>total_eve_minutes</th>\n",
              "      <th>total_eve_calls</th>\n",
              "      <th>total_eve_charge</th>\n",
              "      <th>total_night_minutes</th>\n",
              "      <th>total_night_calls</th>\n",
              "      <th>total_night_charge</th>\n",
              "      <th>total_intl_charge</th>\n",
              "      <th>number_customer_service_calls</th>\n",
              "      <th>churn</th>\n",
              "    </tr>\n",
              "  </thead>\n",
              "  <tbody>\n",
              "    <tr>\n",
              "      <th>0</th>\n",
              "      <td>101</td>\n",
              "      <td>510</td>\n",
              "      <td>False</td>\n",
              "      <td>10.6</td>\n",
              "      <td>3</td>\n",
              "      <td>False</td>\n",
              "      <td>0</td>\n",
              "      <td>70.9</td>\n",
              "      <td>123</td>\n",
              "      <td>12.05</td>\n",
              "      <td>211.9</td>\n",
              "      <td>73</td>\n",
              "      <td>18.01</td>\n",
              "      <td>236.0</td>\n",
              "      <td>73</td>\n",
              "      <td>10.62</td>\n",
              "      <td>2.86</td>\n",
              "      <td>3</td>\n",
              "      <td>False</td>\n",
              "    </tr>\n",
              "    <tr>\n",
              "      <th>1</th>\n",
              "      <td>137</td>\n",
              "      <td>510</td>\n",
              "      <td>False</td>\n",
              "      <td>9.5</td>\n",
              "      <td>7</td>\n",
              "      <td>False</td>\n",
              "      <td>0</td>\n",
              "      <td>223.6</td>\n",
              "      <td>86</td>\n",
              "      <td>38.01</td>\n",
              "      <td>244.8</td>\n",
              "      <td>139</td>\n",
              "      <td>20.81</td>\n",
              "      <td>94.2</td>\n",
              "      <td>81</td>\n",
              "      <td>4.24</td>\n",
              "      <td>2.57</td>\n",
              "      <td>0</td>\n",
              "      <td>False</td>\n",
              "    </tr>\n",
              "    <tr>\n",
              "      <th>2</th>\n",
              "      <td>103</td>\n",
              "      <td>408</td>\n",
              "      <td>False</td>\n",
              "      <td>13.7</td>\n",
              "      <td>6</td>\n",
              "      <td>True</td>\n",
              "      <td>29</td>\n",
              "      <td>294.7</td>\n",
              "      <td>95</td>\n",
              "      <td>50.10</td>\n",
              "      <td>237.3</td>\n",
              "      <td>105</td>\n",
              "      <td>20.17</td>\n",
              "      <td>300.3</td>\n",
              "      <td>127</td>\n",
              "      <td>13.51</td>\n",
              "      <td>3.70</td>\n",
              "      <td>1</td>\n",
              "      <td>False</td>\n",
              "    </tr>\n",
              "    <tr>\n",
              "      <th>3</th>\n",
              "      <td>99</td>\n",
              "      <td>415</td>\n",
              "      <td>False</td>\n",
              "      <td>15.7</td>\n",
              "      <td>2</td>\n",
              "      <td>False</td>\n",
              "      <td>0</td>\n",
              "      <td>216.8</td>\n",
              "      <td>123</td>\n",
              "      <td>36.86</td>\n",
              "      <td>126.4</td>\n",
              "      <td>88</td>\n",
              "      <td>10.74</td>\n",
              "      <td>220.6</td>\n",
              "      <td>82</td>\n",
              "      <td>9.93</td>\n",
              "      <td>4.24</td>\n",
              "      <td>1</td>\n",
              "      <td>False</td>\n",
              "    </tr>\n",
              "    <tr>\n",
              "      <th>4</th>\n",
              "      <td>108</td>\n",
              "      <td>415</td>\n",
              "      <td>False</td>\n",
              "      <td>7.7</td>\n",
              "      <td>4</td>\n",
              "      <td>False</td>\n",
              "      <td>0</td>\n",
              "      <td>197.4</td>\n",
              "      <td>78</td>\n",
              "      <td>33.56</td>\n",
              "      <td>124.0</td>\n",
              "      <td>101</td>\n",
              "      <td>10.54</td>\n",
              "      <td>204.5</td>\n",
              "      <td>107</td>\n",
              "      <td>9.20</td>\n",
              "      <td>2.08</td>\n",
              "      <td>2</td>\n",
              "      <td>False</td>\n",
              "    </tr>\n",
              "    <tr>\n",
              "      <th>...</th>\n",
              "      <td>...</td>\n",
              "      <td>...</td>\n",
              "      <td>...</td>\n",
              "      <td>...</td>\n",
              "      <td>...</td>\n",
              "      <td>...</td>\n",
              "      <td>...</td>\n",
              "      <td>...</td>\n",
              "      <td>...</td>\n",
              "      <td>...</td>\n",
              "      <td>...</td>\n",
              "      <td>...</td>\n",
              "      <td>...</td>\n",
              "      <td>...</td>\n",
              "      <td>...</td>\n",
              "      <td>...</td>\n",
              "      <td>...</td>\n",
              "      <td>...</td>\n",
              "      <td>...</td>\n",
              "    </tr>\n",
              "    <tr>\n",
              "      <th>4994</th>\n",
              "      <td>79</td>\n",
              "      <td>415</td>\n",
              "      <td>False</td>\n",
              "      <td>11.8</td>\n",
              "      <td>5</td>\n",
              "      <td>False</td>\n",
              "      <td>0</td>\n",
              "      <td>134.7</td>\n",
              "      <td>98</td>\n",
              "      <td>22.90</td>\n",
              "      <td>189.7</td>\n",
              "      <td>68</td>\n",
              "      <td>16.12</td>\n",
              "      <td>221.4</td>\n",
              "      <td>128</td>\n",
              "      <td>9.96</td>\n",
              "      <td>3.19</td>\n",
              "      <td>2</td>\n",
              "      <td>False</td>\n",
              "    </tr>\n",
              "    <tr>\n",
              "      <th>4995</th>\n",
              "      <td>192</td>\n",
              "      <td>415</td>\n",
              "      <td>False</td>\n",
              "      <td>9.9</td>\n",
              "      <td>6</td>\n",
              "      <td>True</td>\n",
              "      <td>36</td>\n",
              "      <td>156.2</td>\n",
              "      <td>77</td>\n",
              "      <td>26.55</td>\n",
              "      <td>215.5</td>\n",
              "      <td>126</td>\n",
              "      <td>18.32</td>\n",
              "      <td>279.1</td>\n",
              "      <td>83</td>\n",
              "      <td>12.56</td>\n",
              "      <td>2.67</td>\n",
              "      <td>2</td>\n",
              "      <td>False</td>\n",
              "    </tr>\n",
              "    <tr>\n",
              "      <th>4996</th>\n",
              "      <td>68</td>\n",
              "      <td>415</td>\n",
              "      <td>False</td>\n",
              "      <td>9.6</td>\n",
              "      <td>4</td>\n",
              "      <td>False</td>\n",
              "      <td>0</td>\n",
              "      <td>231.1</td>\n",
              "      <td>57</td>\n",
              "      <td>39.29</td>\n",
              "      <td>153.4</td>\n",
              "      <td>55</td>\n",
              "      <td>13.04</td>\n",
              "      <td>191.3</td>\n",
              "      <td>123</td>\n",
              "      <td>8.61</td>\n",
              "      <td>2.59</td>\n",
              "      <td>3</td>\n",
              "      <td>False</td>\n",
              "    </tr>\n",
              "    <tr>\n",
              "      <th>4997</th>\n",
              "      <td>28</td>\n",
              "      <td>510</td>\n",
              "      <td>False</td>\n",
              "      <td>14.1</td>\n",
              "      <td>6</td>\n",
              "      <td>False</td>\n",
              "      <td>0</td>\n",
              "      <td>180.8</td>\n",
              "      <td>109</td>\n",
              "      <td>30.74</td>\n",
              "      <td>288.8</td>\n",
              "      <td>58</td>\n",
              "      <td>24.55</td>\n",
              "      <td>191.9</td>\n",
              "      <td>91</td>\n",
              "      <td>8.64</td>\n",
              "      <td>3.81</td>\n",
              "      <td>2</td>\n",
              "      <td>False</td>\n",
              "    </tr>\n",
              "    <tr>\n",
              "      <th>4999</th>\n",
              "      <td>74</td>\n",
              "      <td>415</td>\n",
              "      <td>False</td>\n",
              "      <td>13.7</td>\n",
              "      <td>4</td>\n",
              "      <td>True</td>\n",
              "      <td>25</td>\n",
              "      <td>234.4</td>\n",
              "      <td>113</td>\n",
              "      <td>39.85</td>\n",
              "      <td>265.9</td>\n",
              "      <td>82</td>\n",
              "      <td>22.60</td>\n",
              "      <td>241.4</td>\n",
              "      <td>77</td>\n",
              "      <td>10.86</td>\n",
              "      <td>3.70</td>\n",
              "      <td>0</td>\n",
              "      <td>False</td>\n",
              "    </tr>\n",
              "  </tbody>\n",
              "</table>\n",
              "<p>4504 rows × 19 columns</p>\n",
              "</div>"
            ],
            "text/plain": [
              "      account_length  area_code  international_plan  total_intl_minutes  \\\n",
              "0                101        510               False                10.6   \n",
              "1                137        510               False                 9.5   \n",
              "2                103        408               False                13.7   \n",
              "3                 99        415               False                15.7   \n",
              "4                108        415               False                 7.7   \n",
              "...              ...        ...                 ...                 ...   \n",
              "4994              79        415               False                11.8   \n",
              "4995             192        415               False                 9.9   \n",
              "4996              68        415               False                 9.6   \n",
              "4997              28        510               False                14.1   \n",
              "4999              74        415               False                13.7   \n",
              "\n",
              "      total_intl_calls  voice_mail_plan  number_vmail_messages  \\\n",
              "0                    3            False                      0   \n",
              "1                    7            False                      0   \n",
              "2                    6             True                     29   \n",
              "3                    2            False                      0   \n",
              "4                    4            False                      0   \n",
              "...                ...              ...                    ...   \n",
              "4994                 5            False                      0   \n",
              "4995                 6             True                     36   \n",
              "4996                 4            False                      0   \n",
              "4997                 6            False                      0   \n",
              "4999                 4             True                     25   \n",
              "\n",
              "      total_day_minutes  total_day_calls  total_day_charge  total_eve_minutes  \\\n",
              "0                  70.9              123             12.05              211.9   \n",
              "1                 223.6               86             38.01              244.8   \n",
              "2                 294.7               95             50.10              237.3   \n",
              "3                 216.8              123             36.86              126.4   \n",
              "4                 197.4               78             33.56              124.0   \n",
              "...                 ...              ...               ...                ...   \n",
              "4994              134.7               98             22.90              189.7   \n",
              "4995              156.2               77             26.55              215.5   \n",
              "4996              231.1               57             39.29              153.4   \n",
              "4997              180.8              109             30.74              288.8   \n",
              "4999              234.4              113             39.85              265.9   \n",
              "\n",
              "      total_eve_calls  total_eve_charge  total_night_minutes  \\\n",
              "0                  73             18.01                236.0   \n",
              "1                 139             20.81                 94.2   \n",
              "2                 105             20.17                300.3   \n",
              "3                  88             10.74                220.6   \n",
              "4                 101             10.54                204.5   \n",
              "...               ...               ...                  ...   \n",
              "4994               68             16.12                221.4   \n",
              "4995              126             18.32                279.1   \n",
              "4996               55             13.04                191.3   \n",
              "4997               58             24.55                191.9   \n",
              "4999               82             22.60                241.4   \n",
              "\n",
              "      total_night_calls  total_night_charge  total_intl_charge  \\\n",
              "0                    73               10.62               2.86   \n",
              "1                    81                4.24               2.57   \n",
              "2                   127               13.51               3.70   \n",
              "3                    82                9.93               4.24   \n",
              "4                   107                9.20               2.08   \n",
              "...                 ...                 ...                ...   \n",
              "4994                128                9.96               3.19   \n",
              "4995                 83               12.56               2.67   \n",
              "4996                123                8.61               2.59   \n",
              "4997                 91                8.64               3.81   \n",
              "4999                 77               10.86               3.70   \n",
              "\n",
              "      number_customer_service_calls  churn  \n",
              "0                                 3  False  \n",
              "1                                 0  False  \n",
              "2                                 1  False  \n",
              "3                                 1  False  \n",
              "4                                 2  False  \n",
              "...                             ...    ...  \n",
              "4994                              2  False  \n",
              "4995                              2  False  \n",
              "4996                              3  False  \n",
              "4997                              2  False  \n",
              "4999                              0  False  \n",
              "\n",
              "[4504 rows x 19 columns]"
            ]
          },
          "metadata": {
            "tags": []
          },
          "execution_count": 21
        }
      ]
    },
    {
      "cell_type": "code",
      "metadata": {
        "id": "FyVdZxRUasFc",
        "colab": {
          "base_uri": "https://localhost:8080/"
        },
        "outputId": "88d88224-11ad-4bb8-ff0b-b3eebf7b7059"
      },
      "source": [
        "df.international_plan.value_counts()"
      ],
      "execution_count": null,
      "outputs": [
        {
          "output_type": "execute_result",
          "data": {
            "text/plain": [
              "False    4527\n",
              "True      473\n",
              "Name: international_plan, dtype: int64"
            ]
          },
          "metadata": {
            "tags": []
          },
          "execution_count": 69
        }
      ]
    },
    {
      "cell_type": "markdown",
      "metadata": {
        "id": "s6KzIz33asFf"
      },
      "source": [
        "*Much as we'd like to remove these invalid variables, doing so would result in a huge loss of data. We will therefore leave them as is, but flag them for future work. It could also have meant that the customers do not have the Int'l callng plan but proceeded to call anyways.*"
      ]
    },
    {
      "cell_type": "markdown",
      "metadata": {
        "id": "jO0WlCpaasFi"
      },
      "source": [
        "We will check to confirm that there are no 'number_vmail_messages' when 'voice_mail_plan' is set to False."
      ]
    },
    {
      "cell_type": "code",
      "metadata": {
        "id": "0Vqb2AsjasFi",
        "colab": {
          "base_uri": "https://localhost:8080/",
          "height": 69
        },
        "outputId": "ab187877-f016-4771-8446-adde7c630159"
      },
      "source": [
        "df[(df['voice_mail_plan'] == False) & (df['number_vmail_messages'] > 0)]"
      ],
      "execution_count": 22,
      "outputs": [
        {
          "output_type": "execute_result",
          "data": {
            "text/html": [
              "<div>\n",
              "<style scoped>\n",
              "    .dataframe tbody tr th:only-of-type {\n",
              "        vertical-align: middle;\n",
              "    }\n",
              "\n",
              "    .dataframe tbody tr th {\n",
              "        vertical-align: top;\n",
              "    }\n",
              "\n",
              "    .dataframe thead th {\n",
              "        text-align: right;\n",
              "    }\n",
              "</style>\n",
              "<table border=\"1\" class=\"dataframe\">\n",
              "  <thead>\n",
              "    <tr style=\"text-align: right;\">\n",
              "      <th></th>\n",
              "      <th>account_length</th>\n",
              "      <th>area_code</th>\n",
              "      <th>international_plan</th>\n",
              "      <th>total_intl_minutes</th>\n",
              "      <th>total_intl_calls</th>\n",
              "      <th>voice_mail_plan</th>\n",
              "      <th>number_vmail_messages</th>\n",
              "      <th>total_day_minutes</th>\n",
              "      <th>total_day_calls</th>\n",
              "      <th>total_day_charge</th>\n",
              "      <th>total_eve_minutes</th>\n",
              "      <th>total_eve_calls</th>\n",
              "      <th>total_eve_charge</th>\n",
              "      <th>total_night_minutes</th>\n",
              "      <th>total_night_calls</th>\n",
              "      <th>total_night_charge</th>\n",
              "      <th>total_intl_charge</th>\n",
              "      <th>number_customer_service_calls</th>\n",
              "      <th>churn</th>\n",
              "    </tr>\n",
              "  </thead>\n",
              "  <tbody>\n",
              "  </tbody>\n",
              "</table>\n",
              "</div>"
            ],
            "text/plain": [
              "Empty DataFrame\n",
              "Columns: [account_length, area_code, international_plan, total_intl_minutes, total_intl_calls, voice_mail_plan, number_vmail_messages, total_day_minutes, total_day_calls, total_day_charge, total_eve_minutes, total_eve_calls, total_eve_charge, total_night_minutes, total_night_calls, total_night_charge, total_intl_charge, number_customer_service_calls, churn]\n",
              "Index: []"
            ]
          },
          "metadata": {
            "tags": []
          },
          "execution_count": 22
        }
      ]
    },
    {
      "cell_type": "markdown",
      "metadata": {
        "id": "neiYQ2LgasFm"
      },
      "source": [
        "After confirming this, we can now drop the 'voice_mail_plan' column."
      ]
    },
    {
      "cell_type": "code",
      "metadata": {
        "id": "rbzi1m9EasFm"
      },
      "source": [
        "df.drop(columns = ['voice_mail_plan'], inplace = True)"
      ],
      "execution_count": 23,
      "outputs": []
    },
    {
      "cell_type": "code",
      "metadata": {
        "id": "4Fwke7e9asFu",
        "colab": {
          "base_uri": "https://localhost:8080/"
        },
        "outputId": "71fac90a-94be-4d64-b307-bc16337849ea"
      },
      "source": [
        "df.dtypes"
      ],
      "execution_count": 24,
      "outputs": [
        {
          "output_type": "execute_result",
          "data": {
            "text/plain": [
              "account_length                     int64\n",
              "area_code                          int64\n",
              "international_plan                  bool\n",
              "total_intl_minutes               float64\n",
              "total_intl_calls                   int64\n",
              "number_vmail_messages              int64\n",
              "total_day_minutes                float64\n",
              "total_day_calls                    int64\n",
              "total_day_charge                 float64\n",
              "total_eve_minutes                float64\n",
              "total_eve_calls                    int64\n",
              "total_eve_charge                 float64\n",
              "total_night_minutes              float64\n",
              "total_night_calls                  int64\n",
              "total_night_charge               float64\n",
              "total_intl_charge                float64\n",
              "number_customer_service_calls      int64\n",
              "churn                               bool\n",
              "dtype: object"
            ]
          },
          "metadata": {
            "tags": []
          },
          "execution_count": 24
        }
      ]
    },
    {
      "cell_type": "code",
      "metadata": {
        "id": "aCas6x9RasF1",
        "colab": {
          "base_uri": "https://localhost:8080/",
          "height": 484
        },
        "outputId": "556e94ef-3e8c-4d0d-de74-c051653caadc"
      },
      "source": [
        "# looking for outliers\n",
        "num_cols = df.columns.to_list()\n",
        "num_cols.remove('international_plan')\n",
        "num_cols.remove('churn')\n",
        "\n",
        "plt.figure(figsize = (14, 6))\n",
        "df.boxplot(num_cols)\n",
        "plt.xticks(rotation = 45)\n",
        "plt.show()"
      ],
      "execution_count": 25,
      "outputs": [
        {
          "output_type": "display_data",
          "data": {
            "image/png": "[encoded data removed]",
            "text/plain": [
              "<Figure size 1008x432 with 1 Axes>"
            ]
          },
          "metadata": {
            "tags": [],
            "needs_background": "light"
          }
        }
      ]
    },
    {
      "cell_type": "markdown",
      "metadata": {
        "id": "iSHmG33KasF4"
      },
      "source": [
        "We see that all the remaining variables have outliers, which we will not drop."
      ]
    },
    {
      "cell_type": "code",
      "metadata": {
        "id": "t6cDaIdSasF9"
      },
      "source": [
        "# save the data set to a clean CSV file for permanency.\n",
        "\n",
        "df.to_csv('call_center_clean.csv', index = False)\n"
      ],
      "execution_count": 27,
      "outputs": []
    },
    {
      "cell_type": "code",
      "metadata": {
        "id": "jcD_sjlwQr1Y",
        "colab": {
          "base_uri": "https://localhost:8080/",
          "height": 222
        },
        "outputId": "233bde4e-8e9d-4e73-aea3-d394a4b06dd4"
      },
      "source": [
        "# read the shaped dataset for downstream analysis.\r\n",
        "df = pd.read_csv('call_center_clean.csv')\r\n",
        "df.head()"
      ],
      "execution_count": 28,
      "outputs": [
        {
          "output_type": "execute_result",
          "data": {
            "text/html": [
              "<div>\n",
              "<style scoped>\n",
              "    .dataframe tbody tr th:only-of-type {\n",
              "        vertical-align: middle;\n",
              "    }\n",
              "\n",
              "    .dataframe tbody tr th {\n",
              "        vertical-align: top;\n",
              "    }\n",
              "\n",
              "    .dataframe thead th {\n",
              "        text-align: right;\n",
              "    }\n",
              "</style>\n",
              "<table border=\"1\" class=\"dataframe\">\n",
              "  <thead>\n",
              "    <tr style=\"text-align: right;\">\n",
              "      <th></th>\n",
              "      <th>account_length</th>\n",
              "      <th>area_code</th>\n",
              "      <th>international_plan</th>\n",
              "      <th>total_intl_minutes</th>\n",
              "      <th>total_intl_calls</th>\n",
              "      <th>number_vmail_messages</th>\n",
              "      <th>total_day_minutes</th>\n",
              "      <th>total_day_calls</th>\n",
              "      <th>total_day_charge</th>\n",
              "      <th>total_eve_minutes</th>\n",
              "      <th>total_eve_calls</th>\n",
              "      <th>total_eve_charge</th>\n",
              "      <th>total_night_minutes</th>\n",
              "      <th>total_night_calls</th>\n",
              "      <th>total_night_charge</th>\n",
              "      <th>total_intl_charge</th>\n",
              "      <th>number_customer_service_calls</th>\n",
              "      <th>churn</th>\n",
              "    </tr>\n",
              "  </thead>\n",
              "  <tbody>\n",
              "    <tr>\n",
              "      <th>0</th>\n",
              "      <td>101</td>\n",
              "      <td>510</td>\n",
              "      <td>False</td>\n",
              "      <td>10.6</td>\n",
              "      <td>3</td>\n",
              "      <td>0</td>\n",
              "      <td>70.9</td>\n",
              "      <td>123</td>\n",
              "      <td>12.05</td>\n",
              "      <td>211.9</td>\n",
              "      <td>73</td>\n",
              "      <td>18.01</td>\n",
              "      <td>236.0</td>\n",
              "      <td>73</td>\n",
              "      <td>10.62</td>\n",
              "      <td>2.86</td>\n",
              "      <td>3</td>\n",
              "      <td>False</td>\n",
              "    </tr>\n",
              "    <tr>\n",
              "      <th>1</th>\n",
              "      <td>137</td>\n",
              "      <td>510</td>\n",
              "      <td>False</td>\n",
              "      <td>9.5</td>\n",
              "      <td>7</td>\n",
              "      <td>0</td>\n",
              "      <td>223.6</td>\n",
              "      <td>86</td>\n",
              "      <td>38.01</td>\n",
              "      <td>244.8</td>\n",
              "      <td>139</td>\n",
              "      <td>20.81</td>\n",
              "      <td>94.2</td>\n",
              "      <td>81</td>\n",
              "      <td>4.24</td>\n",
              "      <td>2.57</td>\n",
              "      <td>0</td>\n",
              "      <td>False</td>\n",
              "    </tr>\n",
              "    <tr>\n",
              "      <th>2</th>\n",
              "      <td>103</td>\n",
              "      <td>408</td>\n",
              "      <td>False</td>\n",
              "      <td>13.7</td>\n",
              "      <td>6</td>\n",
              "      <td>29</td>\n",
              "      <td>294.7</td>\n",
              "      <td>95</td>\n",
              "      <td>50.10</td>\n",
              "      <td>237.3</td>\n",
              "      <td>105</td>\n",
              "      <td>20.17</td>\n",
              "      <td>300.3</td>\n",
              "      <td>127</td>\n",
              "      <td>13.51</td>\n",
              "      <td>3.70</td>\n",
              "      <td>1</td>\n",
              "      <td>False</td>\n",
              "    </tr>\n",
              "    <tr>\n",
              "      <th>3</th>\n",
              "      <td>99</td>\n",
              "      <td>415</td>\n",
              "      <td>False</td>\n",
              "      <td>15.7</td>\n",
              "      <td>2</td>\n",
              "      <td>0</td>\n",
              "      <td>216.8</td>\n",
              "      <td>123</td>\n",
              "      <td>36.86</td>\n",
              "      <td>126.4</td>\n",
              "      <td>88</td>\n",
              "      <td>10.74</td>\n",
              "      <td>220.6</td>\n",
              "      <td>82</td>\n",
              "      <td>9.93</td>\n",
              "      <td>4.24</td>\n",
              "      <td>1</td>\n",
              "      <td>False</td>\n",
              "    </tr>\n",
              "    <tr>\n",
              "      <th>4</th>\n",
              "      <td>108</td>\n",
              "      <td>415</td>\n",
              "      <td>False</td>\n",
              "      <td>7.7</td>\n",
              "      <td>4</td>\n",
              "      <td>0</td>\n",
              "      <td>197.4</td>\n",
              "      <td>78</td>\n",
              "      <td>33.56</td>\n",
              "      <td>124.0</td>\n",
              "      <td>101</td>\n",
              "      <td>10.54</td>\n",
              "      <td>204.5</td>\n",
              "      <td>107</td>\n",
              "      <td>9.20</td>\n",
              "      <td>2.08</td>\n",
              "      <td>2</td>\n",
              "      <td>False</td>\n",
              "    </tr>\n",
              "  </tbody>\n",
              "</table>\n",
              "</div>"
            ],
            "text/plain": [
              "   account_length  area_code  international_plan  total_intl_minutes  \\\n",
              "0             101        510               False                10.6   \n",
              "1             137        510               False                 9.5   \n",
              "2             103        408               False                13.7   \n",
              "3              99        415               False                15.7   \n",
              "4             108        415               False                 7.7   \n",
              "\n",
              "   total_intl_calls  number_vmail_messages  total_day_minutes  \\\n",
              "0                 3                      0               70.9   \n",
              "1                 7                      0              223.6   \n",
              "2                 6                     29              294.7   \n",
              "3                 2                      0              216.8   \n",
              "4                 4                      0              197.4   \n",
              "\n",
              "   total_day_calls  total_day_charge  total_eve_minutes  total_eve_calls  \\\n",
              "0              123             12.05              211.9               73   \n",
              "1               86             38.01              244.8              139   \n",
              "2               95             50.10              237.3              105   \n",
              "3              123             36.86              126.4               88   \n",
              "4               78             33.56              124.0              101   \n",
              "\n",
              "   total_eve_charge  total_night_minutes  total_night_calls  \\\n",
              "0             18.01                236.0                 73   \n",
              "1             20.81                 94.2                 81   \n",
              "2             20.17                300.3                127   \n",
              "3             10.74                220.6                 82   \n",
              "4             10.54                204.5                107   \n",
              "\n",
              "   total_night_charge  total_intl_charge  number_customer_service_calls  churn  \n",
              "0               10.62               2.86                              3  False  \n",
              "1                4.24               2.57                              0  False  \n",
              "2               13.51               3.70                              1  False  \n",
              "3                9.93               4.24                              1  False  \n",
              "4                9.20               2.08                              2  False  "
            ]
          },
          "metadata": {
            "tags": []
          },
          "execution_count": 28
        }
      ]
    },
    {
      "cell_type": "markdown",
      "metadata": {
        "id": "eU3KA88JasGD"
      },
      "source": [
        "## <font color='#2F4F4F'>3. Data Analysis</font>"
      ]
    },
    {
      "cell_type": "markdown",
      "metadata": {
        "id": "8AC0Ib2lasGE"
      },
      "source": [
        "### 3.1 Univariate Analysis"
      ]
    },
    {
      "cell_type": "code",
      "metadata": {
        "id": "mF2m8qlfasGE",
        "colab": {
          "base_uri": "https://localhost:8080/",
          "height": 314
        },
        "outputId": "054dd44e-c41c-4c57-93a6-1b7dbc2910ea"
      },
      "source": [
        "# get the summary statistics\n",
        "df.describe()"
      ],
      "execution_count": 29,
      "outputs": [
        {
          "output_type": "execute_result",
          "data": {
            "text/html": [
              "<div>\n",
              "<style scoped>\n",
              "    .dataframe tbody tr th:only-of-type {\n",
              "        vertical-align: middle;\n",
              "    }\n",
              "\n",
              "    .dataframe tbody tr th {\n",
              "        vertical-align: top;\n",
              "    }\n",
              "\n",
              "    .dataframe thead th {\n",
              "        text-align: right;\n",
              "    }\n",
              "</style>\n",
              "<table border=\"1\" class=\"dataframe\">\n",
              "  <thead>\n",
              "    <tr style=\"text-align: right;\">\n",
              "      <th></th>\n",
              "      <th>account_length</th>\n",
              "      <th>area_code</th>\n",
              "      <th>total_intl_minutes</th>\n",
              "      <th>total_intl_calls</th>\n",
              "      <th>number_vmail_messages</th>\n",
              "      <th>total_day_minutes</th>\n",
              "      <th>total_day_calls</th>\n",
              "      <th>total_day_charge</th>\n",
              "      <th>total_eve_minutes</th>\n",
              "      <th>total_eve_calls</th>\n",
              "      <th>total_eve_charge</th>\n",
              "      <th>total_night_minutes</th>\n",
              "      <th>total_night_calls</th>\n",
              "      <th>total_night_charge</th>\n",
              "      <th>total_intl_charge</th>\n",
              "      <th>number_customer_service_calls</th>\n",
              "    </tr>\n",
              "  </thead>\n",
              "  <tbody>\n",
              "    <tr>\n",
              "      <th>count</th>\n",
              "      <td>5000.00000</td>\n",
              "      <td>5000.000000</td>\n",
              "      <td>5000.000000</td>\n",
              "      <td>5000.000000</td>\n",
              "      <td>5000.000000</td>\n",
              "      <td>5000.000000</td>\n",
              "      <td>5000.000000</td>\n",
              "      <td>5000.000000</td>\n",
              "      <td>5000.000000</td>\n",
              "      <td>5000.000000</td>\n",
              "      <td>5000.000000</td>\n",
              "      <td>5000.000000</td>\n",
              "      <td>5000.000000</td>\n",
              "      <td>5000.000000</td>\n",
              "      <td>5000.000000</td>\n",
              "      <td>5000.000000</td>\n",
              "    </tr>\n",
              "    <tr>\n",
              "      <th>mean</th>\n",
              "      <td>100.25860</td>\n",
              "      <td>436.911400</td>\n",
              "      <td>10.261780</td>\n",
              "      <td>4.435200</td>\n",
              "      <td>7.755200</td>\n",
              "      <td>180.288900</td>\n",
              "      <td>100.029400</td>\n",
              "      <td>30.649668</td>\n",
              "      <td>200.636560</td>\n",
              "      <td>100.191000</td>\n",
              "      <td>17.054322</td>\n",
              "      <td>200.391620</td>\n",
              "      <td>99.919200</td>\n",
              "      <td>9.017732</td>\n",
              "      <td>2.771196</td>\n",
              "      <td>1.570400</td>\n",
              "    </tr>\n",
              "    <tr>\n",
              "      <th>std</th>\n",
              "      <td>39.69456</td>\n",
              "      <td>42.209182</td>\n",
              "      <td>2.761396</td>\n",
              "      <td>2.456788</td>\n",
              "      <td>13.546393</td>\n",
              "      <td>53.894699</td>\n",
              "      <td>19.831197</td>\n",
              "      <td>9.162069</td>\n",
              "      <td>50.551309</td>\n",
              "      <td>19.826496</td>\n",
              "      <td>4.296843</td>\n",
              "      <td>50.527789</td>\n",
              "      <td>19.958686</td>\n",
              "      <td>2.273763</td>\n",
              "      <td>0.745514</td>\n",
              "      <td>1.306363</td>\n",
              "    </tr>\n",
              "    <tr>\n",
              "      <th>min</th>\n",
              "      <td>1.00000</td>\n",
              "      <td>408.000000</td>\n",
              "      <td>0.000000</td>\n",
              "      <td>0.000000</td>\n",
              "      <td>0.000000</td>\n",
              "      <td>0.000000</td>\n",
              "      <td>0.000000</td>\n",
              "      <td>0.000000</td>\n",
              "      <td>0.000000</td>\n",
              "      <td>0.000000</td>\n",
              "      <td>0.000000</td>\n",
              "      <td>0.000000</td>\n",
              "      <td>0.000000</td>\n",
              "      <td>0.000000</td>\n",
              "      <td>0.000000</td>\n",
              "      <td>0.000000</td>\n",
              "    </tr>\n",
              "    <tr>\n",
              "      <th>25%</th>\n",
              "      <td>73.00000</td>\n",
              "      <td>408.000000</td>\n",
              "      <td>8.500000</td>\n",
              "      <td>3.000000</td>\n",
              "      <td>0.000000</td>\n",
              "      <td>143.700000</td>\n",
              "      <td>87.000000</td>\n",
              "      <td>24.430000</td>\n",
              "      <td>166.375000</td>\n",
              "      <td>87.000000</td>\n",
              "      <td>14.140000</td>\n",
              "      <td>166.900000</td>\n",
              "      <td>87.000000</td>\n",
              "      <td>7.510000</td>\n",
              "      <td>2.300000</td>\n",
              "      <td>1.000000</td>\n",
              "    </tr>\n",
              "    <tr>\n",
              "      <th>50%</th>\n",
              "      <td>100.00000</td>\n",
              "      <td>415.000000</td>\n",
              "      <td>10.300000</td>\n",
              "      <td>4.000000</td>\n",
              "      <td>0.000000</td>\n",
              "      <td>180.100000</td>\n",
              "      <td>100.000000</td>\n",
              "      <td>30.620000</td>\n",
              "      <td>201.000000</td>\n",
              "      <td>100.000000</td>\n",
              "      <td>17.090000</td>\n",
              "      <td>200.400000</td>\n",
              "      <td>100.000000</td>\n",
              "      <td>9.020000</td>\n",
              "      <td>2.780000</td>\n",
              "      <td>1.000000</td>\n",
              "    </tr>\n",
              "    <tr>\n",
              "      <th>75%</th>\n",
              "      <td>127.00000</td>\n",
              "      <td>415.000000</td>\n",
              "      <td>12.000000</td>\n",
              "      <td>6.000000</td>\n",
              "      <td>17.000000</td>\n",
              "      <td>216.200000</td>\n",
              "      <td>113.000000</td>\n",
              "      <td>36.750000</td>\n",
              "      <td>234.100000</td>\n",
              "      <td>114.000000</td>\n",
              "      <td>19.900000</td>\n",
              "      <td>234.700000</td>\n",
              "      <td>113.000000</td>\n",
              "      <td>10.560000</td>\n",
              "      <td>3.240000</td>\n",
              "      <td>2.000000</td>\n",
              "    </tr>\n",
              "    <tr>\n",
              "      <th>max</th>\n",
              "      <td>243.00000</td>\n",
              "      <td>510.000000</td>\n",
              "      <td>20.000000</td>\n",
              "      <td>20.000000</td>\n",
              "      <td>52.000000</td>\n",
              "      <td>351.500000</td>\n",
              "      <td>165.000000</td>\n",
              "      <td>59.760000</td>\n",
              "      <td>363.700000</td>\n",
              "      <td>170.000000</td>\n",
              "      <td>30.910000</td>\n",
              "      <td>395.000000</td>\n",
              "      <td>175.000000</td>\n",
              "      <td>17.770000</td>\n",
              "      <td>5.400000</td>\n",
              "      <td>9.000000</td>\n",
              "    </tr>\n",
              "  </tbody>\n",
              "</table>\n",
              "</div>"
            ],
            "text/plain": [
              "       account_length    area_code  total_intl_minutes  total_intl_calls  \\\n",
              "count      5000.00000  5000.000000         5000.000000       5000.000000   \n",
              "mean        100.25860   436.911400           10.261780          4.435200   \n",
              "std          39.69456    42.209182            2.761396          2.456788   \n",
              "min           1.00000   408.000000            0.000000          0.000000   \n",
              "25%          73.00000   408.000000            8.500000          3.000000   \n",
              "50%         100.00000   415.000000           10.300000          4.000000   \n",
              "75%         127.00000   415.000000           12.000000          6.000000   \n",
              "max         243.00000   510.000000           20.000000         20.000000   \n",
              "\n",
              "       number_vmail_messages  total_day_minutes  total_day_calls  \\\n",
              "count            5000.000000        5000.000000      5000.000000   \n",
              "mean                7.755200         180.288900       100.029400   \n",
              "std                13.546393          53.894699        19.831197   \n",
              "min                 0.000000           0.000000         0.000000   \n",
              "25%                 0.000000         143.700000        87.000000   \n",
              "50%                 0.000000         180.100000       100.000000   \n",
              "75%                17.000000         216.200000       113.000000   \n",
              "max                52.000000         351.500000       165.000000   \n",
              "\n",
              "       total_day_charge  total_eve_minutes  total_eve_calls  total_eve_charge  \\\n",
              "count       5000.000000        5000.000000      5000.000000       5000.000000   \n",
              "mean          30.649668         200.636560       100.191000         17.054322   \n",
              "std            9.162069          50.551309        19.826496          4.296843   \n",
              "min            0.000000           0.000000         0.000000          0.000000   \n",
              "25%           24.430000         166.375000        87.000000         14.140000   \n",
              "50%           30.620000         201.000000       100.000000         17.090000   \n",
              "75%           36.750000         234.100000       114.000000         19.900000   \n",
              "max           59.760000         363.700000       170.000000         30.910000   \n",
              "\n",
              "       total_night_minutes  total_night_calls  total_night_charge  \\\n",
              "count          5000.000000        5000.000000         5000.000000   \n",
              "mean            200.391620          99.919200            9.017732   \n",
              "std              50.527789          19.958686            2.273763   \n",
              "min               0.000000           0.000000            0.000000   \n",
              "25%             166.900000          87.000000            7.510000   \n",
              "50%             200.400000         100.000000            9.020000   \n",
              "75%             234.700000         113.000000           10.560000   \n",
              "max             395.000000         175.000000           17.770000   \n",
              "\n",
              "       total_intl_charge  number_customer_service_calls  \n",
              "count        5000.000000                    5000.000000  \n",
              "mean            2.771196                       1.570400  \n",
              "std             0.745514                       1.306363  \n",
              "min             0.000000                       0.000000  \n",
              "25%             2.300000                       1.000000  \n",
              "50%             2.780000                       1.000000  \n",
              "75%             3.240000                       2.000000  \n",
              "max             5.400000                       9.000000  "
            ]
          },
          "metadata": {
            "tags": []
          },
          "execution_count": 29
        }
      ]
    },
    {
      "cell_type": "code",
      "metadata": {
        "id": "r_2FDdrCasGP",
        "colab": {
          "base_uri": "https://localhost:8080/",
          "height": 442
        },
        "outputId": "6a157118-6384-4cec-87d5-14aba98b41ef"
      },
      "source": [
        "print(df.area_code.value_counts())\n",
        "\n",
        "plt.figure(figsize = (6, 6))\n",
        "df.area_code.value_counts().plot(kind = 'pie', autopct = '%1.1f%%')\n",
        "plt.title('Pie Chart of Area Code')\n",
        "plt.show()"
      ],
      "execution_count": 30,
      "outputs": [
        {
          "output_type": "stream",
          "text": [
            "415    2495\n",
            "408    1259\n",
            "510    1246\n",
            "Name: area_code, dtype: int64\n"
          ],
          "name": "stdout"
        },
        {
          "output_type": "display_data",
          "data": {
            "image/png": "[encoded data removed]",
            "text/plain": [
              "<Figure size 432x432 with 1 Axes>"
            ]
          },
          "metadata": {
            "tags": []
          }
        }
      ]
    },
    {
      "cell_type": "markdown",
      "metadata": {
        "id": "XUTXcPj8asGT"
      },
      "source": [
        "Area Code 415 consists of almost half of the area codes in this dataset. Area Code 510 very slightly outnumbers Area Code 408."
      ]
    },
    {
      "cell_type": "code",
      "metadata": {
        "id": "3dS-KVIkasGU",
        "colab": {
          "base_uri": "https://localhost:8080/",
          "height": 456
        },
        "outputId": "37fcfce5-ea5a-4f19-b75d-24d2b7ce855d"
      },
      "source": [
        "print(df.international_plan.value_counts())\n",
        "\n",
        "plt.figure(figsize = (6, 6))\n",
        "df.international_plan.value_counts().plot(kind = 'bar', rot = 0, color = ['skyblue', 'darkorange'])\n",
        "plt.title('Distribution of International Plan')\n",
        "plt.xlabel('International Plan')\n",
        "plt.show()"
      ],
      "execution_count": 31,
      "outputs": [
        {
          "output_type": "stream",
          "text": [
            "False    4527\n",
            "True      473\n",
            "Name: international_plan, dtype: int64\n"
          ],
          "name": "stdout"
        },
        {
          "output_type": "display_data",
          "data": {
            "image/png": "[encoded data removed]",
            "text/plain": [
              "<Figure size 432x432 with 1 Axes>"
            ]
          },
          "metadata": {
            "tags": [],
            "needs_background": "light"
          }
        }
      ]
    },
    {
      "cell_type": "markdown",
      "metadata": {
        "id": "XnAsY6f8asGY"
      },
      "source": [
        "Very few of the customers are subscribed to an international plan."
      ]
    },
    {
      "cell_type": "code",
      "metadata": {
        "id": "bXumquNYasGZ",
        "colab": {
          "base_uri": "https://localhost:8080/",
          "height": 688
        },
        "outputId": "92b57b8e-5702-48a4-f66a-0eaf9df58b10"
      },
      "source": [
        "print(df.number_customer_service_calls.value_counts())\n",
        "\n",
        "plt.figure(figsize = (8, 8))\n",
        "df.number_customer_service_calls.value_counts().plot(kind = 'bar', rot = 0)\n",
        "plt.xlabel(\"Number of Calls to Customer Service\")\n",
        "plt.show()"
      ],
      "execution_count": 32,
      "outputs": [
        {
          "output_type": "stream",
          "text": [
            "1    1786\n",
            "2    1127\n",
            "0    1023\n",
            "3     665\n",
            "4     252\n",
            "5      96\n",
            "6      34\n",
            "7      13\n",
            "9       2\n",
            "8       2\n",
            "Name: number_customer_service_calls, dtype: int64\n"
          ],
          "name": "stdout"
        },
        {
          "output_type": "display_data",
          "data": {
            "image/png": "[encoded data removed]",
            "text/plain": [
              "<Figure size 576x576 with 1 Axes>"
            ]
          },
          "metadata": {
            "tags": [],
            "needs_background": "light"
          }
        }
      ]
    },
    {
      "cell_type": "markdown",
      "metadata": {
        "id": "kkP0E4MbasGf"
      },
      "source": [
        "*Most customers made exactly 1 call to customer service followed by those who made 2 calls, and then those who made 0 calls. Those who made more than 5 calls make up the minority.*"
      ]
    },
    {
      "cell_type": "code",
      "metadata": {
        "id": "k5GGY5BbasGf",
        "colab": {
          "base_uri": "https://localhost:8080/",
          "height": 440
        },
        "outputId": "bfdfbf08-9466-4a45-bba5-fb727c924a22"
      },
      "source": [
        "print(df.churn.value_counts())\n",
        "\n",
        "plt.figure(figsize = (6, 6))\n",
        "df.churn.value_counts().plot(kind ='bar', rot = 0, color = ['darkgreen', 'darkred'])\n",
        "plt.xlabel(\"Churn\")\n",
        "plt.show()"
      ],
      "execution_count": 33,
      "outputs": [
        {
          "output_type": "stream",
          "text": [
            "False    4293\n",
            "True      707\n",
            "Name: churn, dtype: int64\n"
          ],
          "name": "stdout"
        },
        {
          "output_type": "display_data",
          "data": {
            "image/png": "[encoded data removed]",
            "text/plain": [
              "<Figure size 432x432 with 1 Axes>"
            ]
          },
          "metadata": {
            "tags": [],
            "needs_background": "light"
          }
        }
      ]
    },
    {
      "cell_type": "markdown",
      "metadata": {
        "id": "K1kdL5KTasGi"
      },
      "source": [
        "Majority of the customers in this dataset have not churned, thereby making this dataset very biased."
      ]
    },
    {
      "cell_type": "code",
      "metadata": {
        "scrolled": false,
        "id": "uYjrFyjMasGl",
        "colab": {
          "base_uri": "https://localhost:8080/",
          "height": 1000
        },
        "outputId": "2877ba64-4b85-43c8-b4f8-7fe723f55d28"
      },
      "source": [
        "# plotting the histograms of all our numerical variables with the\n",
        "# exception of 'area_code' and 'number_customer_service_calls'\n",
        "num_cols.remove('area_code')\n",
        "num_cols.remove('number_customer_service_calls')\n",
        "\n",
        "fig, axes = plt.subplots(nrows = 7, ncols = 2, figsize = (14, 30))\n",
        "plt.suptitle('Countplots of Tests Measured', fontsize = 20, y = 1.01, color = 'blue')\n",
        "\n",
        "colors = ['#00FF7F', '#8B0000', '#C71585', '#0000FF', '#DB7093', '#FFFF00', '#FF4500',\n",
        "          '#7B68EE', '#FF00FF', '#ADFF2F', '#FFD700', '#A52A2A', '#2F4F4F', '#8B008B']\n",
        "for ax, column, color in zip(axes.flatten(), num_cols, colors):\n",
        "    sns.distplot(df[column], ax = ax, color = color, hist_kws = dict(alpha = 0.75))\n",
        "    \n",
        "plt.tight_layout()"
      ],
      "execution_count": 34,
      "outputs": [
        {
          "output_type": "stream",
          "text": [
            "/usr/local/lib/python3.6/dist-packages/seaborn/distributions.py:2551: FutureWarning: `distplot` is a deprecated function and will be removed in a future version. Please adapt your code to use either `displot` (a figure-level function with similar flexibility) or `histplot` (an axes-level function for histograms).\n",
            "  warnings.warn(msg, FutureWarning)\n",
            "/usr/local/lib/python3.6/dist-packages/seaborn/distributions.py:2551: FutureWarning: `distplot` is a deprecated function and will be removed in a future version. Please adapt your code to use either `displot` (a figure-level function with similar flexibility) or `histplot` (an axes-level function for histograms).\n",
            "  warnings.warn(msg, FutureWarning)\n",
            "/usr/local/lib/python3.6/dist-packages/seaborn/distributions.py:2551: FutureWarning: `distplot` is a deprecated function and will be removed in a future version. Please adapt your code to use either `displot` (a figure-level function with similar flexibility) or `histplot` (an axes-level function for histograms).\n",
            "  warnings.warn(msg, FutureWarning)\n",
            "/usr/local/lib/python3.6/dist-packages/seaborn/distributions.py:2551: FutureWarning: `distplot` is a deprecated function and will be removed in a future version. Please adapt your code to use either `displot` (a figure-level function with similar flexibility) or `histplot` (an axes-level function for histograms).\n",
            "  warnings.warn(msg, FutureWarning)\n",
            "/usr/local/lib/python3.6/dist-packages/seaborn/distributions.py:2551: FutureWarning: `distplot` is a deprecated function and will be removed in a future version. Please adapt your code to use either `displot` (a figure-level function with similar flexibility) or `histplot` (an axes-level function for histograms).\n",
            "  warnings.warn(msg, FutureWarning)\n",
            "/usr/local/lib/python3.6/dist-packages/seaborn/distributions.py:2551: FutureWarning: `distplot` is a deprecated function and will be removed in a future version. Please adapt your code to use either `displot` (a figure-level function with similar flexibility) or `histplot` (an axes-level function for histograms).\n",
            "  warnings.warn(msg, FutureWarning)\n",
            "/usr/local/lib/python3.6/dist-packages/seaborn/distributions.py:2551: FutureWarning: `distplot` is a deprecated function and will be removed in a future version. Please adapt your code to use either `displot` (a figure-level function with similar flexibility) or `histplot` (an axes-level function for histograms).\n",
            "  warnings.warn(msg, FutureWarning)\n",
            "/usr/local/lib/python3.6/dist-packages/seaborn/distributions.py:2551: FutureWarning: `distplot` is a deprecated function and will be removed in a future version. Please adapt your code to use either `displot` (a figure-level function with similar flexibility) or `histplot` (an axes-level function for histograms).\n",
            "  warnings.warn(msg, FutureWarning)\n",
            "/usr/local/lib/python3.6/dist-packages/seaborn/distributions.py:2551: FutureWarning: `distplot` is a deprecated function and will be removed in a future version. Please adapt your code to use either `displot` (a figure-level function with similar flexibility) or `histplot` (an axes-level function for histograms).\n",
            "  warnings.warn(msg, FutureWarning)\n",
            "/usr/local/lib/python3.6/dist-packages/seaborn/distributions.py:2551: FutureWarning: `distplot` is a deprecated function and will be removed in a future version. Please adapt your code to use either `displot` (a figure-level function with similar flexibility) or `histplot` (an axes-level function for histograms).\n",
            "  warnings.warn(msg, FutureWarning)\n",
            "/usr/local/lib/python3.6/dist-packages/seaborn/distributions.py:2551: FutureWarning: `distplot` is a deprecated function and will be removed in a future version. Please adapt your code to use either `displot` (a figure-level function with similar flexibility) or `histplot` (an axes-level function for histograms).\n",
            "  warnings.warn(msg, FutureWarning)\n",
            "/usr/local/lib/python3.6/dist-packages/seaborn/distributions.py:2551: FutureWarning: `distplot` is a deprecated function and will be removed in a future version. Please adapt your code to use either `displot` (a figure-level function with similar flexibility) or `histplot` (an axes-level function for histograms).\n",
            "  warnings.warn(msg, FutureWarning)\n",
            "/usr/local/lib/python3.6/dist-packages/seaborn/distributions.py:2551: FutureWarning: `distplot` is a deprecated function and will be removed in a future version. Please adapt your code to use either `displot` (a figure-level function with similar flexibility) or `histplot` (an axes-level function for histograms).\n",
            "  warnings.warn(msg, FutureWarning)\n",
            "/usr/local/lib/python3.6/dist-packages/seaborn/distributions.py:2551: FutureWarning: `distplot` is a deprecated function and will be removed in a future version. Please adapt your code to use either `displot` (a figure-level function with similar flexibility) or `histplot` (an axes-level function for histograms).\n",
            "  warnings.warn(msg, FutureWarning)\n"
          ],
          "name": "stderr"
        },
        {
          "output_type": "display_data",
          "data": {
            "image/png": "[encoded data removed]",
            "text/plain": [
              "<Figure size 1008x2160 with 14 Axes>"
            ]
          },
          "metadata": {
            "tags": [],
            "needs_background": "light"
          }
        }
      ]
    },
    {
      "cell_type": "markdown",
      "metadata": {
        "id": "nf3xFgCWasGs"
      },
      "source": [
        "Majority of the numerical variables have normal distributions. Apart from having most of its values in the 0-5 bin, the 'number_vmail_messages' variable appears to be normally distributed. The 'total_intl_calls' variable is skewed to the right and is not continuous."
      ]
    },
    {
      "cell_type": "markdown",
      "metadata": {
        "id": "M31MLioIasGt"
      },
      "source": [
        "### 3.2 Bivariata Analysis"
      ]
    },
    {
      "cell_type": "markdown",
      "metadata": {
        "id": "2u9K_UW_asGu"
      },
      "source": [
        "We will make 'churn' our target variable and look at how the other variables relate to it."
      ]
    },
    {
      "cell_type": "code",
      "metadata": {
        "id": "5eN2qk6XasGv",
        "colab": {
          "base_uri": "https://localhost:8080/",
          "height": 460
        },
        "outputId": "1292befe-b6a7-4afb-f0fe-3d5f600e140a"
      },
      "source": [
        "# churn by area code\n",
        "plt.figure(figsize = (8, 6))\n",
        "churn_area_code = sns.countplot('area_code', hue = 'churn', data = df)\n",
        "churn_area_code.set(title = \"Churn by Area Code\", ylabel = 'Area Code')\n",
        "plt.show()"
      ],
      "execution_count": 35,
      "outputs": [
        {
          "output_type": "stream",
          "text": [
            "/usr/local/lib/python3.6/dist-packages/seaborn/_decorators.py:43: FutureWarning: Pass the following variable as a keyword arg: x. From version 0.12, the only valid positional argument will be `data`, and passing other arguments without an explicit keyword will result in an error or misinterpretation.\n",
            "  FutureWarning\n"
          ],
          "name": "stderr"
        },
        {
          "output_type": "display_data",
          "data": {
            "image/png": "[encoded data removed]",
            "text/plain": [
              "<Figure size 576x432 with 1 Axes>"
            ]
          },
          "metadata": {
            "tags": [],
            "needs_background": "light"
          }
        }
      ]
    },
    {
      "cell_type": "markdown",
      "metadata": {
        "id": "54N-Z7w0asGy"
      },
      "source": [
        "Area code 415 reports the highest churn rates."
      ]
    },
    {
      "cell_type": "code",
      "metadata": {
        "id": "L2FNasXSasGy",
        "colab": {
          "base_uri": "https://localhost:8080/",
          "height": 460
        },
        "outputId": "9a3236a1-aad7-4135-bafb-b77156539ab9"
      },
      "source": [
        "# churn by international plan\n",
        "plt.figure(figsize = (8, 6))\n",
        "churn_area_code = sns.countplot('international_plan', hue = 'churn', data = df)\n",
        "churn_area_code.set(title = \"Churn by International Plan\", ylabel = 'Count')\n",
        "plt.show()"
      ],
      "execution_count": 72,
      "outputs": [
        {
          "output_type": "stream",
          "text": [
            "/usr/local/lib/python3.6/dist-packages/seaborn/_decorators.py:43: FutureWarning: Pass the following variable as a keyword arg: x. From version 0.12, the only valid positional argument will be `data`, and passing other arguments without an explicit keyword will result in an error or misinterpretation.\n",
            "  FutureWarning\n"
          ],
          "name": "stderr"
        },
        {
          "output_type": "display_data",
          "data": {
            "image/png": "[encoded data removed]",
            "text/plain": [
              "<Figure size 576x432 with 1 Axes>"
            ]
          },
          "metadata": {
            "tags": [],
            "needs_background": "light"
          }
        }
      ]
    },
    {
      "cell_type": "markdown",
      "metadata": {
        "id": "kNprofaYasG1"
      },
      "source": [
        "Those without international plans churned more than those with international plans."
      ]
    },
    {
      "cell_type": "code",
      "metadata": {
        "id": "bDY0XJOFasG2",
        "colab": {
          "base_uri": "https://localhost:8080/",
          "height": 460
        },
        "outputId": "c4cbe508-5204-429b-a529-84fe5e1623ed"
      },
      "source": [
        "# churn by number of customer service calls\n",
        "plt.figure(figsize = (8, 6))\n",
        "churn_area_code = sns.countplot('number_customer_service_calls', hue = 'churn', data = df)\n",
        "churn_area_code.set(title = \"Churn by Number of Customer Service Calls\",\n",
        "                    ylabel = 'Number of Customers')\n",
        "plt.show()"
      ],
      "execution_count": 73,
      "outputs": [
        {
          "output_type": "stream",
          "text": [
            "/usr/local/lib/python3.6/dist-packages/seaborn/_decorators.py:43: FutureWarning: Pass the following variable as a keyword arg: x. From version 0.12, the only valid positional argument will be `data`, and passing other arguments without an explicit keyword will result in an error or misinterpretation.\n",
            "  FutureWarning\n"
          ],
          "name": "stderr"
        },
        {
          "output_type": "display_data",
          "data": {
            "image/png": "[encoded data removed]",
            "text/plain": [
              "<Figure size 576x432 with 1 Axes>"
            ]
          },
          "metadata": {
            "tags": [],
            "needs_background": "light"
          }
        }
      ]
    },
    {
      "cell_type": "markdown",
      "metadata": {
        "id": "_O6DZfCWasG_"
      },
      "source": [
        "The interesting thing to note here is that those who made 0 or 2 calls to customer service churned at around the same rate. Similarly, those who made more than 3 calls reported high churn rates."
      ]
    },
    {
      "cell_type": "markdown",
      "metadata": {
        "id": "ZQjql-lgasHJ"
      },
      "source": [
        "### 3.3 Feature Engineering & Test for Multicollinearity"
      ]
    },
    {
      "cell_type": "markdown",
      "metadata": {
        "id": "zKvXZkbLasHJ"
      },
      "source": [
        "Before we can carry out the test for multicollinearity (a requirement for logistic regression), we need to convert the values of 'international_plan' and 'churn' to binary."
      ]
    },
    {
      "cell_type": "code",
      "metadata": {
        "id": "300tIugMasHT",
        "colab": {
          "base_uri": "https://localhost:8080/",
          "height": 222
        },
        "outputId": "5347a114-a8a4-44a6-9735-d03282d60070"
      },
      "source": [
        "df['international_plan'] = df['international_plan'].replace({False : 0, True : 1})\n",
        "df['churn'] = df['churn'].replace({False : 0, True : 1})\n",
        "df.head()"
      ],
      "execution_count": 41,
      "outputs": [
        {
          "output_type": "execute_result",
          "data": {
            "text/html": [
              "<div>\n",
              "<style scoped>\n",
              "    .dataframe tbody tr th:only-of-type {\n",
              "        vertical-align: middle;\n",
              "    }\n",
              "\n",
              "    .dataframe tbody tr th {\n",
              "        vertical-align: top;\n",
              "    }\n",
              "\n",
              "    .dataframe thead th {\n",
              "        text-align: right;\n",
              "    }\n",
              "</style>\n",
              "<table border=\"1\" class=\"dataframe\">\n",
              "  <thead>\n",
              "    <tr style=\"text-align: right;\">\n",
              "      <th></th>\n",
              "      <th>account_length</th>\n",
              "      <th>area_code</th>\n",
              "      <th>international_plan</th>\n",
              "      <th>total_intl_minutes</th>\n",
              "      <th>total_intl_calls</th>\n",
              "      <th>number_vmail_messages</th>\n",
              "      <th>total_day_minutes</th>\n",
              "      <th>total_day_calls</th>\n",
              "      <th>total_day_charge</th>\n",
              "      <th>total_eve_minutes</th>\n",
              "      <th>total_eve_calls</th>\n",
              "      <th>total_eve_charge</th>\n",
              "      <th>total_night_minutes</th>\n",
              "      <th>total_night_calls</th>\n",
              "      <th>total_night_charge</th>\n",
              "      <th>total_intl_charge</th>\n",
              "      <th>number_customer_service_calls</th>\n",
              "      <th>churn</th>\n",
              "    </tr>\n",
              "  </thead>\n",
              "  <tbody>\n",
              "    <tr>\n",
              "      <th>0</th>\n",
              "      <td>101</td>\n",
              "      <td>510</td>\n",
              "      <td>0</td>\n",
              "      <td>10.6</td>\n",
              "      <td>3</td>\n",
              "      <td>0</td>\n",
              "      <td>70.9</td>\n",
              "      <td>123</td>\n",
              "      <td>12.05</td>\n",
              "      <td>211.9</td>\n",
              "      <td>73</td>\n",
              "      <td>18.01</td>\n",
              "      <td>236.0</td>\n",
              "      <td>73</td>\n",
              "      <td>10.62</td>\n",
              "      <td>2.86</td>\n",
              "      <td>3</td>\n",
              "      <td>0</td>\n",
              "    </tr>\n",
              "    <tr>\n",
              "      <th>1</th>\n",
              "      <td>137</td>\n",
              "      <td>510</td>\n",
              "      <td>0</td>\n",
              "      <td>9.5</td>\n",
              "      <td>7</td>\n",
              "      <td>0</td>\n",
              "      <td>223.6</td>\n",
              "      <td>86</td>\n",
              "      <td>38.01</td>\n",
              "      <td>244.8</td>\n",
              "      <td>139</td>\n",
              "      <td>20.81</td>\n",
              "      <td>94.2</td>\n",
              "      <td>81</td>\n",
              "      <td>4.24</td>\n",
              "      <td>2.57</td>\n",
              "      <td>0</td>\n",
              "      <td>0</td>\n",
              "    </tr>\n",
              "    <tr>\n",
              "      <th>2</th>\n",
              "      <td>103</td>\n",
              "      <td>408</td>\n",
              "      <td>0</td>\n",
              "      <td>13.7</td>\n",
              "      <td>6</td>\n",
              "      <td>29</td>\n",
              "      <td>294.7</td>\n",
              "      <td>95</td>\n",
              "      <td>50.10</td>\n",
              "      <td>237.3</td>\n",
              "      <td>105</td>\n",
              "      <td>20.17</td>\n",
              "      <td>300.3</td>\n",
              "      <td>127</td>\n",
              "      <td>13.51</td>\n",
              "      <td>3.70</td>\n",
              "      <td>1</td>\n",
              "      <td>0</td>\n",
              "    </tr>\n",
              "    <tr>\n",
              "      <th>3</th>\n",
              "      <td>99</td>\n",
              "      <td>415</td>\n",
              "      <td>0</td>\n",
              "      <td>15.7</td>\n",
              "      <td>2</td>\n",
              "      <td>0</td>\n",
              "      <td>216.8</td>\n",
              "      <td>123</td>\n",
              "      <td>36.86</td>\n",
              "      <td>126.4</td>\n",
              "      <td>88</td>\n",
              "      <td>10.74</td>\n",
              "      <td>220.6</td>\n",
              "      <td>82</td>\n",
              "      <td>9.93</td>\n",
              "      <td>4.24</td>\n",
              "      <td>1</td>\n",
              "      <td>0</td>\n",
              "    </tr>\n",
              "    <tr>\n",
              "      <th>4</th>\n",
              "      <td>108</td>\n",
              "      <td>415</td>\n",
              "      <td>0</td>\n",
              "      <td>7.7</td>\n",
              "      <td>4</td>\n",
              "      <td>0</td>\n",
              "      <td>197.4</td>\n",
              "      <td>78</td>\n",
              "      <td>33.56</td>\n",
              "      <td>124.0</td>\n",
              "      <td>101</td>\n",
              "      <td>10.54</td>\n",
              "      <td>204.5</td>\n",
              "      <td>107</td>\n",
              "      <td>9.20</td>\n",
              "      <td>2.08</td>\n",
              "      <td>2</td>\n",
              "      <td>0</td>\n",
              "    </tr>\n",
              "  </tbody>\n",
              "</table>\n",
              "</div>"
            ],
            "text/plain": [
              "   account_length  area_code  international_plan  total_intl_minutes  \\\n",
              "0             101        510                   0                10.6   \n",
              "1             137        510                   0                 9.5   \n",
              "2             103        408                   0                13.7   \n",
              "3              99        415                   0                15.7   \n",
              "4             108        415                   0                 7.7   \n",
              "\n",
              "   total_intl_calls  number_vmail_messages  total_day_minutes  \\\n",
              "0                 3                      0               70.9   \n",
              "1                 7                      0              223.6   \n",
              "2                 6                     29              294.7   \n",
              "3                 2                      0              216.8   \n",
              "4                 4                      0              197.4   \n",
              "\n",
              "   total_day_calls  total_day_charge  total_eve_minutes  total_eve_calls  \\\n",
              "0              123             12.05              211.9               73   \n",
              "1               86             38.01              244.8              139   \n",
              "2               95             50.10              237.3              105   \n",
              "3              123             36.86              126.4               88   \n",
              "4               78             33.56              124.0              101   \n",
              "\n",
              "   total_eve_charge  total_night_minutes  total_night_calls  \\\n",
              "0             18.01                236.0                 73   \n",
              "1             20.81                 94.2                 81   \n",
              "2             20.17                300.3                127   \n",
              "3             10.74                220.6                 82   \n",
              "4             10.54                204.5                107   \n",
              "\n",
              "   total_night_charge  total_intl_charge  number_customer_service_calls  churn  \n",
              "0               10.62               2.86                              3      0  \n",
              "1                4.24               2.57                              0      0  \n",
              "2               13.51               3.70                              1      0  \n",
              "3                9.93               4.24                              1      0  \n",
              "4                9.20               2.08                              2      0  "
            ]
          },
          "metadata": {
            "tags": []
          },
          "execution_count": 41
        }
      ]
    },
    {
      "cell_type": "code",
      "metadata": {
        "id": "Io_efH3JasHb",
        "colab": {
          "base_uri": "https://localhost:8080/",
          "height": 822
        },
        "outputId": "001906e6-4780-4e17-8076-b789532f0cf5"
      },
      "source": [
        "# checking the correlations between the numerical variables\n",
        "corr= df.corr()\n",
        "\n",
        "# plotting the correlations onto a heatmap\n",
        "plt.figure(figsize=(13, 13))\n",
        "ax = sns.heatmap(\n",
        "    corr, \n",
        "    vmin=-1, vmax=1, center=0,\n",
        "    cmap=sns.diverging_palette(20, 220, n=200),\n",
        "    square=True, annot = True,\n",
        "    fmt='.1f'\n",
        ")\n",
        "ax.set_xticklabels(\n",
        "    ax.get_xticklabels(),\n",
        "    rotation=45,\n",
        "    horizontalalignment='right'\n",
        ")\n",
        "ax.set_ylim(len(corr)+0.5, -0.5);"
      ],
      "execution_count": 43,
      "outputs": [
        {
          "output_type": "display_data",
          "data": {
            "image/png": "[encoded data removed]",
            "text/plain": [
              "<Figure size 936x936 with 2 Axes>"
            ]
          },
          "metadata": {
            "tags": [],
            "needs_background": "light"
          }
        }
      ]
    },
    {
      "cell_type": "markdown",
      "metadata": {
        "id": "phY6GZ1_asHk"
      },
      "source": [
        "We see some perfect correlations between the following variables:\n",
        "- 'total_day_minutes' and 'total_day_charge'\n",
        "- 'total_eve_minutes' and 'total_eve_charge'\n",
        "- 'total_night_minutes' and 'total_night_charge'\n",
        "- 'total_intl_minutes' and 'total_intl_charge'\n",
        "\n",
        "We will drop the minutes."
      ]
    },
    {
      "cell_type": "code",
      "metadata": {
        "id": "xp_78zjxasHn"
      },
      "source": [
        "# drop the columns with minutes, e.g., 'total_day_minutes', etc.\n",
        "\n",
        "df.drop(columns=['total_day_minutes', 'total_eve_minutes', 'total_night_minutes', 'total_intl_minutes'], axis=1, inplace=True)"
      ],
      "execution_count": 44,
      "outputs": []
    },
    {
      "cell_type": "code",
      "metadata": {
        "id": "vbY0MHVkasHz",
        "colab": {
          "base_uri": "https://localhost:8080/",
          "height": 826
        },
        "outputId": "08f0d15f-20b8-4ec1-c74d-a385d3d2054a"
      },
      "source": [
        "# checking the correlations between the numerical variables\n",
        "corr= df.corr()\n",
        "\n",
        "# plotting the correlations onto a heatmap\n",
        "plt.figure(figsize=(13, 13))\n",
        "ax = sns.heatmap(\n",
        "    corr, \n",
        "    vmin=-1, vmax=1, center=0,\n",
        "    cmap=sns.diverging_palette(20, 220, n=200),\n",
        "    square=True, annot = True,\n",
        "    fmt='.1f'\n",
        ")\n",
        "ax.set_xticklabels(\n",
        "    ax.get_xticklabels(),\n",
        "    rotation=45,\n",
        "    horizontalalignment='right'\n",
        ")\n",
        "ax.set_ylim(len(corr)+0.5, -0.5);"
      ],
      "execution_count": 45,
      "outputs": [
        {
          "output_type": "display_data",
          "data": {
            "image/png": "[encoded data removed]",
            "text/plain": [
              "<Figure size 936x936 with 2 Axes>"
            ]
          },
          "metadata": {
            "tags": [],
            "needs_background": "light"
          }
        }
      ]
    },
    {
      "cell_type": "markdown",
      "metadata": {
        "id": "PpvlSJG-asH2"
      },
      "source": [
        "We will then check the Variance Inflation Factor (VIF) scores to ensure there is no high multicollinearity."
      ]
    },
    {
      "cell_type": "code",
      "metadata": {
        "id": "RwwGqhvOasH3",
        "colab": {
          "base_uri": "https://localhost:8080/",
          "height": 904
        },
        "outputId": "54ecf063-4860-45bf-ec5e-097ea247b9ce"
      },
      "source": [
        "# create a dataframe showing the Variance Inflation Factor (VIF) scores\n",
        "vif = pd.DataFrame(np.linalg.inv(corr.values), columns = corr.columns, index = corr.index)\n",
        "\n",
        "# plot the heatmap\n",
        "plt.figure(figsize = (13, 13))\n",
        "sns.heatmap(vif, annot = True, fmt='.1f')\n",
        "plt.show()"
      ],
      "execution_count": 47,
      "outputs": [
        {
          "output_type": "display_data",
          "data": {
            "image/png": "[encoded data removed]",
            "text/plain": [
              "<Figure size 936x936 with 2 Axes>"
            ]
          },
          "metadata": {
            "tags": [],
            "needs_background": "light"
          }
        }
      ]
    },
    {
      "cell_type": "markdown",
      "metadata": {
        "id": "op19kKC7asH-"
      },
      "source": [
        "We don't see any VIF score of 5 and above, which means our dataset does not have high levels of multicollinearity. We are, therefore, good to go."
      ]
    },
    {
      "cell_type": "markdown",
      "metadata": {
        "id": "z58VpwHoasH_"
      },
      "source": [
        "## <font color='#2F4F4F'>4. Data Modeling</font>"
      ]
    },
    {
      "cell_type": "markdown",
      "metadata": {
        "id": "WKm33MJYasH_"
      },
      "source": [
        "We will carry out 5 types of classification analysis, namely:\n",
        "1. Logistic Regression\n",
        "2. Gaussian Naive Bayes (NB) classification\n",
        "3. Decision Trees Classification\n",
        "4. K-Nearest Neighbors (KNN) Classification\n",
        "5. Support Vector Machine (SVM) Classification\n",
        "\n",
        "We will then compare the different classification models to assess the best performing one(s)."
      ]
    },
    {
      "cell_type": "code",
      "metadata": {
        "colab": {
          "base_uri": "https://localhost:8080/"
        },
        "id": "gahjNI3tcxYg",
        "outputId": "0b793bcf-04d6-4249-fc90-6fde0682be14"
      },
      "source": [
        "df.columns"
      ],
      "execution_count": 55,
      "outputs": [
        {
          "output_type": "execute_result",
          "data": {
            "text/plain": [
              "Index(['account_length', 'area_code', 'international_plan', 'total_intl_calls',\n",
              "       'number_vmail_messages', 'total_day_calls', 'total_day_charge',\n",
              "       'total_eve_calls', 'total_eve_charge', 'total_night_calls',\n",
              "       'total_night_charge', 'total_intl_charge',\n",
              "       'number_customer_service_calls', 'churn'],\n",
              "      dtype='object')"
            ]
          },
          "metadata": {
            "tags": []
          },
          "execution_count": 55
        }
      ]
    },
    {
      "cell_type": "code",
      "metadata": {
        "colab": {
          "base_uri": "https://localhost:8080/",
          "height": 222
        },
        "id": "FU2izr0jeUan",
        "outputId": "b177b934-c366-4829-c3ae-820d28b0a343"
      },
      "source": [
        "df.head()"
      ],
      "execution_count": 62,
      "outputs": [
        {
          "output_type": "execute_result",
          "data": {
            "text/html": [
              "<div>\n",
              "<style scoped>\n",
              "    .dataframe tbody tr th:only-of-type {\n",
              "        vertical-align: middle;\n",
              "    }\n",
              "\n",
              "    .dataframe tbody tr th {\n",
              "        vertical-align: top;\n",
              "    }\n",
              "\n",
              "    .dataframe thead th {\n",
              "        text-align: right;\n",
              "    }\n",
              "</style>\n",
              "<table border=\"1\" class=\"dataframe\">\n",
              "  <thead>\n",
              "    <tr style=\"text-align: right;\">\n",
              "      <th></th>\n",
              "      <th>account_length</th>\n",
              "      <th>area_code</th>\n",
              "      <th>international_plan</th>\n",
              "      <th>total_intl_calls</th>\n",
              "      <th>number_vmail_messages</th>\n",
              "      <th>total_day_calls</th>\n",
              "      <th>total_day_charge</th>\n",
              "      <th>total_eve_calls</th>\n",
              "      <th>total_eve_charge</th>\n",
              "      <th>total_night_calls</th>\n",
              "      <th>total_night_charge</th>\n",
              "      <th>total_intl_charge</th>\n",
              "      <th>number_customer_service_calls</th>\n",
              "      <th>churn</th>\n",
              "    </tr>\n",
              "  </thead>\n",
              "  <tbody>\n",
              "    <tr>\n",
              "      <th>0</th>\n",
              "      <td>101</td>\n",
              "      <td>510</td>\n",
              "      <td>0</td>\n",
              "      <td>3</td>\n",
              "      <td>0</td>\n",
              "      <td>123</td>\n",
              "      <td>12.05</td>\n",
              "      <td>73</td>\n",
              "      <td>18.01</td>\n",
              "      <td>73</td>\n",
              "      <td>10.62</td>\n",
              "      <td>2.86</td>\n",
              "      <td>3</td>\n",
              "      <td>0</td>\n",
              "    </tr>\n",
              "    <tr>\n",
              "      <th>1</th>\n",
              "      <td>137</td>\n",
              "      <td>510</td>\n",
              "      <td>0</td>\n",
              "      <td>7</td>\n",
              "      <td>0</td>\n",
              "      <td>86</td>\n",
              "      <td>38.01</td>\n",
              "      <td>139</td>\n",
              "      <td>20.81</td>\n",
              "      <td>81</td>\n",
              "      <td>4.24</td>\n",
              "      <td>2.57</td>\n",
              "      <td>0</td>\n",
              "      <td>0</td>\n",
              "    </tr>\n",
              "    <tr>\n",
              "      <th>2</th>\n",
              "      <td>103</td>\n",
              "      <td>408</td>\n",
              "      <td>0</td>\n",
              "      <td>6</td>\n",
              "      <td>29</td>\n",
              "      <td>95</td>\n",
              "      <td>50.10</td>\n",
              "      <td>105</td>\n",
              "      <td>20.17</td>\n",
              "      <td>127</td>\n",
              "      <td>13.51</td>\n",
              "      <td>3.70</td>\n",
              "      <td>1</td>\n",
              "      <td>0</td>\n",
              "    </tr>\n",
              "    <tr>\n",
              "      <th>3</th>\n",
              "      <td>99</td>\n",
              "      <td>415</td>\n",
              "      <td>0</td>\n",
              "      <td>2</td>\n",
              "      <td>0</td>\n",
              "      <td>123</td>\n",
              "      <td>36.86</td>\n",
              "      <td>88</td>\n",
              "      <td>10.74</td>\n",
              "      <td>82</td>\n",
              "      <td>9.93</td>\n",
              "      <td>4.24</td>\n",
              "      <td>1</td>\n",
              "      <td>0</td>\n",
              "    </tr>\n",
              "    <tr>\n",
              "      <th>4</th>\n",
              "      <td>108</td>\n",
              "      <td>415</td>\n",
              "      <td>0</td>\n",
              "      <td>4</td>\n",
              "      <td>0</td>\n",
              "      <td>78</td>\n",
              "      <td>33.56</td>\n",
              "      <td>101</td>\n",
              "      <td>10.54</td>\n",
              "      <td>107</td>\n",
              "      <td>9.20</td>\n",
              "      <td>2.08</td>\n",
              "      <td>2</td>\n",
              "      <td>0</td>\n",
              "    </tr>\n",
              "  </tbody>\n",
              "</table>\n",
              "</div>"
            ],
            "text/plain": [
              "   account_length  area_code  international_plan  total_intl_calls  \\\n",
              "0             101        510                   0                 3   \n",
              "1             137        510                   0                 7   \n",
              "2             103        408                   0                 6   \n",
              "3              99        415                   0                 2   \n",
              "4             108        415                   0                 4   \n",
              "\n",
              "   number_vmail_messages  total_day_calls  total_day_charge  total_eve_calls  \\\n",
              "0                      0              123             12.05               73   \n",
              "1                      0               86             38.01              139   \n",
              "2                     29               95             50.10              105   \n",
              "3                      0              123             36.86               88   \n",
              "4                      0               78             33.56              101   \n",
              "\n",
              "   total_eve_charge  total_night_calls  total_night_charge  total_intl_charge  \\\n",
              "0             18.01                 73               10.62               2.86   \n",
              "1             20.81                 81                4.24               2.57   \n",
              "2             20.17                127               13.51               3.70   \n",
              "3             10.74                 82                9.93               4.24   \n",
              "4             10.54                107                9.20               2.08   \n",
              "\n",
              "   number_customer_service_calls  churn  \n",
              "0                              3      0  \n",
              "1                              0      0  \n",
              "2                              1      0  \n",
              "3                              1      0  \n",
              "4                              2      0  "
            ]
          },
          "metadata": {
            "tags": []
          },
          "execution_count": 62
        }
      ]
    },
    {
      "cell_type": "code",
      "metadata": {
        "id": "wCVbM0xcasIL",
        "colab": {
          "base_uri": "https://localhost:8080/"
        },
        "outputId": "c80f5862-b7d9-43b9-b9ae-4f965e855c68"
      },
      "source": [
        "# dividing our dataset into features (X) and target (y)\n",
        "\n",
        "X = df.iloc[:,0:12].values\n",
        "y = df['churn'].values\n",
        "\n",
        "print(X.shape)\n",
        "print(y.shape)"
      ],
      "execution_count": 64,
      "outputs": [
        {
          "output_type": "stream",
          "text": [
            "(5000, 12)\n",
            "(5000,)\n"
          ],
          "name": "stdout"
        }
      ]
    },
    {
      "cell_type": "code",
      "metadata": {
        "id": "kByQ2gGOasIN"
      },
      "source": [
        "# splitting into 80-20 train-test sets\n",
        "\n",
        "from sklearn.model_selection import train_test_split as tts\n",
        "\n",
        "X_train, X_test, y_train, y_test = tts(X, y, test_size = 0.2, random_state = 0)"
      ],
      "execution_count": 66,
      "outputs": []
    },
    {
      "cell_type": "code",
      "metadata": {
        "id": "cLa8VQrUasIS"
      },
      "source": [
        "# performing feature scaling on our training data\n",
        "from sklearn.preprocessing import StandardScaler\n",
        "scaler = StandardScaler()\n",
        "\n",
        "# fitting and transforming X_train while transforming X_test\n",
        "X_train = scaler.fit_transform(X_train) \n",
        "X_test = scaler.transform(X_test)"
      ],
      "execution_count": 68,
      "outputs": []
    },
    {
      "cell_type": "code",
      "metadata": {
        "id": "E3hBaXKTasIV"
      },
      "source": [
        "# loading our classification libraries\n",
        "from sklearn.linear_model import LogisticRegression # Logistic Regression Classifier\n",
        "from sklearn.tree import DecisionTreeClassifier     # Decision Tree Classifier\n",
        "from sklearn.svm import SVC                         # SVM Classifier\n",
        "from sklearn.naive_bayes import GaussianNB          # Naive Bayes Classifier\n",
        "from sklearn.neighbors import KNeighborsClassifier  # KNN Classifier\n",
        "\n",
        "# instantiating our classifiers\n",
        "logistic_classifier = LogisticRegression(random_state = 0, solver='lbfgs')\n",
        "decision_classifier = DecisionTreeClassifier()\n",
        "svm_classifier = SVC()\n",
        "knn_classifier = KNeighborsClassifier(n_neighbors=5)\n",
        "naive_classifier = GaussianNB()\n",
        "\n",
        "# fitting our classifiers to the training data\n",
        "logistic_classifier.fit(X_train, y_train)\n",
        "decision_classifier.fit(X_train, y_train)\n",
        "svm_classifier.fit(X_train, y_train)\n",
        "knn_classifier.fit(X_train, y_train)\n",
        "naive_classifier.fit(X_train, y_train)\n",
        "\n",
        "# making predictions\n",
        "logistic_y_prediction = logistic_classifier.predict(X_test) \n",
        "decision_y_prediction = decision_classifier.predict(X_test) \n",
        "svm_y_prediction = svm_classifier.predict(X_test) \n",
        "knn_y_prediction = knn_classifier.predict(X_test) \n",
        "naive_y_prediction = naive_classifier.predict(X_test)"
      ],
      "execution_count": 69,
      "outputs": []
    },
    {
      "cell_type": "code",
      "metadata": {
        "id": "KfXCA87-asIf",
        "colab": {
          "base_uri": "https://localhost:8080/"
        },
        "outputId": "97a7e0b2-226e-40b3-8278-7dffc8e6b9a5"
      },
      "source": [
        "# printing the classification report for each classifier to assess performance\n",
        "from sklearn.metrics import classification_report,accuracy_score\n",
        "\n",
        "# classification report for Logistic Regression\n",
        "print(\"Logistic Regression classification report:\")\n",
        "print(str(accuracy_score(logistic_y_prediction, y_test)) + '\\n')\n",
        "\n",
        "# classification report for Gaussian Naive Bayes Classifier\n",
        "print(\"Gaussian Naive Bayes classification report:\")\n",
        "print(str(accuracy_score(naive_y_prediction, y_test))+'\\n')\n",
        "\n",
        "# classification report for Decision Tree Classifier\n",
        "print(\"Decision Tree classification report:\")\n",
        "print(str(accuracy_score(decision_y_prediction, y_test))+'\\n')\n",
        "\n",
        "# classification report for K-Nearest Neighbors Classifier\n",
        "print(\"K-Nearest Neighbors classification report:\")\n",
        "print(str(accuracy_score(knn_y_prediction, y_test))+'\\n')\n",
        "\n",
        "# classification report for Support Vector Machine Classifier\n",
        "print(\"Support Vector Machine classification report:\")\n",
        "print(str(accuracy_score(svm_y_prediction, y_test))+'\\n')"
      ],
      "execution_count": 70,
      "outputs": [
        {
          "output_type": "stream",
          "text": [
            "Logistic Regression classification report:\n",
            "0.857\n",
            "\n",
            "Gaussian Naive Bayes classification report:\n",
            "0.844\n",
            "\n",
            "Decision Tree classification report:\n",
            "0.859\n",
            "\n",
            "K-Nearest Neighbors classification report:\n",
            "0.872\n",
            "\n",
            "Support Vector Machine classification report:\n",
            "0.887\n",
            "\n"
          ],
          "name": "stdout"
        }
      ]
    },
    {
      "cell_type": "markdown",
      "metadata": {
        "id": "vTbdjSrhVIiT"
      },
      "source": [
        "## <font color='#2F4F4F'>5. Summary of Findings</font>\n",
        "\n",
        "1. Most of the data in the dataset is normally distributed.\n",
        "\n",
        "2. The ratio of retained customers to those who churned very high at 4293:707. this is good for business but not good for our learning as it presents a biased dataset.\n",
        "\n",
        "3. We had 3 area codes featured where data from area code 415 represents half of the data used for learning. It is no wonder that Area code 415 then had the highest number of customers who churned followed by code 510.\n",
        "\n",
        "4. Very few customers are subscribed to International calling plans and further these churned more than those with the plan.\n",
        "\n",
        "5. The customers who made less than 2 CX calls had the highest churn rate.\n",
        "\n",
        "6. 4 pairs of features of customer data given below were found to have very high correlation and a member of each pair was thus dropped. \n",
        "  - 'total_day_minutes' and 'total_day_charge'\n",
        "  - 'total_eve_minutes' and 'total_eve_charge'\n",
        "  - 'total_night_minutes' and 'total_night_charge'\n",
        "  - 'total_intl_minutes' and 'total_intl_charge' \n",
        "\n",
        "7. The key features that negatively influence customer churn for MTN africa, based on the dataset provided are Number of Customer Service Calls, (Sad because CX should work the other way), Internaltional plan, day charges, evening and night charges in that order.\n",
        "\n",
        "8. *Different models have different accuracies, highest being SVM Classification Model at 88% accuracy followed by K-NN at 87%. Gaussian Naive Bayes  Classification comes at the bottom with 84%*\n"
      ]
    },
    {
      "cell_type": "markdown",
      "metadata": {
        "id": "noZz5YRQXKzi"
      },
      "source": [
        "## <font color='#2F4F4F'>6. Recommendations</font>\n",
        "\n",
        "1. We can compare the performance of the different models using other parameters.\n",
        "\n",
        "2. With less than 90% accuracy for all models, we could look at other means of raising this to say as close to 100% as possible, probably by engineering the features or other tuning of the models."
      ]
    },
    {
      "cell_type": "markdown",
      "metadata": {
        "id": "xrmHVMVsVS--"
      },
      "source": [
        "## <font color='#2F4F4F'>7. Challenging your Solution</font>\n",
        "Interesting observation during cleansing of the data was that in step two of the notebook we dropped two fields, Customer_ID and RecordID, which resulted to a loss of 7,892 records out of the total 12,892 customer records (which is very high i.e. 61%) leaving only 5,000 records.  Further investigations show that indeed we have unique 12,892 Customer_IDs and also the same number of unique RecordIDs. "
      ]
    },
    {
      "cell_type": "markdown",
      "metadata": {
        "id": "mDHJSVk-twOo"
      },
      "source": [
        "**Acknowledgements:**\r\n",
        "* **[Project Data](https://bit.ly/MTNTelcoDataset ) and [Dataset Glossary](https://bit.ly/3gTideq) sources.** \r\n",
        "* Many thanks to [AfterWork Data Science](https://afterwork.ai/) Fellowship for the opportunity to train and exercise on this dataset."
      ]
    },
    {
      "cell_type": "code",
      "metadata": {
        "id": "SnHy-gityFxe"
      },
      "source": [
        ""
      ],
      "execution_count": null,
      "outputs": []
    }
  ]
}