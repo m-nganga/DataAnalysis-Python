{
  "nbformat": 4,
  "nbformat_minor": 0,
  "metadata": {
    "kernelspec": {
      "display_name": "Python 3",
      "language": "python",
      "name": "python3"
    },
    "language_info": {
      "codemirror_mode": {
        "name": "ipython",
        "version": 3
      },
      "file_extension": ".py",
      "mimetype": "text/x-python",
      "name": "python",
      "nbconvert_exporter": "python",
      "pygments_lexer": "ipython3",
      "version": "3.7.4"
    },
    "colab": {
      "name": "7. Statistical Analysis With Python: Project [Michael Nganga].ipynb",
      "provenance": [],
      "collapsed_sections": [
        "Ee45mguRBJ40",
        "ctyrDbwjBJ41",
        "t5knWWM6BJ42",
        "SsRaHFwfBJ43",
        "1YLTcqDMBJ43"
      ]
    }
  },
  "cells": [
    {
      "cell_type": "markdown",
      "metadata": {
        "id": "ATDwMjleBJ4y"
      },
      "source": [
        "# <font color='#6a5acd'>Statistical Analysis with Python</font>"
      ]
    },
    {
      "cell_type": "markdown",
      "metadata": {
        "id": "yy9C9dLyBJ40"
      },
      "source": [
        "## <font color='#2F4F4F'>1. Defining the Question</font>"
      ]
    },
    {
      "cell_type": "markdown",
      "metadata": {
        "id": "Ee45mguRBJ40"
      },
      "source": [
        "### a) Specifying the Data Analysis Question\n",
        "Based on Kenya's Demographic Health Survey 2014, what are the main factors that can help determine the number of children born by women of reproductive age in Kenya? "
      ]
    },
    {
      "cell_type": "markdown",
      "metadata": {
        "id": "ctyrDbwjBJ41"
      },
      "source": [
        "### b) Defining the Metric for Success\n",
        "\n",
        "From the data examination, if we are able to come up with at least one factor that will determine child birth, we will have addressed the concern for our research."
      ]
    },
    {
      "cell_type": "markdown",
      "metadata": {
        "id": "t5knWWM6BJ42"
      },
      "source": [
        "### c) Understanding the context \n",
        "The Demographic and Health Surveys (DHS) Program has collected, analyzed, and disseminated accurate and representative data on population, health, HIV, and nutrition through more than 400 surveys in over 90 countries.\n",
        "\n",
        "The respondent for the provided data is a woman of a reproductive age."
      ]
    },
    {
      "cell_type": "markdown",
      "metadata": {
        "id": "SsRaHFwfBJ43"
      },
      "source": [
        "### d) Recording the Experimental Design\n",
        "\n",
        "1. Business Understanding : Understanding and assessing the business situation and goals.\n",
        "\n",
        "2. Data Understanding and Exploration\n",
        "  * Prerequisites\n",
        "     * Load requisite libraries \n",
        "     * Load and preview datasets.\n",
        "  * Data requirements understanding (Select the fundamental variables / features relevant to the business problem).\n",
        "\n",
        "3. Data Preparation\n",
        "  * Data quality assessment (Accuracy, Completeness, Consistency, Currency, Relevance, Validity and Uniqueness).\n",
        "  * Data cleaning\n",
        "  * Data integration and formatting\n",
        "  * Data transformation (merging datasets, reformatting fields, filtering records, ...) and enrichment (feature engineering)\n",
        "\n",
        "4. Deployment / Solution Implementation / Reporting"
      ]
    },
    {
      "cell_type": "markdown",
      "metadata": {
        "id": "1YLTcqDMBJ43"
      },
      "source": [
        "### e) Data Relevance\n",
        "The given dataset (sanitized) has relevant demographic and health data (population, health, HIV, and nutrition) which will help in answering the research question. We will however need to find out the importance of these features relative to the specific research question.\n",
        "****\n",
        "**Dataset Glossary**\n",
        "\n",
        "* CASEID: Unique Case identifier\n",
        "* V010: Respondents Year of Birth\n",
        "* V012: Respondents current age\n",
        "* V025: Type of residence\n",
        "* V024: Region\n",
        "* V106: The highest level of education\n",
        "* V152: Age of household head\n",
        "* V201: Total children ever born"
      ]
    },
    {
      "cell_type": "markdown",
      "metadata": {
        "id": "VkB4k57ZBJ44"
      },
      "source": [
        "## <font color='#2F4F4F'>2. Data Understanding and Exploration</font>"
      ]
    },
    {
      "cell_type": "code",
      "metadata": {
        "id": "HaTRnjkOBJ44"
      },
      "source": [
        "# loading libraries\n",
        "import pandas as pd\n",
        "import numpy as np\n",
        "\n",
        "import matplotlib.pyplot as plt\n",
        "import seaborn as sns"
      ],
      "execution_count": null,
      "outputs": []
    },
    {
      "cell_type": "code",
      "metadata": {
        "id": "PYGpdTddBJ4-",
        "colab": {
          "base_uri": "https://localhost:8080/",
          "height": 564
        },
        "outputId": "7689b5ea-7646-490d-8e99-2b9ba6cab6ee"
      },
      "source": [
        "# loading the main data set\n",
        "# kdhs2014 = pd.read_csv('kdhs2014_childfile.csv')\n",
        "kdhs2014 = pd.read_csv('https://bit.ly/khds_dataset',)\n",
        "kdhs2014.head(5)"
      ],
      "execution_count": null,
      "outputs": [
        {
          "output_type": "stream",
          "text": [
            "/usr/local/lib/python3.6/dist-packages/IPython/core/interactiveshell.py:2718: DtypeWarning: Columns (47,71,89,123,125,133,135,136,145,146,147,148,203,206,291,292,293,294,295,296,297,298,299,300,301,343,344,392,413,430,439,449,450,451,453,461,463,468,502,517,549,551,553,554,578,664,668,672,676,684,691,817,821,838,849,850,851,852,882,883,884,885,886,887,888,889,890,891,892,893,904,905,912,914,929,933,934,935,936,979,980,981,1007,1008,1009,1010,1011,1021,1022,1023) have mixed types.Specify dtype option on import or set low_memory=False.\n",
            "  interactivity=interactivity, compiler=compiler, result=result)\n"
          ],
          "name": "stderr"
        },
        {
          "output_type": "execute_result",
          "data": {
            "text/html": [
              "<div>\n",
              "<style scoped>\n",
              "    .dataframe tbody tr th:only-of-type {\n",
              "        vertical-align: middle;\n",
              "    }\n",
              "\n",
              "    .dataframe tbody tr th {\n",
              "        vertical-align: top;\n",
              "    }\n",
              "\n",
              "    .dataframe thead th {\n",
              "        text-align: right;\n",
              "    }\n",
              "</style>\n",
              "<table border=\"1\" class=\"dataframe\">\n",
              "  <thead>\n",
              "    <tr style=\"text-align: right;\">\n",
              "      <th></th>\n",
              "      <th>Unnamed: 0</th>\n",
              "      <th>CASEID</th>\n",
              "      <th>MIDX</th>\n",
              "      <th>V000</th>\n",
              "      <th>V001</th>\n",
              "      <th>V002</th>\n",
              "      <th>V003</th>\n",
              "      <th>V004</th>\n",
              "      <th>V005</th>\n",
              "      <th>V006</th>\n",
              "      <th>V007</th>\n",
              "      <th>V008</th>\n",
              "      <th>V009</th>\n",
              "      <th>V010</th>\n",
              "      <th>V011</th>\n",
              "      <th>V012</th>\n",
              "      <th>V013</th>\n",
              "      <th>V014</th>\n",
              "      <th>V015</th>\n",
              "      <th>V016</th>\n",
              "      <th>V017</th>\n",
              "      <th>V018</th>\n",
              "      <th>V019</th>\n",
              "      <th>V019A</th>\n",
              "      <th>V020</th>\n",
              "      <th>V021</th>\n",
              "      <th>V022</th>\n",
              "      <th>V023</th>\n",
              "      <th>V024</th>\n",
              "      <th>V025</th>\n",
              "      <th>V026</th>\n",
              "      <th>V027</th>\n",
              "      <th>V028</th>\n",
              "      <th>V029</th>\n",
              "      <th>V030</th>\n",
              "      <th>V031</th>\n",
              "      <th>V032</th>\n",
              "      <th>V034</th>\n",
              "      <th>V040</th>\n",
              "      <th>V042</th>\n",
              "      <th>...</th>\n",
              "      <th>SYPN1</th>\n",
              "      <th>SPN2</th>\n",
              "      <th>SDPN2</th>\n",
              "      <th>SMPN2</th>\n",
              "      <th>SYPN2</th>\n",
              "      <th>SPN3</th>\n",
              "      <th>SDPN3</th>\n",
              "      <th>SMPN3</th>\n",
              "      <th>SYPN3</th>\n",
              "      <th>SRV1</th>\n",
              "      <th>SDRV1</th>\n",
              "      <th>SMRV1</th>\n",
              "      <th>SYRV1</th>\n",
              "      <th>SRV2</th>\n",
              "      <th>SDRV2</th>\n",
              "      <th>SMRV2</th>\n",
              "      <th>SYRV2</th>\n",
              "      <th>SYF</th>\n",
              "      <th>SDYF</th>\n",
              "      <th>SMYF</th>\n",
              "      <th>SYYF</th>\n",
              "      <th>SAMZ</th>\n",
              "      <th>SDAMZ</th>\n",
              "      <th>SMAMZ</th>\n",
              "      <th>SYAMZ</th>\n",
              "      <th>S521BA</th>\n",
              "      <th>S521BB</th>\n",
              "      <th>S521BC</th>\n",
              "      <th>S521BD</th>\n",
              "      <th>S521BE</th>\n",
              "      <th>S521BX</th>\n",
              "      <th>S539AA</th>\n",
              "      <th>S539AB</th>\n",
              "      <th>S539AC</th>\n",
              "      <th>S539AD</th>\n",
              "      <th>S539AE</th>\n",
              "      <th>S539AF</th>\n",
              "      <th>S539AG</th>\n",
              "      <th>S539AY</th>\n",
              "      <th>S522C</th>\n",
              "    </tr>\n",
              "  </thead>\n",
              "  <tbody>\n",
              "    <tr>\n",
              "      <th>0</th>\n",
              "      <td>1</td>\n",
              "      <td>0001019 02</td>\n",
              "      <td>1</td>\n",
              "      <td>KE6</td>\n",
              "      <td>1</td>\n",
              "      <td>19</td>\n",
              "      <td>2</td>\n",
              "      <td>1</td>\n",
              "      <td>5476381</td>\n",
              "      <td>8</td>\n",
              "      <td>2014</td>\n",
              "      <td>1376</td>\n",
              "      <td>8</td>\n",
              "      <td>1991</td>\n",
              "      <td>1100</td>\n",
              "      <td>23</td>\n",
              "      <td>20-24</td>\n",
              "      <td>Month and year - information complete</td>\n",
              "      <td>Completed</td>\n",
              "      <td>19</td>\n",
              "      <td>1309</td>\n",
              "      <td>13</td>\n",
              "      <td>68</td>\n",
              "      <td>2</td>\n",
              "      <td>All woman sample</td>\n",
              "      <td>1</td>\n",
              "      <td>1</td>\n",
              "      <td>1</td>\n",
              "      <td>Nairobi</td>\n",
              "      <td>Urban</td>\n",
              "      <td>NaN</td>\n",
              "      <td>1</td>\n",
              "      <td>178</td>\n",
              "      <td>7</td>\n",
              "      <td>175</td>\n",
              "      <td>177</td>\n",
              "      <td>6.0</td>\n",
              "      <td>NaN</td>\n",
              "      <td>NaN</td>\n",
              "      <td>NaN</td>\n",
              "      <td>...</td>\n",
              "      <td>NaN</td>\n",
              "      <td>NaN</td>\n",
              "      <td>NaN</td>\n",
              "      <td>NaN</td>\n",
              "      <td>NaN</td>\n",
              "      <td>NaN</td>\n",
              "      <td>NaN</td>\n",
              "      <td>NaN</td>\n",
              "      <td>NaN</td>\n",
              "      <td>NaN</td>\n",
              "      <td>NaN</td>\n",
              "      <td>NaN</td>\n",
              "      <td>NaN</td>\n",
              "      <td>NaN</td>\n",
              "      <td>NaN</td>\n",
              "      <td>NaN</td>\n",
              "      <td>NaN</td>\n",
              "      <td>NaN</td>\n",
              "      <td>NaN</td>\n",
              "      <td>NaN</td>\n",
              "      <td>NaN</td>\n",
              "      <td>NaN</td>\n",
              "      <td>NaN</td>\n",
              "      <td>NaN</td>\n",
              "      <td>NaN</td>\n",
              "      <td>NaN</td>\n",
              "      <td>NaN</td>\n",
              "      <td>NaN</td>\n",
              "      <td>NaN</td>\n",
              "      <td>NaN</td>\n",
              "      <td>NaN</td>\n",
              "      <td>NaN</td>\n",
              "      <td>NaN</td>\n",
              "      <td>NaN</td>\n",
              "      <td>NaN</td>\n",
              "      <td>NaN</td>\n",
              "      <td>NaN</td>\n",
              "      <td>NaN</td>\n",
              "      <td>NaN</td>\n",
              "      <td>NaN</td>\n",
              "    </tr>\n",
              "    <tr>\n",
              "      <th>1</th>\n",
              "      <td>2</td>\n",
              "      <td>0001019 03</td>\n",
              "      <td>1</td>\n",
              "      <td>KE6</td>\n",
              "      <td>1</td>\n",
              "      <td>19</td>\n",
              "      <td>3</td>\n",
              "      <td>1</td>\n",
              "      <td>5476381</td>\n",
              "      <td>8</td>\n",
              "      <td>2014</td>\n",
              "      <td>1376</td>\n",
              "      <td>2</td>\n",
              "      <td>1991</td>\n",
              "      <td>1094</td>\n",
              "      <td>23</td>\n",
              "      <td>20-24</td>\n",
              "      <td>Month and year - information complete</td>\n",
              "      <td>Completed</td>\n",
              "      <td>31</td>\n",
              "      <td>1309</td>\n",
              "      <td>13</td>\n",
              "      <td>68</td>\n",
              "      <td>2</td>\n",
              "      <td>All woman sample</td>\n",
              "      <td>1</td>\n",
              "      <td>1</td>\n",
              "      <td>1</td>\n",
              "      <td>Nairobi</td>\n",
              "      <td>Urban</td>\n",
              "      <td>NaN</td>\n",
              "      <td>3</td>\n",
              "      <td>178</td>\n",
              "      <td>7</td>\n",
              "      <td>175</td>\n",
              "      <td>177</td>\n",
              "      <td>6.0</td>\n",
              "      <td>NaN</td>\n",
              "      <td>NaN</td>\n",
              "      <td>NaN</td>\n",
              "      <td>...</td>\n",
              "      <td>NaN</td>\n",
              "      <td>NaN</td>\n",
              "      <td>NaN</td>\n",
              "      <td>NaN</td>\n",
              "      <td>NaN</td>\n",
              "      <td>NaN</td>\n",
              "      <td>NaN</td>\n",
              "      <td>NaN</td>\n",
              "      <td>NaN</td>\n",
              "      <td>NaN</td>\n",
              "      <td>NaN</td>\n",
              "      <td>NaN</td>\n",
              "      <td>NaN</td>\n",
              "      <td>NaN</td>\n",
              "      <td>NaN</td>\n",
              "      <td>NaN</td>\n",
              "      <td>NaN</td>\n",
              "      <td>NaN</td>\n",
              "      <td>NaN</td>\n",
              "      <td>NaN</td>\n",
              "      <td>NaN</td>\n",
              "      <td>NaN</td>\n",
              "      <td>NaN</td>\n",
              "      <td>NaN</td>\n",
              "      <td>NaN</td>\n",
              "      <td>NaN</td>\n",
              "      <td>NaN</td>\n",
              "      <td>NaN</td>\n",
              "      <td>NaN</td>\n",
              "      <td>NaN</td>\n",
              "      <td>NaN</td>\n",
              "      <td>NaN</td>\n",
              "      <td>NaN</td>\n",
              "      <td>NaN</td>\n",
              "      <td>NaN</td>\n",
              "      <td>NaN</td>\n",
              "      <td>NaN</td>\n",
              "      <td>NaN</td>\n",
              "      <td>NaN</td>\n",
              "      <td>NaN</td>\n",
              "    </tr>\n",
              "    <tr>\n",
              "      <th>2</th>\n",
              "      <td>3</td>\n",
              "      <td>0001033 02</td>\n",
              "      <td>1</td>\n",
              "      <td>KE6</td>\n",
              "      <td>1</td>\n",
              "      <td>33</td>\n",
              "      <td>2</td>\n",
              "      <td>1</td>\n",
              "      <td>5476381</td>\n",
              "      <td>8</td>\n",
              "      <td>2014</td>\n",
              "      <td>1376</td>\n",
              "      <td>8</td>\n",
              "      <td>1988</td>\n",
              "      <td>1064</td>\n",
              "      <td>26</td>\n",
              "      <td>25-29</td>\n",
              "      <td>Month and year - information complete</td>\n",
              "      <td>Completed</td>\n",
              "      <td>19</td>\n",
              "      <td>1309</td>\n",
              "      <td>13</td>\n",
              "      <td>68</td>\n",
              "      <td>2</td>\n",
              "      <td>All woman sample</td>\n",
              "      <td>1</td>\n",
              "      <td>1</td>\n",
              "      <td>1</td>\n",
              "      <td>Nairobi</td>\n",
              "      <td>Urban</td>\n",
              "      <td>NaN</td>\n",
              "      <td>1</td>\n",
              "      <td>179</td>\n",
              "      <td>7</td>\n",
              "      <td>175</td>\n",
              "      <td>177</td>\n",
              "      <td>6.0</td>\n",
              "      <td>1</td>\n",
              "      <td>NaN</td>\n",
              "      <td>NaN</td>\n",
              "      <td>...</td>\n",
              "      <td>NaN</td>\n",
              "      <td>NaN</td>\n",
              "      <td>NaN</td>\n",
              "      <td>NaN</td>\n",
              "      <td>NaN</td>\n",
              "      <td>NaN</td>\n",
              "      <td>NaN</td>\n",
              "      <td>NaN</td>\n",
              "      <td>NaN</td>\n",
              "      <td>NaN</td>\n",
              "      <td>NaN</td>\n",
              "      <td>NaN</td>\n",
              "      <td>NaN</td>\n",
              "      <td>NaN</td>\n",
              "      <td>NaN</td>\n",
              "      <td>NaN</td>\n",
              "      <td>NaN</td>\n",
              "      <td>NaN</td>\n",
              "      <td>NaN</td>\n",
              "      <td>NaN</td>\n",
              "      <td>NaN</td>\n",
              "      <td>NaN</td>\n",
              "      <td>NaN</td>\n",
              "      <td>NaN</td>\n",
              "      <td>NaN</td>\n",
              "      <td>NaN</td>\n",
              "      <td>NaN</td>\n",
              "      <td>NaN</td>\n",
              "      <td>NaN</td>\n",
              "      <td>NaN</td>\n",
              "      <td>NaN</td>\n",
              "      <td>NaN</td>\n",
              "      <td>NaN</td>\n",
              "      <td>NaN</td>\n",
              "      <td>NaN</td>\n",
              "      <td>NaN</td>\n",
              "      <td>NaN</td>\n",
              "      <td>NaN</td>\n",
              "      <td>NaN</td>\n",
              "      <td>NaN</td>\n",
              "    </tr>\n",
              "    <tr>\n",
              "      <th>3</th>\n",
              "      <td>4</td>\n",
              "      <td>0001033 02</td>\n",
              "      <td>2</td>\n",
              "      <td>KE6</td>\n",
              "      <td>1</td>\n",
              "      <td>33</td>\n",
              "      <td>2</td>\n",
              "      <td>1</td>\n",
              "      <td>5476381</td>\n",
              "      <td>8</td>\n",
              "      <td>2014</td>\n",
              "      <td>1376</td>\n",
              "      <td>8</td>\n",
              "      <td>1988</td>\n",
              "      <td>1064</td>\n",
              "      <td>26</td>\n",
              "      <td>25-29</td>\n",
              "      <td>Month and year - information complete</td>\n",
              "      <td>Completed</td>\n",
              "      <td>19</td>\n",
              "      <td>1309</td>\n",
              "      <td>13</td>\n",
              "      <td>68</td>\n",
              "      <td>2</td>\n",
              "      <td>All woman sample</td>\n",
              "      <td>1</td>\n",
              "      <td>1</td>\n",
              "      <td>1</td>\n",
              "      <td>Nairobi</td>\n",
              "      <td>Urban</td>\n",
              "      <td>NaN</td>\n",
              "      <td>1</td>\n",
              "      <td>179</td>\n",
              "      <td>7</td>\n",
              "      <td>175</td>\n",
              "      <td>177</td>\n",
              "      <td>6.0</td>\n",
              "      <td>1</td>\n",
              "      <td>NaN</td>\n",
              "      <td>NaN</td>\n",
              "      <td>...</td>\n",
              "      <td>NaN</td>\n",
              "      <td>NaN</td>\n",
              "      <td>NaN</td>\n",
              "      <td>NaN</td>\n",
              "      <td>NaN</td>\n",
              "      <td>NaN</td>\n",
              "      <td>NaN</td>\n",
              "      <td>NaN</td>\n",
              "      <td>NaN</td>\n",
              "      <td>NaN</td>\n",
              "      <td>NaN</td>\n",
              "      <td>NaN</td>\n",
              "      <td>NaN</td>\n",
              "      <td>NaN</td>\n",
              "      <td>NaN</td>\n",
              "      <td>NaN</td>\n",
              "      <td>NaN</td>\n",
              "      <td>NaN</td>\n",
              "      <td>NaN</td>\n",
              "      <td>NaN</td>\n",
              "      <td>NaN</td>\n",
              "      <td>NaN</td>\n",
              "      <td>NaN</td>\n",
              "      <td>NaN</td>\n",
              "      <td>NaN</td>\n",
              "      <td>NaN</td>\n",
              "      <td>NaN</td>\n",
              "      <td>NaN</td>\n",
              "      <td>NaN</td>\n",
              "      <td>NaN</td>\n",
              "      <td>NaN</td>\n",
              "      <td>NaN</td>\n",
              "      <td>NaN</td>\n",
              "      <td>NaN</td>\n",
              "      <td>NaN</td>\n",
              "      <td>NaN</td>\n",
              "      <td>NaN</td>\n",
              "      <td>NaN</td>\n",
              "      <td>NaN</td>\n",
              "      <td>NaN</td>\n",
              "    </tr>\n",
              "    <tr>\n",
              "      <th>4</th>\n",
              "      <td>5</td>\n",
              "      <td>0001037 02</td>\n",
              "      <td>1</td>\n",
              "      <td>KE6</td>\n",
              "      <td>1</td>\n",
              "      <td>37</td>\n",
              "      <td>2</td>\n",
              "      <td>1</td>\n",
              "      <td>5476381</td>\n",
              "      <td>8</td>\n",
              "      <td>2014</td>\n",
              "      <td>1376</td>\n",
              "      <td>2</td>\n",
              "      <td>1992</td>\n",
              "      <td>1106</td>\n",
              "      <td>22</td>\n",
              "      <td>20-24</td>\n",
              "      <td>Month and year - information complete</td>\n",
              "      <td>Completed</td>\n",
              "      <td>19</td>\n",
              "      <td>1309</td>\n",
              "      <td>13</td>\n",
              "      <td>68</td>\n",
              "      <td>2</td>\n",
              "      <td>All woman sample</td>\n",
              "      <td>1</td>\n",
              "      <td>1</td>\n",
              "      <td>1</td>\n",
              "      <td>Nairobi</td>\n",
              "      <td>Urban</td>\n",
              "      <td>NaN</td>\n",
              "      <td>1</td>\n",
              "      <td>178</td>\n",
              "      <td>7</td>\n",
              "      <td>175</td>\n",
              "      <td>177</td>\n",
              "      <td>6.0</td>\n",
              "      <td>1</td>\n",
              "      <td>NaN</td>\n",
              "      <td>NaN</td>\n",
              "      <td>...</td>\n",
              "      <td>NaN</td>\n",
              "      <td>NaN</td>\n",
              "      <td>NaN</td>\n",
              "      <td>NaN</td>\n",
              "      <td>NaN</td>\n",
              "      <td>NaN</td>\n",
              "      <td>NaN</td>\n",
              "      <td>NaN</td>\n",
              "      <td>NaN</td>\n",
              "      <td>NaN</td>\n",
              "      <td>NaN</td>\n",
              "      <td>NaN</td>\n",
              "      <td>NaN</td>\n",
              "      <td>NaN</td>\n",
              "      <td>NaN</td>\n",
              "      <td>NaN</td>\n",
              "      <td>NaN</td>\n",
              "      <td>NaN</td>\n",
              "      <td>NaN</td>\n",
              "      <td>NaN</td>\n",
              "      <td>NaN</td>\n",
              "      <td>NaN</td>\n",
              "      <td>NaN</td>\n",
              "      <td>NaN</td>\n",
              "      <td>NaN</td>\n",
              "      <td>NaN</td>\n",
              "      <td>NaN</td>\n",
              "      <td>NaN</td>\n",
              "      <td>NaN</td>\n",
              "      <td>NaN</td>\n",
              "      <td>NaN</td>\n",
              "      <td>NaN</td>\n",
              "      <td>NaN</td>\n",
              "      <td>NaN</td>\n",
              "      <td>NaN</td>\n",
              "      <td>NaN</td>\n",
              "      <td>NaN</td>\n",
              "      <td>NaN</td>\n",
              "      <td>NaN</td>\n",
              "      <td>NaN</td>\n",
              "    </tr>\n",
              "  </tbody>\n",
              "</table>\n",
              "<p>5 rows × 1100 columns</p>\n",
              "</div>"
            ],
            "text/plain": [
              "   Unnamed: 0           CASEID  MIDX V000  ...  S539AF  S539AG  S539AY  S522C\n",
              "0           1       0001019 02     1  KE6  ...     NaN     NaN     NaN    NaN\n",
              "1           2       0001019 03     1  KE6  ...     NaN     NaN     NaN    NaN\n",
              "2           3       0001033 02     1  KE6  ...     NaN     NaN     NaN    NaN\n",
              "3           4       0001033 02     2  KE6  ...     NaN     NaN     NaN    NaN\n",
              "4           5       0001037 02     1  KE6  ...     NaN     NaN     NaN    NaN\n",
              "\n",
              "[5 rows x 1100 columns]"
            ]
          },
          "metadata": {
            "tags": []
          },
          "execution_count": 2
        }
      ]
    },
    {
      "cell_type": "code",
      "metadata": {
        "colab": {
          "base_uri": "https://localhost:8080/"
        },
        "id": "QpegP7K2EPGr",
        "outputId": "4b4bec8f-bd4e-48e2-9763-39099c1867e2"
      },
      "source": [
        "# Check the shape of the dataset\n",
        "\n",
        "kdhs2014.shape"
      ],
      "execution_count": null,
      "outputs": [
        {
          "output_type": "execute_result",
          "data": {
            "text/plain": [
              "(20964, 1100)"
            ]
          },
          "metadata": {
            "tags": []
          },
          "execution_count": 4
        }
      ]
    },
    {
      "cell_type": "code",
      "metadata": {
        "id": "dwb38gMWBJ5C",
        "colab": {
          "base_uri": "https://localhost:8080/",
          "height": 202
        },
        "outputId": "fc13fe31-6e4d-46ec-defb-6e1b86aee41f"
      },
      "source": [
        "# Selecting only the relevant columns\n",
        "\n",
        "df_kdhs = kdhs2014[['CASEID', 'V010', 'V012', 'V025', 'V024', 'V106', 'V152', 'V201']]\n",
        "df_kdhs.head()"
      ],
      "execution_count": null,
      "outputs": [
        {
          "output_type": "execute_result",
          "data": {
            "text/html": [
              "<div>\n",
              "<style scoped>\n",
              "    .dataframe tbody tr th:only-of-type {\n",
              "        vertical-align: middle;\n",
              "    }\n",
              "\n",
              "    .dataframe tbody tr th {\n",
              "        vertical-align: top;\n",
              "    }\n",
              "\n",
              "    .dataframe thead th {\n",
              "        text-align: right;\n",
              "    }\n",
              "</style>\n",
              "<table border=\"1\" class=\"dataframe\">\n",
              "  <thead>\n",
              "    <tr style=\"text-align: right;\">\n",
              "      <th></th>\n",
              "      <th>CASEID</th>\n",
              "      <th>V010</th>\n",
              "      <th>V012</th>\n",
              "      <th>V025</th>\n",
              "      <th>V024</th>\n",
              "      <th>V106</th>\n",
              "      <th>V152</th>\n",
              "      <th>V201</th>\n",
              "    </tr>\n",
              "  </thead>\n",
              "  <tbody>\n",
              "    <tr>\n",
              "      <th>0</th>\n",
              "      <td>0001019 02</td>\n",
              "      <td>1991</td>\n",
              "      <td>23</td>\n",
              "      <td>Urban</td>\n",
              "      <td>Nairobi</td>\n",
              "      <td>Secondary</td>\n",
              "      <td>52.0</td>\n",
              "      <td>2</td>\n",
              "    </tr>\n",
              "    <tr>\n",
              "      <th>1</th>\n",
              "      <td>0001019 03</td>\n",
              "      <td>1991</td>\n",
              "      <td>23</td>\n",
              "      <td>Urban</td>\n",
              "      <td>Nairobi</td>\n",
              "      <td>Secondary</td>\n",
              "      <td>52.0</td>\n",
              "      <td>1</td>\n",
              "    </tr>\n",
              "    <tr>\n",
              "      <th>2</th>\n",
              "      <td>0001033 02</td>\n",
              "      <td>1988</td>\n",
              "      <td>26</td>\n",
              "      <td>Urban</td>\n",
              "      <td>Nairobi</td>\n",
              "      <td>Secondary</td>\n",
              "      <td>27.0</td>\n",
              "      <td>2</td>\n",
              "    </tr>\n",
              "    <tr>\n",
              "      <th>3</th>\n",
              "      <td>0001033 02</td>\n",
              "      <td>1988</td>\n",
              "      <td>26</td>\n",
              "      <td>Urban</td>\n",
              "      <td>Nairobi</td>\n",
              "      <td>Secondary</td>\n",
              "      <td>27.0</td>\n",
              "      <td>2</td>\n",
              "    </tr>\n",
              "    <tr>\n",
              "      <th>4</th>\n",
              "      <td>0001037 02</td>\n",
              "      <td>1992</td>\n",
              "      <td>22</td>\n",
              "      <td>Urban</td>\n",
              "      <td>Nairobi</td>\n",
              "      <td>Primary</td>\n",
              "      <td>29.0</td>\n",
              "      <td>3</td>\n",
              "    </tr>\n",
              "  </tbody>\n",
              "</table>\n",
              "</div>"
            ],
            "text/plain": [
              "            CASEID  V010  V012   V025     V024       V106  V152  V201\n",
              "0       0001019 02  1991    23  Urban  Nairobi  Secondary  52.0     2\n",
              "1       0001019 03  1991    23  Urban  Nairobi  Secondary  52.0     1\n",
              "2       0001033 02  1988    26  Urban  Nairobi  Secondary  27.0     2\n",
              "3       0001033 02  1988    26  Urban  Nairobi  Secondary  27.0     2\n",
              "4       0001037 02  1992    22  Urban  Nairobi    Primary  29.0     3"
            ]
          },
          "metadata": {
            "tags": []
          },
          "execution_count": 5
        }
      ]
    },
    {
      "cell_type": "code",
      "metadata": {
        "colab": {
          "base_uri": "https://localhost:8080/",
          "height": 202
        },
        "id": "GVf-fUykGwVq",
        "outputId": "c5e3da20-867e-4f68-899a-ce1c032e845c"
      },
      "source": [
        "# We will proceed to give descriptive labels (rename) to these features.\n",
        "\n",
        "new_labels = ['case_id', 'birth_year', 'age', 'residence', 'region', 'education', 'age_head', 'total_kids']\n",
        "df_kdhs.columns = new_labels\n",
        "df_kdhs.head()"
      ],
      "execution_count": null,
      "outputs": [
        {
          "output_type": "execute_result",
          "data": {
            "text/html": [
              "<div>\n",
              "<style scoped>\n",
              "    .dataframe tbody tr th:only-of-type {\n",
              "        vertical-align: middle;\n",
              "    }\n",
              "\n",
              "    .dataframe tbody tr th {\n",
              "        vertical-align: top;\n",
              "    }\n",
              "\n",
              "    .dataframe thead th {\n",
              "        text-align: right;\n",
              "    }\n",
              "</style>\n",
              "<table border=\"1\" class=\"dataframe\">\n",
              "  <thead>\n",
              "    <tr style=\"text-align: right;\">\n",
              "      <th></th>\n",
              "      <th>case_id</th>\n",
              "      <th>birth_year</th>\n",
              "      <th>age</th>\n",
              "      <th>residence</th>\n",
              "      <th>region</th>\n",
              "      <th>education</th>\n",
              "      <th>age_head</th>\n",
              "      <th>total_kids</th>\n",
              "    </tr>\n",
              "  </thead>\n",
              "  <tbody>\n",
              "    <tr>\n",
              "      <th>0</th>\n",
              "      <td>0001019 02</td>\n",
              "      <td>1991</td>\n",
              "      <td>23</td>\n",
              "      <td>Urban</td>\n",
              "      <td>Nairobi</td>\n",
              "      <td>Secondary</td>\n",
              "      <td>52.0</td>\n",
              "      <td>2</td>\n",
              "    </tr>\n",
              "    <tr>\n",
              "      <th>1</th>\n",
              "      <td>0001019 03</td>\n",
              "      <td>1991</td>\n",
              "      <td>23</td>\n",
              "      <td>Urban</td>\n",
              "      <td>Nairobi</td>\n",
              "      <td>Secondary</td>\n",
              "      <td>52.0</td>\n",
              "      <td>1</td>\n",
              "    </tr>\n",
              "    <tr>\n",
              "      <th>2</th>\n",
              "      <td>0001033 02</td>\n",
              "      <td>1988</td>\n",
              "      <td>26</td>\n",
              "      <td>Urban</td>\n",
              "      <td>Nairobi</td>\n",
              "      <td>Secondary</td>\n",
              "      <td>27.0</td>\n",
              "      <td>2</td>\n",
              "    </tr>\n",
              "    <tr>\n",
              "      <th>3</th>\n",
              "      <td>0001033 02</td>\n",
              "      <td>1988</td>\n",
              "      <td>26</td>\n",
              "      <td>Urban</td>\n",
              "      <td>Nairobi</td>\n",
              "      <td>Secondary</td>\n",
              "      <td>27.0</td>\n",
              "      <td>2</td>\n",
              "    </tr>\n",
              "    <tr>\n",
              "      <th>4</th>\n",
              "      <td>0001037 02</td>\n",
              "      <td>1992</td>\n",
              "      <td>22</td>\n",
              "      <td>Urban</td>\n",
              "      <td>Nairobi</td>\n",
              "      <td>Primary</td>\n",
              "      <td>29.0</td>\n",
              "      <td>3</td>\n",
              "    </tr>\n",
              "  </tbody>\n",
              "</table>\n",
              "</div>"
            ],
            "text/plain": [
              "           case_id  birth_year  age  ...  education age_head total_kids\n",
              "0       0001019 02        1991   23  ...  Secondary     52.0          2\n",
              "1       0001019 03        1991   23  ...  Secondary     52.0          1\n",
              "2       0001033 02        1988   26  ...  Secondary     27.0          2\n",
              "3       0001033 02        1988   26  ...  Secondary     27.0          2\n",
              "4       0001037 02        1992   22  ...    Primary     29.0          3\n",
              "\n",
              "[5 rows x 8 columns]"
            ]
          },
          "metadata": {
            "tags": []
          },
          "execution_count": 6
        }
      ]
    },
    {
      "cell_type": "markdown",
      "metadata": {
        "id": "zDZQF1jOCqI9"
      },
      "source": [
        "## <font color='#2F4F4F'>3. Data Preparation</font>"
      ]
    },
    {
      "cell_type": "code",
      "metadata": {
        "id": "Ujo55ZIgDRjv",
        "colab": {
          "base_uri": "https://localhost:8080/"
        },
        "outputId": "b3d33060-164f-4e4a-e041-ff326199392d"
      },
      "source": [
        "# finding and dealing with null values\n",
        "\n",
        "df_kdhs.isnull().sum()"
      ],
      "execution_count": null,
      "outputs": [
        {
          "output_type": "execute_result",
          "data": {
            "text/plain": [
              "case_id       0\n",
              "birth_year    0\n",
              "age           0\n",
              "residence     0\n",
              "region        0\n",
              "education     0\n",
              "age_head      1\n",
              "total_kids    0\n",
              "dtype: int64"
            ]
          },
          "metadata": {
            "tags": []
          },
          "execution_count": 7
        }
      ]
    },
    {
      "cell_type": "code",
      "metadata": {
        "colab": {
          "base_uri": "https://localhost:8080/"
        },
        "id": "4eTJqIGiPY9l",
        "outputId": "6cbb4fea-85ae-4deb-ef6c-5b60bd727555"
      },
      "source": [
        "# We only have 1 record in the entire dataset with null entry in the age of the household column.\n",
        "# for completeness of our data, we choose to retain this record and fill the null with the average age of the households.\n",
        "\n",
        "avg_age_head = df_kdhs['age_head'].mean()\n",
        "avg_age_head"
      ],
      "execution_count": null,
      "outputs": [
        {
          "output_type": "execute_result",
          "data": {
            "text/plain": [
              "37.958116681772644"
            ]
          },
          "metadata": {
            "tags": []
          },
          "execution_count": 10
        }
      ]
    },
    {
      "cell_type": "code",
      "metadata": {
        "colab": {
          "base_uri": "https://localhost:8080/"
        },
        "id": "GLeVEu8FzJmf",
        "outputId": "911cd31f-b409-4d09-c9b3-46f988244226"
      },
      "source": [
        "df_kdhs['age_head'].fillna(avg_age_head, inplace = True)"
      ],
      "execution_count": null,
      "outputs": [
        {
          "output_type": "stream",
          "text": [
            "/usr/local/lib/python3.6/dist-packages/pandas/core/series.py:4535: SettingWithCopyWarning: \n",
            "A value is trying to be set on a copy of a slice from a DataFrame\n",
            "\n",
            "See the caveats in the documentation: https://pandas.pydata.org/pandas-docs/stable/user_guide/indexing.html#returning-a-view-versus-a-copy\n",
            "  downcast=downcast,\n"
          ],
          "name": "stderr"
        }
      ]
    },
    {
      "cell_type": "code",
      "metadata": {
        "id": "dwSYPwiJDRW5",
        "colab": {
          "base_uri": "https://localhost:8080/"
        },
        "outputId": "411ae047-2cdc-4cc8-d0ba-bb42f17ffef2"
      },
      "source": [
        "# Performing data conversion. first check the datatypes for all columns\n",
        "\n",
        "df_kdhs.dtypes"
      ],
      "execution_count": null,
      "outputs": [
        {
          "output_type": "execute_result",
          "data": {
            "text/plain": [
              "case_id        object\n",
              "birth_year      int64\n",
              "age             int64\n",
              "residence      object\n",
              "region         object\n",
              "education      object\n",
              "age_head      float64\n",
              "total_kids      int64\n",
              "dtype: object"
            ]
          },
          "metadata": {
            "tags": []
          },
          "execution_count": 12
        }
      ]
    },
    {
      "cell_type": "markdown",
      "metadata": {
        "id": "kiJ-j0mJS4gx"
      },
      "source": [
        "*From the above analysis of the datatypes, we notice that there is no need for datatype conversion as all fields' datatypes conform to their respective needs.*"
      ]
    },
    {
      "cell_type": "code",
      "metadata": {
        "id": "xt407vvhBJ5G",
        "colab": {
          "base_uri": "https://localhost:8080/"
        },
        "outputId": "399fbc5b-5b3e-4795-83c7-ed1a714ed8a2"
      },
      "source": [
        "# dropping duplicates. Let's check if we have any duplicates in the dataset.\n",
        "# specific reference should be the duplication of unique case_id\n",
        "\n",
        "df_kdhs.duplicated().any()"
      ],
      "execution_count": null,
      "outputs": [
        {
          "output_type": "execute_result",
          "data": {
            "text/plain": [
              "True"
            ]
          },
          "metadata": {
            "tags": []
          },
          "execution_count": 13
        }
      ]
    },
    {
      "cell_type": "markdown",
      "metadata": {
        "id": "mn_3x44ZV-Uh"
      },
      "source": [
        "We notice that there are duplicated records in the dataset and we will find out which they are before we drop them (or handle them as appropriate)"
      ]
    },
    {
      "cell_type": "code",
      "metadata": {
        "colab": {
          "base_uri": "https://localhost:8080/",
          "height": 416
        },
        "id": "0mFHIW7JV8rJ",
        "outputId": "95b21dc5-72c4-4ae3-b6e4-47e534abcab7"
      },
      "source": [
        "# Read the duplicated records in a separate dataframe and sample them.\n",
        "\n",
        "df_duplicated = df_kdhs[df_kdhs.duplicated()]\n",
        "df_duplicated"
      ],
      "execution_count": null,
      "outputs": [
        {
          "output_type": "execute_result",
          "data": {
            "text/html": [
              "<div>\n",
              "<style scoped>\n",
              "    .dataframe tbody tr th:only-of-type {\n",
              "        vertical-align: middle;\n",
              "    }\n",
              "\n",
              "    .dataframe tbody tr th {\n",
              "        vertical-align: top;\n",
              "    }\n",
              "\n",
              "    .dataframe thead th {\n",
              "        text-align: right;\n",
              "    }\n",
              "</style>\n",
              "<table border=\"1\" class=\"dataframe\">\n",
              "  <thead>\n",
              "    <tr style=\"text-align: right;\">\n",
              "      <th></th>\n",
              "      <th>case_id</th>\n",
              "      <th>birth_year</th>\n",
              "      <th>age</th>\n",
              "      <th>residence</th>\n",
              "      <th>region</th>\n",
              "      <th>education</th>\n",
              "      <th>age_head</th>\n",
              "      <th>total_kids</th>\n",
              "    </tr>\n",
              "  </thead>\n",
              "  <tbody>\n",
              "    <tr>\n",
              "      <th>3</th>\n",
              "      <td>0001033 02</td>\n",
              "      <td>1988</td>\n",
              "      <td>26</td>\n",
              "      <td>Urban</td>\n",
              "      <td>Nairobi</td>\n",
              "      <td>Secondary</td>\n",
              "      <td>27.0</td>\n",
              "      <td>2</td>\n",
              "    </tr>\n",
              "    <tr>\n",
              "      <th>5</th>\n",
              "      <td>0001037 02</td>\n",
              "      <td>1992</td>\n",
              "      <td>22</td>\n",
              "      <td>Urban</td>\n",
              "      <td>Nairobi</td>\n",
              "      <td>Primary</td>\n",
              "      <td>29.0</td>\n",
              "      <td>3</td>\n",
              "    </tr>\n",
              "    <tr>\n",
              "      <th>8</th>\n",
              "      <td>0001059 02</td>\n",
              "      <td>1992</td>\n",
              "      <td>21</td>\n",
              "      <td>Urban</td>\n",
              "      <td>Nairobi</td>\n",
              "      <td>Secondary</td>\n",
              "      <td>22.0</td>\n",
              "      <td>3</td>\n",
              "    </tr>\n",
              "    <tr>\n",
              "      <th>9</th>\n",
              "      <td>0001059 02</td>\n",
              "      <td>1992</td>\n",
              "      <td>21</td>\n",
              "      <td>Urban</td>\n",
              "      <td>Nairobi</td>\n",
              "      <td>Secondary</td>\n",
              "      <td>22.0</td>\n",
              "      <td>3</td>\n",
              "    </tr>\n",
              "    <tr>\n",
              "      <th>17</th>\n",
              "      <td>0002016 02</td>\n",
              "      <td>1990</td>\n",
              "      <td>24</td>\n",
              "      <td>Urban</td>\n",
              "      <td>Nairobi</td>\n",
              "      <td>Secondary</td>\n",
              "      <td>31.0</td>\n",
              "      <td>2</td>\n",
              "    </tr>\n",
              "    <tr>\n",
              "      <th>...</th>\n",
              "      <td>...</td>\n",
              "      <td>...</td>\n",
              "      <td>...</td>\n",
              "      <td>...</td>\n",
              "      <td>...</td>\n",
              "      <td>...</td>\n",
              "      <td>...</td>\n",
              "      <td>...</td>\n",
              "    </tr>\n",
              "    <tr>\n",
              "      <th>20951</th>\n",
              "      <td>1611139 04</td>\n",
              "      <td>1988</td>\n",
              "      <td>25</td>\n",
              "      <td>Urban</td>\n",
              "      <td>Western</td>\n",
              "      <td>Higher</td>\n",
              "      <td>57.0</td>\n",
              "      <td>2</td>\n",
              "    </tr>\n",
              "    <tr>\n",
              "      <th>20955</th>\n",
              "      <td>1612008 02</td>\n",
              "      <td>1987</td>\n",
              "      <td>26</td>\n",
              "      <td>Urban</td>\n",
              "      <td>Western</td>\n",
              "      <td>Higher</td>\n",
              "      <td>28.0</td>\n",
              "      <td>2</td>\n",
              "    </tr>\n",
              "    <tr>\n",
              "      <th>20957</th>\n",
              "      <td>1612015 02</td>\n",
              "      <td>1989</td>\n",
              "      <td>25</td>\n",
              "      <td>Urban</td>\n",
              "      <td>Western</td>\n",
              "      <td>Primary</td>\n",
              "      <td>24.0</td>\n",
              "      <td>3</td>\n",
              "    </tr>\n",
              "    <tr>\n",
              "      <th>20959</th>\n",
              "      <td>1612041 02</td>\n",
              "      <td>1988</td>\n",
              "      <td>25</td>\n",
              "      <td>Urban</td>\n",
              "      <td>Western</td>\n",
              "      <td>Primary</td>\n",
              "      <td>28.0</td>\n",
              "      <td>2</td>\n",
              "    </tr>\n",
              "    <tr>\n",
              "      <th>20963</th>\n",
              "      <td>1612134 02</td>\n",
              "      <td>1972</td>\n",
              "      <td>41</td>\n",
              "      <td>Urban</td>\n",
              "      <td>Western</td>\n",
              "      <td>No education</td>\n",
              "      <td>45.0</td>\n",
              "      <td>10</td>\n",
              "    </tr>\n",
              "  </tbody>\n",
              "</table>\n",
              "<p>6015 rows × 8 columns</p>\n",
              "</div>"
            ],
            "text/plain": [
              "               case_id  birth_year  age  ...     education age_head total_kids\n",
              "3           0001033 02        1988   26  ...     Secondary     27.0          2\n",
              "5           0001037 02        1992   22  ...       Primary     29.0          3\n",
              "8           0001059 02        1992   21  ...     Secondary     22.0          3\n",
              "9           0001059 02        1992   21  ...     Secondary     22.0          3\n",
              "17          0002016 02        1990   24  ...     Secondary     31.0          2\n",
              "...                ...         ...  ...  ...           ...      ...        ...\n",
              "20951       1611139 04        1988   25  ...        Higher     57.0          2\n",
              "20955       1612008 02        1987   26  ...        Higher     28.0          2\n",
              "20957       1612015 02        1989   25  ...       Primary     24.0          3\n",
              "20959       1612041 02        1988   25  ...       Primary     28.0          2\n",
              "20963       1612134 02        1972   41  ...  No education     45.0         10\n",
              "\n",
              "[6015 rows x 8 columns]"
            ]
          },
          "metadata": {
            "tags": []
          },
          "execution_count": 14
        }
      ]
    },
    {
      "cell_type": "code",
      "metadata": {
        "colab": {
          "base_uri": "https://localhost:8080/"
        },
        "id": "UtnXmWeQZdAm",
        "outputId": "b1a79071-c7c3-4c1c-897d-63c9fd5de226"
      },
      "source": [
        "df_kdhs.case_id.value_counts()"
      ],
      "execution_count": null,
      "outputs": [
        {
          "output_type": "execute_result",
          "data": {
            "text/plain": [
              "     1059091 02    5\n",
              "     1037007 01    5\n",
              "     0751029 02    5\n",
              "     0703029 02    4\n",
              "     0792017 02    4\n",
              "                  ..\n",
              "     1506096 02    1\n",
              "     0756013 01    1\n",
              "     1080069 02    1\n",
              "     0867048 02    1\n",
              "     0844001 02    1\n",
              "Name: case_id, Length: 14949, dtype: int64"
            ]
          },
          "metadata": {
            "tags": []
          },
          "execution_count": 15
        }
      ]
    },
    {
      "cell_type": "markdown",
      "metadata": {
        "id": "kFrLmHWRZxeH"
      },
      "source": [
        "*From the above, we notice that we have a total of 6,015 duplicated records, some as many as five times. We confirm this with the unique record identifier field `case_id`. We will therefore proceed to drop them.*"
      ]
    },
    {
      "cell_type": "code",
      "metadata": {
        "colab": {
          "base_uri": "https://localhost:8080/"
        },
        "id": "EfiBR_u2TdAr",
        "outputId": "e880e8a3-3b71-4669-e172-3c39aa9c68a3"
      },
      "source": [
        "# we will drop the duplicates and check the final shape of the recordset.\n",
        "\n",
        "df_kdhs = df_kdhs.drop_duplicates()\n",
        "df_kdhs.shape"
      ],
      "execution_count": null,
      "outputs": [
        {
          "output_type": "execute_result",
          "data": {
            "text/plain": [
              "(14949, 8)"
            ]
          },
          "metadata": {
            "tags": []
          },
          "execution_count": 16
        }
      ]
    },
    {
      "cell_type": "code",
      "metadata": {
        "id": "KmEeRXQfBJ5M",
        "colab": {
          "base_uri": "https://localhost:8080/"
        },
        "outputId": "619ec09e-0549-44cf-fc00-765777a2ea37"
      },
      "source": [
        "# calculating the mean, median, and mode of the V012 variable i.e age of the respondent\n",
        "\n",
        "#df_kdhs[df_kdhs['age'], df_kdhs['age_head'], df_kdhs['total_kids']].describe()\n",
        "print('Population statistics for the age \\n\\n')\n",
        "print( 'Mean : ', round(df_kdhs['age'].mean(),2), '\\n')\n",
        "print( 'Median : ', df_kdhs['age'].median(), '\\n')\n",
        "print( 'Mode : ', df_kdhs['age'].mode(), '\\n')"
      ],
      "execution_count": null,
      "outputs": [
        {
          "output_type": "stream",
          "text": [
            "Population statistics for the age \n",
            "\n",
            "\n",
            "Mean :  28.88 \n",
            "\n",
            "Median :  28.0 \n",
            "\n",
            "Mode :  0    25\n",
            "dtype: int64 \n",
            "\n"
          ],
          "name": "stdout"
        }
      ]
    },
    {
      "cell_type": "code",
      "metadata": {
        "id": "BQWmJ6qoBJ5Q",
        "colab": {
          "base_uri": "https://localhost:8080/"
        },
        "outputId": "7f58126f-bcd3-4b13-804b-e5890d4e7101"
      },
      "source": [
        "# calculating the mean, median, and mode of the V152 variable i.e. Age of household head\n",
        "\n",
        "print('Population statistics for the age of household head \\n\\n')\n",
        "print( 'Mean : ', round(df_kdhs['age_head'].mean(),2), '\\n')\n",
        "print( 'Median : ', df_kdhs['age_head'].median(), '\\n')\n",
        "print( 'Mode : ', df_kdhs['age_head'].mode(), '\\n')"
      ],
      "execution_count": null,
      "outputs": [
        {
          "output_type": "stream",
          "text": [
            "Population statistics for the age of household head \n",
            "\n",
            "\n",
            "Mean :  38.34 \n",
            "\n",
            "Median :  35.0 \n",
            "\n",
            "Mode :  0    30.0\n",
            "dtype: float64 \n",
            "\n"
          ],
          "name": "stdout"
        }
      ]
    },
    {
      "cell_type": "code",
      "metadata": {
        "id": "6OvHGXW4BJ5T",
        "colab": {
          "base_uri": "https://localhost:8080/"
        },
        "outputId": "8911b9b8-6669-4dbd-e165-2a28e6adc552"
      },
      "source": [
        "# calculating the mean, median, and mode of the V201 variable i.e. Total children ever born\n",
        "\n",
        "print('Population statistics for the Total Children Ever Born \\n\\n')\n",
        "print( 'Mean : ', round(df_kdhs['total_kids'].mean(),2), '\\n')\n",
        "print( 'Median : ', df_kdhs['total_kids'].median(), '\\n')\n",
        "print( 'Mode : ', df_kdhs['total_kids'].mode(), '\\n')"
      ],
      "execution_count": null,
      "outputs": [
        {
          "output_type": "stream",
          "text": [
            "Population statistics for the Total Children Ever Born \n",
            "\n",
            "\n",
            "Mean :  3.48 \n",
            "\n",
            "Median :  3.0 \n",
            "\n",
            "Mode :  0    1\n",
            "dtype: int64 \n",
            "\n"
          ],
          "name": "stdout"
        }
      ]
    },
    {
      "cell_type": "code",
      "metadata": {
        "colab": {
          "base_uri": "https://localhost:8080/",
          "height": 364
        },
        "id": "nIOZRRfR0t1E",
        "outputId": "2d8ffb02-41b1-47e5-fe4c-96686b6d54b4"
      },
      "source": [
        "# plot a histogram for total_kids variable.\n",
        "\n",
        "sns.distplot(df_kdhs['total_kids'], bins=100, kde=False, norm_hist=True, color='#339FFF', hist_kws={\"range\": [0, 20]})\n",
        "plt.xlabel(\"Total No. of Children\", labelpad=14)\n",
        "plt.ylabel(\"Relative Frequency\", labelpad=14)\n",
        "plt.title(\"Relative Frequency Histogram of Total Number of Children)\", fontsize=14, y=1.01) \n",
        "plt.show()"
      ],
      "execution_count": null,
      "outputs": [
        {
          "output_type": "stream",
          "text": [
            "/usr/local/lib/python3.6/dist-packages/seaborn/distributions.py:2551: FutureWarning: `distplot` is a deprecated function and will be removed in a future version. Please adapt your code to use either `displot` (a figure-level function with similar flexibility) or `histplot` (an axes-level function for histograms).\n",
            "  warnings.warn(msg, FutureWarning)\n"
          ],
          "name": "stderr"
        },
        {
          "output_type": "display_data",
          "data": {
            "image/png": "[encoded data removed]",
            "text/plain": [
              "<Figure size 432x288 with 1 Axes>"
            ]
          },
          "metadata": {
            "tags": [],
            "needs_background": "light"
          }
        }
      ]
    },
    {
      "cell_type": "markdown",
      "metadata": {
        "id": "CHjc8onQBJ5W"
      },
      "source": [
        "*For the total number of children ever born, median would be more appropriate for measuring central tendency as, from the above histogram, we notice that the distribution of this parameter is skewed to the right.*"
      ]
    },
    {
      "cell_type": "code",
      "metadata": {
        "id": "PFsrMvDMBJ5Z",
        "colab": {
          "base_uri": "https://localhost:8080/"
        },
        "outputId": "4ef604c6-1bd0-4e67-ee58-c85f1029f5f0"
      },
      "source": [
        "# calculating the range, IQR, and standard deviation of the V012 variable\n",
        "\n",
        "# Range : The difference between the largest value and the smallest value in the given data set.\n",
        "range = df_kdhs['age'].max() - df_kdhs['age'].min()\n",
        "print(\"The range of respondents' age is \",range, '\\n')\n",
        "\n",
        "#IQR\n",
        "# First quartile (Q1) \n",
        "Q1 = np.percentile(df_kdhs['age'], 25, interpolation = 'midpoint') \n",
        "  \n",
        "# Third quartile (Q3) \n",
        "Q3 = np.percentile(df_kdhs['age'], 75, interpolation = 'midpoint') \n",
        "  \n",
        "# Interquartile range (IQR) \n",
        "IQR = Q3 - Q1\n",
        "print(\"The IQR of respondents' age is \",IQR, '\\n')\n",
        "print(\"The Quartile Deviation of age for the household head is \",IQR/2, '\\n')\n",
        "\n",
        "# Standard Deviation\n",
        "print(\"The Standard Deviation of respondents' age is \",round(np.std(df_kdhs['age']),2))"
      ],
      "execution_count": null,
      "outputs": [
        {
          "output_type": "stream",
          "text": [
            "The range of respondents' age is  34 \n",
            "\n",
            "The IQR of respondents' age is  10.0 \n",
            "\n",
            "The Quartile Deviation of age for the household head is  5.0 \n",
            "\n",
            "The Standard Deviation of respondents' age is  6.79\n"
          ],
          "name": "stdout"
        }
      ]
    },
    {
      "cell_type": "code",
      "metadata": {
        "id": "sOEP6fcBBJ5c",
        "colab": {
          "base_uri": "https://localhost:8080/"
        },
        "outputId": "7bed0248-7bdf-4619-f2ce-bab6ae0d7fa1"
      },
      "source": [
        "# calculating the range, IQR, and standard deviation of the V152 variable\n",
        "\n",
        "# Range\n",
        "range = df_kdhs['age_head'].max() - df_kdhs['age_head'].min()\n",
        "print(\"The range of age for the household head is \",range, '\\n')\n",
        "\n",
        "\n",
        "#IQR\n",
        "# First quartile (Q1) \n",
        "Q1 = np.percentile(df_kdhs['age_head'], 25, interpolation = 'midpoint') \n",
        "  \n",
        "# Third quartile (Q3) \n",
        "Q3 = np.percentile(df_kdhs['age_head'], 75, interpolation = 'midpoint') \n",
        "  \n",
        "# Interquaritle range (IQR) \n",
        "IQR = Q3 - Q1 \n",
        "print(\"The IQR of age for the household head is \",IQR, '\\n')\n",
        "print(\"The Quartile Deviation of age for the household head is \",IQR/2, '\\n')\n",
        "\n",
        "# Standard Deviation\n",
        "print(\"The Standard Deviation of age for the household head is \",round(np.std(df_kdhs['age_head']),2))"
      ],
      "execution_count": null,
      "outputs": [
        {
          "output_type": "stream",
          "text": [
            "The range of age for the household head is  80.0 \n",
            "\n",
            "The IQR of age for the household head is  14.0 \n",
            "\n",
            "The Quartile Deviation of age for the household head is  7.0 \n",
            "\n",
            "The Standard Deviation of age for the household head is  12.43\n"
          ],
          "name": "stdout"
        }
      ]
    },
    {
      "cell_type": "markdown",
      "metadata": {
        "id": "xGRCz7I5BJ5g"
      },
      "source": [
        "*The quartile deviation and IQR for the age of household head is higher hence higher variability (dispersion of the points around the mean) compared to that of the respondents' age <br> This also follows from the fact that household age has higher range.*"
      ]
    },
    {
      "cell_type": "code",
      "metadata": {
        "id": "HDB7KDRHBJ5k",
        "colab": {
          "base_uri": "https://localhost:8080/",
          "height": 382
        },
        "outputId": "26c0367b-dd02-42a1-fc6f-f25247f7340b"
      },
      "source": [
        "# histogram of Total No. of Children variable\n",
        "\n",
        "sns.distplot(df_kdhs['total_kids'], bins=100, kde=False, norm_hist=True, color='#339FFF', hist_kws={\"range\": [0, 50]})\n",
        "plt.xlabel(\"Total No. of Children\", labelpad=14)\n",
        "plt.ylabel(\"Relative Frequency\", labelpad=14)\n",
        "plt.title(\"Relative Frequency Histogram of Total Number of Children)\", fontsize=14, y=1.1) \n",
        "plt.show()"
      ],
      "execution_count": null,
      "outputs": [
        {
          "output_type": "stream",
          "text": [
            "/usr/local/lib/python3.6/dist-packages/seaborn/distributions.py:2551: FutureWarning: `distplot` is a deprecated function and will be removed in a future version. Please adapt your code to use either `displot` (a figure-level function with similar flexibility) or `histplot` (an axes-level function for histograms).\n",
            "  warnings.warn(msg, FutureWarning)\n"
          ],
          "name": "stderr"
        },
        {
          "output_type": "display_data",
          "data": {
            "image/png": "[encoded data removed]",
            "text/plain": [
              "<Figure size 432x288 with 1 Axes>"
            ]
          },
          "metadata": {
            "tags": [],
            "needs_background": "light"
          }
        }
      ]
    },
    {
      "cell_type": "code",
      "metadata": {
        "id": "7-Jr6G4JBJ5n",
        "colab": {
          "base_uri": "https://localhost:8080/",
          "height": 382
        },
        "outputId": "ad39cae1-6858-4b62-9c6d-0fd6ff992429"
      },
      "source": [
        "# histogram of V152 variable\n",
        "\n",
        "sns.distplot(df_kdhs['age_head'], bins=100, kde=False, norm_hist=True, color='#339FFF', hist_kws={\"range\": [10, 100]})\n",
        "plt.xlabel(\"Age of Household Head\", labelpad=14)\n",
        "plt.ylabel(\"Relative Frequency\", labelpad=14)\n",
        "plt.title(\"Relative Frequency Histogram of the Age of Household Head\", fontsize=14, y=1.1) \n",
        "plt.show()"
      ],
      "execution_count": null,
      "outputs": [
        {
          "output_type": "stream",
          "text": [
            "/usr/local/lib/python3.6/dist-packages/seaborn/distributions.py:2551: FutureWarning: `distplot` is a deprecated function and will be removed in a future version. Please adapt your code to use either `displot` (a figure-level function with similar flexibility) or `histplot` (an axes-level function for histograms).\n",
            "  warnings.warn(msg, FutureWarning)\n"
          ],
          "name": "stderr"
        },
        {
          "output_type": "display_data",
          "data": {
            "image/png": "[encoded data removed]",
            "text/plain": [
              "<Figure size 432x288 with 1 Axes>"
            ]
          },
          "metadata": {
            "tags": [],
            "needs_background": "light"
          }
        }
      ]
    },
    {
      "cell_type": "markdown",
      "metadata": {
        "id": "i1kt250HBJ5q"
      },
      "source": [
        "Though both are skewed, the age of respondents is more skewed to the right than that of the household head."
      ]
    },
    {
      "cell_type": "code",
      "metadata": {
        "id": "Tofkf-U6BJ5t",
        "colab": {
          "base_uri": "https://localhost:8080/"
        },
        "outputId": "dbc98efe-9169-4536-93bf-a8598849064c"
      },
      "source": [
        "# displaying the frequency table of the V024 variable\n",
        "\n",
        "df_kdhs['region'].value_counts()"
      ],
      "execution_count": null,
      "outputs": [
        {
          "output_type": "execute_result",
          "data": {
            "text/plain": [
              "Rift Valley      4760\n",
              "Eastern          2299\n",
              "Nyanza           2085\n",
              "Coast            1857\n",
              "Western          1398\n",
              "Central          1197\n",
              "North Eastern     925\n",
              "Nairobi           428\n",
              "Name: region, dtype: int64"
            ]
          },
          "metadata": {
            "tags": []
          },
          "execution_count": 53
        }
      ]
    },
    {
      "cell_type": "code",
      "metadata": {
        "id": "_f4CKAj0BJ5z",
        "colab": {
          "base_uri": "https://localhost:8080/",
          "height": 365
        },
        "outputId": "d451336e-6b8f-449e-b4a3-c286ef9e1993"
      },
      "source": [
        "# plotting the bar chart of the V024 frequency table\n",
        "\n",
        "#df_kdhs['region'].value_counts().plot(kind='bar')\n",
        "df_kdhs['region'].value_counts().plot(kind='barh', figsize=(10, 5), color=['green', 'orange', 'blue','red','yellow','pink','black','cyan'])\n",
        "plt.xlabel(\"Count of Respondents\", labelpad=14)\n",
        "plt.ylabel(\"Region\", labelpad=14, )\n",
        "plt.title(\"Count of Respondents by Region\", y=1.02);"
      ],
      "execution_count": null,
      "outputs": [
        {
          "output_type": "display_data",
          "data": {
            "image/png": "[encoded data removed]",
            "text/plain": [
              "<Figure size 720x360 with 1 Axes>"
            ]
          },
          "metadata": {
            "tags": [],
            "needs_background": "light"
          }
        }
      ]
    },
    {
      "cell_type": "code",
      "metadata": {
        "id": "ZS33hhsuBJ51",
        "colab": {
          "base_uri": "https://localhost:8080/"
        },
        "outputId": "f28c9ca0-8eff-4ce9-d550-1997458b581a"
      },
      "source": [
        "# displaying the frequency table of the V106 variable\n",
        "\n",
        "df_kdhs['education'].value_counts()"
      ],
      "execution_count": null,
      "outputs": [
        {
          "output_type": "execute_result",
          "data": {
            "text/plain": [
              "Primary         7843\n",
              "Secondary       3210\n",
              "No education    2790\n",
              "Higher          1106\n",
              "Name: education, dtype: int64"
            ]
          },
          "metadata": {
            "tags": []
          },
          "execution_count": 60
        }
      ]
    },
    {
      "cell_type": "code",
      "metadata": {
        "id": "FT7fBr-5BJ54",
        "colab": {
          "base_uri": "https://localhost:8080/",
          "height": 365
        },
        "outputId": "d5893c14-16e2-4415-aa76-197967be6fdc"
      },
      "source": [
        "# plotting the bar chart of the V106 frequency table\n",
        "\n",
        "df_kdhs['education'].value_counts().plot(kind='barh', figsize=(10, 5), color=['green', 'orange', 'blue','red'])\n",
        "plt.xlabel(\"Count of Respondents\", labelpad=14)\n",
        "plt.ylabel(\"Level of Education\", labelpad=14, )\n",
        "plt.title(\"Distribution of Respondents' Education Level\", y=1.02);"
      ],
      "execution_count": null,
      "outputs": [
        {
          "output_type": "display_data",
          "data": {
            "image/png": "[encoded data removed]",
            "text/plain": [
              "<Figure size 720x360 with 1 Axes>"
            ]
          },
          "metadata": {
            "tags": [],
            "needs_background": "light"
          }
        }
      ]
    },
    {
      "cell_type": "code",
      "metadata": {
        "colab": {
          "base_uri": "https://localhost:8080/"
        },
        "id": "aPYaqC_QFDop",
        "outputId": "1df42330-f6bc-4ba0-e291-e0e81667ee06"
      },
      "source": [
        "# Pick unique regions from the dataset.\n",
        "\n",
        "df_kdhs['residence'].unique()"
      ],
      "execution_count": null,
      "outputs": [
        {
          "output_type": "execute_result",
          "data": {
            "text/plain": [
              "array(['Urban', 'Rural'], dtype=object)"
            ]
          },
          "metadata": {
            "tags": []
          },
          "execution_count": 68
        }
      ]
    },
    {
      "cell_type": "code",
      "metadata": {
        "id": "uhMQ_eHwBJ59",
        "colab": {
          "base_uri": "https://localhost:8080/",
          "height": 196
        },
        "outputId": "9703f158-cd91-457a-aff1-1f4b08fd7634"
      },
      "source": [
        "# plotting a boxplot of children born by residence\n",
        "#\n",
        "plt.figure(figsize=(5,2))\n",
        "sns.set_style('ticks')\n",
        "\n",
        "\n",
        "sns.boxplot(x = df_kdhs[df_kdhs['residence']=='Urban']['total_kids']) \n",
        "plt.title(\"Children Born Organised by Residence\", fontsize=10, y=1.01) \n",
        "plt.xlabel(\"Total Children Born)\", labelpad=14)\n",
        "plt.show()\n"
      ],
      "execution_count": null,
      "outputs": [
        {
          "output_type": "display_data",
          "data": {
            "image/png": "[encoded data removed]",
            "text/plain": [
              "<Figure size 360x144 with 1 Axes>"
            ]
          },
          "metadata": {
            "tags": []
          }
        }
      ]
    },
    {
      "cell_type": "code",
      "metadata": {
        "colab": {
          "base_uri": "https://localhost:8080/",
          "height": 360
        },
        "id": "vu6LHyd7F7J_",
        "outputId": "08733490-6eb1-4f4b-c14c-ec9b3e9eebc7"
      },
      "source": [
        "plt.figure(figsize=(7, 5))\n",
        "sns.boxplot(x='residence', y='total_kids', data = df_kdhs, saturation=0.65) \n",
        "plt.title(\"Children Born Organised by Residence\", fontsize=10, y=1.01) \n",
        "plt.ylabel(\"Total Children Born\", labelpad=14)\n",
        "plt.xlabel(\"Residence\", labelpad=14)\n",
        "plt.show()"
      ],
      "execution_count": null,
      "outputs": [
        {
          "output_type": "display_data",
          "data": {
            "image/png": "[encoded data removed]",
            "text/plain": [
              "<Figure size 504x360 with 1 Axes>"
            ]
          },
          "metadata": {
            "tags": []
          }
        }
      ]
    },
    {
      "cell_type": "code",
      "metadata": {
        "id": "RuMurijzBJ6C",
        "colab": {
          "base_uri": "https://localhost:8080/",
          "height": 360
        },
        "outputId": "37c7fac2-fa76-4eb8-eacc-22f787d29b69"
      },
      "source": [
        "# plotting a boxplot of V201 by V106 ( Total Children born vs Education respectively)\n",
        "\n",
        "plt.figure(figsize=(7, 5))\n",
        "sns.boxplot(x='education', y='total_kids', data = df_kdhs, saturation=0.65) \n",
        "plt.title(\"Children Born Organised by Mothers Highest Level of Education\", fontsize=10, y=1.01) \n",
        "plt.ylabel(\"Total Children Born\", labelpad=14)\n",
        "plt.xlabel(\"Education\", labelpad=14)\n",
        "plt.show()"
      ],
      "execution_count": null,
      "outputs": [
        {
          "output_type": "display_data",
          "data": {
            "image/png": "[encoded data removed]",
            "text/plain": [
              "<Figure size 504x360 with 1 Axes>"
            ]
          },
          "metadata": {
            "tags": []
          }
        }
      ]
    },
    {
      "cell_type": "code",
      "metadata": {
        "id": "7BqxU7URBJ6G",
        "colab": {
          "base_uri": "https://localhost:8080/",
          "height": 364
        },
        "outputId": "3caf7e76-01e2-4caa-c2e6-8a74d743a362"
      },
      "source": [
        "# plotting a boxplot of V201 by V024 (Total Children Born vs Region respectively )\n",
        "\n",
        "plt.figure(figsize=(10, 5))\n",
        "sns.boxplot(x='region', y='total_kids', data = df_kdhs, saturation=0.65) \n",
        "plt.title(\"Children Born Organised by Region\", fontsize=15, y=1.01) \n",
        "plt.ylabel(\"Total Children Born\", labelpad=14)\n",
        "plt.xlabel(\"Region\", labelpad=14)\n",
        "plt.show()"
      ],
      "execution_count": null,
      "outputs": [
        {
          "output_type": "display_data",
          "data": {
            "image/png": "[encoded data removed]",
            "text/plain": [
              "<Figure size 720x360 with 1 Axes>"
            ]
          },
          "metadata": {
            "tags": []
          }
        }
      ]
    },
    {
      "cell_type": "code",
      "metadata": {
        "id": "Bfyh6LX5BJ6M"
      },
      "source": [
        ""
      ],
      "execution_count": null,
      "outputs": []
    },
    {
      "cell_type": "code",
      "metadata": {
        "id": "Qv38s1xnBJ6W",
        "colab": {
          "base_uri": "https://localhost:8080/",
          "height": 294
        },
        "outputId": "f2857618-4c64-4c1f-ca2d-973864e3d538"
      },
      "source": [
        "# scatter plot of V201 by V012\n",
        "\n",
        "sns.scatterplot(x=\"age\", y=\"total_kids\", data = df_kdhs) \n",
        "plt.title(\"Scatter Plot of Respondents' Age vs Total Births\") \n",
        "plt.xlabel('Age of the Respondent') \n",
        "plt.ylabel('Total No. of Births');"
      ],
      "execution_count": null,
      "outputs": [
        {
          "output_type": "display_data",
          "data": {
            "image/png": "[encoded data removed]",
            "text/plain": [
              "<Figure size 432x288 with 1 Axes>"
            ]
          },
          "metadata": {
            "tags": []
          }
        }
      ]
    },
    {
      "cell_type": "code",
      "metadata": {
        "id": "kRdc3lwPBJ6Z",
        "colab": {
          "base_uri": "https://localhost:8080/",
          "height": 172
        },
        "outputId": "23516beb-f037-45ed-882b-2aad06864521"
      },
      "source": [
        "# previewing the correlation between the V201 and the V012 variables\n",
        "\n",
        "df_corr = df_kdhs.corr()\n",
        "df_corr"
      ],
      "execution_count": null,
      "outputs": [
        {
          "output_type": "execute_result",
          "data": {
            "text/html": [
              "<div>\n",
              "<style scoped>\n",
              "    .dataframe tbody tr th:only-of-type {\n",
              "        vertical-align: middle;\n",
              "    }\n",
              "\n",
              "    .dataframe tbody tr th {\n",
              "        vertical-align: top;\n",
              "    }\n",
              "\n",
              "    .dataframe thead th {\n",
              "        text-align: right;\n",
              "    }\n",
              "</style>\n",
              "<table border=\"1\" class=\"dataframe\">\n",
              "  <thead>\n",
              "    <tr style=\"text-align: right;\">\n",
              "      <th></th>\n",
              "      <th>birth_year</th>\n",
              "      <th>age</th>\n",
              "      <th>age_head</th>\n",
              "      <th>total_kids</th>\n",
              "    </tr>\n",
              "  </thead>\n",
              "  <tbody>\n",
              "    <tr>\n",
              "      <th>birth_year</th>\n",
              "      <td>1.000000</td>\n",
              "      <td>-0.997621</td>\n",
              "      <td>-0.265888</td>\n",
              "      <td>-0.706269</td>\n",
              "    </tr>\n",
              "    <tr>\n",
              "      <th>age</th>\n",
              "      <td>-0.997621</td>\n",
              "      <td>1.000000</td>\n",
              "      <td>0.266827</td>\n",
              "      <td>0.710472</td>\n",
              "    </tr>\n",
              "    <tr>\n",
              "      <th>age_head</th>\n",
              "      <td>-0.265888</td>\n",
              "      <td>0.266827</td>\n",
              "      <td>1.000000</td>\n",
              "      <td>0.194750</td>\n",
              "    </tr>\n",
              "    <tr>\n",
              "      <th>total_kids</th>\n",
              "      <td>-0.706269</td>\n",
              "      <td>0.710472</td>\n",
              "      <td>0.194750</td>\n",
              "      <td>1.000000</td>\n",
              "    </tr>\n",
              "  </tbody>\n",
              "</table>\n",
              "</div>"
            ],
            "text/plain": [
              "            birth_year       age  age_head  total_kids\n",
              "birth_year    1.000000 -0.997621 -0.265888   -0.706269\n",
              "age          -0.997621  1.000000  0.266827    0.710472\n",
              "age_head     -0.265888  0.266827  1.000000    0.194750\n",
              "total_kids   -0.706269  0.710472  0.194750    1.000000"
            ]
          },
          "metadata": {
            "tags": []
          },
          "execution_count": 79
        }
      ]
    },
    {
      "cell_type": "markdown",
      "metadata": {
        "id": "EZCXOuEGBJ6c"
      },
      "source": [
        "*Age  of the respondent and the birth count are very highly correlated, with negative coefficient of 0.997* "
      ]
    },
    {
      "cell_type": "markdown",
      "metadata": {
        "id": "EyIzV1noBJ6d"
      },
      "source": [
        "## <font color='#2F4F4F'>3. Summary of Findings</font>"
      ]
    },
    {
      "cell_type": "markdown",
      "metadata": {
        "id": "B3U6TxE-BJ6e"
      },
      "source": [
        "**Preliminaries:**\n",
        "1. Original dataset had 20,964 records with 1,100 features, most of which were irrelevant for our research and which we dropped to remain with only 8 variables.\n",
        "\n",
        "2. Only one variable, \"age of household head\" had one null entry in element index (array([3768]),). we replaced this with the average of the ages in the column which is in 37.958116681772644.\n",
        "\n",
        "3. We had a total of 6,015 duplicated records, some as many as five times. We confirm this with the unique record identifier field `case_id`. We will therefore proceed to drop them to have a resultant dataframe with 14,949 unique records.\n",
        "\n",
        "**Focused Findings:**\n",
        "- From the histograms, we notice that though both the age of the respondent and the age of household head are skewed, respondents is more skewed to the right than that of the household head.\n",
        "- Rift Valley has the highest number of respondents followed by Eastern region. Nairobi region comes last with only 428 respondents.\n",
        "- Majority of the respondents have attained Primary School Education while minority have Higher Level.\n",
        "- More Children are born in rural residency as compared to Urban.\n",
        "- Most children are born to respondents who have no education as compared to those who have at least Primary Level and higher. \n",
        "- Norrth Eastern REgion takes the lead in terms of total children born. Nairobi and Central come in last.\n",
        "- More children are born to older women than younger ones."
      ]
    },
    {
      "cell_type": "markdown",
      "metadata": {
        "id": "CbgGpLWOXJiI"
      },
      "source": [
        "**Acknowledgements:**\n",
        "* **Data Source : https://bit.ly/3j317wO**\n",
        "* Many thanks to [AfterWork Data Science](https://afterwork.ai/) Fellowship for the opportunity to train and exercise on this dataset."
      ]
    },
    {
      "cell_type": "code",
      "metadata": {
        "id": "GvK1TPFgfmQk"
      },
      "source": [
        ""
      ],
      "execution_count": null,
      "outputs": []
    }
  ]
}