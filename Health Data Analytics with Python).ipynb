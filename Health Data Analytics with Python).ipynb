{
  "nbformat": 4,
  "nbformat_minor": 0,
  "metadata": {
    "kernelspec": {
      "display_name": "Python 3",
      "language": "python",
      "name": "python3"
    },
    "language_info": {
      "codemirror_mode": {
        "name": "ipython",
        "version": 3
      },
      "file_extension": ".py",
      "mimetype": "text/x-python",
      "name": "python",
      "nbconvert_exporter": "python",
      "pygments_lexer": "ipython3",
      "version": "3.8.3"
    },
    "colab": {
      "name": "penda_health.ipynb",
      "provenance": [],
      "collapsed_sections": [],
      "toc_visible": true
    }
  },
  "cells": [
    {
      "cell_type": "markdown",
      "metadata": {
        "id": "0wlOmklJcuT1"
      },
      "source": [
        "# Penda Health Data Analysis"
      ]
    },
    {
      "cell_type": "markdown",
      "metadata": {
        "id": "N51WUzM7cuT1"
      },
      "source": [
        "This is a notebook prepared to help in the data analysis for patient's data, consultations as well as capitation information.\n"
      ]
    },
    {
      "cell_type": "markdown",
      "metadata": {
        "id": "kM5FXha7cuT1"
      },
      "source": [
        "## Analysis Design"
      ]
    },
    {
      "cell_type": "markdown",
      "metadata": {
        "id": "hkSmJemycuT1"
      },
      "source": [
        "1. Business Understanding : Understanding and assessing the business situation and goals. <br>\n",
        "\n",
        "2. Data Understanding and Exploration \n",
        "  * Prerequisites\n",
        "     * Load requisite libraries \n",
        "     * Load and preview datasets.\n",
        "  * Data requirements understanding (Select the fundamental variables / features relevant to the business problem). <br>\n",
        "\n",
        "3. Data Preparation and Analysis\n",
        "  * Data quality assessment (Accuracy, Completeness, Consistency, Currency, Relevance, Validity and Uniqueness).\n",
        "  * Data cleaning\n",
        "  * Data integration and formatting\n",
        "  * Data transformation (merging datasets, reformatting fields, filtering records, ...) and enrichment (feature engineering)\n",
        "\n",
        "4. Solution Implementation & Reporting"
      ]
    },
    {
      "cell_type": "markdown",
      "metadata": {
        "id": "V-dwDcVbcuT1"
      },
      "source": [
        "## **1. Business Scenario**"
      ]
    },
    {
      "cell_type": "markdown",
      "metadata": {
        "id": "Dd660rHBcuT1"
      },
      "source": [
        "We have been provided with patient data and different business scenarios which we are supposed to analyse and answer specific questions based on the data provided."
      ]
    },
    {
      "cell_type": "markdown",
      "metadata": {
        "id": "Aa9cf8J8cuT2"
      },
      "source": [
        "## **2. Data Understanding and Exploration**"
      ]
    },
    {
      "cell_type": "code",
      "metadata": {
        "id": "TSb0se2ccuT2"
      },
      "source": [
        "# Loading necessary libraries for data manipulation, number crunching and viz respectively.\n",
        "import pandas as pd\n",
        "import numpy as np\n",
        "\n",
        "import matplotlib.pyplot as plt\n",
        "import seaborn as sns\n"
      ],
      "execution_count": null,
      "outputs": []
    },
    {
      "cell_type": "code",
      "metadata": {
        "id": "f6xbFSkaJ4Nm"
      },
      "source": [
        "!pip install s3fs"
      ],
      "execution_count": null,
      "outputs": []
    },
    {
      "cell_type": "code",
      "metadata": {
        "id": "ErxNFwDKITud"
      },
      "source": [
        "# Loading the patient dataset from Amazon AWS S3 bucket and previewing first 5 records.\n",
        "\n",
        "import s3fs\n",
        "\n",
        "# aws_access_key_id = \n",
        "# aws_secret_access_key = \n",
        "# aws_session_token = \n",
        "\n",
        "patients3_df = pd.read_csv('s3://pendahealth-assessment/patient_data.csv')\n",
        "patients3_df.head()"
      ],
      "execution_count": null,
      "outputs": []
    },
    {
      "cell_type": "code",
      "metadata": {
        "colab": {
          "base_uri": "https://localhost:8080/",
          "height": 202
        },
        "id": "8oz3QzzdcuT2",
        "outputId": "935703b9-0510-4838-88f1-f09064fe63c6"
      },
      "source": [
        "# Load patient dataset and sample first 5 records\n",
        "\n",
        "patient_df = pd.read_csv('patient_data.csv')\n",
        "patient_df.head()"
      ],
      "execution_count": null,
      "outputs": [
        {
          "output_type": "execute_result",
          "data": {
            "text/html": [
              "<div>\n",
              "<style scoped>\n",
              "    .dataframe tbody tr th:only-of-type {\n",
              "        vertical-align: middle;\n",
              "    }\n",
              "\n",
              "    .dataframe tbody tr th {\n",
              "        vertical-align: top;\n",
              "    }\n",
              "\n",
              "    .dataframe thead th {\n",
              "        text-align: right;\n",
              "    }\n",
              "</style>\n",
              "<table border=\"1\" class=\"dataframe\">\n",
              "  <thead>\n",
              "    <tr style=\"text-align: right;\">\n",
              "      <th></th>\n",
              "      <th>patient_id</th>\n",
              "      <th>dob</th>\n",
              "      <th>gender</th>\n",
              "    </tr>\n",
              "  </thead>\n",
              "  <tbody>\n",
              "    <tr>\n",
              "      <th>0</th>\n",
              "      <td>PAT10000</td>\n",
              "      <td>8/12/2014</td>\n",
              "      <td>Male</td>\n",
              "    </tr>\n",
              "    <tr>\n",
              "      <th>1</th>\n",
              "      <td>PAT10001</td>\n",
              "      <td>11/18/2013</td>\n",
              "      <td>Female</td>\n",
              "    </tr>\n",
              "    <tr>\n",
              "      <th>2</th>\n",
              "      <td>PAT10002</td>\n",
              "      <td>5/27/2001</td>\n",
              "      <td>Female</td>\n",
              "    </tr>\n",
              "    <tr>\n",
              "      <th>3</th>\n",
              "      <td>PAT10003</td>\n",
              "      <td>8/1/2015</td>\n",
              "      <td>Female</td>\n",
              "    </tr>\n",
              "    <tr>\n",
              "      <th>4</th>\n",
              "      <td>PAT10004</td>\n",
              "      <td>3/5/1983</td>\n",
              "      <td>Female</td>\n",
              "    </tr>\n",
              "  </tbody>\n",
              "</table>\n",
              "</div>"
            ],
            "text/plain": [
              "  patient_id         dob  gender\n",
              "0   PAT10000   8/12/2014    Male\n",
              "1   PAT10001  11/18/2013  Female\n",
              "2   PAT10002   5/27/2001  Female\n",
              "3   PAT10003    8/1/2015  Female\n",
              "4   PAT10004    3/5/1983  Female"
            ]
          },
          "metadata": {
            "tags": []
          },
          "execution_count": 3
        }
      ]
    },
    {
      "cell_type": "code",
      "metadata": {
        "colab": {
          "base_uri": "https://localhost:8080/",
          "height": 202
        },
        "id": "KsMd69AbcuT4",
        "outputId": "b21f5c8b-94af-4bbe-bdd0-906312fef438"
      },
      "source": [
        "# Sample last 5 records of patient dataset\n",
        "\n",
        "patient_df.tail()"
      ],
      "execution_count": null,
      "outputs": [
        {
          "output_type": "execute_result",
          "data": {
            "text/html": [
              "<div>\n",
              "<style scoped>\n",
              "    .dataframe tbody tr th:only-of-type {\n",
              "        vertical-align: middle;\n",
              "    }\n",
              "\n",
              "    .dataframe tbody tr th {\n",
              "        vertical-align: top;\n",
              "    }\n",
              "\n",
              "    .dataframe thead th {\n",
              "        text-align: right;\n",
              "    }\n",
              "</style>\n",
              "<table border=\"1\" class=\"dataframe\">\n",
              "  <thead>\n",
              "    <tr style=\"text-align: right;\">\n",
              "      <th></th>\n",
              "      <th>patient_id</th>\n",
              "      <th>dob</th>\n",
              "      <th>gender</th>\n",
              "    </tr>\n",
              "  </thead>\n",
              "  <tbody>\n",
              "    <tr>\n",
              "      <th>14411</th>\n",
              "      <td>PAT25176</td>\n",
              "      <td>1/24/1996</td>\n",
              "      <td>Female</td>\n",
              "    </tr>\n",
              "    <tr>\n",
              "      <th>14412</th>\n",
              "      <td>PAT25177</td>\n",
              "      <td>8/12/2016</td>\n",
              "      <td>Male</td>\n",
              "    </tr>\n",
              "    <tr>\n",
              "      <th>14413</th>\n",
              "      <td>PAT25178</td>\n",
              "      <td>12/10/1985</td>\n",
              "      <td>Female</td>\n",
              "    </tr>\n",
              "    <tr>\n",
              "      <th>14414</th>\n",
              "      <td>PAT25179</td>\n",
              "      <td>8/23/1968</td>\n",
              "      <td>Male</td>\n",
              "    </tr>\n",
              "    <tr>\n",
              "      <th>14415</th>\n",
              "      <td>PAT25180</td>\n",
              "      <td>6/18/2014</td>\n",
              "      <td>Female</td>\n",
              "    </tr>\n",
              "  </tbody>\n",
              "</table>\n",
              "</div>"
            ],
            "text/plain": [
              "      patient_id         dob  gender\n",
              "14411   PAT25176   1/24/1996  Female\n",
              "14412   PAT25177   8/12/2016    Male\n",
              "14413   PAT25178  12/10/1985  Female\n",
              "14414   PAT25179   8/23/1968    Male\n",
              "14415   PAT25180   6/18/2014  Female"
            ]
          },
          "metadata": {
            "tags": []
          },
          "execution_count": 4
        }
      ]
    },
    {
      "cell_type": "code",
      "metadata": {
        "colab": {
          "base_uri": "https://localhost:8080/"
        },
        "id": "JGRi6nTrcuT4",
        "outputId": "b58d63a1-b00b-4db4-fe0b-cfbdf3df3e98"
      },
      "source": [
        "patient_df.shape"
      ],
      "execution_count": null,
      "outputs": [
        {
          "output_type": "execute_result",
          "data": {
            "text/plain": [
              "(14416, 3)"
            ]
          },
          "metadata": {
            "tags": []
          },
          "execution_count": 5
        }
      ]
    },
    {
      "cell_type": "code",
      "metadata": {
        "colab": {
          "base_uri": "https://localhost:8080/"
        },
        "id": "TeNHd5L4cuT5",
        "outputId": "fed1ee6b-c1ac-409c-8e1f-494d6ef6bc08"
      },
      "source": [
        "patient_df.info()"
      ],
      "execution_count": null,
      "outputs": [
        {
          "output_type": "stream",
          "text": [
            "<class 'pandas.core.frame.DataFrame'>\n",
            "RangeIndex: 14416 entries, 0 to 14415\n",
            "Data columns (total 3 columns):\n",
            " #   Column      Non-Null Count  Dtype \n",
            "---  ------      --------------  ----- \n",
            " 0   patient_id  14416 non-null  object\n",
            " 1   dob         14416 non-null  object\n",
            " 2   gender      14416 non-null  object\n",
            "dtypes: object(3)\n",
            "memory usage: 338.0+ KB\n"
          ],
          "name": "stdout"
        }
      ]
    },
    {
      "cell_type": "code",
      "metadata": {
        "colab": {
          "base_uri": "https://localhost:8080/",
          "height": 202
        },
        "id": "xAJmWI_GcuT5",
        "outputId": "6a5fbad4-ff90-456b-8511-edaea2e51e72"
      },
      "source": [
        "# Load patients visits records and sample first 5 and last 5 records\n",
        "\n",
        "visits_df = pd.read_csv('visits_data.csv')\n",
        "visits_df.head()"
      ],
      "execution_count": null,
      "outputs": [
        {
          "output_type": "execute_result",
          "data": {
            "text/html": [
              "<div>\n",
              "<style scoped>\n",
              "    .dataframe tbody tr th:only-of-type {\n",
              "        vertical-align: middle;\n",
              "    }\n",
              "\n",
              "    .dataframe tbody tr th {\n",
              "        vertical-align: top;\n",
              "    }\n",
              "\n",
              "    .dataframe thead th {\n",
              "        text-align: right;\n",
              "    }\n",
              "</style>\n",
              "<table border=\"1\" class=\"dataframe\">\n",
              "  <thead>\n",
              "    <tr style=\"text-align: right;\">\n",
              "      <th></th>\n",
              "      <th>visit_date</th>\n",
              "      <th>patient_id</th>\n",
              "      <th>location</th>\n",
              "      <th>payor</th>\n",
              "      <th>invoice_total</th>\n",
              "    </tr>\n",
              "  </thead>\n",
              "  <tbody>\n",
              "    <tr>\n",
              "      <th>0</th>\n",
              "      <td>7/21/2019</td>\n",
              "      <td>PAT24869</td>\n",
              "      <td>Kahawa West</td>\n",
              "      <td>Cash</td>\n",
              "      <td>1350.0</td>\n",
              "    </tr>\n",
              "    <tr>\n",
              "      <th>1</th>\n",
              "      <td>5/28/2019</td>\n",
              "      <td>PAT17185</td>\n",
              "      <td>Embakasi</td>\n",
              "      <td>Cash</td>\n",
              "      <td>600.0</td>\n",
              "    </tr>\n",
              "    <tr>\n",
              "      <th>2</th>\n",
              "      <td>12/29/2019</td>\n",
              "      <td>PAT19895</td>\n",
              "      <td>Zimmerman</td>\n",
              "      <td>Cash</td>\n",
              "      <td>140.0</td>\n",
              "    </tr>\n",
              "    <tr>\n",
              "      <th>3</th>\n",
              "      <td>7/3/2019</td>\n",
              "      <td>PAT20790</td>\n",
              "      <td>Pipeline</td>\n",
              "      <td>Cash</td>\n",
              "      <td>325.0</td>\n",
              "    </tr>\n",
              "    <tr>\n",
              "      <th>4</th>\n",
              "      <td>9/22/2019</td>\n",
              "      <td>PAT12119</td>\n",
              "      <td>Huruma</td>\n",
              "      <td>Cash</td>\n",
              "      <td>300.0</td>\n",
              "    </tr>\n",
              "  </tbody>\n",
              "</table>\n",
              "</div>"
            ],
            "text/plain": [
              "   visit_date patient_id     location payor  invoice_total\n",
              "0   7/21/2019   PAT24869  Kahawa West  Cash         1350.0\n",
              "1   5/28/2019   PAT17185     Embakasi  Cash          600.0\n",
              "2  12/29/2019   PAT19895    Zimmerman  Cash          140.0\n",
              "3    7/3/2019   PAT20790     Pipeline  Cash          325.0\n",
              "4   9/22/2019   PAT12119       Huruma  Cash          300.0"
            ]
          },
          "metadata": {
            "tags": []
          },
          "execution_count": 7
        }
      ]
    },
    {
      "cell_type": "code",
      "metadata": {
        "colab": {
          "base_uri": "https://localhost:8080/",
          "height": 202
        },
        "id": "-tXW7jzMcuT5",
        "outputId": "c366262c-db4d-4653-a83f-3c56ea8b51b4"
      },
      "source": [
        "visits_df.tail()"
      ],
      "execution_count": null,
      "outputs": [
        {
          "output_type": "execute_result",
          "data": {
            "text/html": [
              "<div>\n",
              "<style scoped>\n",
              "    .dataframe tbody tr th:only-of-type {\n",
              "        vertical-align: middle;\n",
              "    }\n",
              "\n",
              "    .dataframe tbody tr th {\n",
              "        vertical-align: top;\n",
              "    }\n",
              "\n",
              "    .dataframe thead th {\n",
              "        text-align: right;\n",
              "    }\n",
              "</style>\n",
              "<table border=\"1\" class=\"dataframe\">\n",
              "  <thead>\n",
              "    <tr style=\"text-align: right;\">\n",
              "      <th></th>\n",
              "      <th>visit_date</th>\n",
              "      <th>patient_id</th>\n",
              "      <th>location</th>\n",
              "      <th>payor</th>\n",
              "      <th>invoice_total</th>\n",
              "    </tr>\n",
              "  </thead>\n",
              "  <tbody>\n",
              "    <tr>\n",
              "      <th>80864</th>\n",
              "      <td>NaN</td>\n",
              "      <td>NaN</td>\n",
              "      <td>NaN</td>\n",
              "      <td>NaN</td>\n",
              "      <td>NaN</td>\n",
              "    </tr>\n",
              "    <tr>\n",
              "      <th>80865</th>\n",
              "      <td>NaN</td>\n",
              "      <td>NaN</td>\n",
              "      <td>NaN</td>\n",
              "      <td>NaN</td>\n",
              "      <td>NaN</td>\n",
              "    </tr>\n",
              "    <tr>\n",
              "      <th>80866</th>\n",
              "      <td>NaN</td>\n",
              "      <td>NaN</td>\n",
              "      <td>NaN</td>\n",
              "      <td>NaN</td>\n",
              "      <td>NaN</td>\n",
              "    </tr>\n",
              "    <tr>\n",
              "      <th>80867</th>\n",
              "      <td>NaN</td>\n",
              "      <td>NaN</td>\n",
              "      <td>NaN</td>\n",
              "      <td>NaN</td>\n",
              "      <td>NaN</td>\n",
              "    </tr>\n",
              "    <tr>\n",
              "      <th>80868</th>\n",
              "      <td>NaN</td>\n",
              "      <td>NaN</td>\n",
              "      <td>NaN</td>\n",
              "      <td>NaN</td>\n",
              "      <td>NaN</td>\n",
              "    </tr>\n",
              "  </tbody>\n",
              "</table>\n",
              "</div>"
            ],
            "text/plain": [
              "      visit_date patient_id location payor  invoice_total\n",
              "80864        NaN        NaN      NaN   NaN            NaN\n",
              "80865        NaN        NaN      NaN   NaN            NaN\n",
              "80866        NaN        NaN      NaN   NaN            NaN\n",
              "80867        NaN        NaN      NaN   NaN            NaN\n",
              "80868        NaN        NaN      NaN   NaN            NaN"
            ]
          },
          "metadata": {
            "tags": []
          },
          "execution_count": 8
        }
      ]
    },
    {
      "cell_type": "code",
      "metadata": {
        "colab": {
          "base_uri": "https://localhost:8080/"
        },
        "id": "A72O4pSwcuT6",
        "outputId": "b0413f76-0d48-48f0-846c-f0e732917b70"
      },
      "source": [
        "visits_df.shape"
      ],
      "execution_count": null,
      "outputs": [
        {
          "output_type": "execute_result",
          "data": {
            "text/plain": [
              "(80869, 5)"
            ]
          },
          "metadata": {
            "tags": []
          },
          "execution_count": 9
        }
      ]
    },
    {
      "cell_type": "code",
      "metadata": {
        "colab": {
          "base_uri": "https://localhost:8080/"
        },
        "id": "Z3ERKE8hcuT6",
        "outputId": "2d498eec-633b-4912-9e9b-62481a2dc3aa"
      },
      "source": [
        "visits_df.info()"
      ],
      "execution_count": null,
      "outputs": [
        {
          "output_type": "stream",
          "text": [
            "<class 'pandas.core.frame.DataFrame'>\n",
            "RangeIndex: 80869 entries, 0 to 80868\n",
            "Data columns (total 5 columns):\n",
            " #   Column         Non-Null Count  Dtype  \n",
            "---  ------         --------------  -----  \n",
            " 0   visit_date     80669 non-null  object \n",
            " 1   patient_id     80669 non-null  object \n",
            " 2   location       80669 non-null  object \n",
            " 3   payor          80669 non-null  object \n",
            " 4   invoice_total  80669 non-null  float64\n",
            "dtypes: float64(1), object(4)\n",
            "memory usage: 3.1+ MB\n"
          ],
          "name": "stdout"
        }
      ]
    },
    {
      "cell_type": "markdown",
      "metadata": {
        "id": "AJVstWbycuT6"
      },
      "source": [
        " **From the above, we note the following.**\n",
        " 1. There are 14,416 registered patients in Penda Health in the year 2019.\n",
        " 2. There are 80,869 records of patients visit to Penda Health outlets in 2019. We also notice that the visits dataset has a number of null entries which we will clean and report the adjusted and valid number of records."
      ]
    },
    {
      "cell_type": "markdown",
      "metadata": {
        "id": "JYOB-LpvcuT6"
      },
      "source": [
        "## **3. Data Preparation and Analysis**"
      ]
    },
    {
      "cell_type": "markdown",
      "metadata": {
        "id": "FxKd0wficuT6"
      },
      "source": [
        "### **3.1 Data Quality Checks**"
      ]
    },
    {
      "cell_type": "code",
      "metadata": {
        "colab": {
          "base_uri": "https://localhost:8080/"
        },
        "id": "k0Yvki1jcuT6",
        "outputId": "a8410055-691a-4087-e282-3daf800e9323"
      },
      "source": [
        "# Completeness quality check. Do we have null entries in these datasets?\n",
        "\n",
        "patient_df.isnull().sum()"
      ],
      "execution_count": null,
      "outputs": [
        {
          "output_type": "execute_result",
          "data": {
            "text/plain": [
              "patient_id    0\n",
              "dob           0\n",
              "gender        0\n",
              "dtype: int64"
            ]
          },
          "metadata": {
            "tags": []
          },
          "execution_count": 11
        }
      ]
    },
    {
      "cell_type": "code",
      "metadata": {
        "colab": {
          "base_uri": "https://localhost:8080/"
        },
        "id": "rv1iZT2acuT6",
        "outputId": "952a6f4b-4183-4dfa-f9d3-aaf042924d8c"
      },
      "source": [
        "visits_df.isnull().sum()"
      ],
      "execution_count": null,
      "outputs": [
        {
          "output_type": "execute_result",
          "data": {
            "text/plain": [
              "visit_date       200\n",
              "patient_id       200\n",
              "location         200\n",
              "payor            200\n",
              "invoice_total    200\n",
              "dtype: int64"
            ]
          },
          "metadata": {
            "tags": []
          },
          "execution_count": 12
        }
      ]
    },
    {
      "cell_type": "code",
      "metadata": {
        "colab": {
          "base_uri": "https://localhost:8080/"
        },
        "id": "ieJS_F53cuT6",
        "outputId": "8370ed11-8414-4275-bc8f-b72b0d049be3"
      },
      "source": [
        "# remove the null entries in the visits dataset and update its dimensions.\n",
        "\n",
        "visits_df = visits_df.dropna(axis=0, how='all')\n",
        "visits_df.shape"
      ],
      "execution_count": null,
      "outputs": [
        {
          "output_type": "execute_result",
          "data": {
            "text/plain": [
              "(80669, 5)"
            ]
          },
          "metadata": {
            "tags": []
          },
          "execution_count": 13
        }
      ]
    },
    {
      "cell_type": "code",
      "metadata": {
        "colab": {
          "base_uri": "https://localhost:8080/"
        },
        "id": "tZ_snLQLcuT6",
        "outputId": "475f3cde-de86-4964-d725-d0497bb1ea15"
      },
      "source": [
        "# Uniqueness quality check: See if we have any duplicated records in each of the datasets.\n",
        "\n",
        "patient_df.duplicated().any()"
      ],
      "execution_count": null,
      "outputs": [
        {
          "output_type": "execute_result",
          "data": {
            "text/plain": [
              "False"
            ]
          },
          "metadata": {
            "tags": []
          },
          "execution_count": 14
        }
      ]
    },
    {
      "cell_type": "code",
      "metadata": {
        "colab": {
          "base_uri": "https://localhost:8080/"
        },
        "id": "1jOx8uofcuT6",
        "outputId": "0bc7dd28-7dfc-4b1a-c7e7-1b41ea4c6edf"
      },
      "source": [
        "visits_df.duplicated().any()"
      ],
      "execution_count": null,
      "outputs": [
        {
          "output_type": "execute_result",
          "data": {
            "text/plain": [
              "True"
            ]
          },
          "metadata": {
            "tags": []
          },
          "execution_count": 15
        }
      ]
    },
    {
      "cell_type": "code",
      "metadata": {
        "colab": {
          "base_uri": "https://localhost:8080/",
          "height": 80
        },
        "id": "WgaZiSHbcuT6",
        "outputId": "9302ac24-ab3d-4e13-8020-b6ed076a5d4a"
      },
      "source": [
        "# Investigate the duplicated records.\n",
        "\n",
        "duplicates_df = visits_df[visits_df.duplicated()]\n",
        "duplicates_df"
      ],
      "execution_count": null,
      "outputs": [
        {
          "output_type": "execute_result",
          "data": {
            "text/html": [
              "<div>\n",
              "<style scoped>\n",
              "    .dataframe tbody tr th:only-of-type {\n",
              "        vertical-align: middle;\n",
              "    }\n",
              "\n",
              "    .dataframe tbody tr th {\n",
              "        vertical-align: top;\n",
              "    }\n",
              "\n",
              "    .dataframe thead th {\n",
              "        text-align: right;\n",
              "    }\n",
              "</style>\n",
              "<table border=\"1\" class=\"dataframe\">\n",
              "  <thead>\n",
              "    <tr style=\"text-align: right;\">\n",
              "      <th></th>\n",
              "      <th>visit_date</th>\n",
              "      <th>patient_id</th>\n",
              "      <th>location</th>\n",
              "      <th>payor</th>\n",
              "      <th>invoice_total</th>\n",
              "    </tr>\n",
              "  </thead>\n",
              "  <tbody>\n",
              "    <tr>\n",
              "      <th>48032</th>\n",
              "      <td>10/11/2019</td>\n",
              "      <td>PAT11046</td>\n",
              "      <td>Kayole</td>\n",
              "      <td>Cash</td>\n",
              "      <td>0.0</td>\n",
              "    </tr>\n",
              "  </tbody>\n",
              "</table>\n",
              "</div>"
            ],
            "text/plain": [
              "       visit_date patient_id location payor  invoice_total\n",
              "48032  10/11/2019   PAT11046   Kayole  Cash            0.0"
            ]
          },
          "metadata": {
            "tags": []
          },
          "execution_count": 16
        }
      ]
    },
    {
      "cell_type": "code",
      "metadata": {
        "colab": {
          "base_uri": "https://localhost:8080/",
          "height": 264
        },
        "id": "tFHF83urcuT7",
        "outputId": "cb840259-7fb2-4193-b239-a1b4a46299e1"
      },
      "source": [
        "# Show all the records that match the duplicate report above.\n",
        "\n",
        "visits_df[visits_df.patient_id.isin(['PAT11046'])].sort_values(by='visit_date', ascending=1)"
      ],
      "execution_count": null,
      "outputs": [
        {
          "output_type": "execute_result",
          "data": {
            "text/html": [
              "<div>\n",
              "<style scoped>\n",
              "    .dataframe tbody tr th:only-of-type {\n",
              "        vertical-align: middle;\n",
              "    }\n",
              "\n",
              "    .dataframe tbody tr th {\n",
              "        vertical-align: top;\n",
              "    }\n",
              "\n",
              "    .dataframe thead th {\n",
              "        text-align: right;\n",
              "    }\n",
              "</style>\n",
              "<table border=\"1\" class=\"dataframe\">\n",
              "  <thead>\n",
              "    <tr style=\"text-align: right;\">\n",
              "      <th></th>\n",
              "      <th>visit_date</th>\n",
              "      <th>patient_id</th>\n",
              "      <th>location</th>\n",
              "      <th>payor</th>\n",
              "      <th>invoice_total</th>\n",
              "    </tr>\n",
              "  </thead>\n",
              "  <tbody>\n",
              "    <tr>\n",
              "      <th>48030</th>\n",
              "      <td>10/11/2019</td>\n",
              "      <td>PAT11046</td>\n",
              "      <td>Kayole</td>\n",
              "      <td>Cash</td>\n",
              "      <td>0.0</td>\n",
              "    </tr>\n",
              "    <tr>\n",
              "      <th>48032</th>\n",
              "      <td>10/11/2019</td>\n",
              "      <td>PAT11046</td>\n",
              "      <td>Kayole</td>\n",
              "      <td>Cash</td>\n",
              "      <td>0.0</td>\n",
              "    </tr>\n",
              "    <tr>\n",
              "      <th>48221</th>\n",
              "      <td>11/28/2019</td>\n",
              "      <td>PAT11046</td>\n",
              "      <td>Tassia</td>\n",
              "      <td>Britam</td>\n",
              "      <td>450.0</td>\n",
              "    </tr>\n",
              "    <tr>\n",
              "      <th>47331</th>\n",
              "      <td>4/26/2019</td>\n",
              "      <td>PAT11046</td>\n",
              "      <td>Kangemi</td>\n",
              "      <td>Cash</td>\n",
              "      <td>50.0</td>\n",
              "    </tr>\n",
              "    <tr>\n",
              "      <th>47336</th>\n",
              "      <td>4/27/2019</td>\n",
              "      <td>PAT11046</td>\n",
              "      <td>Umoja</td>\n",
              "      <td>Jubilee</td>\n",
              "      <td>6400.0</td>\n",
              "    </tr>\n",
              "    <tr>\n",
              "      <th>47479</th>\n",
              "      <td>6/1/2019</td>\n",
              "      <td>PAT11046</td>\n",
              "      <td>Pipeline</td>\n",
              "      <td>Cash</td>\n",
              "      <td>1500.0</td>\n",
              "    </tr>\n",
              "    <tr>\n",
              "      <th>47807</th>\n",
              "      <td>8/17/2019</td>\n",
              "      <td>PAT11046</td>\n",
              "      <td>Embakasi</td>\n",
              "      <td>Cash</td>\n",
              "      <td>710.0</td>\n",
              "    </tr>\n",
              "  </tbody>\n",
              "</table>\n",
              "</div>"
            ],
            "text/plain": [
              "       visit_date patient_id  location    payor  invoice_total\n",
              "48030  10/11/2019   PAT11046    Kayole     Cash            0.0\n",
              "48032  10/11/2019   PAT11046    Kayole     Cash            0.0\n",
              "48221  11/28/2019   PAT11046    Tassia   Britam          450.0\n",
              "47331   4/26/2019   PAT11046   Kangemi     Cash           50.0\n",
              "47336   4/27/2019   PAT11046     Umoja  Jubilee         6400.0\n",
              "47479    6/1/2019   PAT11046  Pipeline     Cash         1500.0\n",
              "47807   8/17/2019   PAT11046  Embakasi     Cash          710.0"
            ]
          },
          "metadata": {
            "tags": []
          },
          "execution_count": 17
        }
      ]
    },
    {
      "cell_type": "code",
      "metadata": {
        "colab": {
          "base_uri": "https://localhost:8080/"
        },
        "id": "TB2S-hFLcuT7",
        "outputId": "0de495fd-ed70-41da-f41a-38f90297d023"
      },
      "source": [
        "# Validity quality check. confirm the datatypes of the fields for eaase of manipulation later in the analysis.\n",
        "\n",
        "print('Data Types for Patients Dataset\\n',patient_df.dtypes, '\\n\\n')\n",
        "print('Data Types for Patient Visits Dataset\\n',visits_df.dtypes)"
      ],
      "execution_count": null,
      "outputs": [
        {
          "output_type": "stream",
          "text": [
            "Data Types for Patients Dataset\n",
            " patient_id    object\n",
            "dob           object\n",
            "gender        object\n",
            "dtype: object \n",
            "\n",
            "\n",
            "Data Types for Patient Visits Dataset\n",
            " visit_date        object\n",
            "patient_id        object\n",
            "location          object\n",
            "payor             object\n",
            "invoice_total    float64\n",
            "dtype: object\n"
          ],
          "name": "stdout"
        }
      ]
    },
    {
      "cell_type": "code",
      "metadata": {
        "colab": {
          "base_uri": "https://localhost:8080/"
        },
        "id": "excGqBuzcuT7",
        "outputId": "328da409-0fb7-4db4-f3bf-4a602159994f"
      },
      "source": [
        "# Data type conversion for the dates field\n",
        "\n",
        "patient_df['dob'] = pd.to_datetime(patient_df.dob)\n",
        "visits_df['visit_date'] = pd.to_datetime(visits_df.visit_date)\n",
        "\n",
        "# Confirm the conversion\n",
        "print('Data Types for Patients Dataset\\n',patient_df.dtypes, '\\n\\n')\n",
        "print('Data Types for Patient Visits Dataset\\n',visits_df.dtypes)"
      ],
      "execution_count": null,
      "outputs": [
        {
          "output_type": "stream",
          "text": [
            "Data Types for Patients Dataset\n",
            " patient_id            object\n",
            "dob           datetime64[ns]\n",
            "gender                object\n",
            "dtype: object \n",
            "\n",
            "\n",
            "Data Types for Patient Visits Dataset\n",
            " visit_date       datetime64[ns]\n",
            "patient_id               object\n",
            "location                 object\n",
            "payor                    object\n",
            "invoice_total           float64\n",
            "dtype: object\n"
          ],
          "name": "stdout"
        }
      ]
    },
    {
      "cell_type": "code",
      "metadata": {
        "colab": {
          "base_uri": "https://localhost:8080/"
        },
        "id": "bbgKVpu-cuT7",
        "outputId": "a4567cf5-21b0-4205-a379-15c7756ba10b"
      },
      "source": [
        "# Consistency quality check. confirm that all data categories are entered consistently.. Cash, CASH, cash etc.\n",
        "\n",
        "visits_df.payor.value_counts()"
      ],
      "execution_count": null,
      "outputs": [
        {
          "output_type": "execute_result",
          "data": {
            "text/plain": [
              "Cash             60505\n",
              "CIC Photocard     4484\n",
              "Britam            4165\n",
              "Resolution        2039\n",
              "Madison           2026\n",
              "UAP               2014\n",
              "CIC Corporate     1982\n",
              "AON               1978\n",
              "Jubilee           1250\n",
              "Sunshine Ltd.      226\n",
              "Name: payor, dtype: int64"
            ]
          },
          "metadata": {
            "tags": []
          },
          "execution_count": 20
        }
      ]
    },
    {
      "cell_type": "code",
      "metadata": {
        "colab": {
          "base_uri": "https://localhost:8080/"
        },
        "id": "5lPv6rygcuT7",
        "outputId": "057d46eb-43bc-4652-a4a2-7e6cd1bb1ab8"
      },
      "source": [
        "patient_df.gender.value_counts()"
      ],
      "execution_count": null,
      "outputs": [
        {
          "output_type": "execute_result",
          "data": {
            "text/plain": [
              "Female    7893\n",
              "Male      6523\n",
              "Name: gender, dtype: int64"
            ]
          },
          "metadata": {
            "tags": []
          },
          "execution_count": 21
        }
      ]
    },
    {
      "cell_type": "markdown",
      "metadata": {
        "id": "UBZpP3jocuT7"
      },
      "source": [
        "**We notice that:**\n",
        "1. There are duplicated records in the visits dataset and this is quite alright since a patient can visit a hospital twice in a day. Further more, we do not have a unique field for each of the visits in the dataset. We therefore retain these records as valid.\n",
        "2. The visit_date and date_of_birth fields had been stored as text / character and so we have converted them to date_time format for consistency and ease of manipuation later on in the analysis. All other fields are well presented.\n",
        "3. There are 10 modes of payments, 9 of which are capitation based."
      ]
    },
    {
      "cell_type": "markdown",
      "metadata": {
        "id": "b8Cis80lcuT7"
      },
      "source": [
        "### **3.2 Data Transformations**"
      ]
    },
    {
      "cell_type": "code",
      "metadata": {
        "colab": {
          "base_uri": "https://localhost:8080/",
          "height": 202
        },
        "id": "yn-tcdWDcuT7",
        "outputId": "f9f87712-5d7a-48ad-8402-8613d271c91e"
      },
      "source": [
        "# Merge the records from each of these datasets to have a complete profile of the patients.\n",
        "\n",
        "merged_df = visits_df.merge(patient_df, how='left', on='patient_id')\n",
        "merged_df.head()"
      ],
      "execution_count": null,
      "outputs": [
        {
          "output_type": "execute_result",
          "data": {
            "text/html": [
              "<div>\n",
              "<style scoped>\n",
              "    .dataframe tbody tr th:only-of-type {\n",
              "        vertical-align: middle;\n",
              "    }\n",
              "\n",
              "    .dataframe tbody tr th {\n",
              "        vertical-align: top;\n",
              "    }\n",
              "\n",
              "    .dataframe thead th {\n",
              "        text-align: right;\n",
              "    }\n",
              "</style>\n",
              "<table border=\"1\" class=\"dataframe\">\n",
              "  <thead>\n",
              "    <tr style=\"text-align: right;\">\n",
              "      <th></th>\n",
              "      <th>visit_date</th>\n",
              "      <th>patient_id</th>\n",
              "      <th>location</th>\n",
              "      <th>payor</th>\n",
              "      <th>invoice_total</th>\n",
              "      <th>dob</th>\n",
              "      <th>gender</th>\n",
              "    </tr>\n",
              "  </thead>\n",
              "  <tbody>\n",
              "    <tr>\n",
              "      <th>0</th>\n",
              "      <td>2019-07-21</td>\n",
              "      <td>PAT24869</td>\n",
              "      <td>Kahawa West</td>\n",
              "      <td>Cash</td>\n",
              "      <td>1350.0</td>\n",
              "      <td>2019-07-21</td>\n",
              "      <td>Male</td>\n",
              "    </tr>\n",
              "    <tr>\n",
              "      <th>1</th>\n",
              "      <td>2019-05-28</td>\n",
              "      <td>PAT17185</td>\n",
              "      <td>Embakasi</td>\n",
              "      <td>Cash</td>\n",
              "      <td>600.0</td>\n",
              "      <td>2019-05-28</td>\n",
              "      <td>Female</td>\n",
              "    </tr>\n",
              "    <tr>\n",
              "      <th>2</th>\n",
              "      <td>2019-12-29</td>\n",
              "      <td>PAT19895</td>\n",
              "      <td>Zimmerman</td>\n",
              "      <td>Cash</td>\n",
              "      <td>140.0</td>\n",
              "      <td>2019-12-29</td>\n",
              "      <td>Female</td>\n",
              "    </tr>\n",
              "    <tr>\n",
              "      <th>3</th>\n",
              "      <td>2019-07-03</td>\n",
              "      <td>PAT20790</td>\n",
              "      <td>Pipeline</td>\n",
              "      <td>Cash</td>\n",
              "      <td>325.0</td>\n",
              "      <td>2019-07-03</td>\n",
              "      <td>Male</td>\n",
              "    </tr>\n",
              "    <tr>\n",
              "      <th>4</th>\n",
              "      <td>2019-09-22</td>\n",
              "      <td>PAT12119</td>\n",
              "      <td>Huruma</td>\n",
              "      <td>Cash</td>\n",
              "      <td>300.0</td>\n",
              "      <td>2019-09-22</td>\n",
              "      <td>Male</td>\n",
              "    </tr>\n",
              "  </tbody>\n",
              "</table>\n",
              "</div>"
            ],
            "text/plain": [
              "  visit_date patient_id     location payor  invoice_total        dob  gender\n",
              "0 2019-07-21   PAT24869  Kahawa West  Cash         1350.0 2019-07-21    Male\n",
              "1 2019-05-28   PAT17185     Embakasi  Cash          600.0 2019-05-28  Female\n",
              "2 2019-12-29   PAT19895    Zimmerman  Cash          140.0 2019-12-29  Female\n",
              "3 2019-07-03   PAT20790     Pipeline  Cash          325.0 2019-07-03    Male\n",
              "4 2019-09-22   PAT12119       Huruma  Cash          300.0 2019-09-22    Male"
            ]
          },
          "metadata": {
            "tags": []
          },
          "execution_count": 22
        }
      ]
    },
    {
      "cell_type": "code",
      "metadata": {
        "colab": {
          "base_uri": "https://localhost:8080/"
        },
        "id": "D4iYDBHfcuT7",
        "outputId": "0ea34b61-cc2e-4aee-cdae-e8b07a6059ba"
      },
      "source": [
        "merged_df.shape"
      ],
      "execution_count": null,
      "outputs": [
        {
          "output_type": "execute_result",
          "data": {
            "text/plain": [
              "(80669, 7)"
            ]
          },
          "metadata": {
            "tags": []
          },
          "execution_count": 23
        }
      ]
    },
    {
      "cell_type": "code",
      "metadata": {
        "colab": {
          "base_uri": "https://localhost:8080/"
        },
        "id": "9WobBonxcuT7",
        "outputId": "c0d30589-2599-4c5a-c9a5-9ac2d4cfdc6f"
      },
      "source": [
        "# Check if we have any nulls in the new dataset.\n",
        "\n",
        "merged_df.isnull().any()"
      ],
      "execution_count": null,
      "outputs": [
        {
          "output_type": "execute_result",
          "data": {
            "text/plain": [
              "visit_date       False\n",
              "patient_id       False\n",
              "location         False\n",
              "payor            False\n",
              "invoice_total    False\n",
              "dob              False\n",
              "gender           False\n",
              "dtype: bool"
            ]
          },
          "metadata": {
            "tags": []
          },
          "execution_count": 24
        }
      ]
    },
    {
      "cell_type": "code",
      "metadata": {
        "colab": {
          "base_uri": "https://localhost:8080/"
        },
        "id": "rRCdpxa3cuT7",
        "outputId": "f77a5ff8-6937-45c0-f546-d53a2aff8b68"
      },
      "source": [
        "# Check to see if all registered patients have paid visits to the hospital.\n",
        "\n",
        "merged_df.patient_id.value_counts().count()"
      ],
      "execution_count": null,
      "outputs": [
        {
          "output_type": "execute_result",
          "data": {
            "text/plain": [
              "13840"
            ]
          },
          "metadata": {
            "tags": []
          },
          "execution_count": 25
        }
      ]
    },
    {
      "cell_type": "code",
      "metadata": {
        "colab": {
          "base_uri": "https://localhost:8080/"
        },
        "id": "GpEN0lIvcuT7",
        "outputId": "212a28b7-7976-485e-bbe0-3336eb3ff518"
      },
      "source": [
        "# recheck of the above by selecting unique values of patient ID\n",
        "\n",
        "merged_df['patient_id'].nunique()"
      ],
      "execution_count": null,
      "outputs": [
        {
          "output_type": "execute_result",
          "data": {
            "text/plain": [
              "13840"
            ]
          },
          "metadata": {
            "tags": []
          },
          "execution_count": 26
        }
      ]
    },
    {
      "cell_type": "code",
      "metadata": {
        "colab": {
          "base_uri": "https://localhost:8080/"
        },
        "id": "vldN_DyRcuT7",
        "outputId": "f1bd7a0c-cd1d-4652-b0e3-45e9f1cfc8f2"
      },
      "source": [
        "merged_df.info()"
      ],
      "execution_count": null,
      "outputs": [
        {
          "output_type": "stream",
          "text": [
            "<class 'pandas.core.frame.DataFrame'>\n",
            "Int64Index: 80669 entries, 0 to 80668\n",
            "Data columns (total 7 columns):\n",
            " #   Column         Non-Null Count  Dtype         \n",
            "---  ------         --------------  -----         \n",
            " 0   visit_date     80669 non-null  datetime64[ns]\n",
            " 1   patient_id     80669 non-null  object        \n",
            " 2   location       80669 non-null  object        \n",
            " 3   payor          80669 non-null  object        \n",
            " 4   invoice_total  80669 non-null  float64       \n",
            " 5   dob            80669 non-null  datetime64[ns]\n",
            " 6   gender         80669 non-null  object        \n",
            "dtypes: datetime64[ns](2), float64(1), object(4)\n",
            "memory usage: 4.9+ MB\n"
          ],
          "name": "stdout"
        }
      ]
    },
    {
      "cell_type": "markdown",
      "metadata": {
        "id": "2P6GVp6ZcuT8"
      },
      "source": [
        "**From the above analysis, we are able to establish that;**\n",
        "1. Out of the 14,416 registered patients in Penda Health, only 13,840 made their visits to the hospital in the year 2019. 576 patients did not.\n",
        "2. All the visits to the hospital in 2019 were made by registered patients. we have been able to match all the records with the corresponding records in the registration dataset."
      ]
    },
    {
      "cell_type": "markdown",
      "metadata": {
        "id": "skUIMZl-cuT8"
      },
      "source": [
        "This Dataset now presents a clean copy which is ready for analysis."
      ]
    },
    {
      "cell_type": "markdown",
      "metadata": {
        "id": "BQLFd-fhcuT8"
      },
      "source": [
        "## **4. Solution Implementation & Reporting**"
      ]
    },
    {
      "cell_type": "markdown",
      "metadata": {
        "id": "HUK_vUqdWFaU"
      },
      "source": [
        "**General Questions**"
      ]
    },
    {
      "cell_type": "markdown",
      "metadata": {
        "id": "u6O4UvFGcuT8"
      },
      "source": [
        "#### **1. For cash visits, what is the average age of female patients who visited between the start of February and the end of April in 2019?**"
      ]
    },
    {
      "cell_type": "code",
      "metadata": {
        "colab": {
          "base_uri": "https://localhost:8080/"
        },
        "id": "d0dLkBThcuT8",
        "outputId": "77bb4c10-dc37-45ee-b2a1-c2bc05bd43ab"
      },
      "source": [
        "# Introduce the age_days colummn in this dataset as a calculated field.\n",
        "\n",
        "now = pd.Timestamp('now')\n",
        "merged_df['dob'] = pd.to_datetime(merged_df['dob'], format='%m%d%y')\n",
        "merged_df['dob'] = merged_df['dob'].where(merged_df['dob'] < now, merged_df['dob'] -  np.timedelta64(100, 'D'))\n",
        "merged_df['age_days'] = (now - merged_df['dob']).astype('<m8[D]')\n",
        "merged_df[\"age_year\"] = merged_df[\"dob\"].apply(lambda x : (pd.datetime.now().year - x.year))\n",
        "merged_df[\"age_year1\"] = round(merged_df[\"age_days\"] / 365,2)"
      ],
      "execution_count": null,
      "outputs": [
        {
          "output_type": "stream",
          "text": [
            "/usr/local/lib/python3.6/dist-packages/ipykernel_launcher.py:7: FutureWarning: The pandas.datetime class is deprecated and will be removed from pandas in a future version. Import from datetime instead.\n",
            "  import sys\n"
          ],
          "name": "stderr"
        }
      ]
    },
    {
      "cell_type": "code",
      "metadata": {
        "colab": {
          "base_uri": "https://localhost:8080/",
          "height": 202
        },
        "id": "8b_2d809cuT8",
        "outputId": "1ac8c361-ccbc-4f65-bdd5-875c1586d72e"
      },
      "source": [
        "merged_df.head()"
      ],
      "execution_count": null,
      "outputs": [
        {
          "output_type": "execute_result",
          "data": {
            "text/html": [
              "<div>\n",
              "<style scoped>\n",
              "    .dataframe tbody tr th:only-of-type {\n",
              "        vertical-align: middle;\n",
              "    }\n",
              "\n",
              "    .dataframe tbody tr th {\n",
              "        vertical-align: top;\n",
              "    }\n",
              "\n",
              "    .dataframe thead th {\n",
              "        text-align: right;\n",
              "    }\n",
              "</style>\n",
              "<table border=\"1\" class=\"dataframe\">\n",
              "  <thead>\n",
              "    <tr style=\"text-align: right;\">\n",
              "      <th></th>\n",
              "      <th>visit_date</th>\n",
              "      <th>patient_id</th>\n",
              "      <th>location</th>\n",
              "      <th>payor</th>\n",
              "      <th>invoice_total</th>\n",
              "      <th>dob</th>\n",
              "      <th>gender</th>\n",
              "      <th>age_days</th>\n",
              "      <th>age_year</th>\n",
              "      <th>age_year1</th>\n",
              "    </tr>\n",
              "  </thead>\n",
              "  <tbody>\n",
              "    <tr>\n",
              "      <th>0</th>\n",
              "      <td>2019-07-21</td>\n",
              "      <td>PAT24869</td>\n",
              "      <td>Kahawa West</td>\n",
              "      <td>Cash</td>\n",
              "      <td>1350.0</td>\n",
              "      <td>2019-07-21</td>\n",
              "      <td>Male</td>\n",
              "      <td>505.0</td>\n",
              "      <td>1</td>\n",
              "      <td>1.38</td>\n",
              "    </tr>\n",
              "    <tr>\n",
              "      <th>1</th>\n",
              "      <td>2019-05-28</td>\n",
              "      <td>PAT17185</td>\n",
              "      <td>Embakasi</td>\n",
              "      <td>Cash</td>\n",
              "      <td>600.0</td>\n",
              "      <td>2019-05-28</td>\n",
              "      <td>Female</td>\n",
              "      <td>559.0</td>\n",
              "      <td>1</td>\n",
              "      <td>1.53</td>\n",
              "    </tr>\n",
              "    <tr>\n",
              "      <th>2</th>\n",
              "      <td>2019-12-29</td>\n",
              "      <td>PAT19895</td>\n",
              "      <td>Zimmerman</td>\n",
              "      <td>Cash</td>\n",
              "      <td>140.0</td>\n",
              "      <td>2019-12-29</td>\n",
              "      <td>Female</td>\n",
              "      <td>344.0</td>\n",
              "      <td>1</td>\n",
              "      <td>0.94</td>\n",
              "    </tr>\n",
              "    <tr>\n",
              "      <th>3</th>\n",
              "      <td>2019-07-03</td>\n",
              "      <td>PAT20790</td>\n",
              "      <td>Pipeline</td>\n",
              "      <td>Cash</td>\n",
              "      <td>325.0</td>\n",
              "      <td>2019-07-03</td>\n",
              "      <td>Male</td>\n",
              "      <td>523.0</td>\n",
              "      <td>1</td>\n",
              "      <td>1.43</td>\n",
              "    </tr>\n",
              "    <tr>\n",
              "      <th>4</th>\n",
              "      <td>2019-09-22</td>\n",
              "      <td>PAT12119</td>\n",
              "      <td>Huruma</td>\n",
              "      <td>Cash</td>\n",
              "      <td>300.0</td>\n",
              "      <td>2019-09-22</td>\n",
              "      <td>Male</td>\n",
              "      <td>442.0</td>\n",
              "      <td>1</td>\n",
              "      <td>1.21</td>\n",
              "    </tr>\n",
              "  </tbody>\n",
              "</table>\n",
              "</div>"
            ],
            "text/plain": [
              "  visit_date patient_id     location  ... age_days  age_year age_year1\n",
              "0 2019-07-21   PAT24869  Kahawa West  ...    505.0         1      1.38\n",
              "1 2019-05-28   PAT17185     Embakasi  ...    559.0         1      1.53\n",
              "2 2019-12-29   PAT19895    Zimmerman  ...    344.0         1      0.94\n",
              "3 2019-07-03   PAT20790     Pipeline  ...    523.0         1      1.43\n",
              "4 2019-09-22   PAT12119       Huruma  ...    442.0         1      1.21\n",
              "\n",
              "[5 rows x 10 columns]"
            ]
          },
          "metadata": {
            "tags": []
          },
          "execution_count": 29
        }
      ]
    },
    {
      "cell_type": "code",
      "metadata": {
        "id": "WrGww76zcuT8"
      },
      "source": [
        "# Save this dataset on disk for future retrieval.\n",
        "\n",
        "merged_df.to_csv('patient_records.csv', index=False)"
      ],
      "execution_count": null,
      "outputs": []
    },
    {
      "cell_type": "code",
      "metadata": {
        "colab": {
          "base_uri": "https://localhost:8080/",
          "height": 233
        },
        "id": "KhlNLZuScuT8",
        "outputId": "4f765e92-5741-44f5-8254-fa5c9dd57f1b"
      },
      "source": [
        "# Read the csv file and parse dates from column index 0: visit_date\n",
        "q1_df = pd.read_csv('patient_records.csv', parse_dates=True, index_col=0)\n",
        "q1_df.head()"
      ],
      "execution_count": null,
      "outputs": [
        {
          "output_type": "execute_result",
          "data": {
            "text/html": [
              "<div>\n",
              "<style scoped>\n",
              "    .dataframe tbody tr th:only-of-type {\n",
              "        vertical-align: middle;\n",
              "    }\n",
              "\n",
              "    .dataframe tbody tr th {\n",
              "        vertical-align: top;\n",
              "    }\n",
              "\n",
              "    .dataframe thead th {\n",
              "        text-align: right;\n",
              "    }\n",
              "</style>\n",
              "<table border=\"1\" class=\"dataframe\">\n",
              "  <thead>\n",
              "    <tr style=\"text-align: right;\">\n",
              "      <th></th>\n",
              "      <th>patient_id</th>\n",
              "      <th>location</th>\n",
              "      <th>payor</th>\n",
              "      <th>invoice_total</th>\n",
              "      <th>dob</th>\n",
              "      <th>gender</th>\n",
              "      <th>age_days</th>\n",
              "      <th>age_year</th>\n",
              "      <th>age_year1</th>\n",
              "    </tr>\n",
              "    <tr>\n",
              "      <th>visit_date</th>\n",
              "      <th></th>\n",
              "      <th></th>\n",
              "      <th></th>\n",
              "      <th></th>\n",
              "      <th></th>\n",
              "      <th></th>\n",
              "      <th></th>\n",
              "      <th></th>\n",
              "      <th></th>\n",
              "    </tr>\n",
              "  </thead>\n",
              "  <tbody>\n",
              "    <tr>\n",
              "      <th>2019-07-21</th>\n",
              "      <td>PAT24869</td>\n",
              "      <td>Kahawa West</td>\n",
              "      <td>Cash</td>\n",
              "      <td>1350.0</td>\n",
              "      <td>2019-07-21</td>\n",
              "      <td>Male</td>\n",
              "      <td>505.0</td>\n",
              "      <td>1</td>\n",
              "      <td>1.38</td>\n",
              "    </tr>\n",
              "    <tr>\n",
              "      <th>2019-05-28</th>\n",
              "      <td>PAT17185</td>\n",
              "      <td>Embakasi</td>\n",
              "      <td>Cash</td>\n",
              "      <td>600.0</td>\n",
              "      <td>2019-05-28</td>\n",
              "      <td>Female</td>\n",
              "      <td>559.0</td>\n",
              "      <td>1</td>\n",
              "      <td>1.53</td>\n",
              "    </tr>\n",
              "    <tr>\n",
              "      <th>2019-12-29</th>\n",
              "      <td>PAT19895</td>\n",
              "      <td>Zimmerman</td>\n",
              "      <td>Cash</td>\n",
              "      <td>140.0</td>\n",
              "      <td>2019-12-29</td>\n",
              "      <td>Female</td>\n",
              "      <td>344.0</td>\n",
              "      <td>1</td>\n",
              "      <td>0.94</td>\n",
              "    </tr>\n",
              "    <tr>\n",
              "      <th>2019-07-03</th>\n",
              "      <td>PAT20790</td>\n",
              "      <td>Pipeline</td>\n",
              "      <td>Cash</td>\n",
              "      <td>325.0</td>\n",
              "      <td>2019-07-03</td>\n",
              "      <td>Male</td>\n",
              "      <td>523.0</td>\n",
              "      <td>1</td>\n",
              "      <td>1.43</td>\n",
              "    </tr>\n",
              "    <tr>\n",
              "      <th>2019-09-22</th>\n",
              "      <td>PAT12119</td>\n",
              "      <td>Huruma</td>\n",
              "      <td>Cash</td>\n",
              "      <td>300.0</td>\n",
              "      <td>2019-09-22</td>\n",
              "      <td>Male</td>\n",
              "      <td>442.0</td>\n",
              "      <td>1</td>\n",
              "      <td>1.21</td>\n",
              "    </tr>\n",
              "  </tbody>\n",
              "</table>\n",
              "</div>"
            ],
            "text/plain": [
              "           patient_id     location payor  ...  age_days age_year age_year1\n",
              "visit_date                                ...                             \n",
              "2019-07-21   PAT24869  Kahawa West  Cash  ...     505.0        1      1.38\n",
              "2019-05-28   PAT17185     Embakasi  Cash  ...     559.0        1      1.53\n",
              "2019-12-29   PAT19895    Zimmerman  Cash  ...     344.0        1      0.94\n",
              "2019-07-03   PAT20790     Pipeline  Cash  ...     523.0        1      1.43\n",
              "2019-09-22   PAT12119       Huruma  Cash  ...     442.0        1      1.21\n",
              "\n",
              "[5 rows x 9 columns]"
            ]
          },
          "metadata": {
            "tags": []
          },
          "execution_count": 31
        }
      ]
    },
    {
      "cell_type": "code",
      "metadata": {
        "colab": {
          "base_uri": "https://localhost:8080/",
          "height": 233
        },
        "id": "72sCiZiTcuT8",
        "outputId": "e5ff9505-fe4c-41b7-d6a2-7533bcfaab3c"
      },
      "source": [
        "# desired record filtered by dates\n",
        "q1_df = q1_df.loc['2019-02-01' : '2019-04-30']\n",
        "q1_df.head()"
      ],
      "execution_count": null,
      "outputs": [
        {
          "output_type": "execute_result",
          "data": {
            "text/html": [
              "<div>\n",
              "<style scoped>\n",
              "    .dataframe tbody tr th:only-of-type {\n",
              "        vertical-align: middle;\n",
              "    }\n",
              "\n",
              "    .dataframe tbody tr th {\n",
              "        vertical-align: top;\n",
              "    }\n",
              "\n",
              "    .dataframe thead th {\n",
              "        text-align: right;\n",
              "    }\n",
              "</style>\n",
              "<table border=\"1\" class=\"dataframe\">\n",
              "  <thead>\n",
              "    <tr style=\"text-align: right;\">\n",
              "      <th></th>\n",
              "      <th>patient_id</th>\n",
              "      <th>location</th>\n",
              "      <th>payor</th>\n",
              "      <th>invoice_total</th>\n",
              "      <th>dob</th>\n",
              "      <th>gender</th>\n",
              "      <th>age_days</th>\n",
              "      <th>age_year</th>\n",
              "      <th>age_year1</th>\n",
              "    </tr>\n",
              "    <tr>\n",
              "      <th>visit_date</th>\n",
              "      <th></th>\n",
              "      <th></th>\n",
              "      <th></th>\n",
              "      <th></th>\n",
              "      <th></th>\n",
              "      <th></th>\n",
              "      <th></th>\n",
              "      <th></th>\n",
              "      <th></th>\n",
              "    </tr>\n",
              "  </thead>\n",
              "  <tbody>\n",
              "    <tr>\n",
              "      <th>2019-04-06</th>\n",
              "      <td>PAT18541</td>\n",
              "      <td>Kayole</td>\n",
              "      <td>Cash</td>\n",
              "      <td>50.0</td>\n",
              "      <td>2019-04-06</td>\n",
              "      <td>Male</td>\n",
              "      <td>611.0</td>\n",
              "      <td>1</td>\n",
              "      <td>1.67</td>\n",
              "    </tr>\n",
              "    <tr>\n",
              "      <th>2019-02-22</th>\n",
              "      <td>PAT14342</td>\n",
              "      <td>Zimmerman</td>\n",
              "      <td>Cash</td>\n",
              "      <td>630.0</td>\n",
              "      <td>2019-02-22</td>\n",
              "      <td>Female</td>\n",
              "      <td>654.0</td>\n",
              "      <td>1</td>\n",
              "      <td>1.79</td>\n",
              "    </tr>\n",
              "    <tr>\n",
              "      <th>2019-04-21</th>\n",
              "      <td>PAT17951</td>\n",
              "      <td>Embakasi</td>\n",
              "      <td>Cash</td>\n",
              "      <td>820.0</td>\n",
              "      <td>2019-04-21</td>\n",
              "      <td>Female</td>\n",
              "      <td>596.0</td>\n",
              "      <td>1</td>\n",
              "      <td>1.63</td>\n",
              "    </tr>\n",
              "    <tr>\n",
              "      <th>2019-03-23</th>\n",
              "      <td>PAT10075</td>\n",
              "      <td>Kayole</td>\n",
              "      <td>Cash</td>\n",
              "      <td>800.0</td>\n",
              "      <td>2019-03-23</td>\n",
              "      <td>Female</td>\n",
              "      <td>625.0</td>\n",
              "      <td>1</td>\n",
              "      <td>1.71</td>\n",
              "    </tr>\n",
              "    <tr>\n",
              "      <th>2019-04-14</th>\n",
              "      <td>PAT16355</td>\n",
              "      <td>Kayole</td>\n",
              "      <td>Cash</td>\n",
              "      <td>200.0</td>\n",
              "      <td>2019-04-14</td>\n",
              "      <td>Male</td>\n",
              "      <td>603.0</td>\n",
              "      <td>1</td>\n",
              "      <td>1.65</td>\n",
              "    </tr>\n",
              "  </tbody>\n",
              "</table>\n",
              "</div>"
            ],
            "text/plain": [
              "           patient_id   location payor  ...  age_days age_year age_year1\n",
              "visit_date                              ...                             \n",
              "2019-04-06   PAT18541     Kayole  Cash  ...     611.0        1      1.67\n",
              "2019-02-22   PAT14342  Zimmerman  Cash  ...     654.0        1      1.79\n",
              "2019-04-21   PAT17951   Embakasi  Cash  ...     596.0        1      1.63\n",
              "2019-03-23   PAT10075     Kayole  Cash  ...     625.0        1      1.71\n",
              "2019-04-14   PAT16355     Kayole  Cash  ...     603.0        1      1.65\n",
              "\n",
              "[5 rows x 9 columns]"
            ]
          },
          "metadata": {
            "tags": []
          },
          "execution_count": 43
        }
      ]
    },
    {
      "cell_type": "code",
      "metadata": {
        "colab": {
          "base_uri": "https://localhost:8080/",
          "height": 233
        },
        "id": "3N5i1tdCcuT8",
        "outputId": "82d6e09d-a5b9-44e1-ee08-d434b28ac6a2"
      },
      "source": [
        "# Create a dataframe for cash records between 2019-02-01 and 2019-04-30.\n",
        "\n",
        "q1_df = q1_df[(q1_df.payor.isin(['Cash'])) & (q1_df.gender.isin(['Female']))]\n",
        "q1_df.head()"
      ],
      "execution_count": null,
      "outputs": [
        {
          "output_type": "execute_result",
          "data": {
            "text/html": [
              "<div>\n",
              "<style scoped>\n",
              "    .dataframe tbody tr th:only-of-type {\n",
              "        vertical-align: middle;\n",
              "    }\n",
              "\n",
              "    .dataframe tbody tr th {\n",
              "        vertical-align: top;\n",
              "    }\n",
              "\n",
              "    .dataframe thead th {\n",
              "        text-align: right;\n",
              "    }\n",
              "</style>\n",
              "<table border=\"1\" class=\"dataframe\">\n",
              "  <thead>\n",
              "    <tr style=\"text-align: right;\">\n",
              "      <th></th>\n",
              "      <th>patient_id</th>\n",
              "      <th>location</th>\n",
              "      <th>payor</th>\n",
              "      <th>invoice_total</th>\n",
              "      <th>dob</th>\n",
              "      <th>gender</th>\n",
              "      <th>age_days</th>\n",
              "      <th>age_year</th>\n",
              "      <th>age_year1</th>\n",
              "    </tr>\n",
              "    <tr>\n",
              "      <th>visit_date</th>\n",
              "      <th></th>\n",
              "      <th></th>\n",
              "      <th></th>\n",
              "      <th></th>\n",
              "      <th></th>\n",
              "      <th></th>\n",
              "      <th></th>\n",
              "      <th></th>\n",
              "      <th></th>\n",
              "    </tr>\n",
              "  </thead>\n",
              "  <tbody>\n",
              "    <tr>\n",
              "      <th>2019-02-22</th>\n",
              "      <td>PAT14342</td>\n",
              "      <td>Zimmerman</td>\n",
              "      <td>Cash</td>\n",
              "      <td>630.0</td>\n",
              "      <td>2019-02-22</td>\n",
              "      <td>Female</td>\n",
              "      <td>654.0</td>\n",
              "      <td>1</td>\n",
              "      <td>1.79</td>\n",
              "    </tr>\n",
              "    <tr>\n",
              "      <th>2019-04-21</th>\n",
              "      <td>PAT17951</td>\n",
              "      <td>Embakasi</td>\n",
              "      <td>Cash</td>\n",
              "      <td>820.0</td>\n",
              "      <td>2019-04-21</td>\n",
              "      <td>Female</td>\n",
              "      <td>596.0</td>\n",
              "      <td>1</td>\n",
              "      <td>1.63</td>\n",
              "    </tr>\n",
              "    <tr>\n",
              "      <th>2019-03-23</th>\n",
              "      <td>PAT10075</td>\n",
              "      <td>Kayole</td>\n",
              "      <td>Cash</td>\n",
              "      <td>800.0</td>\n",
              "      <td>2019-03-23</td>\n",
              "      <td>Female</td>\n",
              "      <td>625.0</td>\n",
              "      <td>1</td>\n",
              "      <td>1.71</td>\n",
              "    </tr>\n",
              "    <tr>\n",
              "      <th>2019-03-24</th>\n",
              "      <td>PAT15927</td>\n",
              "      <td>Githurai 45</td>\n",
              "      <td>Cash</td>\n",
              "      <td>100.0</td>\n",
              "      <td>2019-03-23</td>\n",
              "      <td>Female</td>\n",
              "      <td>625.0</td>\n",
              "      <td>1</td>\n",
              "      <td>1.71</td>\n",
              "    </tr>\n",
              "    <tr>\n",
              "      <th>2019-03-13</th>\n",
              "      <td>PAT23596</td>\n",
              "      <td>Kangemi</td>\n",
              "      <td>Cash</td>\n",
              "      <td>520.0</td>\n",
              "      <td>2019-03-12</td>\n",
              "      <td>Female</td>\n",
              "      <td>636.0</td>\n",
              "      <td>1</td>\n",
              "      <td>1.74</td>\n",
              "    </tr>\n",
              "  </tbody>\n",
              "</table>\n",
              "</div>"
            ],
            "text/plain": [
              "           patient_id     location payor  ...  age_days age_year age_year1\n",
              "visit_date                                ...                             \n",
              "2019-02-22   PAT14342    Zimmerman  Cash  ...     654.0        1      1.79\n",
              "2019-04-21   PAT17951     Embakasi  Cash  ...     596.0        1      1.63\n",
              "2019-03-23   PAT10075       Kayole  Cash  ...     625.0        1      1.71\n",
              "2019-03-24   PAT15927  Githurai 45  Cash  ...     625.0        1      1.71\n",
              "2019-03-13   PAT23596      Kangemi  Cash  ...     636.0        1      1.74\n",
              "\n",
              "[5 rows x 9 columns]"
            ]
          },
          "metadata": {
            "tags": []
          },
          "execution_count": 45
        }
      ]
    },
    {
      "cell_type": "code",
      "metadata": {
        "colab": {
          "base_uri": "https://localhost:8080/"
        },
        "id": "DnFgq33mkSS4",
        "outputId": "37f38458-13be-4de4-8579-6357a53f57aa"
      },
      "source": [
        "# Compute the average age \n",
        "\n",
        "print('The average age in days is :',round(q1_df['age_days'].mean(),2), '\\n')\n",
        "print('The average age in years is :',round(q1_df['age_year'].mean(),2), '\\n')\n",
        "print('The average age in years is :',round(q1_df['age_year1'].mean(),2), '\\n')\n",
        "print('The average age in years is :',round(q1_df['age_days'].mean()/365,2))"
      ],
      "execution_count": null,
      "outputs": [
        {
          "output_type": "stream",
          "text": [
            "The average age in days is : 8174.2 \n",
            "\n",
            "The average age in years is : 21.94 \n",
            "\n",
            "The average age in years is : 22.39 \n",
            "\n",
            "The average age in years is : 22.4\n"
          ],
          "name": "stdout"
        }
      ]
    },
    {
      "cell_type": "markdown",
      "metadata": {
        "id": "UX0JZ9XlVH_k"
      },
      "source": [
        "**2.\tWhat is the total cost to the hospital of all cash visits by males in October 2019? Assume an average gross margin of 45% per visit**"
      ]
    },
    {
      "cell_type": "code",
      "metadata": {
        "colab": {
          "base_uri": "https://localhost:8080/"
        },
        "id": "S1zYe6lNYDP9",
        "outputId": "64b1f28a-4838-45a9-96b7-0857d319e774"
      },
      "source": [
        "# Cost is calculated by Revenue Less (Gross Margin * Revenue)\n",
        "\n",
        "# Read the csv file and parse dates from column index 0: visit_date\n",
        "q2_df = pd.read_csv('patient_records.csv', parse_dates=True, index_col=0)\n",
        "\n",
        "# select October records, then filter by Cash Payor and Male gender.\n",
        "q2_df = q2_df.loc['2019-10-01' : '2019-10-31']\n",
        "q2_df = q2_df[(q2_df.payor.isin(['Cash'])) & (q2_df.gender.isin(['Male']))]\n",
        "\n",
        "# compute revenue\n",
        "# myrevenue = q2_df['invoice_total'][['invoice_total']].sum()\n",
        "myrevenue = q2_df[(q2_df.payor.isin(['Cash'])) & (q2_df.gender.isin(['Male']))]['invoice_total'].sum()\n",
        "print('The revenue is Ksh. ', myrevenue)\n",
        "\n",
        "# compute cost given by Revenue Less (Gross Margin * Revenue)\n",
        "cost = myrevenue-(0.45*myrevenue)\n",
        "print('Gross Margin is 45%')\n",
        "print('The Cost is Ksh.', round(cost))\n"
      ],
      "execution_count": null,
      "outputs": [
        {
          "output_type": "stream",
          "text": [
            "The revenue is Ksh.  1513065.5\n",
            "Gross Margin is 45%\n",
            "The Cost is Ksh. 832186.0\n"
          ],
          "name": "stdout"
        }
      ]
    },
    {
      "cell_type": "markdown",
      "metadata": {
        "id": "ab89E-_jVH6m"
      },
      "source": [
        "**3. On average, how much were female patients between the ages of 18-35 (including 35 year-olds) invoiced per visit in 2019?**"
      ]
    },
    {
      "cell_type": "code",
      "metadata": {
        "colab": {
          "base_uri": "https://localhost:8080/"
        },
        "id": "WdS5LD_UeqfX",
        "outputId": "e541c76a-0ed1-4f88-c1b7-dda367fdbf20"
      },
      "source": [
        "# Compute the total cost of invoice \n",
        "\n",
        "# Read the csv file\n",
        "q3_df = pd.read_csv('patient_records.csv')\n",
        "invoice = q3_df[(q3_df['age_year1']>18) & (q3_df['age_year1']<35) & (q3_df.gender.isin(['Female']))]['invoice_total'].sum()\n",
        "count = q3_df[(q3_df['age_year1']>18) & (q3_df['age_year1']<35) & (q3_df.gender.isin(['Female']))]['invoice_total'].value_counts().sum()\n",
        "\n",
        "print('Average invoice per visit is Ksh.', round(invoice/count,2))\n"
      ],
      "execution_count": null,
      "outputs": [
        {
          "output_type": "stream",
          "text": [
            "Average invoice per visit is Ksh. 1077.0\n"
          ],
          "name": "stdout"
        }
      ]
    },
    {
      "cell_type": "code",
      "metadata": {
        "colab": {
          "base_uri": "https://localhost:8080/"
        },
        "id": "xw6J3IhflrNr",
        "outputId": "fafba7f4-ebac-4abc-96d9-061437d000c6"
      },
      "source": [
        "len(q3_df)"
      ],
      "execution_count": null,
      "outputs": [
        {
          "output_type": "execute_result",
          "data": {
            "text/plain": [
              "80669"
            ]
          },
          "metadata": {
            "tags": []
          },
          "execution_count": 42
        }
      ]
    },
    {
      "cell_type": "markdown",
      "metadata": {
        "id": "k8edhwJXVHzK"
      },
      "source": [
        "**4. What percentage of visits are by female children between the ages of 0-5 (including 5 year-olds) in 2019?**"
      ]
    },
    {
      "cell_type": "code",
      "metadata": {
        "colab": {
          "base_uri": "https://localhost:8080/",
          "height": 369
        },
        "id": "43W5F0EWjsE8",
        "outputId": "77f73354-216b-4a48-f62a-f6f962a908fc"
      },
      "source": [
        "# Get the data to work with\n",
        "\n",
        "q4_df = q3_df\n",
        "minor_count = q4_df[(q4_df['age_year1']>0) & (q4_df['age_year1']<5) & (q3_df.gender.isin(['Female']))]['gender'].value_counts().sum()\n",
        "others = len(q4_df) - minor_count\n",
        "\n",
        "plt.figure(figsize=(5,5))\n",
        "colors = [\"#E13F29\", \"#D600FF\"]\n",
        "patients = [minor_count, others]\n",
        "\n",
        "patient_labels = ['Female children','Others']\n",
        "plt.pie(patients, labels = patient_labels, autopct='%1.1f%%', startangle=90, colors=colors, explode=(0.15, 0))\n",
        "plt.title('Female Patients between the ages of 0-5')\n",
        "plt.tight_layout();"
      ],
      "execution_count": null,
      "outputs": [
        {
          "output_type": "display_data",
          "data": {
            "image/png": "[encoded data removed]",
            "text/plain": [
              "<Figure size 360x360 with 1 Axes>"
            ]
          },
          "metadata": {
            "tags": []
          }
        }
      ]
    },
    {
      "cell_type": "markdown",
      "metadata": {
        "id": "9-o_SamuWSkF"
      },
      "source": [
        "****"
      ]
    },
    {
      "cell_type": "markdown",
      "metadata": {
        "id": "zCVV5B4UVHuq"
      },
      "source": [
        "**Capitation Schemes Section I**\n",
        "\n",
        "We are involved in a capitation agreement with one private company (Sunshine Ltd.), where we provide medical care to their employees based on a capitated fee. Another company, TechLab Ltd., also want to go into a capitation agreement with us in order to provide healthcare to their employees.\n",
        "\n",
        "Sunshine Ltd. is paying us Ksh. 2,000 per person per year, and have 200 people signed up on the scheme with us.\n",
        "TechLab Ltd. are offering us Ksh 1,500 per person per year, and have 500 people that they would like to sign up with us.\n"
      ]
    },
    {
      "cell_type": "markdown",
      "metadata": {
        "id": "SlrsB7cLVHph"
      },
      "source": [
        "**1. How much revenue could we expect to make from TechLab Ltd.’s offer in a one year period?**"
      ]
    },
    {
      "cell_type": "markdown",
      "metadata": {
        "id": "p2kCwrNWVHkW"
      },
      "source": [
        "**2. How many times can we expect TechLab Ltd.’s employees to visit us in a one year period if we accept their offer?**"
      ]
    },
    {
      "cell_type": "markdown",
      "metadata": {
        "id": "rQ4Do7RPVHfN"
      },
      "source": [
        "**3. Explain how you arrived at your answer in 2. above.**"
      ]
    },
    {
      "cell_type": "markdown",
      "metadata": {
        "id": "8Up-K-amVHZG"
      },
      "source": [
        "**4. Using the data provided, estimate the total cost to Penda for the visits from TechLab Ltd. over a one year period. Assume that all non-capitation visits have a gross margin of 45%, and that capitation visits access a similar range of services – in other words, \n",
        "Assume that capitation visits cost Penda the same amount as non-capitation visits on average.**"
      ]
    },
    {
      "cell_type": "markdown",
      "metadata": {
        "id": "a0UXRqmPVHTX"
      },
      "source": [
        "**5. How much profit or loss do you expect Penda would make should Penda accept TechLab Ltd.’s offer? (If you expect a loss, express it as a negative integer.)**"
      ]
    },
    {
      "cell_type": "markdown",
      "metadata": {
        "id": "vBpRfdy7VHL9"
      },
      "source": [
        "****"
      ]
    },
    {
      "cell_type": "markdown",
      "metadata": {
        "id": "ya1psnpaVHFE"
      },
      "source": [
        "**Capitation Schemes Section 2**\n",
        "\n",
        "One risk with capitation schemes is that we may experience cannibalization – in other words, some of the patients on the capitation scheme may have already been using Penda Health for medical services, and will now move over to the capitated scheme rather than paying us for services accessed.\n",
        "\n",
        "For example, if patient with unique PatientID PAT123456 previously payed cash for medical services, and visited Penda Health on average twice a year, with an average bill size of Sh700, and this patient is now placed on a capitated scheme by their employer, they will now have the option to visit Penda Health as many times as they would like without paying at all.\n",
        "\n",
        "Given the above, it is important for us to understand the effect of cannibalization when we consider capitation agreements.\n"
      ]
    },
    {
      "cell_type": "markdown",
      "metadata": {
        "id": "Zbgo5lLKXBC1"
      },
      "source": [
        "**1. How many Sunshine Ltd. patients also visited Penda Health under a different payor? Give the number of unique patients, not the number of visits.**"
      ]
    },
    {
      "cell_type": "markdown",
      "metadata": {
        "id": "RvTBQMd6XA8N"
      },
      "source": [
        "**2. If the non-Sunshine Ltd. visits for these patients had been billed under Sunshine Ltd. instead, how much revenue would Penda have lost.**"
      ]
    },
    {
      "cell_type": "markdown",
      "metadata": {
        "id": "EaMr8jvpVG-O"
      },
      "source": [
        "**3. If you assume that 50% of visits from Sunshine Ltd. in 2019 would have occurred anyway even if Penda had not accepted the capitation agreement with Sunshine Ltd., and that these visits would have had an average invoice amount equal to that of cash visits, how much revenue Penda would have made from these visits?** "
      ]
    },
    {
      "cell_type": "markdown",
      "metadata": {
        "id": "BS3RI8vNVGw-"
      },
      "source": [
        "**4. What was the gross margin for the Sunshine Ltd. scheme in 2019? Again, assume that capitation visits utilize similar services to non-capitation visits (and so have the same average cost), and that non-capitation visits have a gross margin of 45%.**"
      ]
    }
  ]
}