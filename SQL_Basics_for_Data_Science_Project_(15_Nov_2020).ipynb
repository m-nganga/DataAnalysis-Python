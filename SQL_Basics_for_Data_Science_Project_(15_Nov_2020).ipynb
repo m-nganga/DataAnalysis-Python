{
 "cells": [
  {
   "cell_type": "markdown",
   "metadata": {
    "id": "2YQMPI01tPZI"
   },
   "source": [
    "# SQL Basics for Data Science: Project (15 Nov 2020)"
   ]
  },
  {
   "cell_type": "markdown",
   "metadata": {
    "id": "EC-xadaztZZb"
   },
   "source": [
    "## Background Information\n"
   ]
  },
  {
   "cell_type": "markdown",
   "metadata": {
    "id": "ugL6e3mbtkDN"
   },
   "source": [
    "You are a Data Science Consultant working on a project to understand car crashes in the city of Chicago. You are required to make recommendations to the office of the mayor of Chicago on the steps to take that would lead to a reduction in car crashes, based on the findings from the dataset analysis.\n",
    "\n",
    "### Problem Statement\n",
    "\n",
    "As part of your descriptive analysis report, you decide to find answers to the following questions using SQL.\n",
    "1. Display a list of 5 makes that had the highest number of crashes?\n",
    "2. Most personal vehicles involved in crashes were travelling towards which direction? \n",
    "3. How many passengers were involved in personal cars were in accidents?\n",
    "4. How many passengers were involved in accidents while travelling in personal Sport Utility vehicles?\n",
    "5. Compute the total number of Mercedez-Benz vehicles involved in accidents while being parked.\n",
    "6. Compute the total occupant count per vehicle count.\n",
    "7. Sort the number of passengers in descending order by travel direction taking into account travel direction. Return travel direction and no. of passengers.\n",
    "8. Select top 5 vehicle models involved in the accident with no defect, order them by make and show their manoeuvre. \n",
    "9. Which ridesharing vehicles in an accident had the most number of passengers? Return model, and no of passengers.\n",
    " \n",
    "<strong>Remember:</strong> What matters the most is what your insights mean to the business. Make sure to have a section where you elaborate how your analysis findings tie to your recommendations.\n"
   ]
  },
  {
   "cell_type": "markdown",
   "metadata": {
    "id": "CegoZ0RItxwY"
   },
   "source": [
    "## Dataset Explained\n"
   ]
  },
  {
   "cell_type": "markdown",
   "metadata": {
    "id": "SI5krZheuAMo"
   },
   "source": [
    "Before performing any analysis, you should select only vehicles manufactured in the last 15 years from MySQL traffic_accidents_database whose URL and credentials are given below.\n",
    "\n",
    "URL = http://************/phpmyadmin/<br>\n",
    "username = learner <br>\n",
    "password = `******************`\n",
    "\n"
   ]
  },
  {
   "cell_type": "markdown",
   "metadata": {
    "id": "SygeWN9iSfMF"
   },
   "source": [
    "## Data Preparation"
   ]
  },
  {
   "cell_type": "markdown",
   "metadata": {
    "id": "bBTn0cI9S54u"
   },
   "source": [
    "After connecting to the database using the credentials provided, I have selected the required set of records by executing the following SQL query.\n",
    "\n",
    "SELECT * FROM `traffic_accidents` WHERE vehicle_year > 2005  AND vehicle_year <= 2020\n",
    "\n",
    "I have then exported the resulting recordset as a .csv file `traffic_accidents.csv` for downstream analysis using SQL."
   ]
  },
  {
   "cell_type": "markdown",
   "metadata": {
    "id": "UcO2iuQqtgsb"
   },
   "source": [
    "## Step 1. Importing Required Libraries"
   ]
  },
  {
   "cell_type": "code",
   "execution_count": 12,
   "metadata": {
    "colab": {
     "base_uri": "https://localhost:8080/",
     "height": 69
    },
    "id": "gDqs0vZDsmZc",
    "outputId": "fbf53f37-a374-45bd-fa10-1c9cad91c8ef"
   },
   "outputs": [
    {
     "name": "stdout",
     "output_type": "stream",
     "text": [
      "The sql extension is already loaded. To reload it, use:\n",
      "  %reload_ext sql\n"
     ]
    },
    {
     "data": {
      "application/vnd.google.colaboratory.intrinsic+json": {
       "type": "string"
      },
      "text/plain": [
       "'Connected: @None'"
      ]
     },
     "execution_count": 12,
     "metadata": {
      "tags": []
     },
     "output_type": "execute_result"
    }
   ],
   "source": [
    "# Importing pandas\n",
    "import pandas as pd\n",
    "\n",
    "# Loading SQL extension\n",
    "%load_ext sql\n",
    "\n",
    "# Connecting sqlite database\n",
    "%sql sqlite://"
   ]
  },
  {
   "cell_type": "markdown",
   "metadata": {
    "id": "vdIJCFwIwdKC"
   },
   "source": [
    "## Step 2. Loading Dataset"
   ]
  },
  {
   "cell_type": "code",
   "execution_count": 13,
   "metadata": {
    "colab": {
     "base_uri": "https://localhost:8080/",
     "height": 86
    },
    "id": "sv4V_dsXwwjA",
    "outputId": "1a9e0dfe-8d65-4009-ec4f-3d4a0cf52b93"
   },
   "outputs": [
    {
     "name": "stdout",
     "output_type": "stream",
     "text": [
      " * sqlite://\n",
      "Done.\n",
      " * sqlite://\n"
     ]
    },
    {
     "data": {
      "application/vnd.google.colaboratory.intrinsic+json": {
       "type": "string"
      },
      "text/plain": [
       "'Persisted accidents'"
      ]
     },
     "execution_count": 13,
     "metadata": {
      "tags": []
     },
     "output_type": "execute_result"
    }
   ],
   "source": [
    "# Load the dataset from a csv file and store it in a dataframe called accidents.\n",
    "accidents = pd.read_csv('traffic_accidents.csv')\n",
    "\n",
    "\n",
    "# Store the dataset in the in-memory sqlite database. \n",
    "# for controls, check first if the table exists in the database, and if so drop it. \n",
    "%sql DROP TABLE if EXISTS accidents;\n",
    "\n",
    "\n",
    "# create an SQL table in the in-memory sqlite database and store \n",
    "# the recordset in readiness for further analysis with SQL\n",
    "%sql PERSIST accidents; "
   ]
  },
  {
   "cell_type": "markdown",
   "metadata": {
    "id": "2UMYi1qEgfZB"
   },
   "source": [
    "### 2.1 Sample Recordset"
   ]
  },
  {
   "cell_type": "code",
   "execution_count": 14,
   "metadata": {
    "colab": {
     "base_uri": "https://localhost:8080/",
     "height": 341
    },
    "id": "G5m7HQFuzAGF",
    "outputId": "329f0e16-26ad-4e6a-866a-96cd916af773"
   },
   "outputs": [
    {
     "name": "stdout",
     "output_type": "stream",
     "text": [
      " * sqlite://\n",
      "Done.\n"
     ]
    },
    {
     "data": {
      "text/html": [
       "<table>\n",
       "    <tr>\n",
       "        <th>index</th>\n",
       "        <th>crash_unit_id</th>\n",
       "        <th>rd_no</th>\n",
       "        <th>crash_date</th>\n",
       "        <th>unit_no</th>\n",
       "        <th>unit_type</th>\n",
       "        <th>num_passengers</th>\n",
       "        <th>vehicle_id</th>\n",
       "        <th>cmrc_veh_i</th>\n",
       "        <th>make</th>\n",
       "        <th>model</th>\n",
       "        <th>lic_plate_state</th>\n",
       "        <th>vehicle_year</th>\n",
       "        <th>vehicle_defect</th>\n",
       "        <th>vehicle_type</th>\n",
       "        <th>vehicle_use</th>\n",
       "        <th>travel_direction</th>\n",
       "        <th>maneuver</th>\n",
       "        <th>towed_i</th>\n",
       "        <th>fire_i</th>\n",
       "        <th>occupant_cnt</th>\n",
       "        <th>exceed_speed_limit_i</th>\n",
       "        <th>towed_by</th>\n",
       "        <th>towed_to</th>\n",
       "        <th>area_00_i</th>\n",
       "        <th>area_01_i</th>\n",
       "        <th>area_02_i</th>\n",
       "        <th>area_03_i</th>\n",
       "        <th>area_04_i</th>\n",
       "        <th>area_05_i</th>\n",
       "        <th>area_06_i</th>\n",
       "        <th>area_07_i</th>\n",
       "        <th>area_08_i</th>\n",
       "        <th>area_09_i</th>\n",
       "        <th>area_10_i</th>\n",
       "        <th>area_11_i</th>\n",
       "        <th>area_12_i</th>\n",
       "        <th>area_99_i</th>\n",
       "        <th>first_contact_point</th>\n",
       "        <th>cmv_id</th>\n",
       "        <th>usdot_no</th>\n",
       "        <th>ccmc_no</th>\n",
       "        <th>ilcc_no</th>\n",
       "        <th>commercial_src</th>\n",
       "        <th>gvwr</th>\n",
       "        <th>carrier_name</th>\n",
       "        <th>carrier_state</th>\n",
       "        <th>carrier_city</th>\n",
       "        <th>hazmat_placards_i</th>\n",
       "        <th>hazmat_name</th>\n",
       "        <th>un_no</th>\n",
       "        <th>hazmat_present_i</th>\n",
       "        <th>hazmat_report_i</th>\n",
       "        <th>hazmat_report_no</th>\n",
       "        <th>mcs_report_i</th>\n",
       "        <th>mcs_report_no</th>\n",
       "        <th>hazmat_vio_cause_crash_i</th>\n",
       "        <th>mcs_vio_cause_crash_i</th>\n",
       "        <th>idot_permit_no</th>\n",
       "        <th>wide_load_i</th>\n",
       "        <th>trailer1_width</th>\n",
       "        <th>trailer2_width</th>\n",
       "        <th>trailer1_length</th>\n",
       "        <th>trailer2_length</th>\n",
       "        <th>total_vehicle_length</th>\n",
       "        <th>axle_cnt</th>\n",
       "        <th>vehicle_config</th>\n",
       "        <th>cargo_body_type</th>\n",
       "        <th>load_type</th>\n",
       "        <th>hazmat_out_of_service_i</th>\n",
       "        <th>mcs_out_of_service_i</th>\n",
       "        <th>hazmat_class</th>\n",
       "    </tr>\n",
       "    <tr>\n",
       "        <td>0</td>\n",
       "        <td>758369</td>\n",
       "        <td>JC469557</td>\n",
       "        <td>2019-10-12T01:57:00</td>\n",
       "        <td>1</td>\n",
       "        <td>DRIVER</td>\n",
       "        <td>None</td>\n",
       "        <td>720366</td>\n",
       "        <td>None</td>\n",
       "        <td>DODGE</td>\n",
       "        <td>NITRO</td>\n",
       "        <td>IL</td>\n",
       "        <td>2011</td>\n",
       "        <td>UNKNOWN</td>\n",
       "        <td>PASSENGER</td>\n",
       "        <td>UNKNOWN/NA</td>\n",
       "        <td>W</td>\n",
       "        <td>STRAIGHT AHEAD</td>\n",
       "        <td>None</td>\n",
       "        <td>None</td>\n",
       "        <td>1</td>\n",
       "        <td>None</td>\n",
       "        <td>None</td>\n",
       "        <td>None</td>\n",
       "        <td>None</td>\n",
       "        <td>None</td>\n",
       "        <td>None</td>\n",
       "        <td>None</td>\n",
       "        <td>None</td>\n",
       "        <td>None</td>\n",
       "        <td>None</td>\n",
       "        <td>None</td>\n",
       "        <td>None</td>\n",
       "        <td>None</td>\n",
       "        <td>None</td>\n",
       "        <td>None</td>\n",
       "        <td>1</td>\n",
       "        <td>None</td>\n",
       "        <td>OTHER</td>\n",
       "        <td>None</td>\n",
       "        <td>None</td>\n",
       "        <td>None</td>\n",
       "        <td>None</td>\n",
       "        <td>None</td>\n",
       "        <td>None</td>\n",
       "        <td>None</td>\n",
       "        <td>None</td>\n",
       "        <td>None</td>\n",
       "        <td>None</td>\n",
       "        <td>None</td>\n",
       "        <td>None</td>\n",
       "        <td>None</td>\n",
       "        <td>None</td>\n",
       "        <td>None</td>\n",
       "        <td>None</td>\n",
       "        <td>None</td>\n",
       "        <td>None</td>\n",
       "        <td>None</td>\n",
       "        <td>None</td>\n",
       "        <td>None</td>\n",
       "        <td>None</td>\n",
       "        <td>None</td>\n",
       "        <td>None</td>\n",
       "        <td>None</td>\n",
       "        <td>None</td>\n",
       "        <td>None</td>\n",
       "        <td>None</td>\n",
       "        <td>None</td>\n",
       "        <td>None</td>\n",
       "        <td>None</td>\n",
       "        <td>None</td>\n",
       "        <td>None</td>\n",
       "    </tr>\n",
       "    <tr>\n",
       "        <td>1</td>\n",
       "        <td>758356</td>\n",
       "        <td>JC469523</td>\n",
       "        <td>2019-10-12T00:30:00</td>\n",
       "        <td>1</td>\n",
       "        <td>DRIVER</td>\n",
       "        <td>None</td>\n",
       "        <td>720356</td>\n",
       "        <td>None</td>\n",
       "        <td>VOLVO</td>\n",
       "        <td>XC90</td>\n",
       "        <td>IL</td>\n",
       "        <td>2020</td>\n",
       "        <td>NONE</td>\n",
       "        <td>SPORT UTILITY VEHICLE (SUV)</td>\n",
       "        <td>PERSONAL</td>\n",
       "        <td>S</td>\n",
       "        <td>SLOW/STOP IN TRAFFIC</td>\n",
       "        <td>None</td>\n",
       "        <td>None</td>\n",
       "        <td>1</td>\n",
       "        <td>None</td>\n",
       "        <td>None</td>\n",
       "        <td>None</td>\n",
       "        <td>None</td>\n",
       "        <td>None</td>\n",
       "        <td>None</td>\n",
       "        <td>1</td>\n",
       "        <td>None</td>\n",
       "        <td>None</td>\n",
       "        <td>None</td>\n",
       "        <td>None</td>\n",
       "        <td>None</td>\n",
       "        <td>None</td>\n",
       "        <td>None</td>\n",
       "        <td>None</td>\n",
       "        <td>None</td>\n",
       "        <td>None</td>\n",
       "        <td>SIDE-RIGHT</td>\n",
       "        <td>None</td>\n",
       "        <td>None</td>\n",
       "        <td>None</td>\n",
       "        <td>None</td>\n",
       "        <td>None</td>\n",
       "        <td>None</td>\n",
       "        <td>None</td>\n",
       "        <td>None</td>\n",
       "        <td>None</td>\n",
       "        <td>None</td>\n",
       "        <td>None</td>\n",
       "        <td>None</td>\n",
       "        <td>None</td>\n",
       "        <td>None</td>\n",
       "        <td>None</td>\n",
       "        <td>None</td>\n",
       "        <td>None</td>\n",
       "        <td>None</td>\n",
       "        <td>None</td>\n",
       "        <td>None</td>\n",
       "        <td>None</td>\n",
       "        <td>None</td>\n",
       "        <td>None</td>\n",
       "        <td>None</td>\n",
       "        <td>None</td>\n",
       "        <td>None</td>\n",
       "        <td>None</td>\n",
       "        <td>None</td>\n",
       "        <td>None</td>\n",
       "        <td>None</td>\n",
       "        <td>None</td>\n",
       "        <td>None</td>\n",
       "        <td>None</td>\n",
       "    </tr>\n",
       "    <tr>\n",
       "        <td>2</td>\n",
       "        <td>758329</td>\n",
       "        <td>JC469467</td>\n",
       "        <td>2019-10-11T23:41:00</td>\n",
       "        <td>1</td>\n",
       "        <td>DRIVER</td>\n",
       "        <td>2.0</td>\n",
       "        <td>720325</td>\n",
       "        <td>None</td>\n",
       "        <td>TOYOTA MOTOR COMPANY, LTD.</td>\n",
       "        <td>UNKNOWN</td>\n",
       "        <td>IL</td>\n",
       "        <td>2015</td>\n",
       "        <td>NONE</td>\n",
       "        <td>PASSENGER</td>\n",
       "        <td>PERSONAL</td>\n",
       "        <td>E</td>\n",
       "        <td>PASSING/OVERTAKING</td>\n",
       "        <td>1</td>\n",
       "        <td>None</td>\n",
       "        <td>3</td>\n",
       "        <td>None</td>\n",
       "        <td>unknown</td>\n",
       "        <td>unknown</td>\n",
       "        <td>None</td>\n",
       "        <td>None</td>\n",
       "        <td>None</td>\n",
       "        <td>1</td>\n",
       "        <td>1</td>\n",
       "        <td>1</td>\n",
       "        <td>1</td>\n",
       "        <td>1</td>\n",
       "        <td>None</td>\n",
       "        <td>None</td>\n",
       "        <td>None</td>\n",
       "        <td>None</td>\n",
       "        <td>None</td>\n",
       "        <td>None</td>\n",
       "        <td>REAR</td>\n",
       "        <td>None</td>\n",
       "        <td>None</td>\n",
       "        <td>None</td>\n",
       "        <td>None</td>\n",
       "        <td>None</td>\n",
       "        <td>None</td>\n",
       "        <td>None</td>\n",
       "        <td>None</td>\n",
       "        <td>None</td>\n",
       "        <td>None</td>\n",
       "        <td>None</td>\n",
       "        <td>None</td>\n",
       "        <td>None</td>\n",
       "        <td>None</td>\n",
       "        <td>None</td>\n",
       "        <td>None</td>\n",
       "        <td>None</td>\n",
       "        <td>None</td>\n",
       "        <td>None</td>\n",
       "        <td>None</td>\n",
       "        <td>None</td>\n",
       "        <td>None</td>\n",
       "        <td>None</td>\n",
       "        <td>None</td>\n",
       "        <td>None</td>\n",
       "        <td>None</td>\n",
       "        <td>None</td>\n",
       "        <td>None</td>\n",
       "        <td>None</td>\n",
       "        <td>None</td>\n",
       "        <td>None</td>\n",
       "        <td>None</td>\n",
       "        <td>None</td>\n",
       "    </tr>\n",
       "    <tr>\n",
       "        <td>3</td>\n",
       "        <td>758330</td>\n",
       "        <td>JC469467</td>\n",
       "        <td>2019-10-11T23:41:00</td>\n",
       "        <td>2</td>\n",
       "        <td>DRIVER</td>\n",
       "        <td>None</td>\n",
       "        <td>720334</td>\n",
       "        <td>None</td>\n",
       "        <td>SUBARU</td>\n",
       "        <td>FORESTER</td>\n",
       "        <td>IL</td>\n",
       "        <td>2014</td>\n",
       "        <td>NONE</td>\n",
       "        <td>PASSENGER</td>\n",
       "        <td>PERSONAL</td>\n",
       "        <td>E</td>\n",
       "        <td>TURNING LEFT</td>\n",
       "        <td>None</td>\n",
       "        <td>None</td>\n",
       "        <td>1</td>\n",
       "        <td>None</td>\n",
       "        <td>None</td>\n",
       "        <td>None</td>\n",
       "        <td>None</td>\n",
       "        <td>1</td>\n",
       "        <td>1</td>\n",
       "        <td>None</td>\n",
       "        <td>None</td>\n",
       "        <td>None</td>\n",
       "        <td>None</td>\n",
       "        <td>None</td>\n",
       "        <td>None</td>\n",
       "        <td>None</td>\n",
       "        <td>None</td>\n",
       "        <td>None</td>\n",
       "        <td>1</td>\n",
       "        <td>None</td>\n",
       "        <td>FRONT</td>\n",
       "        <td>None</td>\n",
       "        <td>None</td>\n",
       "        <td>None</td>\n",
       "        <td>None</td>\n",
       "        <td>None</td>\n",
       "        <td>None</td>\n",
       "        <td>None</td>\n",
       "        <td>None</td>\n",
       "        <td>None</td>\n",
       "        <td>None</td>\n",
       "        <td>None</td>\n",
       "        <td>None</td>\n",
       "        <td>None</td>\n",
       "        <td>None</td>\n",
       "        <td>None</td>\n",
       "        <td>None</td>\n",
       "        <td>None</td>\n",
       "        <td>None</td>\n",
       "        <td>None</td>\n",
       "        <td>None</td>\n",
       "        <td>None</td>\n",
       "        <td>None</td>\n",
       "        <td>None</td>\n",
       "        <td>None</td>\n",
       "        <td>None</td>\n",
       "        <td>None</td>\n",
       "        <td>None</td>\n",
       "        <td>None</td>\n",
       "        <td>None</td>\n",
       "        <td>None</td>\n",
       "        <td>None</td>\n",
       "        <td>None</td>\n",
       "        <td>None</td>\n",
       "    </tr>\n",
       "    <tr>\n",
       "        <td>4</td>\n",
       "        <td>758333</td>\n",
       "        <td>JC469482</td>\n",
       "        <td>2019-10-11T23:20:00</td>\n",
       "        <td>1</td>\n",
       "        <td>DRIVER</td>\n",
       "        <td>None</td>\n",
       "        <td>720328</td>\n",
       "        <td>None</td>\n",
       "        <td>CHEVROLET</td>\n",
       "        <td>IMPALA</td>\n",
       "        <td>IL</td>\n",
       "        <td>2017</td>\n",
       "        <td>UNKNOWN</td>\n",
       "        <td>PASSENGER</td>\n",
       "        <td>PERSONAL</td>\n",
       "        <td>N</td>\n",
       "        <td>STRAIGHT AHEAD</td>\n",
       "        <td>None</td>\n",
       "        <td>None</td>\n",
       "        <td>1</td>\n",
       "        <td>None</td>\n",
       "        <td>None</td>\n",
       "        <td>None</td>\n",
       "        <td>None</td>\n",
       "        <td>None</td>\n",
       "        <td>None</td>\n",
       "        <td>None</td>\n",
       "        <td>None</td>\n",
       "        <td>None</td>\n",
       "        <td>None</td>\n",
       "        <td>None</td>\n",
       "        <td>None</td>\n",
       "        <td>None</td>\n",
       "        <td>None</td>\n",
       "        <td>None</td>\n",
       "        <td>None</td>\n",
       "        <td>None</td>\n",
       "        <td>UNKNOWN</td>\n",
       "        <td>None</td>\n",
       "        <td>None</td>\n",
       "        <td>None</td>\n",
       "        <td>None</td>\n",
       "        <td>None</td>\n",
       "        <td>None</td>\n",
       "        <td>None</td>\n",
       "        <td>None</td>\n",
       "        <td>None</td>\n",
       "        <td>None</td>\n",
       "        <td>None</td>\n",
       "        <td>None</td>\n",
       "        <td>None</td>\n",
       "        <td>None</td>\n",
       "        <td>None</td>\n",
       "        <td>None</td>\n",
       "        <td>None</td>\n",
       "        <td>None</td>\n",
       "        <td>None</td>\n",
       "        <td>None</td>\n",
       "        <td>None</td>\n",
       "        <td>None</td>\n",
       "        <td>None</td>\n",
       "        <td>None</td>\n",
       "        <td>None</td>\n",
       "        <td>None</td>\n",
       "        <td>None</td>\n",
       "        <td>None</td>\n",
       "        <td>None</td>\n",
       "        <td>None</td>\n",
       "        <td>None</td>\n",
       "        <td>None</td>\n",
       "        <td>None</td>\n",
       "    </tr>\n",
       "</table>"
      ],
      "text/plain": [
       "[(0, 758369, 'JC469557', '2019-10-12T01:57:00', 1, 'DRIVER', None, 720366, None, 'DODGE', 'NITRO', 'IL', 2011, 'UNKNOWN', 'PASSENGER', 'UNKNOWN/NA', 'W', 'STRAIGHT AHEAD', None, None, 1, None, None, None, None, None, None, None, None, None, None, None, None, None, None, None, 1, None, 'OTHER', None, None, None, None, None, None, None, None, None, None, None, None, None, None, None, None, None, None, None, None, None, None, None, None, None, None, None, None, None, None, None, None, None),\n",
       " (1, 758356, 'JC469523', '2019-10-12T00:30:00', 1, 'DRIVER', None, 720356, None, 'VOLVO', 'XC90', 'IL', 2020, 'NONE', 'SPORT UTILITY VEHICLE (SUV)', 'PERSONAL', 'S', 'SLOW/STOP IN TRAFFIC', None, None, 1, None, None, None, None, None, None, 1, None, None, None, None, None, None, None, None, None, None, 'SIDE-RIGHT', None, None, None, None, None, None, None, None, None, None, None, None, None, None, None, None, None, None, None, None, None, None, None, None, None, None, None, None, None, None, None, None, None),\n",
       " (2, 758329, 'JC469467', '2019-10-11T23:41:00', 1, 'DRIVER', 2.0, 720325, None, 'TOYOTA MOTOR COMPANY, LTD.', 'UNKNOWN', 'IL', 2015, 'NONE', 'PASSENGER', 'PERSONAL', 'E', 'PASSING/OVERTAKING', 1, None, 3, None, 'unknown', 'unknown', None, None, None, 1, 1, 1, 1, 1, None, None, None, None, None, None, 'REAR', None, None, None, None, None, None, None, None, None, None, None, None, None, None, None, None, None, None, None, None, None, None, None, None, None, None, None, None, None, None, None, None, None),\n",
       " (3, 758330, 'JC469467', '2019-10-11T23:41:00', 2, 'DRIVER', None, 720334, None, 'SUBARU', 'FORESTER', 'IL', 2014, 'NONE', 'PASSENGER', 'PERSONAL', 'E', 'TURNING LEFT', None, None, 1, None, None, None, None, 1, 1, None, None, None, None, None, None, None, None, None, 1, None, 'FRONT', None, None, None, None, None, None, None, None, None, None, None, None, None, None, None, None, None, None, None, None, None, None, None, None, None, None, None, None, None, None, None, None, None),\n",
       " (4, 758333, 'JC469482', '2019-10-11T23:20:00', 1, 'DRIVER', None, 720328, None, 'CHEVROLET', 'IMPALA', 'IL', 2017, 'UNKNOWN', 'PASSENGER', 'PERSONAL', 'N', 'STRAIGHT AHEAD', None, None, 1, None, None, None, None, None, None, None, None, None, None, None, None, None, None, None, None, None, 'UNKNOWN', None, None, None, None, None, None, None, None, None, None, None, None, None, None, None, None, None, None, None, None, None, None, None, None, None, None, None, None, None, None, None, None, None)]"
      ]
     },
     "execution_count": 14,
     "metadata": {
      "tags": []
     },
     "output_type": "execute_result"
    }
   ],
   "source": [
    "# Sample the first few records of the created dataset to understand its structure.\n",
    "\n",
    "%%sql \n",
    "SELECT * FROM accidents LIMIT 5"
   ]
  },
  {
   "cell_type": "markdown",
   "metadata": {
    "id": "EQWoOWiQwyyn"
   },
   "source": [
    "## Step 3. Business Needs"
   ]
  },
  {
   "cell_type": "markdown",
   "metadata": {
    "id": "zFwN26YCw3MC"
   },
   "source": [
    "**1. Display a list of 5 makes that had the highest number of crashes?**"
   ]
  },
  {
   "cell_type": "code",
   "execution_count": 15,
   "metadata": {
    "colab": {
     "base_uri": "https://localhost:8080/",
     "height": 165
    },
    "id": "Q8SEcpAPw21W",
    "outputId": "551ec05a-32c3-4b32-c9ec-a66786a11cf8"
   },
   "outputs": [
    {
     "name": "stdout",
     "output_type": "stream",
     "text": [
      " * sqlite://\n",
      "Done.\n"
     ]
    },
    {
     "data": {
      "text/html": [
       "<table>\n",
       "    <tr>\n",
       "        <th>Car Make</th>\n",
       "        <th>Accident Frequency</th>\n",
       "    </tr>\n",
       "    <tr>\n",
       "        <td>TOYOTA MOTOR COMPANY, LTD.</td>\n",
       "        <td>609</td>\n",
       "    </tr>\n",
       "    <tr>\n",
       "        <td>FORD</td>\n",
       "        <td>545</td>\n",
       "    </tr>\n",
       "    <tr>\n",
       "        <td>CHEVROLET</td>\n",
       "        <td>538</td>\n",
       "    </tr>\n",
       "    <tr>\n",
       "        <td>NISSAN</td>\n",
       "        <td>478</td>\n",
       "    </tr>\n",
       "    <tr>\n",
       "        <td>HONDA</td>\n",
       "        <td>345</td>\n",
       "    </tr>\n",
       "</table>"
      ],
      "text/plain": [
       "[('TOYOTA MOTOR COMPANY, LTD.', 609),\n",
       " ('FORD', 545),\n",
       " ('CHEVROLET', 538),\n",
       " ('NISSAN', 478),\n",
       " ('HONDA', 345)]"
      ]
     },
     "execution_count": 15,
     "metadata": {
      "tags": []
     },
     "output_type": "execute_result"
    }
   ],
   "source": [
    "# we make use of the property 'make' and use the COUNT()function against this \n",
    "# variable for each of its make group. \n",
    "\n",
    "%%sql \n",
    "SELECT make as 'Car Make', COUNT(make) as 'Accident Frequency'\n",
    "FROM accidents\n",
    "GROUP BY make\n",
    "ORDER BY COUNT(make) desc\n",
    "LIMIT 5;"
   ]
  },
  {
   "cell_type": "markdown",
   "metadata": {
    "id": "lt32s_LK29ca"
   },
   "source": [
    "'TOYOTA MOTOR COMPANY, LTD' with 609 accidents had the highest number of accidents reported for the period betweeen 2005 and 2020, followed by FORD with 545, CHEVROLET with 538, NISSAN with 478 and HONDA at 5th position with 345 accidents reported."
   ]
  },
  {
   "cell_type": "markdown",
   "metadata": {
    "id": "8eIaB284PGzp"
   },
   "source": [
    "\n",
    "\n",
    "---\n",
    "\n"
   ]
  },
  {
   "cell_type": "markdown",
   "metadata": {
    "id": "nTq7WhiWxAgm"
   },
   "source": [
    "**2. Towards which direction were the most personal vehicles involved in crashes travelling?**"
   ]
  },
  {
   "cell_type": "code",
   "execution_count": 16,
   "metadata": {
    "colab": {
     "base_uri": "https://localhost:8080/",
     "height": 165
    },
    "id": "Hi7X-fc6xIXM",
    "outputId": "ea0a96bb-9fae-493f-fa1f-db041382b6db"
   },
   "outputs": [
    {
     "name": "stdout",
     "output_type": "stream",
     "text": [
      " * sqlite://\n",
      "Done.\n"
     ]
    },
    {
     "data": {
      "text/html": [
       "<table>\n",
       "    <tr>\n",
       "        <th>Travel Direction</th>\n",
       "        <th>Crash Frequency</th>\n",
       "    </tr>\n",
       "    <tr>\n",
       "        <td>N</td>\n",
       "        <td>849</td>\n",
       "    </tr>\n",
       "    <tr>\n",
       "        <td>S</td>\n",
       "        <td>807</td>\n",
       "    </tr>\n",
       "    <tr>\n",
       "        <td>W</td>\n",
       "        <td>765</td>\n",
       "    </tr>\n",
       "    <tr>\n",
       "        <td>E</td>\n",
       "        <td>708</td>\n",
       "    </tr>\n",
       "    <tr>\n",
       "        <td>UNKNOWN</td>\n",
       "        <td>116</td>\n",
       "    </tr>\n",
       "</table>"
      ],
      "text/plain": [
       "[('N', 849), ('S', 807), ('W', 765), ('E', 708), ('UNKNOWN', 116)]"
      ]
     },
     "execution_count": 16,
     "metadata": {
      "tags": []
     },
     "output_type": "execute_result"
    }
   ],
   "source": [
    "# we use 'vehicle_type' and 'travel_direction' to pick personal vehicles and tdirection accordingly. \n",
    "# further we use COUNT() funtion for each of the directions to determine the mode of direction.\n",
    "%%sql\n",
    "SELECT travel_direction as 'Travel Direction', COUNT(travel_direction) as 'Crash Frequency'\n",
    "FROM accidents\n",
    "WHERE vehicle_use = 'PERSONAL'\n",
    "GROUP BY travel_direction \n",
    "ORDER BY COUNT(travel_direction) desc\n",
    "LIMIT 5;"
   ]
  },
  {
   "cell_type": "markdown",
   "metadata": {
    "id": "jeRtQrg64dXL"
   },
   "source": [
    "The highest number of passenger cars, at 849, reported with accidents were travelling towards the North."
   ]
  },
  {
   "cell_type": "markdown",
   "metadata": {
    "id": "dL5wPmBEPIsK"
   },
   "source": [
    "\n",
    "\n",
    "---\n",
    "\n"
   ]
  },
  {
   "cell_type": "markdown",
   "metadata": {
    "id": "AQNTCdCRxIx6"
   },
   "source": [
    "**3. How many passengers were involved in personal cars accidents??**"
   ]
  },
  {
   "cell_type": "code",
   "execution_count": 17,
   "metadata": {
    "colab": {
     "base_uri": "https://localhost:8080/",
     "height": 90
    },
    "id": "2WfOXe03xMfA",
    "outputId": "741d1b91-49ab-4f08-d4e4-751eb27e1495"
   },
   "outputs": [
    {
     "name": "stdout",
     "output_type": "stream",
     "text": [
      " * sqlite://\n",
      "Done.\n"
     ]
    },
    {
     "data": {
      "text/html": [
       "<table>\n",
       "    <tr>\n",
       "        <th>No of Passengers</th>\n",
       "    </tr>\n",
       "    <tr>\n",
       "        <td>827</td>\n",
       "    </tr>\n",
       "</table>"
      ],
      "text/plain": [
       "[(827,)]"
      ]
     },
     "execution_count": 17,
     "metadata": {
      "tags": []
     },
     "output_type": "execute_result"
    }
   ],
   "source": [
    "# we use the SUM() function to get the total number of passengers for all the \n",
    "# personal cars involved in accidents.\n",
    "%%sql\n",
    "SELECT SUM(CAST(num_passengers AS integer)) as 'No of Passengers'\n",
    "FROM accidents\n",
    "WHERE vehicle_use = 'PERSONAL'"
   ]
  },
  {
   "cell_type": "markdown",
   "metadata": {
    "id": "fkLMK9Mz45Om"
   },
   "source": [
    "A total of 827 passengers were involved in personal car accidents."
   ]
  },
  {
   "cell_type": "markdown",
   "metadata": {
    "id": "t4gjPlZ1PKNp"
   },
   "source": [
    "\n",
    "\n",
    "---\n",
    "\n"
   ]
  },
  {
   "cell_type": "markdown",
   "metadata": {
    "id": "MP2YV_wLxN8C"
   },
   "source": [
    "**4. How many passengers were involved in accidents while travelling in personal Sport Utility vehicles?**"
   ]
  },
  {
   "cell_type": "code",
   "execution_count": 20,
   "metadata": {
    "colab": {
     "base_uri": "https://localhost:8080/",
     "height": 90
    },
    "id": "OTdC6KQtxRzx",
    "outputId": "7ca1127d-bd23-41df-8e4f-cf431faa5bbe"
   },
   "outputs": [
    {
     "name": "stdout",
     "output_type": "stream",
     "text": [
      " * sqlite://\n",
      "Done.\n"
     ]
    },
    {
     "data": {
      "text/html": [
       "<table>\n",
       "    <tr>\n",
       "        <th>No of Passengers</th>\n",
       "    </tr>\n",
       "    <tr>\n",
       "        <td>137</td>\n",
       "    </tr>\n",
       "</table>"
      ],
      "text/plain": [
       "[(137,)]"
      ]
     },
     "execution_count": 20,
     "metadata": {
      "tags": []
     },
     "output_type": "execute_result"
    }
   ],
   "source": [
    "# Use the SUM() function to get the total number of passengers for all the \n",
    "# personal sport utility vehicles involved in accidents.\n",
    "%%sql\n",
    "SELECT SUM(CAST(num_passengers AS interger)) as 'No of Passengers'\n",
    "FROM accidents\n",
    "WHERE vehicle_use = 'PERSONAL' AND vehicle_type = 'SPORT UTILITY VEHICLE (SUV)'\n"
   ]
  },
  {
   "cell_type": "markdown",
   "metadata": {
    "id": "Np4vawNc6pde"
   },
   "source": [
    "A total of 137 passengers were involved in personal SUV car accidents. This accounts for about 16.5% of all the personal cars accidents."
   ]
  },
  {
   "cell_type": "markdown",
   "metadata": {
    "id": "Nqor-FcePL7z"
   },
   "source": [
    "\n",
    "\n",
    "---\n",
    "\n"
   ]
  },
  {
   "cell_type": "markdown",
   "metadata": {
    "id": "MEV4mRtrxU-J"
   },
   "source": [
    "**5. Compute the total number of Mercedez-Benz vehicles involved in accidents while being parked.**"
   ]
  },
  {
   "cell_type": "code",
   "execution_count": 21,
   "metadata": {
    "colab": {
     "base_uri": "https://localhost:8080/",
     "height": 90
    },
    "id": "hxZe-52VxZWQ",
    "outputId": "df9456c6-e29d-4707-e5b6-7c53de088ea8"
   },
   "outputs": [
    {
     "name": "stdout",
     "output_type": "stream",
     "text": [
      " * sqlite://\n",
      "Done.\n"
     ]
    },
    {
     "data": {
      "text/html": [
       "<table>\n",
       "    <tr>\n",
       "        <th>No of Mercedez-Benz</th>\n",
       "    </tr>\n",
       "    <tr>\n",
       "        <td>10</td>\n",
       "    </tr>\n",
       "</table>"
      ],
      "text/plain": [
       "[(10,)]"
      ]
     },
     "execution_count": 21,
     "metadata": {
      "tags": []
     },
     "output_type": "execute_result"
    }
   ],
   "source": [
    "#Use COUNT() function to get the total number of Mercedez-Benz cars.\n",
    "\n",
    "%%sql\n",
    "SELECT COUNT(make) as 'No of Mercedez-Benz'\n",
    "FROM accidents\n",
    "WHERE make = 'MERCEDES-BENZ' AND maneuver = 'PARKED'"
   ]
  },
  {
   "cell_type": "markdown",
   "metadata": {
    "id": "Q5-eD7Bv-HRU"
   },
   "source": [
    "Only 10 Mercedez-Benz cars were involved in an accident while parked."
   ]
  },
  {
   "cell_type": "markdown",
   "metadata": {
    "id": "ZA8_19WhPNP7"
   },
   "source": [
    "\n",
    "\n",
    "---\n",
    "\n"
   ]
  },
  {
   "cell_type": "markdown",
   "metadata": {
    "id": "OYvXsEJyxbAC"
   },
   "source": [
    "**6.Compute the total occupancy count per vehicle count.**"
   ]
  },
  {
   "cell_type": "code",
   "execution_count": 22,
   "metadata": {
    "colab": {
     "base_uri": "https://localhost:8080/",
     "height": 1000
    },
    "id": "jvpTAOcXxcdL",
    "outputId": "8d113302-c470-40f0-8411-f780811d1b05"
   },
   "outputs": [
    {
     "name": "stdout",
     "output_type": "stream",
     "text": [
      " * sqlite://\n",
      "Done.\n"
     ]
    },
    {
     "data": {
      "text/html": [
       "<table>\n",
       "    <tr>\n",
       "        <th>make</th>\n",
       "        <th>Occupancy</th>\n",
       "    </tr>\n",
       "    <tr>\n",
       "        <td>TOYOTA MOTOR COMPANY, LTD.</td>\n",
       "        <td>669</td>\n",
       "    </tr>\n",
       "    <tr>\n",
       "        <td>FORD</td>\n",
       "        <td>627</td>\n",
       "    </tr>\n",
       "    <tr>\n",
       "        <td>CHEVROLET</td>\n",
       "        <td>590</td>\n",
       "    </tr>\n",
       "    <tr>\n",
       "        <td>NISSAN</td>\n",
       "        <td>553</td>\n",
       "    </tr>\n",
       "    <tr>\n",
       "        <td>HONDA</td>\n",
       "        <td>364</td>\n",
       "    </tr>\n",
       "    <tr>\n",
       "        <td>HYUNDAI</td>\n",
       "        <td>303</td>\n",
       "    </tr>\n",
       "    <tr>\n",
       "        <td>DODGE</td>\n",
       "        <td>280</td>\n",
       "    </tr>\n",
       "    <tr>\n",
       "        <td>JEEP</td>\n",
       "        <td>255</td>\n",
       "    </tr>\n",
       "    <tr>\n",
       "        <td>KIA MOTORS CORP</td>\n",
       "        <td>176</td>\n",
       "    </tr>\n",
       "    <tr>\n",
       "        <td>CHRYSLER</td>\n",
       "        <td>135</td>\n",
       "    </tr>\n",
       "    <tr>\n",
       "        <td>VOLKSWAGEN</td>\n",
       "        <td>109</td>\n",
       "    </tr>\n",
       "    <tr>\n",
       "        <td>UNKNOWN</td>\n",
       "        <td>92</td>\n",
       "    </tr>\n",
       "    <tr>\n",
       "        <td>BUICK</td>\n",
       "        <td>88</td>\n",
       "    </tr>\n",
       "    <tr>\n",
       "        <td>MAZDA</td>\n",
       "        <td>81</td>\n",
       "    </tr>\n",
       "    <tr>\n",
       "        <td>GENERAL MOTORS CORP.</td>\n",
       "        <td>74</td>\n",
       "    </tr>\n",
       "    <tr>\n",
       "        <td>LEXUS</td>\n",
       "        <td>73</td>\n",
       "    </tr>\n",
       "    <tr>\n",
       "        <td>SUBARU</td>\n",
       "        <td>70</td>\n",
       "    </tr>\n",
       "    <tr>\n",
       "        <td>MERCEDES-BENZ</td>\n",
       "        <td>64</td>\n",
       "    </tr>\n",
       "    <tr>\n",
       "        <td>AUDI</td>\n",
       "        <td>60</td>\n",
       "    </tr>\n",
       "    <tr>\n",
       "        <td>NEW FLYER</td>\n",
       "        <td>57</td>\n",
       "    </tr>\n",
       "    <tr>\n",
       "        <td>INFINITI</td>\n",
       "        <td>56</td>\n",
       "    </tr>\n",
       "    <tr>\n",
       "        <td>BMW</td>\n",
       "        <td>55</td>\n",
       "    </tr>\n",
       "    <tr>\n",
       "        <td>LINCOLN-CONTINENTAL</td>\n",
       "        <td>53</td>\n",
       "    </tr>\n",
       "    <tr>\n",
       "        <td>CADILLAC</td>\n",
       "        <td>49</td>\n",
       "    </tr>\n",
       "    <tr>\n",
       "        <td>FREIGHTLINER CORP.</td>\n",
       "        <td>49</td>\n",
       "    </tr>\n",
       "    <tr>\n",
       "        <td>PONTIAC</td>\n",
       "        <td>46</td>\n",
       "    </tr>\n",
       "    <tr>\n",
       "        <td>ACURA</td>\n",
       "        <td>34</td>\n",
       "    </tr>\n",
       "    <tr>\n",
       "        <td>MITSUBISHI</td>\n",
       "        <td>32</td>\n",
       "    </tr>\n",
       "    <tr>\n",
       "        <td>VOLVO</td>\n",
       "        <td>29</td>\n",
       "    </tr>\n",
       "    <tr>\n",
       "        <td>SATURN</td>\n",
       "        <td>19</td>\n",
       "    </tr>\n",
       "    <tr>\n",
       "        <td>SCION</td>\n",
       "        <td>17</td>\n",
       "    </tr>\n",
       "    <tr>\n",
       "        <td>ACURA (DIV. OF AMERICAN HONDA MOTOR CO.)</td>\n",
       "        <td>15</td>\n",
       "    </tr>\n",
       "    <tr>\n",
       "        <td>ICL CARGO TRAILER</td>\n",
       "        <td>15</td>\n",
       "    </tr>\n",
       "    <tr>\n",
       "        <td>BLUEBIRD INTERNATIONAL</td>\n",
       "        <td>13</td>\n",
       "    </tr>\n",
       "    <tr>\n",
       "        <td>MINI</td>\n",
       "        <td>13</td>\n",
       "    </tr>\n",
       "    <tr>\n",
       "        <td>LAND ROVER</td>\n",
       "        <td>12</td>\n",
       "    </tr>\n",
       "    <tr>\n",
       "        <td>PREVOST CAR, BUS, SAINTE CLAIRE, QUEBEC</td>\n",
       "        <td>12</td>\n",
       "    </tr>\n",
       "    <tr>\n",
       "        <td>ISUZU</td>\n",
       "        <td>11</td>\n",
       "    </tr>\n",
       "    <tr>\n",
       "        <td>KENWORTH MOTOR TRUCK CO.</td>\n",
       "        <td>10</td>\n",
       "    </tr>\n",
       "    <tr>\n",
       "        <td>INTERNATIONAL TRAILER CORP.</td>\n",
       "        <td>9</td>\n",
       "    </tr>\n",
       "    <tr>\n",
       "        <td>PORSCHE</td>\n",
       "        <td>8</td>\n",
       "    </tr>\n",
       "    <tr>\n",
       "        <td>SUZUKI</td>\n",
       "        <td>8</td>\n",
       "    </tr>\n",
       "    <tr>\n",
       "        <td>AMTRAN CORP, GENSIS BUSES</td>\n",
       "        <td>7</td>\n",
       "    </tr>\n",
       "    <tr>\n",
       "        <td>BLUE BIRD BODY CO.</td>\n",
       "        <td>7</td>\n",
       "    </tr>\n",
       "    <tr>\n",
       "        <td>MERCURY</td>\n",
       "        <td>7</td>\n",
       "    </tr>\n",
       "    <tr>\n",
       "        <td>AUTOCAR</td>\n",
       "        <td>6</td>\n",
       "    </tr>\n",
       "    <tr>\n",
       "        <td>MACK TRUCKS, INC.</td>\n",
       "        <td>6</td>\n",
       "    </tr>\n",
       "    <tr>\n",
       "        <td>PETERBILT MOTORS CO., DIVISION PACCAR, INC.</td>\n",
       "        <td>6</td>\n",
       "    </tr>\n",
       "    <tr>\n",
       "        <td>FIAT</td>\n",
       "        <td>5</td>\n",
       "    </tr>\n",
       "    <tr>\n",
       "        <td>HINO</td>\n",
       "        <td>5</td>\n",
       "    </tr>\n",
       "    <tr>\n",
       "        <td>INTERNATIONAL COACH MFG.</td>\n",
       "        <td>5</td>\n",
       "    </tr>\n",
       "    <tr>\n",
       "        <td>JAGUAR</td>\n",
       "        <td>5</td>\n",
       "    </tr>\n",
       "    <tr>\n",
       "        <td>TESLA MOTORS</td>\n",
       "        <td>5</td>\n",
       "    </tr>\n",
       "    <tr>\n",
       "        <td>FLEET CAP&#x27;N TRAILERS</td>\n",
       "        <td>4</td>\n",
       "    </tr>\n",
       "    <tr>\n",
       "        <td>INTERNATIONAL HARVESTER</td>\n",
       "        <td>4</td>\n",
       "    </tr>\n",
       "    <tr>\n",
       "        <td>KAWASAKI MOTORS CORP.</td>\n",
       "        <td>4</td>\n",
       "    </tr>\n",
       "    <tr>\n",
       "        <td>AM GENERAL/HUMMER</td>\n",
       "        <td>3</td>\n",
       "    </tr>\n",
       "    <tr>\n",
       "        <td>EL DORADO INTERNATIONAL, INC.; EL DORADO MFG., LTD.</td>\n",
       "        <td>3</td>\n",
       "    </tr>\n",
       "    <tr>\n",
       "        <td>FIESTA (IMPORTED BY FORD)</td>\n",
       "        <td>3</td>\n",
       "    </tr>\n",
       "    <tr>\n",
       "        <td>GILL MFG. CO.</td>\n",
       "        <td>3</td>\n",
       "    </tr>\n",
       "    <tr>\n",
       "        <td>HARLEY-DAVIDSON</td>\n",
       "        <td>3</td>\n",
       "    </tr>\n",
       "    <tr>\n",
       "        <td>INTENATIONAL INDUSTRIES, INC.</td>\n",
       "        <td>3</td>\n",
       "    </tr>\n",
       "    <tr>\n",
       "        <td>RANGE ROVER OF NORTH AMERICA</td>\n",
       "        <td>3</td>\n",
       "    </tr>\n",
       "    <tr>\n",
       "        <td>SAAB</td>\n",
       "        <td>3</td>\n",
       "    </tr>\n",
       "    <tr>\n",
       "        <td>MOTOR COACH INDUSTRIES, INC.</td>\n",
       "        <td>2</td>\n",
       "    </tr>\n",
       "    <tr>\n",
       "        <td>WABCO CONSTRUCTION &amp; MINING EQUIPMENT GROUP</td>\n",
       "        <td>2</td>\n",
       "    </tr>\n",
       "    <tr>\n",
       "        <td>(UNLISTED MANUFACTURER)</td>\n",
       "        <td>1</td>\n",
       "    </tr>\n",
       "    <tr>\n",
       "        <td>AMERICAN TRAILER &amp; MFG. CO. (SEE ALSO TRANSPORTER)</td>\n",
       "        <td>1</td>\n",
       "    </tr>\n",
       "    <tr>\n",
       "        <td>ASTON-MARTIN</td>\n",
       "        <td>1</td>\n",
       "    </tr>\n",
       "    <tr>\n",
       "        <td>BANTAM CRANE</td>\n",
       "        <td>1</td>\n",
       "    </tr>\n",
       "    <tr>\n",
       "        <td>CALDWELL DIV., SMITH INTERNATIONAL, INC.</td>\n",
       "        <td>1</td>\n",
       "    </tr>\n",
       "    <tr>\n",
       "        <td>CASCADE COACH CO.</td>\n",
       "        <td>1</td>\n",
       "    </tr>\n",
       "    <tr>\n",
       "        <td>CHEVELLE MOBILE HOMES, INC.</td>\n",
       "        <td>1</td>\n",
       "    </tr>\n",
       "    <tr>\n",
       "        <td>CONTINENTAL</td>\n",
       "        <td>1</td>\n",
       "    </tr>\n",
       "    <tr>\n",
       "        <td>EIDAL INTERNATIONAL CORP.</td>\n",
       "        <td>1</td>\n",
       "    </tr>\n",
       "    <tr>\n",
       "        <td>FLEETCRAFT CORP.</td>\n",
       "        <td>1</td>\n",
       "    </tr>\n",
       "    <tr>\n",
       "        <td>FLEETWOOD ENTERPRISES</td>\n",
       "        <td>1</td>\n",
       "    </tr>\n",
       "    <tr>\n",
       "        <td>FONTAINE TRUCK EQUIPMENT CO.</td>\n",
       "        <td>1</td>\n",
       "    </tr>\n",
       "    <tr>\n",
       "        <td>GOODYEAR CAMPER MFG., INC., LINCOLN, NB</td>\n",
       "        <td>1</td>\n",
       "    </tr>\n",
       "    <tr>\n",
       "        <td>GREAT DANE TRAILERS INC.</td>\n",
       "        <td>1</td>\n",
       "    </tr>\n",
       "    <tr>\n",
       "        <td>HAULER-TRAILER(MFD. BY NORDINE MFG.)</td>\n",
       "        <td>1</td>\n",
       "    </tr>\n",
       "    <tr>\n",
       "        <td>HINDUSTAN</td>\n",
       "        <td>1</td>\n",
       "    </tr>\n",
       "    <tr>\n",
       "        <td>LINCOLN ELECTRIC CO., INC. CLEVELAND, OH ; LINCOLN WELDER</td>\n",
       "        <td>1</td>\n",
       "    </tr>\n",
       "    <tr>\n",
       "        <td>MACK TRAILER MFG. CO., INC., DETRIOT, MI</td>\n",
       "        <td>1</td>\n",
       "    </tr>\n",
       "    <tr>\n",
       "        <td>NAVISTAR</td>\n",
       "        <td>1</td>\n",
       "    </tr>\n",
       "    <tr>\n",
       "        <td>NISSAN DIESEL MOTOR CO.</td>\n",
       "        <td>1</td>\n",
       "    </tr>\n",
       "    <tr>\n",
       "        <td>OLDSMOBILE</td>\n",
       "        <td>1</td>\n",
       "    </tr>\n",
       "    <tr>\n",
       "        <td>ROLLS INTERNATIONAL TRAILER(MOBILE HOME)</td>\n",
       "        <td>1</td>\n",
       "    </tr>\n",
       "    <tr>\n",
       "        <td>SCOOTALONG</td>\n",
       "        <td>1</td>\n",
       "    </tr>\n",
       "    <tr>\n",
       "        <td>STERLINE FLATBED TRAILER</td>\n",
       "        <td>1</td>\n",
       "    </tr>\n",
       "    <tr>\n",
       "        <td>STERLING</td>\n",
       "        <td>1</td>\n",
       "    </tr>\n",
       "    <tr>\n",
       "        <td>THOMAS BUILT BUS CO.</td>\n",
       "        <td>1</td>\n",
       "    </tr>\n",
       "    <tr>\n",
       "        <td>TOYOCAR VAN CONTAINER TRAILER</td>\n",
       "        <td>1</td>\n",
       "    </tr>\n",
       "    <tr>\n",
       "        <td>WORK HORSE MFG.</td>\n",
       "        <td>1</td>\n",
       "    </tr>\n",
       "    <tr>\n",
       "        <td>YAMAHA</td>\n",
       "        <td>1</td>\n",
       "    </tr>\n",
       "    <tr>\n",
       "        <td>ALFA ROMEO</td>\n",
       "        <td>0</td>\n",
       "    </tr>\n",
       "    <tr>\n",
       "        <td>BENTLEY</td>\n",
       "        <td>0</td>\n",
       "    </tr>\n",
       "    <tr>\n",
       "        <td>FERRARI</td>\n",
       "        <td>0</td>\n",
       "    </tr>\n",
       "    <tr>\n",
       "        <td>QUALITY TRAILER</td>\n",
       "        <td>0</td>\n",
       "    </tr>\n",
       "    <tr>\n",
       "        <td>TOWMASTER</td>\n",
       "        <td>0</td>\n",
       "    </tr>\n",
       "    <tr>\n",
       "        <td>TRIUMPH</td>\n",
       "        <td>0</td>\n",
       "    </tr>\n",
       "</table>"
      ],
      "text/plain": [
       "[('TOYOTA MOTOR COMPANY, LTD.', 669),\n",
       " ('FORD', 627),\n",
       " ('CHEVROLET', 590),\n",
       " ('NISSAN', 553),\n",
       " ('HONDA', 364),\n",
       " ('HYUNDAI', 303),\n",
       " ('DODGE', 280),\n",
       " ('JEEP', 255),\n",
       " ('KIA MOTORS CORP', 176),\n",
       " ('CHRYSLER', 135),\n",
       " ('VOLKSWAGEN', 109),\n",
       " ('UNKNOWN', 92),\n",
       " ('BUICK', 88),\n",
       " ('MAZDA', 81),\n",
       " ('GENERAL MOTORS CORP.', 74),\n",
       " ('LEXUS', 73),\n",
       " ('SUBARU', 70),\n",
       " ('MERCEDES-BENZ', 64),\n",
       " ('AUDI', 60),\n",
       " ('NEW FLYER', 57),\n",
       " ('INFINITI', 56),\n",
       " ('BMW', 55),\n",
       " ('LINCOLN-CONTINENTAL', 53),\n",
       " ('CADILLAC', 49),\n",
       " ('FREIGHTLINER CORP.', 49),\n",
       " ('PONTIAC', 46),\n",
       " ('ACURA', 34),\n",
       " ('MITSUBISHI', 32),\n",
       " ('VOLVO', 29),\n",
       " ('SATURN', 19),\n",
       " ('SCION', 17),\n",
       " ('ACURA (DIV. OF AMERICAN HONDA MOTOR CO.)', 15),\n",
       " ('ICL CARGO TRAILER', 15),\n",
       " ('BLUEBIRD INTERNATIONAL', 13),\n",
       " ('MINI', 13),\n",
       " ('LAND ROVER', 12),\n",
       " ('PREVOST CAR, BUS, SAINTE CLAIRE, QUEBEC', 12),\n",
       " ('ISUZU', 11),\n",
       " ('KENWORTH MOTOR TRUCK CO.', 10),\n",
       " ('INTERNATIONAL TRAILER CORP.', 9),\n",
       " ('PORSCHE', 8),\n",
       " ('SUZUKI', 8),\n",
       " ('AMTRAN CORP, GENSIS BUSES', 7),\n",
       " ('BLUE BIRD BODY CO.', 7),\n",
       " ('MERCURY', 7),\n",
       " ('AUTOCAR', 6),\n",
       " ('MACK TRUCKS, INC.', 6),\n",
       " ('PETERBILT MOTORS CO., DIVISION PACCAR, INC.', 6),\n",
       " ('FIAT', 5),\n",
       " ('HINO', 5),\n",
       " ('INTERNATIONAL COACH MFG.', 5),\n",
       " ('JAGUAR', 5),\n",
       " ('TESLA MOTORS', 5),\n",
       " (\"FLEET CAP'N TRAILERS\", 4),\n",
       " ('INTERNATIONAL HARVESTER', 4),\n",
       " ('KAWASAKI MOTORS CORP.', 4),\n",
       " ('AM GENERAL/HUMMER', 3),\n",
       " ('EL DORADO INTERNATIONAL, INC.; EL DORADO MFG., LTD.', 3),\n",
       " ('FIESTA (IMPORTED BY FORD)', 3),\n",
       " ('GILL MFG. CO.', 3),\n",
       " ('HARLEY-DAVIDSON', 3),\n",
       " ('INTENATIONAL INDUSTRIES, INC.', 3),\n",
       " ('RANGE ROVER OF NORTH AMERICA', 3),\n",
       " ('SAAB', 3),\n",
       " ('MOTOR COACH INDUSTRIES, INC.', 2),\n",
       " ('WABCO CONSTRUCTION & MINING EQUIPMENT GROUP', 2),\n",
       " ('(UNLISTED MANUFACTURER)', 1),\n",
       " ('AMERICAN TRAILER & MFG. CO. (SEE ALSO TRANSPORTER)', 1),\n",
       " ('ASTON-MARTIN', 1),\n",
       " ('BANTAM CRANE', 1),\n",
       " ('CALDWELL DIV., SMITH INTERNATIONAL, INC.', 1),\n",
       " ('CASCADE COACH CO.', 1),\n",
       " ('CHEVELLE MOBILE HOMES, INC.', 1),\n",
       " ('CONTINENTAL', 1),\n",
       " ('EIDAL INTERNATIONAL CORP.', 1),\n",
       " ('FLEETCRAFT CORP.', 1),\n",
       " ('FLEETWOOD ENTERPRISES', 1),\n",
       " ('FONTAINE TRUCK EQUIPMENT CO.', 1),\n",
       " ('GOODYEAR CAMPER MFG., INC., LINCOLN, NB', 1),\n",
       " ('GREAT DANE TRAILERS INC.', 1),\n",
       " ('HAULER-TRAILER(MFD. BY NORDINE MFG.)', 1),\n",
       " ('HINDUSTAN', 1),\n",
       " ('LINCOLN ELECTRIC CO., INC. CLEVELAND, OH ; LINCOLN WELDER', 1),\n",
       " ('MACK TRAILER MFG. CO., INC., DETRIOT, MI', 1),\n",
       " ('NAVISTAR', 1),\n",
       " ('NISSAN DIESEL MOTOR CO.', 1),\n",
       " ('OLDSMOBILE', 1),\n",
       " ('ROLLS INTERNATIONAL TRAILER(MOBILE HOME)', 1),\n",
       " ('SCOOTALONG', 1),\n",
       " ('STERLINE FLATBED TRAILER', 1),\n",
       " ('STERLING', 1),\n",
       " ('THOMAS BUILT BUS CO.', 1),\n",
       " ('TOYOCAR VAN CONTAINER TRAILER', 1),\n",
       " ('WORK HORSE MFG.', 1),\n",
       " ('YAMAHA', 1),\n",
       " ('ALFA ROMEO', 0),\n",
       " ('BENTLEY', 0),\n",
       " ('FERRARI', 0),\n",
       " ('QUALITY TRAILER', 0),\n",
       " ('TOWMASTER', 0),\n",
       " ('TRIUMPH', 0)]"
      ]
     },
     "execution_count": 22,
     "metadata": {
      "tags": []
     },
     "output_type": "execute_result"
    }
   ],
   "source": [
    "# I have interpreted \"per vehicle count\" to mean for each make of the vehicle.\n",
    "# Use the SUM() function to get the total number of passengers for each of the makes of the vehicles.\n",
    "%%sql\n",
    "SELECT make, SUM(occupant_cnt) as 'Occupancy'\n",
    "FROM accidents\n",
    "GROUP BY make\n",
    "ORDER BY SUM(occupant_cnt) DESC"
   ]
  },
  {
   "cell_type": "markdown",
   "metadata": {
    "id": "xRWcyRaj-4oC"
   },
   "source": [
    "*I have interpreted **\"per vehicle count\"** to mean for each make of the vehicle*"
   ]
  },
  {
   "cell_type": "markdown",
   "metadata": {
    "id": "HBTc-vv91vLV"
   },
   "source": [
    "While some vehicles, about 6 makes of cars have not had any reported accidents, Toyota and Ford topped the list of vehicles with the highest count of passengers."
   ]
  },
  {
   "cell_type": "markdown",
   "metadata": {
    "id": "tZW-S30iMSMt"
   },
   "source": [
    " \n",
    "\n",
    "---\n",
    "\n"
   ]
  },
  {
   "cell_type": "markdown",
   "metadata": {
    "id": "Nm5hKDYkrX2D"
   },
   "source": [
    "**7. Sort the number of passengers in descending order by travel direction taking into account travel direction.**"
   ]
  },
  {
   "cell_type": "code",
   "execution_count": 24,
   "metadata": {
    "colab": {
     "base_uri": "https://localhost:8080/",
     "height": 240
    },
    "id": "QgdmNBhWLa3I",
    "outputId": "1a939c88-1118-4ea4-b839-a30cc7e2abd5"
   },
   "outputs": [
    {
     "name": "stdout",
     "output_type": "stream",
     "text": [
      " * sqlite://\n",
      "Done.\n"
     ]
    },
    {
     "data": {
      "text/html": [
       "<table>\n",
       "    <tr>\n",
       "        <th>Travel Direction</th>\n",
       "        <th>No. of Passengers</th>\n",
       "    </tr>\n",
       "    <tr>\n",
       "        <td>N</td>\n",
       "        <td>198</td>\n",
       "    </tr>\n",
       "    <tr>\n",
       "        <td>W</td>\n",
       "        <td>194</td>\n",
       "    </tr>\n",
       "    <tr>\n",
       "        <td>E</td>\n",
       "        <td>184</td>\n",
       "    </tr>\n",
       "    <tr>\n",
       "        <td>S</td>\n",
       "        <td>184</td>\n",
       "    </tr>\n",
       "    <tr>\n",
       "        <td>SE</td>\n",
       "        <td>12</td>\n",
       "    </tr>\n",
       "    <tr>\n",
       "        <td>UNKNOWN</td>\n",
       "        <td>9</td>\n",
       "    </tr>\n",
       "    <tr>\n",
       "        <td>NE</td>\n",
       "        <td>6</td>\n",
       "    </tr>\n",
       "    <tr>\n",
       "        <td>NW</td>\n",
       "        <td>6</td>\n",
       "    </tr>\n",
       "    <tr>\n",
       "        <td>SW</td>\n",
       "        <td>6</td>\n",
       "    </tr>\n",
       "</table>"
      ],
      "text/plain": [
       "[('N', 198),\n",
       " ('W', 194),\n",
       " ('E', 184),\n",
       " ('S', 184),\n",
       " ('SE', 12),\n",
       " ('UNKNOWN', 9),\n",
       " ('NE', 6),\n",
       " ('NW', 6),\n",
       " ('SW', 6)]"
      ]
     },
     "execution_count": 24,
     "metadata": {
      "tags": []
     },
     "output_type": "execute_result"
    }
   ],
   "source": [
    "# We will need data from  'occupant_cnt', travel_direction, and 'travel_direction' \n",
    "# to respond to the need above. \n",
    "# further we use COUNT() function on occupant_cnt to get the number of passengers \n",
    "# for each of the travel directions\n",
    "%%sql\n",
    "SELECT travel_direction as 'Travel Direction', COUNT(num_passengers) as 'No. of Passengers'\n",
    "FROM accidents\n",
    "GROUP BY travel_direction \n",
    "ORDER BY COUNT(num_passengers) desc, travel_direction"
   ]
  },
  {
   "cell_type": "markdown",
   "metadata": {
    "id": "-9rMGOSzNuXp"
   },
   "source": [
    "Travel direction `NORTH` recorded the highest number of passengers involved in accidents with `198` people."
   ]
  },
  {
   "cell_type": "markdown",
   "metadata": {
    "id": "WSRvGUQQORBJ"
   },
   "source": [
    "\n",
    "\n",
    "---\n",
    "\n"
   ]
  },
  {
   "cell_type": "markdown",
   "metadata": {
    "id": "iQkveCWarYFo"
   },
   "source": [
    "**8. Select top 5 vehicle models involved in the accident with no defect, order them by make and show their manoeuvre.**"
   ]
  },
  {
   "cell_type": "code",
   "execution_count": 27,
   "metadata": {
    "colab": {
     "base_uri": "https://localhost:8080/",
     "height": 165
    },
    "id": "ZpT5pqH_Ld-a",
    "outputId": "d47faa59-8ef7-4902-aefe-e08ef305ba7b"
   },
   "outputs": [
    {
     "name": "stdout",
     "output_type": "stream",
     "text": [
      " * sqlite://\n",
      "Done.\n"
     ]
    },
    {
     "data": {
      "text/html": [
       "<table>\n",
       "    <tr>\n",
       "        <th>make</th>\n",
       "        <th>model</th>\n",
       "        <th>maneuver</th>\n",
       "        <th>vehicle model</th>\n",
       "    </tr>\n",
       "    <tr>\n",
       "        <td>TOYOTA MOTOR COMPANY, LTD.</td>\n",
       "        <td>CAMRY</td>\n",
       "        <td>TURNING RIGHT</td>\n",
       "        <td>129</td>\n",
       "    </tr>\n",
       "    <tr>\n",
       "        <td>NISSAN</td>\n",
       "        <td>NISSAN ALTIMA</td>\n",
       "        <td>PARKED</td>\n",
       "        <td>78</td>\n",
       "    </tr>\n",
       "    <tr>\n",
       "        <td>NISSAN</td>\n",
       "        <td>SENTRA (DATSUN AND NISSAN HAVE MERGED)</td>\n",
       "        <td>STRAIGHT AHEAD</td>\n",
       "        <td>71</td>\n",
       "    </tr>\n",
       "    <tr>\n",
       "        <td>CHEVROLET</td>\n",
       "        <td>MALIBU (CHEVELLE)</td>\n",
       "        <td>PARKED</td>\n",
       "        <td>68</td>\n",
       "    </tr>\n",
       "    <tr>\n",
       "        <td>FORD</td>\n",
       "        <td>UNKNOWN</td>\n",
       "        <td>BACKING</td>\n",
       "        <td>60</td>\n",
       "    </tr>\n",
       "</table>"
      ],
      "text/plain": [
       "[('TOYOTA MOTOR COMPANY, LTD.', 'CAMRY', 'TURNING RIGHT', 129),\n",
       " ('NISSAN', 'NISSAN ALTIMA', 'PARKED', 78),\n",
       " ('NISSAN', 'SENTRA (DATSUN AND NISSAN HAVE MERGED)', 'STRAIGHT AHEAD', 71),\n",
       " ('CHEVROLET', 'MALIBU (CHEVELLE)', 'PARKED', 68),\n",
       " ('FORD', 'UNKNOWN', 'BACKING', 60)]"
      ]
     },
     "execution_count": 27,
     "metadata": {
      "tags": []
     },
     "output_type": "execute_result"
    }
   ],
   "source": [
    "# We use 'model' and 'vehicle_defect', 'make' and maneuver to respond to the need above\n",
    "# but pick only cases where vehicles didnt have any defects. \n",
    "# further we use ORDER BY Clause for sorting by 'make' and finally LIMIT as we are only interested in the top 5\n",
    "%%sql\n",
    "SELECT make, model, maneuver, COUNT(model) as 'vehicle model'\n",
    "FROM accidents\n",
    "WHERE vehicle_defect = 'NONE'\n",
    "GROUP BY make, model\n",
    "ORDER BY COUNT(model) DESC, make ASC\n",
    "LIMIT 5"
   ]
  },
  {
   "cell_type": "markdown",
   "metadata": {
    "id": "nFjWJgtuOeZz"
   },
   "source": [
    "From the analysis, `Toyota Camry` vehicles which had no defects registered the highest number of accidents at `129` accidents."
   ]
  },
  {
   "cell_type": "markdown",
   "metadata": {
    "id": "QarSIIBSOfyw"
   },
   "source": [
    "\n",
    "\n",
    "---\n",
    "\n"
   ]
  },
  {
   "cell_type": "markdown",
   "metadata": {
    "id": "3EogcfZ1rYmT"
   },
   "source": [
    "**9. Which ridesharing vehicle models involved accidents had the most number of passengers? Return model, and no of passengers?**"
   ]
  },
  {
   "cell_type": "code",
   "execution_count": 28,
   "metadata": {
    "colab": {
     "base_uri": "https://localhost:8080/",
     "height": 165
    },
    "id": "-qHuXmcpLe5P",
    "outputId": "4a47990f-79de-423c-a01d-78917653f81b"
   },
   "outputs": [
    {
     "name": "stdout",
     "output_type": "stream",
     "text": [
      " * sqlite://\n",
      "Done.\n"
     ]
    },
    {
     "data": {
      "text/html": [
       "<table>\n",
       "    <tr>\n",
       "        <th>model</th>\n",
       "        <th>no. of passengers</th>\n",
       "    </tr>\n",
       "    <tr>\n",
       "        <td>UNKNOWN</td>\n",
       "        <td>4</td>\n",
       "    </tr>\n",
       "    <tr>\n",
       "        <td>CAMRY</td>\n",
       "        <td>3</td>\n",
       "    </tr>\n",
       "    <tr>\n",
       "        <td>COROLLA</td>\n",
       "        <td>3</td>\n",
       "    </tr>\n",
       "    <tr>\n",
       "        <td>NISSAN ALTIMA</td>\n",
       "        <td>3</td>\n",
       "    </tr>\n",
       "    <tr>\n",
       "        <td>FUSION</td>\n",
       "        <td>2</td>\n",
       "    </tr>\n",
       "</table>"
      ],
      "text/plain": [
       "[('UNKNOWN', 4),\n",
       " ('CAMRY', 3),\n",
       " ('COROLLA', 3),\n",
       " ('NISSAN ALTIMA', 3),\n",
       " ('FUSION', 2)]"
      ]
     },
     "execution_count": 28,
     "metadata": {
      "tags": []
     },
     "output_type": "execute_result"
    }
   ],
   "source": [
    "# We use 'model', 'num_passengers' and 'vehicle_use' to pick relevant records. \n",
    "# further we use COUNT() funtion for each of the directions to determine the mode of direction.\n",
    "%%sql\n",
    "SELECT model, COUNT(num_passengers) as 'no. of passengers'\n",
    "FROM accidents\n",
    "WHERE vehicle_use = 'RIDESHARE SERVICE'\n",
    "GROUP BY model \n",
    "ORDER BY COUNT(num_passengers) DESC\n",
    "LIMIT 5;"
   ]
  },
  {
   "cell_type": "markdown",
   "metadata": {
    "id": "BcjfU83wPXYh"
   },
   "source": [
    "The ridesharing model of vehicles which had most number of passengers were, unfortunately, not classified but registered only as \"Unknown\". In the second position is Toyota Camry which, from previous analysis contributed to the most number of passengers involved in accidents."
   ]
  },
  {
   "cell_type": "markdown",
   "metadata": {
    "id": "yn9i3BG6xt3W"
   },
   "source": [
    "## Step 4. Recommendations"
   ]
  },
  {
   "cell_type": "markdown",
   "metadata": {
    "id": "8VgTz2HsGo0p"
   },
   "source": [
    "From the foregoing analysis, we make the following observations:\n",
    "<ul>\n",
    "1. Toyota Motor Company and Ford makes of vehcles top the list of cars with accidents, having reported 609 and 545 accidents respectively. \n",
    "\n",
    "2. Personal cars travelling towards the North and South had the most accidents. (This seems to be basically the same roads but different directions, a pointer to probably poor conditions of the roads, other physical features along the roads with blackspots etc. )\n",
    "\n",
    "3. Of all personal car accidents, SUV's contribute about 16.5%.\n",
    "\n",
    "4. The ridesharing model of vehicles which had most number of passengers were, unfortunately, not classified but registered only as \"Unknown\". In the second position is Toyota Camry which, from previous analysis contributed to the most number of passengers involved in accidents</font></em>\n",
    "</ul>\n",
    "<p>\n",
    "<br>\n",
    "\n",
    "**Recommendations:** From the available data, we are neither able to deduce of infer the real causes of the accidents and so would recommend that the authorities carry out deeper root-cause analysis (RCA) on the following; \n",
    "\n",
    "1.   Why Toyota and Ford make of vehicles are the most frequently make of   cars involved in crashes. (Could it be because of the fact that there are more of such cars on the road than other makes hence more probable to make crashes?)\n",
    "\n",
    "2.   Why cars travelling to the North and to the South are the most frequently cars involved in crashes. (Could it be the state of the North-South Road?, other associated road users along the road like many pedestrians or large haulier trucks? etc.) \n"
   ]
  }
 ],
 "metadata": {
  "colab": {
   "collapsed_sections": [],
   "name": "SQL Basics for Data Science: Project (15 Nov 2020)",
   "provenance": []
  },
  "kernelspec": {
   "display_name": "Python 3",
   "language": "python",
   "name": "python3"
  },
  "language_info": {
   "codemirror_mode": {
    "name": "ipython",
    "version": 3
   },
   "file_extension": ".py",
   "mimetype": "text/x-python",
   "name": "python",
   "nbconvert_exporter": "python",
   "pygments_lexer": "ipython3",
   "version": "3.8.3"
  }
 },
 "nbformat": 4,
 "nbformat_minor": 1
}
